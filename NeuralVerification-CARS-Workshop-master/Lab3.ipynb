{
 "cells": [
  {
   "cell_type": "code",
   "execution_count": 2,
   "metadata": {},
   "outputs": [
    {
     "name": "stderr",
     "output_type": "stream",
     "text": [
      "\u001b[32m\u001b[1m  Activating\u001b[22m\u001b[39m project at `~/verification-neural-networks/NeuralVerification-CARS-Workshop-master/lab3`\n",
      "\u001b[32m\u001b[1m   Resolving\u001b[22m\u001b[39m package versions...\n",
      "\u001b[32m\u001b[1m  No Changes\u001b[22m\u001b[39m to `~/verification-neural-networks/NeuralVerification-CARS-Workshop-master/lab3/Project.toml`\n",
      "\u001b[32m\u001b[1m  No Changes\u001b[22m\u001b[39m to `~/verification-neural-networks/NeuralVerification-CARS-Workshop-master/lab3/Manifest.toml`\n",
      "\u001b[32m\u001b[1m    Updating\u001b[22m\u001b[39m git-repo `https://github.com/sisl/NeuralVerification.jl`\n",
      "\u001b[32m\u001b[1m   Resolving\u001b[22m\u001b[39m package versions...\n",
      "\u001b[32m\u001b[1m  No Changes\u001b[22m\u001b[39m to `~/verification-neural-networks/NeuralVerification-CARS-Workshop-master/lab3/Project.toml`\n",
      "\u001b[32m\u001b[1m  No Changes\u001b[22m\u001b[39m to `~/verification-neural-networks/NeuralVerification-CARS-Workshop-master/lab3/Manifest.toml`\n",
      "\u001b[32m\u001b[1m   Resolving\u001b[22m\u001b[39m package versions...\n",
      "\u001b[32m\u001b[1m  No Changes\u001b[22m\u001b[39m to `~/verification-neural-networks/NeuralVerification-CARS-Workshop-master/lab3/Project.toml`\n",
      "\u001b[32m\u001b[1m  No Changes\u001b[22m\u001b[39m to `~/verification-neural-networks/NeuralVerification-CARS-Workshop-master/lab3/Manifest.toml`\n",
      "\u001b[32m\u001b[1m   Resolving\u001b[22m\u001b[39m package versions...\n",
      "\u001b[32m\u001b[1m    Updating\u001b[22m\u001b[39m `~/verification-neural-networks/NeuralVerification-CARS-Workshop-master/lab3/Project.toml`\n",
      "\u001b[33m⌅\u001b[39m \u001b[90m[d1acc4aa] \u001b[39m\u001b[92m+ IntervalArithmetic v0.21.2\u001b[39m\n",
      "\u001b[32m\u001b[1m  No Changes\u001b[22m\u001b[39m to `~/verification-neural-networks/NeuralVerification-CARS-Workshop-master/lab3/Manifest.toml`\n",
      "\u001b[32m\u001b[1m   Resolving\u001b[22m\u001b[39m package versions...\n",
      "\u001b[32m\u001b[1m    Updating\u001b[22m\u001b[39m `~/verification-neural-networks/NeuralVerification-CARS-Workshop-master/lab3/Project.toml`\n",
      "  \u001b[90m[a98d9a8b] \u001b[39m\u001b[92m+ Interpolations v0.15.1\u001b[39m\n",
      "\u001b[32m\u001b[1m  No Changes\u001b[22m\u001b[39m to `~/verification-neural-networks/NeuralVerification-CARS-Workshop-master/lab3/Manifest.toml`\n"
     ]
    },
    {
     "name": "stdout",
     "output_type": "stream",
     "text": [
      "\u001b[32m\u001b[1mStatus\u001b[22m\u001b[39m `~/verification-neural-networks/NeuralVerification-CARS-Workshop-master/lab3/Project.toml`\n",
      "  \u001b[90m[3c7084bd] \u001b[39mGLPKMathProgInterface v0.5.0\n",
      "  \u001b[90m[a98d9a8b] \u001b[39mInterpolations v0.15.1\n",
      "\u001b[33m⌅\u001b[39m \u001b[90m[d1acc4aa] \u001b[39mIntervalArithmetic v0.21.2\n",
      "\u001b[32m⌃\u001b[39m \u001b[90m[b4f0291d] \u001b[39mLazySets v2.14.2\n",
      "  \u001b[90m[146f25fa] \u001b[39mNeuralVerification v0.1.0 `https://github.com/sisl/NeuralVerification.jl#master`\n",
      "  \u001b[90m[91a5bcdd] \u001b[39mPlots v1.40.9\n",
      "  \u001b[90m[d330b81b] \u001b[39mPyPlot v2.11.5\n",
      "\u001b[36m\u001b[1mInfo\u001b[22m\u001b[39m Packages marked with \u001b[32m⌃\u001b[39m and \u001b[33m⌅\u001b[39m have new versions available, but those with \u001b[33m⌅\u001b[39m are restricted by compatibility constraints from upgrading. To see why use `status --outdated`\n"
     ]
    }
   ],
   "source": [
    "using Pkg\n",
    "Pkg.activate(\"lab3\")\n",
    "Pkg.add(\"GLPKMathProgInterface\")\n",
    "Pkg.add(url=\"https://github.com/sisl/NeuralVerification.jl\")\n",
    "Pkg.add(\"LazySets\")\n",
    "Pkg.add(\"IntervalArithmetic\")\n",
    "Pkg.add(\"Interpolations\")\n",
    "Pkg.status()"
   ]
  },
  {
   "cell_type": "code",
   "execution_count": 21,
   "metadata": {},
   "outputs": [
    {
     "name": "stderr",
     "output_type": "stream",
     "text": [
      "WARNING: ignoring conflicting import of NeuralVerification.affine_map into Main\n"
     ]
    }
   ],
   "source": [
    "using LazySets, IntervalArithmetic\n",
    "using Interpolations # pour activation\n",
    "using NeuralVerification\n",
    "import NeuralVerification: Network, Layer, ReLU, Id, compute_output, ActivationFunction, get_bounds, read_nnet, affine_map, overapproximate, approximate_act_map"
   ]
  },
  {
   "cell_type": "markdown",
   "metadata": {},
   "source": [
    "# Reading .nnet file"
   ]
  },
  {
   "cell_type": "code",
   "execution_count": 24,
   "metadata": {},
   "outputs": [
    {
     "data": {
      "text/plain": [
       "net_bounds (generic function with 1 method)"
      ]
     },
     "metadata": {},
     "output_type": "display_data"
    }
   ],
   "source": [
    "# include(\"utils/activation.jl\")\n",
    "# include(\"utils/network.jl\")\n",
    "# include(\"utils/problem.jl\")\n",
    "# include(\"utils/util.jl\")\n",
    "\n",
    "# Slightly modidied from utils/network.jl\n",
    "# To be modified for interpretation in zonotopes\n",
    "function interval_approximate_act_map(act::ActivationFunction, input::Hyperrectangle)\n",
    "    b    = act.(input.center)\n",
    "    bmax = act.(high(input))\n",
    "    bmin = act.(low(input))\n",
    "    c    = (bmax + bmin)/2\n",
    "    r    = (bmax - bmin)/2\n",
    "    return Hyperrectangle(c, r)\n",
    "end\n",
    "\n",
    "interval_approximate_act_map(layer::Layer, input::Hyperrectangle) = approximate_act_map(layer.activation, input)\n",
    "\n",
    "# Slightly modidied from utils/network.jl\n",
    "# To be modified for better interpretation in zonotopes (it uses interval outer-approximation here)\n",
    "function interval_approximate_affine_map(layer::Layer, input)\n",
    "    input = overapproximate(input, Hyperrectangle)\n",
    "    c = NeuralVerification.affine_map(layer, input.center)\n",
    "    r = abs.(layer.weights) * input.radius\n",
    "    return Hyperrectangle(c, r)\n",
    "end\n",
    "\n",
    "function net_bounds(nnet::Network, input)\n",
    "    bounds = Vector{Hyperrectangle}(undef, length(nnet.layers) + 1)\n",
    "    bounds[1] = input\n",
    "    b = input\n",
    "    for (i, layer) in enumerate(nnet.layers)\n",
    "       b = interval_approximate_affine_map(layer, bounds[i])\n",
    "       bounds[i+1] = interval_approximate_act_map(layer, b)\n",
    "    end\n",
    "    return bounds\n",
    "end\n"
   ]
  },
  {
   "cell_type": "code",
   "execution_count": 25,
   "metadata": {},
   "outputs": [
    {
     "name": "stdout",
     "output_type": "stream",
     "text": [
      "Reading single.nnet\n",
      "Number of layers=2\n",
      "Input size= 2\n",
      "Output size= 2\n",
      "Layer 1 has size 2\n",
      "Layer 2 has size 2\n",
      "Output neurons values in Hyperrectangle{Float64, Vector{Float64}, Vector{Float64}}([0.5, 1.5], [0.5, 1.5])\n"
     ]
    }
   ],
   "source": [
    "\n",
    "print(\"Reading \")\n",
    "println(\"single.nnet\")\n",
    "\n",
    "nnet = read_nnet(\"single.nnet\")\n",
    "\n",
    "# determine which is the last layer P\n",
    "P = length(nnet.layers)\n",
    "print(\"Number of layers=\")\n",
    "println(P)\n",
    "\n",
    "# N is the number of input neurons (layers[1])\n",
    "N = length(nnet.layers[1].weights)÷length(nnet.layers[1].bias)\n",
    "print(\"Input size= \")\n",
    "println(N)\n",
    "\n",
    "# Last layer size\n",
    "M = length((nnet.layers[P]).bias)\n",
    "print(\"Output size= \")\n",
    "println(M)\n",
    "\n",
    "# print layer by layer structure\n",
    "for (i, layer) in enumerate(nnet.layers)\n",
    "   print(\"Layer \")\n",
    "   print(i)\n",
    "   print(\" has size \")\n",
    "   println(length(layer.weights)÷length(layer.bias))\n",
    "end\n",
    "\n",
    "# construct input hyperrectangle [-1,1]^N\n",
    "input = Hyperrectangle(zeros(N),ones(N))\n",
    "\n",
    "# call for interval abstraction\n",
    "bounds = net_bounds(nnet, input)\n",
    "\n",
    "# print result\n",
    "   print(\"Output neurons values\")\n",
    "   print(\" in \")\n",
    "   println(bounds[P+1])"
   ]
  },
  {
   "cell_type": "markdown",
   "metadata": {},
   "source": [
    "# Single-layer analysis"
   ]
  },
  {
   "cell_type": "code",
   "execution_count": null,
   "metadata": {},
   "outputs": [],
   "source": []
  }
 ],
 "metadata": {
  "kernelspec": {
   "display_name": "Julia 1.9.3",
   "language": "julia",
   "name": "julia-1.9"
  },
  "language_info": {
   "file_extension": ".jl",
   "mimetype": "application/julia",
   "name": "julia",
   "version": "1.9.3"
  }
 },
 "nbformat": 4,
 "nbformat_minor": 2
}
