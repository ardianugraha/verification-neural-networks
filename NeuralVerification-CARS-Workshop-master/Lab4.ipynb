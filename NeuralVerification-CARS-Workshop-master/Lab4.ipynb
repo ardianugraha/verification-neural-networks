{
 "cells": [
  {
   "cell_type": "markdown",
   "metadata": {},
   "source": [
    "# Lab 4 Quantified Problems and Robustness"
   ]
  },
  {
   "cell_type": "code",
   "execution_count": 2,
   "metadata": {},
   "outputs": [],
   "source": [
    "using Symbolics\n",
    "using StaticArrays\n",
    "using IntervalArithmetic"
   ]
  },
  {
   "cell_type": "markdown",
   "metadata": {},
   "source": [
    "## 1. Quantified problems on scalar functions"
   ]
  },
  {
   "cell_type": "code",
   "execution_count": 3,
   "metadata": {},
   "outputs": [
    {
     "name": "stdout",
     "output_type": "stream",
     "text": [
      "Computing approximations for R={z | exists x[1] forall x[2] exists x[3] exists x[4] z = 0.1x[1] + (1//4)*(1 + 0.01x[2])*(1 + x[4]) + 8.1875e-9x[3]*((1 + x[4])^2)}\n"
     ]
    },
    {
     "data": {
      "text/plain": [
       "1×4 SMatrix{1, 4, Interval{Float64}, 4} with indices SOneTo(1)×SOneTo(4):\n",
       " [0.1, 0.100001]  [0, 0.00500001]  [0, 3.275e-08]  [0.247499, 0.252501]"
      ]
     },
     "metadata": {},
     "output_type": "display_data"
    }
   ],
   "source": [
    "include(\"lab4.jl\")\n",
    "\n",
    "print(\"Computing approximations for R={z | \")\n",
    "i = 1\n",
    "for q in quantifiers\n",
    "    print(q)\n",
    "    print(\" x[\")\n",
    "    print(i)\n",
    "    print(\"] \")\n",
    "    global i = i+1\n",
    "end\n",
    "print(\"z = \")\n",
    "print(g)\n",
    "println(\"}\")\n",
    "\n",
    "# functin g(x) as a symbolic expression\n",
    "g_expr = build_function(g, [x[i] for i=1:p])\n",
    "my_g = eval(g_expr)\n",
    "\n",
    "# input hyperrectangle, coded as a static array\n",
    "input = @SVector [@interval(-1.0,1.0) for i = 1:p]    \n",
    "input_center = zeros(p)\n",
    "\n",
    "# compute the center of the input hyperrectangle\n",
    "c = my_g(input_center)\n",
    "\n",
    "# compute the range of the function g over the input hyperrectangle\n",
    "Dg = Symbolics.jacobian([g], [x[i] for i=1:p]) # symbolic expression of the Jacobian of g\n",
    "# function that computes the Jacobian of g\n",
    "Dg_expr = build_function(Dg, [x[i] for i=1:p])\n",
    "my_Dg = eval(Dg_expr[1]) # g'(x)\n",
    "\n",
    "# interval range of the Jacobian of g over the input hyperrectangle\n",
    "range_Dg = my_Dg(input) # g'(input)\n",
    "  "
   ]
  },
  {
   "cell_type": "markdown",
   "metadata": {},
   "source": [
    "### Compute inner (I) and outer (O) approximation\n",
    " "
   ]
  },
  {
   "cell_type": "code",
   "execution_count": 21,
   "metadata": {},
   "outputs": [
    {
     "name": "stdout",
     "output_type": "stream",
     "text": [
      "g_expr:\n",
      "function (ˍ₋arg1,)\n",
      "    \u001b[90m#= /users/eleves-b/2024/mochamad-ardiansyah.nugraha/.julia/packages/SymbolicUtils/8d6hE/src/code.jl:373 =#\u001b[39m\n",
      "    \u001b[90m#= /users/eleves-b/2024/mochamad-ardiansyah.nugraha/.julia/packages/SymbolicUtils/8d6hE/src/code.jl:374 =#\u001b[39m\n",
      "    \u001b[90m#= /users/eleves-b/2024/mochamad-ardiansyah.nugraha/.julia/packages/SymbolicUtils/8d6hE/src/code.jl:375 =#\u001b[39m\n",
      "    begin\n",
      "        (+)((+)((*)(0.1, ˍ₋arg1[1]), (*)((*)(1//4, (+)(1, (*)(0.01, ˍ₋arg1[2]))), (+)(1, ˍ₋arg1[4]))), (*)((*)(8.1875e-9, ˍ₋arg1[3]), (^)((+)(1, ˍ₋arg1[4]), 2)))\n",
      "    end\n",
      "end\n",
      "Dg:\n",
      "Num[0.1 0.0025(1 + x[4]) 8.1875e-9((1 + x[4])^2) (1//4)*(1 + 0.01x[2]) + 1.6375e-8x[3]*(1 + x[4])]\n",
      "Dg_expr:\n",
      "(:(function (ˍ₋arg1,)\n",
      "      \u001b[90m#= /users/eleves-b/2024/mochamad-ardiansyah.nugraha/.julia/packages/SymbolicUtils/8d6hE/src/code.jl:373 =#\u001b[39m\n",
      "      \u001b[90m#= /users/eleves-b/2024/mochamad-ardiansyah.nugraha/.julia/packages/SymbolicUtils/8d6hE/src/code.jl:374 =#\u001b[39m\n",
      "      \u001b[90m#= /users/eleves-b/2024/mochamad-ardiansyah.nugraha/.julia/packages/SymbolicUtils/8d6hE/src/code.jl:375 =#\u001b[39m\n",
      "      begin\n",
      "          begin\n",
      "              \u001b[90m#= /users/eleves-b/2024/mochamad-ardiansyah.nugraha/.julia/packages/SymbolicUtils/8d6hE/src/code.jl:468 =#\u001b[39m\n",
      "              (SymbolicUtils.Code.create_array)(typeof(ˍ₋arg1), nothing, Val{2}(), Val{(1, 4)}(), 0.1, (*)(0.0025, (+)(1, ˍ₋arg1[4])), (*)(8.1875e-9, (^)((+)(1, ˍ₋arg1[4]), 2)), (+)((*)(1//4, (+)(1, (*)(0.01, ˍ₋arg1[2]))), (*)((*)(1.6375e-8, ˍ₋arg1[3]), (+)(1, ˍ₋arg1[4]))))\n",
      "          end\n",
      "      end\n",
      "  end), :(function (ˍ₋out, ˍ₋arg1)\n",
      "      \u001b[90m#= /users/eleves-b/2024/mochamad-ardiansyah.nugraha/.julia/packages/SymbolicUtils/8d6hE/src/code.jl:373 =#\u001b[39m\n",
      "      \u001b[90m#= /users/eleves-b/2024/mochamad-ardiansyah.nugraha/.julia/packages/SymbolicUtils/8d6hE/src/code.jl:374 =#\u001b[39m\n",
      "      \u001b[90m#= /users/eleves-b/2024/mochamad-ardiansyah.nugraha/.julia/packages/SymbolicUtils/8d6hE/src/code.jl:375 =#\u001b[39m\n",
      "      begin\n",
      "          begin\n",
      "              \u001b[90m#= /users/eleves-b/2024/mochamad-ardiansyah.nugraha/.julia/packages/Symbolics/OrNx6/src/build_function.jl:537 =#\u001b[39m\n",
      "              \u001b[90m#= /users/eleves-b/2024/mochamad-ardiansyah.nugraha/.julia/packages/SymbolicUtils/8d6hE/src/code.jl:422 =#\u001b[39m @inbounds begin\n",
      "                      \u001b[90m#= /users/eleves-b/2024/mochamad-ardiansyah.nugraha/.julia/packages/SymbolicUtils/8d6hE/src/code.jl:418 =#\u001b[39m\n",
      "                      ˍ₋out[1] = 0.1\n",
      "                      ˍ₋out[2] = (*)(0.0025, (+)(1, ˍ₋arg1[4]))\n",
      "                      ˍ₋out[3] = (*)(8.1875e-9, (^)((+)(1, ˍ₋arg1[4]), 2))\n",
      "                      ˍ₋out[4] = (+)((*)(1//4, (+)(1, (*)(0.01, ˍ₋arg1[2]))), (*)((*)(1.6375e-8, ˍ₋arg1[3]), (+)(1, ˍ₋arg1[4])))\n",
      "                      \u001b[90m#= /users/eleves-b/2024/mochamad-ardiansyah.nugraha/.julia/packages/SymbolicUtils/8d6hE/src/code.jl:420 =#\u001b[39m\n",
      "                      nothing\n",
      "                  end\n",
      "          end\n",
      "      end\n",
      "  end))\n"
     ]
    }
   ],
   "source": [
    "println(\"g_expr:\\n\", g_expr)\n",
    "println(\"Dg:\\n\", Dg)\n",
    "println(\"Dg_expr:\\n\", Dg_expr)"
   ]
  },
  {
   "cell_type": "code",
   "execution_count": null,
   "metadata": {},
   "outputs": [],
   "source": []
  },
  {
   "cell_type": "code",
   "execution_count": 8,
   "metadata": {},
   "outputs": [
    {
     "data": {
      "text/plain": [
       "I (generic function with 1 method)"
      ]
     },
     "metadata": {},
     "output_type": "display_data"
    }
   ],
   "source": [
    "function O(range_Jf, i)\n",
    "    # convenience function returning the outer-approximated interval for the contribution of xi, i between 1 and dim input, to function f for which we give the range of the Jacobian range_Jf\n",
    "    O_j = zeros(p)\n",
    "    for i=1:p\n",
    "        ∇_j = range_Jf[i]\n",
    "        O_j[i] = ∇_j[2] * @interval(-1.0, 1.0)\n",
    "        return O_j[i]\n",
    "    end\n",
    "end\n",
    "    \n",
    "function I(range_Jf, i)\n",
    "    # convenience function returning the inner-approximated interval for the contribution of xi, i between 1 and dim input, to function f for which we give the Jacobian Jf\n",
    "    I_i = zeros(p)\n",
    "    for i=1:p\n",
    "        ∇_j = range_Jf[i]\n",
    "        I_i[i] = ∇_j[1] * @interval(-1.0, 1.0)\n",
    "        return I_i[i]\n",
    "    end\n",
    "end"
   ]
  },
  {
   "cell_type": "code",
   "execution_count": 15,
   "metadata": {},
   "outputs": [
    {
     "ename": "BoundsError",
     "evalue": "BoundsError: attempt to access Interval{Float64} at index [2]",
     "output_type": "error",
     "traceback": [
      "BoundsError: attempt to access Interval{Float64} at index [2]\n",
      "\n",
      "Stacktrace:\n",
      " [1] getindex\n",
      "   @ ./number.jl:98 [inlined]\n",
      " [2] O(range_Jf::Interval{Float64}, i::Int64)\n",
      "   @ Main ~/verification-neural-networks/NeuralVerification-CARS-Workshop-master/jl_notebook_cell_df34fa98e69747e1a8f8a730347b8e2f_X12sdnNjb2RlLXJlbW90ZQ==.jl:6\n",
      " [3] top-level scope\n",
      "   @ ~/verification-neural-networks/NeuralVerification-CARS-Workshop-master/jl_notebook_cell_df34fa98e69747e1a8f8a730347b8e2f_X20sdnNjb2RlLXJlbW90ZQ==.jl:2"
     ]
    }
   ],
   "source": [
    "for i=1:p\n",
    "    println(O(range_Dg[i], i))\n",
    "    println(I(range_Dg[i], i))\n",
    "end"
   ]
  },
  {
   "cell_type": "markdown",
   "metadata": {},
   "source": [
    "## 2. Application to the robustness of neural nets"
   ]
  },
  {
   "cell_type": "markdown",
   "metadata": {},
   "source": [
    "## 3. Application to the robustness of neural nets with a control loop"
   ]
  },
  {
   "cell_type": "markdown",
   "metadata": {},
   "source": [
    "## 4. To go further (project)"
   ]
  }
 ],
 "metadata": {
  "kernelspec": {
   "display_name": "Julia 1.9.3",
   "language": "julia",
   "name": "julia-1.9"
  },
  "language_info": {
   "file_extension": ".jl",
   "mimetype": "application/julia",
   "name": "julia",
   "version": "1.9.3"
  }
 },
 "nbformat": 4,
 "nbformat_minor": 2
}
