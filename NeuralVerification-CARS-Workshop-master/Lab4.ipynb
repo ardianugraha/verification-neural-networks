{
 "cells": [
  {
   "cell_type": "markdown",
   "metadata": {},
   "source": [
    "# Lab 4 Quantified Problems and Robustness"
   ]
  },
  {
   "cell_type": "code",
   "execution_count": 6,
   "metadata": {},
   "outputs": [],
   "source": [
    "using Symbolics\n",
    "using StaticArrays"
   ]
  },
  {
   "cell_type": "markdown",
   "metadata": {},
   "source": [
    "## 1. Quantified problems on scalar functions"
   ]
  },
  {
   "cell_type": "code",
   "execution_count": 9,
   "metadata": {},
   "outputs": [
    {
     "name": "stdout",
     "output_type": "stream",
     "text": [
      "Computing approximations for R={z | exists x[1] forall x[2] exists x[3] exists x[4] z = 0.1x[1] + (1//4)*(1 + 0.01x[2])*(1 + x[4]) + 8.1875e-9x[3]*((1 + x[4])^2)}\n"
     ]
    },
    {
     "data": {
      "text/plain": [
       "1×4 SMatrix{1, 4, IntervalArithmetic.Interval{Float64}, 4} with indices SOneTo(1)×SOneTo(4):\n",
       " [0.1, 0.100001]  [0, 0.00500001]  [0, 3.275e-08]  [0.247499, 0.252501]"
      ]
     },
     "metadata": {},
     "output_type": "display_data"
    }
   ],
   "source": [
    "include(\"lab4.jl\")\n",
    "\n",
    "print(\"Computing approximations for R={z | \")\n",
    "i = 1\n",
    "for q in quantifiers\n",
    "    print(q)\n",
    "    print(\" x[\")\n",
    "    print(i)\n",
    "    print(\"] \")\n",
    "    global i = i+1\n",
    "end\n",
    "print(\"z = \")\n",
    "print(g)\n",
    "println(\"}\")\n",
    "\n",
    "g_expr = build_function(g, [x[i] for i=1:p])\n",
    "my_g = eval(g_expr)\n",
    "\n",
    "# input hyperrectangle, coded as a static array\n",
    "input = @SVector [@interval(-1.0,1.0) for i = 1:p]    \n",
    "input_center = zeros(p)\n",
    "\n",
    "c = my_g(input_center)\n",
    "\n",
    "Dg = Symbolics.jacobian([g], [x[i] for i=1:p])\n",
    "Dg_expr = build_function(Dg, [x[i] for i=1:p])\n",
    "my_Dg = eval(Dg_expr[1])\n",
    "\n",
    "range_Dg = my_Dg(input)\n",
    "  "
   ]
  },
  {
   "cell_type": "markdown",
   "metadata": {},
   "source": [
    "## 2. Application to the robustness of neural nets"
   ]
  },
  {
   "cell_type": "markdown",
   "metadata": {},
   "source": [
    "## 3. Application to the robustness of neural nets with a control loop"
   ]
  },
  {
   "cell_type": "markdown",
   "metadata": {},
   "source": [
    "## 4. To go further (project)"
   ]
  }
 ],
 "metadata": {
  "kernelspec": {
   "display_name": "Julia 1.9.3",
   "language": "julia",
   "name": "julia-1.9"
  },
  "language_info": {
   "file_extension": ".jl",
   "mimetype": "application/julia",
   "name": "julia",
   "version": "1.9.3"
  }
 },
 "nbformat": 4,
 "nbformat_minor": 2
}
