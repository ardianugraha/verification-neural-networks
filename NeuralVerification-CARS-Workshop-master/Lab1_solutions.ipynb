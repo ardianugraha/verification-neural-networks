{
 "cells": [
  {
   "cell_type": "markdown",
   "id": "68a9aa3a",
   "metadata": {},
   "source": [
    "# Abstraction-based analysis of neural networks"
   ]
  },
  {
   "cell_type": "markdown",
   "id": "4f657dd6",
   "metadata": {},
   "source": [
    "## Reading NNET files and building neural networks in Julia"
   ]
  },
  {
   "cell_type": "code",
   "execution_count": 1,
   "id": "80d989a5",
   "metadata": {},
   "outputs": [],
   "source": [
    "using NeuralVerification, LazySets\n",
    "import NeuralVerification: Network, Layer, ReLU, Id, compute_output, ActivationFunction, get_bounds\n",
    "using Plots\n",
    "using LinearAlgebra"
   ]
  },
  {
   "cell_type": "markdown",
   "id": "616c1d65",
   "metadata": {},
   "source": [
    "We can read a network from a [.nnet](https://github.com/sisl/NNet) file using the [read_nnet](https://sisl.github.io/NeuralVerification.jl/latest/functions/#NeuralVerification.read_nnet) utility function from the Julia Neural Verification library.\n",
    "We take as example the network from file [small_nnet_id.nnet](https://github.com/sisl/NeuralVerification-CARS-Workshop/blob/master/models/small_nnet_id.nnet), which has two hidden layers with two nodes each. Let us first read the file as text to see what it looks like."
   ]
  },
  {
   "cell_type": "code",
   "execution_count": 2,
   "id": "2aef3f7d",
   "metadata": {},
   "outputs": [
    {
     "name": "stdout",
     "output_type": "stream",
     "text": [
      "3\n",
      "1, 2, 2, 1\n",
      "0\n",
      "0\n",
      "0\n",
      "0\n",
      "0\n",
      "1\n",
      "1\n",
      "1.5\n",
      "1.5\n",
      "2, 2\n",
      "2, 2\n",
      "2.5\n",
      "2.5\n",
      "-3, -3\n",
      "3.5\n",
      "\n"
     ]
    }
   ],
   "source": [
    "println(read(\"models/small_nnet_id.nnet\", String))"
   ]
  },
  {
   "cell_type": "markdown",
   "id": "5be79ab7",
   "metadata": {},
   "source": [
    "Above we see the exact contents of the .nnet file at text. The first line is how many layers are in the network (2 hidden plus the input makes 3). The next line tells the input size of each layer, as well as the output size of the network (1). The following rows with zeros do nothing usually and are skipped in parsing. After that are listed the weights and biases of each layer.\n",
    "We can parse this text file into a [Network]((https://sisl.github.io/NeuralVerification.jl/latest/problem/#Network)) object using [read_nnet](https://sisl.github.io/NeuralVerification.jl/latest/functions/#NeuralVerification.read_nnet). "
   ]
  },
  {
   "cell_type": "code",
   "execution_count": 3,
   "id": "296e1d05",
   "metadata": {},
   "outputs": [
    {
     "data": {
      "text/plain": [
       "Network(Layer[Layer{ReLU, Float64}([1.0; 1.0;;], [1.5, 1.5], ReLU()), Layer{ReLU, Float64}([2.0 2.0; 2.0 2.0], [2.5, 2.5], ReLU()), Layer{Id, Float64}([-3.0 -3.0], [3.5], Id())])"
      ]
     },
     "execution_count": 3,
     "metadata": {},
     "output_type": "execute_result"
    }
   ],
   "source": [
    "net = read_nnet(\"models/small_nnet_id.nnet\")"
   ]
  },
  {
   "cell_type": "markdown",
   "id": "7e69bb75",
   "metadata": {},
   "source": [
    "A [Network](https://sisl.github.io/NeuralVerification.jl/latest/problem/#Network) is defined as a vector of Layers. For each Layer, we can print the Weights, Bias and [Activation functions](https://sisl.github.io/NeuralVerification.jl/latest/problem/#Activation-Functions): "
   ]
  },
  {
   "cell_type": "code",
   "execution_count": 4,
   "id": "b7d4ef80",
   "metadata": {},
   "outputs": [
    {
     "data": {
      "text/plain": [
       "3-element Vector{Layer}:\n",
       " Layer{ReLU, Float64}([1.0; 1.0;;], [1.5, 1.5], ReLU())\n",
       " Layer{ReLU, Float64}([2.0 2.0; 2.0 2.0], [2.5, 2.5], ReLU())\n",
       " Layer{Id, Float64}([-3.0 -3.0], [3.5], Id())"
      ]
     },
     "execution_count": 4,
     "metadata": {},
     "output_type": "execute_result"
    }
   ],
   "source": [
    "net.layers"
   ]
  },
  {
   "cell_type": "code",
   "execution_count": 5,
   "id": "a66a699c",
   "metadata": {},
   "outputs": [
    {
     "data": {
      "text/plain": [
       "2×1 Matrix{Float64}:\n",
       " 1.0\n",
       " 1.0"
      ]
     },
     "execution_count": 5,
     "metadata": {},
     "output_type": "execute_result"
    }
   ],
   "source": [
    "net.layers[1].weights"
   ]
  },
  {
   "cell_type": "code",
   "execution_count": 6,
   "id": "29c69fcb",
   "metadata": {},
   "outputs": [
    {
     "data": {
      "text/plain": [
       "2-element Vector{Float64}:\n",
       " 1.5\n",
       " 1.5"
      ]
     },
     "execution_count": 6,
     "metadata": {},
     "output_type": "execute_result"
    }
   ],
   "source": [
    "net.layers[1].bias"
   ]
  },
  {
   "cell_type": "code",
   "execution_count": 7,
   "id": "a9571356",
   "metadata": {},
   "outputs": [
    {
     "data": {
      "text/plain": [
       "ReLU()"
      ]
     },
     "execution_count": 7,
     "metadata": {},
     "output_type": "execute_result"
    }
   ],
   "source": [
    "net.layers[1].activation"
   ]
  },
  {
   "cell_type": "markdown",
   "id": "0aef267b",
   "metadata": {},
   "source": [
    "It is also possible to create a Network by putting together a series of Layers manually: "
   ]
  },
  {
   "cell_type": "code",
   "execution_count": 8,
   "id": "117dbaae",
   "metadata": {},
   "outputs": [
    {
     "data": {
      "text/plain": [
       "Layer{ReLU, Float64}([1.0 0.5; 0.5 1.0], [0.0, -0.5], ReLU())"
      ]
     },
     "execution_count": 8,
     "metadata": {},
     "output_type": "execute_result"
    }
   ],
   "source": [
    "W = [1.0 0.5;\n",
    "     0.5 1.0]\n",
    "\n",
    "b = [0, -0.5]\n",
    "\n",
    "L1 = Layer(W, b, ReLU())"
   ]
  },
  {
   "cell_type": "markdown",
   "id": "829b6535",
   "metadata": {},
   "source": [
    "We can apply the layer to an input, decomposing the affine map then the action of the activation function:"
   ]
  },
  {
   "cell_type": "code",
   "execution_count": 9,
   "id": "4ac0f23a",
   "metadata": {},
   "outputs": [
    {
     "data": {
      "text/plain": [
       "2-element Vector{Float64}:\n",
       "  1.5\n",
       " -0.5"
      ]
     },
     "execution_count": 9,
     "metadata": {},
     "output_type": "execute_result"
    }
   ],
   "source": [
    "x = [2,-1]\n",
    "y = NeuralVerification.affine_map(L1,x)"
   ]
  },
  {
   "cell_type": "code",
   "execution_count": 10,
   "id": "2a34e7fe",
   "metadata": {},
   "outputs": [
    {
     "data": {
      "text/plain": [
       "2-element Vector{Float64}:\n",
       " 1.5\n",
       " 0.0"
      ]
     },
     "execution_count": 10,
     "metadata": {},
     "output_type": "execute_result"
    }
   ],
   "source": [
    "z = L1.activation(y)"
   ]
  },
  {
   "cell_type": "markdown",
   "id": "427aa558",
   "metadata": {},
   "source": [
    "A Network consists of a vector of such Layers. Here for example we construct a network using 2 identical layers"
   ]
  },
  {
   "cell_type": "code",
   "execution_count": 11,
   "id": "0f05328e",
   "metadata": {},
   "outputs": [
    {
     "data": {
      "text/plain": [
       "Network(Layer[Layer{ReLU, Float64}([1.0 0.5; 0.5 1.0], [0.0, -0.5], ReLU()), Layer{ReLU, Float64}([1.0 0.5; 0.5 1.0], [0.0, -0.5], ReLU())])"
      ]
     },
     "execution_count": 11,
     "metadata": {},
     "output_type": "execute_result"
    }
   ],
   "source": [
    "layers = [L1, L1]\n",
    "net = Network(layers)"
   ]
  },
  {
   "cell_type": "markdown",
   "id": "b5333d96",
   "metadata": {},
   "source": [
    "## Building your own network and performing interval-based approximate reachability "
   ]
  },
  {
   "cell_type": "markdown",
   "id": "4e2b8538",
   "metadata": {},
   "source": [
    "Now build this test network: ![test network](test_network1.png)"
   ]
  },
  {
   "cell_type": "code",
   "execution_count": 12,
   "id": "28fe5ccb",
   "metadata": {},
   "outputs": [
    {
     "data": {
      "text/plain": [
       "Network(Layer[Layer{ReLU, Float64}([1.0 1.0; 1.0 -1.0], [0.0, 0.0], ReLU()), Layer{Id, Float64}([1.0 1.0; 1.0 -1.0], [0.0, 0.0], Id())])"
      ]
     },
     "execution_count": 12,
     "metadata": {},
     "output_type": "execute_result"
    }
   ],
   "source": [
    "W = [1.0 1.0; 1.0 -1.0]\n",
    "b = [0.0, 0.0]\n",
    "L1 = Layer(W, b, ReLU())\n",
    "L2 = Layer(W, b, Id())\n",
    "net = Network([L1, L2])"
   ]
  },
  {
   "cell_type": "markdown",
   "id": "2b34a2e9",
   "metadata": {},
   "source": [
    "We can now compute the output of the network, given an input vector. Let us take for instance the center of the input boxes of the network."
   ]
  },
  {
   "cell_type": "code",
   "execution_count": 13,
   "id": "c24820c9",
   "metadata": {},
   "outputs": [
    {
     "data": {
      "text/plain": [
       "2-element Vector{Float64}:\n",
       " 2.0\n",
       " 0.0"
      ]
     },
     "execution_count": 13,
     "metadata": {},
     "output_type": "execute_result"
    }
   ],
   "source": [
    "compute_output(net, [1.0, 0.0])"
   ]
  },
  {
   "cell_type": "markdown",
   "id": "cd42c326",
   "metadata": {},
   "source": [
    "## Using built-in abstraction-based solvers (AI2)"
   ]
  },
  {
   "cell_type": "markdown",
   "id": "d06e31be",
   "metadata": {},
   "source": [
    "Let us build an Hyperrectangle corresponding to the input boxes of the above network, and the [Reachability Problem](https://sisl.github.io/NeuralVerification.jl/latest/problem/) starting from this input hyperrectangle. Note that the output is useful only if we want to verify whether the output satisfies some property, here we are not interested in this functionality and select X as output. "
   ]
  },
  {
   "cell_type": "code",
   "execution_count": 14,
   "id": "00122751",
   "metadata": {},
   "outputs": [
    {
     "data": {
      "text/plain": [
       "Problem{Hyperrectangle{Float64, Vector{Float64}, Vector{Float64}}, Hyperrectangle{Float64, Vector{Float64}, Vector{Float64}}}(Network(Layer[Layer{ReLU, Float64}([1.0 1.0; 1.0 -1.0], [0.0, 0.0], ReLU()), Layer{Id, Float64}([1.0 1.0; 1.0 -1.0], [0.0, 0.0], Id())]), Hyperrectangle{Float64, Vector{Float64}, Vector{Float64}}([1.0, 0.0], [0.30000000000000004, 0.3]), Hyperrectangle{Float64, Vector{Float64}, Vector{Float64}}([1.0, 0.0], [0.30000000000000004, 0.3]))"
      ]
     },
     "execution_count": 14,
     "metadata": {},
     "output_type": "execute_result"
    }
   ],
   "source": [
    "X = Hyperrectangle(low = [0.7, -0.3], high = [1.3, 0.3])\n",
    "problem = Problem(net, X, X)"
   ]
  },
  {
   "cell_type": "markdown",
   "id": "c007fd76",
   "metadata": {},
   "source": [
    "Let us now [solve](https://sisl.github.io/NeuralVerification.jl/latest/solvers/) the problem using \n",
    "the box and zonotopes abstractions from the abstraction-based [AI2 reachability solver](https://sisl.github.io/NeuralVerification.jl/latest/solvers/#Ai2)."
   ]
  },
  {
   "cell_type": "code",
   "execution_count": 15,
   "id": "f0a338c9",
   "metadata": {},
   "outputs": [
    {
     "data": {
      "text/plain": [
       "ReachabilityResult(:violated, Zonotope{Float64, Vector{Float64}, Matrix{Float64}}[Zonotope{Float64, Vector{Float64}, Matrix{Float64}}([2.0, 0.0], [0.6000000000000001 0.0; 0.0 0.6])])"
      ]
     },
     "execution_count": 15,
     "metadata": {},
     "output_type": "execute_result"
    }
   ],
   "source": [
    "result_box = solve(Box(),problem)\n",
    "result_zono = solve(Ai2z(),problem)"
   ]
  },
  {
   "cell_type": "markdown",
   "id": "d3b4de30",
   "metadata": {},
   "source": [
    "Let us now plot the reachable sets with the two abstractions. \n",
    "We can note that the zonotope abstraction indeed gives the expected result, \n",
    "while the box abstraction result is wider but not exactly what we expect from a box abstraction. "
   ]
  },
  {
   "cell_type": "code",
   "execution_count": 16,
   "id": "14744b67",
   "metadata": {},
   "outputs": [
    {
     "data": {
      "image/svg+xml": [
       "<?xml version=\"1.0\" encoding=\"utf-8\"?>\n",
       "<svg xmlns=\"http://www.w3.org/2000/svg\" xmlns:xlink=\"http://www.w3.org/1999/xlink\" width=\"600\" height=\"400\" viewBox=\"0 0 2400 1600\">\n",
       "<defs>\n",
       "  <clipPath id=\"clip640\">\n",
       "    <rect x=\"0\" y=\"0\" width=\"2400\" height=\"1600\"/>\n",
       "  </clipPath>\n",
       "</defs>\n",
       "<path clip-path=\"url(#clip640)\" d=\"M0 1600 L2400 1600 L2400 0 L0 0  Z\" fill=\"#ffffff\" fill-rule=\"evenodd\" fill-opacity=\"1\"/>\n",
       "<defs>\n",
       "  <clipPath id=\"clip641\">\n",
       "    <rect x=\"480\" y=\"0\" width=\"1681\" height=\"1600\"/>\n",
       "  </clipPath>\n",
       "</defs>\n",
       "<path clip-path=\"url(#clip640)\" d=\"M193.936 1486.45 L2352.76 1486.45 L2352.76 47.2441 L193.936 47.2441  Z\" fill=\"#ffffff\" fill-rule=\"evenodd\" fill-opacity=\"1\"/>\n",
       "<defs>\n",
       "  <clipPath id=\"clip642\">\n",
       "    <rect x=\"193\" y=\"47\" width=\"2160\" height=\"1440\"/>\n",
       "  </clipPath>\n",
       "</defs>\n",
       "<polyline clip-path=\"url(#clip642)\" style=\"stroke:#000000; stroke-linecap:round; stroke-linejoin:round; stroke-width:2; stroke-opacity:0.1; fill:none\" points=\"424.753,1486.45 424.753,47.2441 \"/>\n",
       "<polyline clip-path=\"url(#clip642)\" style=\"stroke:#000000; stroke-linecap:round; stroke-linejoin:round; stroke-width:2; stroke-opacity:0.1; fill:none\" points=\"849.05,1486.45 849.05,47.2441 \"/>\n",
       "<polyline clip-path=\"url(#clip642)\" style=\"stroke:#000000; stroke-linecap:round; stroke-linejoin:round; stroke-width:2; stroke-opacity:0.1; fill:none\" points=\"1273.35,1486.45 1273.35,47.2441 \"/>\n",
       "<polyline clip-path=\"url(#clip642)\" style=\"stroke:#000000; stroke-linecap:round; stroke-linejoin:round; stroke-width:2; stroke-opacity:0.1; fill:none\" points=\"1697.64,1486.45 1697.64,47.2441 \"/>\n",
       "<polyline clip-path=\"url(#clip642)\" style=\"stroke:#000000; stroke-linecap:round; stroke-linejoin:round; stroke-width:2; stroke-opacity:0.1; fill:none\" points=\"2121.94,1486.45 2121.94,47.2441 \"/>\n",
       "<polyline clip-path=\"url(#clip640)\" style=\"stroke:#000000; stroke-linecap:round; stroke-linejoin:round; stroke-width:4; stroke-opacity:1; fill:none\" points=\"193.936,1486.45 2352.76,1486.45 \"/>\n",
       "<polyline clip-path=\"url(#clip640)\" style=\"stroke:#000000; stroke-linecap:round; stroke-linejoin:round; stroke-width:4; stroke-opacity:1; fill:none\" points=\"424.753,1486.45 424.753,1467.55 \"/>\n",
       "<polyline clip-path=\"url(#clip640)\" style=\"stroke:#000000; stroke-linecap:round; stroke-linejoin:round; stroke-width:4; stroke-opacity:1; fill:none\" points=\"849.05,1486.45 849.05,1467.55 \"/>\n",
       "<polyline clip-path=\"url(#clip640)\" style=\"stroke:#000000; stroke-linecap:round; stroke-linejoin:round; stroke-width:4; stroke-opacity:1; fill:none\" points=\"1273.35,1486.45 1273.35,1467.55 \"/>\n",
       "<polyline clip-path=\"url(#clip640)\" style=\"stroke:#000000; stroke-linecap:round; stroke-linejoin:round; stroke-width:4; stroke-opacity:1; fill:none\" points=\"1697.64,1486.45 1697.64,1467.55 \"/>\n",
       "<polyline clip-path=\"url(#clip640)\" style=\"stroke:#000000; stroke-linecap:round; stroke-linejoin:round; stroke-width:4; stroke-opacity:1; fill:none\" points=\"2121.94,1486.45 2121.94,1467.55 \"/>\n",
       "<path clip-path=\"url(#clip640)\" d=\"M391.906 1544.91 L399.545 1544.91 L399.545 1518.55 L391.235 1520.21 L391.235 1515.95 L399.499 1514.29 L404.175 1514.29 L404.175 1544.91 L411.813 1544.91 L411.813 1548.85 L391.906 1548.85 L391.906 1544.91 Z\" fill=\"#000000\" fill-rule=\"nonzero\" fill-opacity=\"1\" /><path clip-path=\"url(#clip640)\" d=\"M421.258 1542.97 L426.142 1542.97 L426.142 1548.85 L421.258 1548.85 L421.258 1542.97 Z\" fill=\"#000000\" fill-rule=\"nonzero\" fill-opacity=\"1\" /><path clip-path=\"url(#clip640)\" d=\"M446.327 1517.37 Q442.716 1517.37 440.887 1520.93 Q439.082 1524.47 439.082 1531.6 Q439.082 1538.71 440.887 1542.27 Q442.716 1545.82 446.327 1545.82 Q449.961 1545.82 451.767 1542.27 Q453.596 1538.71 453.596 1531.6 Q453.596 1524.47 451.767 1520.93 Q449.961 1517.37 446.327 1517.37 M446.327 1513.66 Q452.137 1513.66 455.193 1518.27 Q458.272 1522.85 458.272 1531.6 Q458.272 1540.33 455.193 1544.94 Q452.137 1549.52 446.327 1549.52 Q440.517 1549.52 437.438 1544.94 Q434.383 1540.33 434.383 1531.6 Q434.383 1522.85 437.438 1518.27 Q440.517 1513.66 446.327 1513.66 Z\" fill=\"#000000\" fill-rule=\"nonzero\" fill-opacity=\"1\" /><path clip-path=\"url(#clip640)\" d=\"M816.7 1544.91 L824.339 1544.91 L824.339 1518.55 L816.029 1520.21 L816.029 1515.95 L824.293 1514.29 L828.969 1514.29 L828.969 1544.91 L836.608 1544.91 L836.608 1548.85 L816.7 1548.85 L816.7 1544.91 Z\" fill=\"#000000\" fill-rule=\"nonzero\" fill-opacity=\"1\" /><path clip-path=\"url(#clip640)\" d=\"M846.052 1542.97 L850.936 1542.97 L850.936 1548.85 L846.052 1548.85 L846.052 1542.97 Z\" fill=\"#000000\" fill-rule=\"nonzero\" fill-opacity=\"1\" /><path clip-path=\"url(#clip640)\" d=\"M861.168 1514.29 L879.524 1514.29 L879.524 1518.22 L865.45 1518.22 L865.45 1526.7 Q866.468 1526.35 867.487 1526.19 Q868.506 1526 869.524 1526 Q875.311 1526 878.691 1529.17 Q882.07 1532.34 882.07 1537.76 Q882.07 1543.34 878.598 1546.44 Q875.126 1549.52 868.806 1549.52 Q866.631 1549.52 864.362 1549.15 Q862.117 1548.78 859.709 1548.04 L859.709 1543.34 Q861.793 1544.47 864.015 1545.03 Q866.237 1545.58 868.714 1545.58 Q872.718 1545.58 875.056 1543.48 Q877.394 1541.37 877.394 1537.76 Q877.394 1534.15 875.056 1532.04 Q872.718 1529.94 868.714 1529.94 Q866.839 1529.94 864.964 1530.35 Q863.112 1530.77 861.168 1531.65 L861.168 1514.29 Z\" fill=\"#000000\" fill-rule=\"nonzero\" fill-opacity=\"1\" /><path clip-path=\"url(#clip640)\" d=\"M1244.58 1544.91 L1260.9 1544.91 L1260.9 1548.85 L1238.96 1548.85 L1238.96 1544.91 Q1241.62 1542.16 1246.2 1537.53 Q1250.81 1532.88 1251.99 1531.53 Q1254.24 1529.01 1255.12 1527.27 Q1256.02 1525.51 1256.02 1523.82 Q1256.02 1521.07 1254.08 1519.33 Q1252.15 1517.6 1249.05 1517.6 Q1246.85 1517.6 1244.4 1518.36 Q1241.97 1519.13 1239.19 1520.68 L1239.19 1515.95 Q1242.02 1514.82 1244.47 1514.24 Q1246.92 1513.66 1248.96 1513.66 Q1254.33 1513.66 1257.52 1516.35 Q1260.72 1519.03 1260.72 1523.52 Q1260.72 1525.65 1259.91 1527.57 Q1259.12 1529.47 1257.02 1532.07 Q1256.44 1532.74 1253.33 1535.95 Q1250.23 1539.15 1244.58 1544.91 Z\" fill=\"#000000\" fill-rule=\"nonzero\" fill-opacity=\"1\" /><path clip-path=\"url(#clip640)\" d=\"M1270.72 1542.97 L1275.6 1542.97 L1275.6 1548.85 L1270.72 1548.85 L1270.72 1542.97 Z\" fill=\"#000000\" fill-rule=\"nonzero\" fill-opacity=\"1\" /><path clip-path=\"url(#clip640)\" d=\"M1295.79 1517.37 Q1292.18 1517.37 1290.35 1520.93 Q1288.54 1524.47 1288.54 1531.6 Q1288.54 1538.71 1290.35 1542.27 Q1292.18 1545.82 1295.79 1545.82 Q1299.42 1545.82 1301.23 1542.27 Q1303.06 1538.71 1303.06 1531.6 Q1303.06 1524.47 1301.23 1520.93 Q1299.42 1517.37 1295.79 1517.37 M1295.79 1513.66 Q1301.6 1513.66 1304.65 1518.27 Q1307.73 1522.85 1307.73 1531.6 Q1307.73 1540.33 1304.65 1544.94 Q1301.6 1549.52 1295.79 1549.52 Q1289.98 1549.52 1286.9 1544.94 Q1283.84 1540.33 1283.84 1531.6 Q1283.84 1522.85 1286.9 1518.27 Q1289.98 1513.66 1295.79 1513.66 Z\" fill=\"#000000\" fill-rule=\"nonzero\" fill-opacity=\"1\" /><path clip-path=\"url(#clip640)\" d=\"M1669.38 1544.91 L1685.7 1544.91 L1685.7 1548.85 L1663.75 1548.85 L1663.75 1544.91 Q1666.42 1542.16 1671 1537.53 Q1675.61 1532.88 1676.79 1531.53 Q1679.03 1529.01 1679.91 1527.27 Q1680.81 1525.51 1680.81 1523.82 Q1680.81 1521.07 1678.87 1519.33 Q1676.95 1517.6 1673.85 1517.6 Q1671.65 1517.6 1669.19 1518.36 Q1666.76 1519.13 1663.99 1520.68 L1663.99 1515.95 Q1666.81 1514.82 1669.26 1514.24 Q1671.72 1513.66 1673.75 1513.66 Q1679.12 1513.66 1682.32 1516.35 Q1685.51 1519.03 1685.51 1523.52 Q1685.51 1525.65 1684.7 1527.57 Q1683.92 1529.47 1681.81 1532.07 Q1681.23 1532.74 1678.13 1535.95 Q1675.03 1539.15 1669.38 1544.91 Z\" fill=\"#000000\" fill-rule=\"nonzero\" fill-opacity=\"1\" /><path clip-path=\"url(#clip640)\" d=\"M1695.51 1542.97 L1700.4 1542.97 L1700.4 1548.85 L1695.51 1548.85 L1695.51 1542.97 Z\" fill=\"#000000\" fill-rule=\"nonzero\" fill-opacity=\"1\" /><path clip-path=\"url(#clip640)\" d=\"M1710.63 1514.29 L1728.98 1514.29 L1728.98 1518.22 L1714.91 1518.22 L1714.91 1526.7 Q1715.93 1526.35 1716.95 1526.19 Q1717.97 1526 1718.98 1526 Q1724.77 1526 1728.15 1529.17 Q1731.53 1532.34 1731.53 1537.76 Q1731.53 1543.34 1728.06 1546.44 Q1724.59 1549.52 1718.27 1549.52 Q1716.09 1549.52 1713.82 1549.15 Q1711.58 1548.78 1709.17 1548.04 L1709.17 1543.34 Q1711.25 1544.47 1713.48 1545.03 Q1715.7 1545.58 1718.17 1545.58 Q1722.18 1545.58 1724.52 1543.48 Q1726.86 1541.37 1726.86 1537.76 Q1726.86 1534.15 1724.52 1532.04 Q1722.18 1529.94 1718.17 1529.94 Q1716.3 1529.94 1714.42 1530.35 Q1712.57 1530.77 1710.63 1531.65 L1710.63 1514.29 Z\" fill=\"#000000\" fill-rule=\"nonzero\" fill-opacity=\"1\" /><path clip-path=\"url(#clip640)\" d=\"M2103.25 1530.21 Q2106.6 1530.93 2108.48 1533.2 Q2110.38 1535.47 2110.38 1538.8 Q2110.38 1543.92 2106.86 1546.72 Q2103.34 1549.52 2096.86 1549.52 Q2094.68 1549.52 2092.37 1549.08 Q2090.08 1548.66 2087.62 1547.81 L2087.62 1543.29 Q2089.57 1544.43 2091.88 1545.01 Q2094.2 1545.58 2096.72 1545.58 Q2101.12 1545.58 2103.41 1543.85 Q2105.72 1542.11 2105.72 1538.8 Q2105.72 1535.75 2103.57 1534.03 Q2101.44 1532.3 2097.62 1532.3 L2093.59 1532.3 L2093.59 1528.45 L2097.81 1528.45 Q2101.26 1528.45 2103.08 1527.09 Q2104.91 1525.7 2104.91 1523.11 Q2104.91 1520.45 2103.02 1519.03 Q2101.14 1517.6 2097.62 1517.6 Q2095.7 1517.6 2093.5 1518.01 Q2091.3 1518.43 2088.66 1519.31 L2088.66 1515.14 Q2091.33 1514.4 2093.64 1514.03 Q2095.98 1513.66 2098.04 1513.66 Q2103.36 1513.66 2106.46 1516.09 Q2109.57 1518.5 2109.57 1522.62 Q2109.57 1525.49 2107.92 1527.48 Q2106.28 1529.45 2103.25 1530.21 Z\" fill=\"#000000\" fill-rule=\"nonzero\" fill-opacity=\"1\" /><path clip-path=\"url(#clip640)\" d=\"M2119.24 1542.97 L2124.13 1542.97 L2124.13 1548.85 L2119.24 1548.85 L2119.24 1542.97 Z\" fill=\"#000000\" fill-rule=\"nonzero\" fill-opacity=\"1\" /><path clip-path=\"url(#clip640)\" d=\"M2144.31 1517.37 Q2140.7 1517.37 2138.87 1520.93 Q2137.07 1524.47 2137.07 1531.6 Q2137.07 1538.71 2138.87 1542.27 Q2140.7 1545.82 2144.31 1545.82 Q2147.95 1545.82 2149.75 1542.27 Q2151.58 1538.71 2151.58 1531.6 Q2151.58 1524.47 2149.75 1520.93 Q2147.95 1517.37 2144.31 1517.37 M2144.31 1513.66 Q2150.12 1513.66 2153.18 1518.27 Q2156.26 1522.85 2156.26 1531.6 Q2156.26 1540.33 2153.18 1544.94 Q2150.12 1549.52 2144.31 1549.52 Q2138.5 1549.52 2135.42 1544.94 Q2132.37 1540.33 2132.37 1531.6 Q2132.37 1522.85 2135.42 1518.27 Q2138.5 1513.66 2144.31 1513.66 Z\" fill=\"#000000\" fill-rule=\"nonzero\" fill-opacity=\"1\" /><polyline clip-path=\"url(#clip642)\" style=\"stroke:#000000; stroke-linecap:round; stroke-linejoin:round; stroke-width:2; stroke-opacity:0.1; fill:none\" points=\"193.936,1332.57 2352.76,1332.57 \"/>\n",
       "<polyline clip-path=\"url(#clip642)\" style=\"stroke:#000000; stroke-linecap:round; stroke-linejoin:round; stroke-width:2; stroke-opacity:0.1; fill:none\" points=\"193.936,1049.71 2352.76,1049.71 \"/>\n",
       "<polyline clip-path=\"url(#clip642)\" style=\"stroke:#000000; stroke-linecap:round; stroke-linejoin:round; stroke-width:2; stroke-opacity:0.1; fill:none\" points=\"193.936,766.846 2352.76,766.846 \"/>\n",
       "<polyline clip-path=\"url(#clip642)\" style=\"stroke:#000000; stroke-linecap:round; stroke-linejoin:round; stroke-width:2; stroke-opacity:0.1; fill:none\" points=\"193.936,483.984 2352.76,483.984 \"/>\n",
       "<polyline clip-path=\"url(#clip642)\" style=\"stroke:#000000; stroke-linecap:round; stroke-linejoin:round; stroke-width:2; stroke-opacity:0.1; fill:none\" points=\"193.936,201.121 2352.76,201.121 \"/>\n",
       "<polyline clip-path=\"url(#clip640)\" style=\"stroke:#000000; stroke-linecap:round; stroke-linejoin:round; stroke-width:4; stroke-opacity:1; fill:none\" points=\"193.936,1486.45 193.936,47.2441 \"/>\n",
       "<polyline clip-path=\"url(#clip640)\" style=\"stroke:#000000; stroke-linecap:round; stroke-linejoin:round; stroke-width:4; stroke-opacity:1; fill:none\" points=\"193.936,1332.57 212.834,1332.57 \"/>\n",
       "<polyline clip-path=\"url(#clip640)\" style=\"stroke:#000000; stroke-linecap:round; stroke-linejoin:round; stroke-width:4; stroke-opacity:1; fill:none\" points=\"193.936,1049.71 212.834,1049.71 \"/>\n",
       "<polyline clip-path=\"url(#clip640)\" style=\"stroke:#000000; stroke-linecap:round; stroke-linejoin:round; stroke-width:4; stroke-opacity:1; fill:none\" points=\"193.936,766.846 212.834,766.846 \"/>\n",
       "<polyline clip-path=\"url(#clip640)\" style=\"stroke:#000000; stroke-linecap:round; stroke-linejoin:round; stroke-width:4; stroke-opacity:1; fill:none\" points=\"193.936,483.984 212.834,483.984 \"/>\n",
       "<polyline clip-path=\"url(#clip640)\" style=\"stroke:#000000; stroke-linecap:round; stroke-linejoin:round; stroke-width:4; stroke-opacity:1; fill:none\" points=\"193.936,201.121 212.834,201.121 \"/>\n",
       "<path clip-path=\"url(#clip640)\" d=\"M50.9921 1333.02 L80.6679 1333.02 L80.6679 1336.96 L50.9921 1336.96 L50.9921 1333.02 Z\" fill=\"#000000\" fill-rule=\"nonzero\" fill-opacity=\"1\" /><path clip-path=\"url(#clip640)\" d=\"M91.5706 1345.92 L99.2095 1345.92 L99.2095 1319.55 L90.8993 1321.22 L90.8993 1316.96 L99.1632 1315.29 L103.839 1315.29 L103.839 1345.92 L111.478 1345.92 L111.478 1349.85 L91.5706 1349.85 L91.5706 1345.92 Z\" fill=\"#000000\" fill-rule=\"nonzero\" fill-opacity=\"1\" /><path clip-path=\"url(#clip640)\" d=\"M120.922 1343.97 L125.807 1343.97 L125.807 1349.85 L120.922 1349.85 L120.922 1343.97 Z\" fill=\"#000000\" fill-rule=\"nonzero\" fill-opacity=\"1\" /><path clip-path=\"url(#clip640)\" d=\"M145.992 1318.37 Q142.381 1318.37 140.552 1321.93 Q138.746 1325.48 138.746 1332.61 Q138.746 1339.71 140.552 1343.28 Q142.381 1346.82 145.992 1346.82 Q149.626 1346.82 151.431 1343.28 Q153.26 1339.71 153.26 1332.61 Q153.26 1325.48 151.431 1321.93 Q149.626 1318.37 145.992 1318.37 M145.992 1314.67 Q151.802 1314.67 154.857 1319.27 Q157.936 1323.86 157.936 1332.61 Q157.936 1341.33 154.857 1345.94 Q151.802 1350.52 145.992 1350.52 Q140.181 1350.52 137.103 1345.94 Q134.047 1341.33 134.047 1332.61 Q134.047 1323.86 137.103 1319.27 Q140.181 1314.67 145.992 1314.67 Z\" fill=\"#000000\" fill-rule=\"nonzero\" fill-opacity=\"1\" /><path clip-path=\"url(#clip640)\" d=\"M51.9875 1050.16 L81.6633 1050.16 L81.6633 1054.09 L51.9875 1054.09 L51.9875 1050.16 Z\" fill=\"#000000\" fill-rule=\"nonzero\" fill-opacity=\"1\" /><path clip-path=\"url(#clip640)\" d=\"M101.756 1035.51 Q98.1447 1035.51 96.316 1039.07 Q94.5104 1042.61 94.5104 1049.74 Q94.5104 1056.85 96.316 1060.41 Q98.1447 1063.96 101.756 1063.96 Q105.39 1063.96 107.196 1060.41 Q109.024 1056.85 109.024 1049.74 Q109.024 1042.61 107.196 1039.07 Q105.39 1035.51 101.756 1035.51 M101.756 1031.8 Q107.566 1031.8 110.621 1036.41 Q113.7 1040.99 113.7 1049.74 Q113.7 1058.47 110.621 1063.08 Q107.566 1067.66 101.756 1067.66 Q95.9456 1067.66 92.8669 1063.08 Q89.8114 1058.47 89.8114 1049.74 Q89.8114 1040.99 92.8669 1036.41 Q95.9456 1031.8 101.756 1031.8 Z\" fill=\"#000000\" fill-rule=\"nonzero\" fill-opacity=\"1\" /><path clip-path=\"url(#clip640)\" d=\"M121.918 1061.11 L126.802 1061.11 L126.802 1066.99 L121.918 1066.99 L121.918 1061.11 Z\" fill=\"#000000\" fill-rule=\"nonzero\" fill-opacity=\"1\" /><path clip-path=\"url(#clip640)\" d=\"M137.033 1032.43 L155.39 1032.43 L155.39 1036.36 L141.316 1036.36 L141.316 1044.84 Q142.334 1044.49 143.353 1044.33 Q144.371 1044.14 145.39 1044.14 Q151.177 1044.14 154.556 1047.31 Q157.936 1050.48 157.936 1055.9 Q157.936 1061.48 154.464 1064.58 Q150.992 1067.66 144.672 1067.66 Q142.496 1067.66 140.228 1067.29 Q137.982 1066.92 135.575 1066.18 L135.575 1061.48 Q137.658 1062.61 139.881 1063.17 Q142.103 1063.72 144.58 1063.72 Q148.584 1063.72 150.922 1061.62 Q153.26 1059.51 153.26 1055.9 Q153.26 1052.29 150.922 1050.18 Q148.584 1048.08 144.58 1048.08 Q142.705 1048.08 140.83 1048.49 Q138.978 1048.91 137.033 1049.79 L137.033 1032.43 Z\" fill=\"#000000\" fill-rule=\"nonzero\" fill-opacity=\"1\" /><path clip-path=\"url(#clip640)\" d=\"M100.76 752.645 Q97.1493 752.645 95.3206 756.209 Q93.515 759.751 93.515 766.881 Q93.515 773.987 95.3206 777.552 Q97.1493 781.094 100.76 781.094 Q104.395 781.094 106.2 777.552 Q108.029 773.987 108.029 766.881 Q108.029 759.751 106.2 756.209 Q104.395 752.645 100.76 752.645 M100.76 748.941 Q106.571 748.941 109.626 753.547 Q112.705 758.131 112.705 766.881 Q112.705 775.608 109.626 780.214 Q106.571 784.797 100.76 784.797 Q94.9502 784.797 91.8715 780.214 Q88.816 775.608 88.816 766.881 Q88.816 758.131 91.8715 753.547 Q94.9502 748.941 100.76 748.941 Z\" fill=\"#000000\" fill-rule=\"nonzero\" fill-opacity=\"1\" /><path clip-path=\"url(#clip640)\" d=\"M120.922 778.246 L125.807 778.246 L125.807 784.126 L120.922 784.126 L120.922 778.246 Z\" fill=\"#000000\" fill-rule=\"nonzero\" fill-opacity=\"1\" /><path clip-path=\"url(#clip640)\" d=\"M145.992 752.645 Q142.381 752.645 140.552 756.209 Q138.746 759.751 138.746 766.881 Q138.746 773.987 140.552 777.552 Q142.381 781.094 145.992 781.094 Q149.626 781.094 151.431 777.552 Q153.26 773.987 153.26 766.881 Q153.26 759.751 151.431 756.209 Q149.626 752.645 145.992 752.645 M145.992 748.941 Q151.802 748.941 154.857 753.547 Q157.936 758.131 157.936 766.881 Q157.936 775.608 154.857 780.214 Q151.802 784.797 145.992 784.797 Q140.181 784.797 137.103 780.214 Q134.047 775.608 134.047 766.881 Q134.047 758.131 137.103 753.547 Q140.181 748.941 145.992 748.941 Z\" fill=\"#000000\" fill-rule=\"nonzero\" fill-opacity=\"1\" /><path clip-path=\"url(#clip640)\" d=\"M101.756 469.782 Q98.1447 469.782 96.316 473.347 Q94.5104 476.889 94.5104 484.018 Q94.5104 491.125 96.316 494.69 Q98.1447 498.231 101.756 498.231 Q105.39 498.231 107.196 494.69 Q109.024 491.125 109.024 484.018 Q109.024 476.889 107.196 473.347 Q105.39 469.782 101.756 469.782 M101.756 466.079 Q107.566 466.079 110.621 470.685 Q113.7 475.268 113.7 484.018 Q113.7 492.745 110.621 497.352 Q107.566 501.935 101.756 501.935 Q95.9456 501.935 92.8669 497.352 Q89.8114 492.745 89.8114 484.018 Q89.8114 475.268 92.8669 470.685 Q95.9456 466.079 101.756 466.079 Z\" fill=\"#000000\" fill-rule=\"nonzero\" fill-opacity=\"1\" /><path clip-path=\"url(#clip640)\" d=\"M121.918 495.384 L126.802 495.384 L126.802 501.264 L121.918 501.264 L121.918 495.384 Z\" fill=\"#000000\" fill-rule=\"nonzero\" fill-opacity=\"1\" /><path clip-path=\"url(#clip640)\" d=\"M137.033 466.704 L155.39 466.704 L155.39 470.639 L141.316 470.639 L141.316 479.111 Q142.334 478.764 143.353 478.602 Q144.371 478.417 145.39 478.417 Q151.177 478.417 154.556 481.588 Q157.936 484.759 157.936 490.176 Q157.936 495.754 154.464 498.856 Q150.992 501.935 144.672 501.935 Q142.496 501.935 140.228 501.565 Q137.982 501.194 135.575 500.453 L135.575 495.754 Q137.658 496.889 139.881 497.444 Q142.103 498 144.58 498 Q148.584 498 150.922 495.893 Q153.26 493.787 153.26 490.176 Q153.26 486.565 150.922 484.458 Q148.584 482.352 144.58 482.352 Q142.705 482.352 140.83 482.768 Q138.978 483.185 137.033 484.065 L137.033 466.704 Z\" fill=\"#000000\" fill-rule=\"nonzero\" fill-opacity=\"1\" /><path clip-path=\"url(#clip640)\" d=\"M91.5706 214.466 L99.2095 214.466 L99.2095 188.1 L90.8993 189.767 L90.8993 185.508 L99.1632 183.841 L103.839 183.841 L103.839 214.466 L111.478 214.466 L111.478 218.401 L91.5706 218.401 L91.5706 214.466 Z\" fill=\"#000000\" fill-rule=\"nonzero\" fill-opacity=\"1\" /><path clip-path=\"url(#clip640)\" d=\"M120.922 212.522 L125.807 212.522 L125.807 218.401 L120.922 218.401 L120.922 212.522 Z\" fill=\"#000000\" fill-rule=\"nonzero\" fill-opacity=\"1\" /><path clip-path=\"url(#clip640)\" d=\"M145.992 186.92 Q142.381 186.92 140.552 190.485 Q138.746 194.026 138.746 201.156 Q138.746 208.262 140.552 211.827 Q142.381 215.369 145.992 215.369 Q149.626 215.369 151.431 211.827 Q153.26 208.262 153.26 201.156 Q153.26 194.026 151.431 190.485 Q149.626 186.92 145.992 186.92 M145.992 183.216 Q151.802 183.216 154.857 187.823 Q157.936 192.406 157.936 201.156 Q157.936 209.883 154.857 214.489 Q151.802 219.073 145.992 219.073 Q140.181 219.073 137.103 214.489 Q134.047 209.883 134.047 201.156 Q134.047 192.406 137.103 187.823 Q140.181 183.216 145.992 183.216 Z\" fill=\"#000000\" fill-rule=\"nonzero\" fill-opacity=\"1\" /><path clip-path=\"url(#clip642)\" d=\"M1273.35 1445.72 L2291.66 766.846 L1273.35 87.9763 L255.035 766.846 L1273.35 1445.72 L1273.35 1445.72  Z\" fill=\"#009af9\" fill-rule=\"evenodd\" fill-opacity=\"0.5\"/>\n",
       "<polyline clip-path=\"url(#clip642)\" style=\"stroke:#000000; stroke-linecap:round; stroke-linejoin:round; stroke-width:4; stroke-opacity:0.5; fill:none\" points=\"1273.35,1445.72 2291.66,766.846 1273.35,87.9763 255.035,766.846 1273.35,1445.72 \"/>\n",
       "<path clip-path=\"url(#clip642)\" d=\"M1782.5 427.411 L764.19 427.411 L764.19 1106.28 L1782.5 1106.28 L1782.5 427.411 L1782.5 427.411  Z\" fill=\"#e26f46\" fill-rule=\"evenodd\" fill-opacity=\"0.5\"/>\n",
       "<polyline clip-path=\"url(#clip642)\" style=\"stroke:#000000; stroke-linecap:round; stroke-linejoin:round; stroke-width:4; stroke-opacity:0.5; fill:none\" points=\"1782.5,427.411 764.19,427.411 764.19,1106.28 1782.5,1106.28 1782.5,427.411 \"/>\n",
       "<path clip-path=\"url(#clip640)\" d=\"M1798.46 250.738 L2280.8 250.738 L2280.8 95.2176 L1798.46 95.2176  Z\" fill=\"#ffffff\" fill-rule=\"evenodd\" fill-opacity=\"1\"/>\n",
       "<polyline clip-path=\"url(#clip640)\" style=\"stroke:#000000; stroke-linecap:round; stroke-linejoin:round; stroke-width:4; stroke-opacity:1; fill:none\" points=\"1798.46,250.738 2280.8,250.738 2280.8,95.2176 1798.46,95.2176 1798.46,250.738 \"/>\n",
       "<path clip-path=\"url(#clip640)\" d=\"M1822.44 167.794 L1966.36 167.794 L1966.36 126.322 L1822.44 126.322 L1822.44 167.794  Z\" fill=\"#009af9\" fill-rule=\"evenodd\" fill-opacity=\"0.5\"/>\n",
       "<polyline clip-path=\"url(#clip640)\" style=\"stroke:#000000; stroke-linecap:round; stroke-linejoin:round; stroke-width:4; stroke-opacity:1; fill:none\" points=\"1822.44,167.794 1966.36,167.794 1966.36,126.322 1822.44,126.322 1822.44,167.794 \"/>\n",
       "<path clip-path=\"url(#clip640)\" d=\"M1995.03 147.833 L1995.03 160.495 L2002.53 160.495 Q2006.3 160.495 2008.11 158.944 Q2009.93 157.37 2009.93 154.152 Q2009.93 150.912 2008.11 149.384 Q2006.3 147.833 2002.53 147.833 L1995.03 147.833 M1995.03 133.62 L1995.03 144.037 L2001.95 144.037 Q2005.37 144.037 2007.04 142.764 Q2008.73 141.467 2008.73 138.828 Q2008.73 136.213 2007.04 134.916 Q2005.37 133.62 2001.95 133.62 L1995.03 133.62 M1990.35 129.778 L2002.3 129.778 Q2007.64 129.778 2010.54 132 Q2013.43 134.222 2013.43 138.319 Q2013.43 141.49 2011.95 143.365 Q2010.47 145.24 2007.6 145.703 Q2011.05 146.444 2012.94 148.805 Q2014.87 151.143 2014.87 154.662 Q2014.87 159.291 2011.72 161.814 Q2008.57 164.338 2002.76 164.338 L1990.35 164.338 L1990.35 129.778 Z\" fill=\"#000000\" fill-rule=\"nonzero\" fill-opacity=\"1\" /><path clip-path=\"url(#clip640)\" d=\"M2032.74 141.398 Q2029.31 141.398 2027.32 144.083 Q2025.33 146.745 2025.33 151.398 Q2025.33 156.051 2027.3 158.736 Q2029.29 161.398 2032.74 161.398 Q2036.14 161.398 2038.13 158.713 Q2040.12 156.027 2040.12 151.398 Q2040.12 146.791 2038.13 144.106 Q2036.14 141.398 2032.74 141.398 M2032.74 137.787 Q2038.29 137.787 2041.46 141.398 Q2044.63 145.009 2044.63 151.398 Q2044.63 157.764 2041.46 161.398 Q2038.29 165.009 2032.74 165.009 Q2027.16 165.009 2023.99 161.398 Q2020.84 157.764 2020.84 151.398 Q2020.84 145.009 2023.99 141.398 Q2027.16 137.787 2032.74 137.787 Z\" fill=\"#000000\" fill-rule=\"nonzero\" fill-opacity=\"1\" /><path clip-path=\"url(#clip640)\" d=\"M2071.79 138.412 L2062.41 151.027 L2072.27 164.338 L2067.25 164.338 L2059.7 154.152 L2052.16 164.338 L2047.13 164.338 L2057.2 150.773 L2047.99 138.412 L2053.01 138.412 L2059.89 147.648 L2066.76 138.412 L2071.79 138.412 Z\" fill=\"#000000\" fill-rule=\"nonzero\" fill-opacity=\"1\" /><path clip-path=\"url(#clip640)\" d=\"M2108.38 142.393 Q2107.67 141.977 2106.81 141.791 Q2105.98 141.583 2104.96 141.583 Q2101.35 141.583 2099.4 143.944 Q2097.48 146.282 2097.48 150.68 L2097.48 164.338 L2093.2 164.338 L2093.2 138.412 L2097.48 138.412 L2097.48 142.44 Q2098.82 140.078 2100.98 138.944 Q2103.13 137.787 2106.21 137.787 Q2106.65 137.787 2107.18 137.856 Q2107.71 137.903 2108.36 138.018 L2108.38 142.393 Z\" fill=\"#000000\" fill-rule=\"nonzero\" fill-opacity=\"1\" /><path clip-path=\"url(#clip640)\" d=\"M2133.98 150.31 L2133.98 152.393 L2114.4 152.393 Q2114.68 156.791 2117.04 159.106 Q2119.42 161.398 2123.66 161.398 Q2126.11 161.398 2128.41 160.796 Q2130.72 160.194 2132.99 158.99 L2132.99 163.018 Q2130.7 163.99 2128.29 164.5 Q2125.88 165.009 2123.41 165.009 Q2117.2 165.009 2113.57 161.398 Q2109.96 157.787 2109.96 151.629 Q2109.96 145.264 2113.38 141.537 Q2116.83 137.787 2122.67 137.787 Q2127.9 137.787 2130.93 141.166 Q2133.98 144.523 2133.98 150.31 M2129.73 149.06 Q2129.68 145.565 2127.76 143.481 Q2125.86 141.398 2122.71 141.398 Q2119.15 141.398 2116.99 143.412 Q2114.86 145.426 2114.54 149.083 L2129.73 149.06 Z\" fill=\"#000000\" fill-rule=\"nonzero\" fill-opacity=\"1\" /><path clip-path=\"url(#clip640)\" d=\"M2157.5 139.176 L2157.5 143.203 Q2155.7 142.277 2153.75 141.815 Q2151.81 141.352 2149.73 141.352 Q2146.55 141.352 2144.96 142.324 Q2143.38 143.296 2143.38 145.24 Q2143.38 146.722 2144.52 147.578 Q2145.65 148.412 2149.08 149.176 L2150.54 149.5 Q2155.07 150.472 2156.97 152.254 Q2158.89 154.014 2158.89 157.185 Q2158.89 160.796 2156.02 162.902 Q2153.17 165.009 2148.17 165.009 Q2146.09 165.009 2143.82 164.592 Q2141.58 164.199 2139.08 163.388 L2139.08 158.99 Q2141.44 160.217 2143.73 160.842 Q2146.02 161.444 2148.27 161.444 Q2151.28 161.444 2152.9 160.426 Q2154.52 159.384 2154.52 157.509 Q2154.52 155.773 2153.34 154.847 Q2152.18 153.921 2148.22 153.064 L2146.74 152.717 Q2142.78 151.884 2141.02 150.171 Q2139.26 148.435 2139.26 145.426 Q2139.26 141.768 2141.86 139.778 Q2144.45 137.787 2149.22 137.787 Q2151.58 137.787 2153.66 138.134 Q2155.74 138.481 2157.5 139.176 Z\" fill=\"#000000\" fill-rule=\"nonzero\" fill-opacity=\"1\" /><path clip-path=\"url(#clip640)\" d=\"M2165.23 154.106 L2165.23 138.412 L2169.49 138.412 L2169.49 153.944 Q2169.49 157.625 2170.93 159.476 Q2172.36 161.305 2175.23 161.305 Q2178.68 161.305 2180.67 159.106 Q2182.69 156.907 2182.69 153.111 L2182.69 138.412 L2186.95 138.412 L2186.95 164.338 L2182.69 164.338 L2182.69 160.356 Q2181.14 162.717 2179.08 163.875 Q2177.04 165.009 2174.33 165.009 Q2169.86 165.009 2167.55 162.231 Q2165.23 159.453 2165.23 154.106 M2175.95 137.787 L2175.95 137.787 Z\" fill=\"#000000\" fill-rule=\"nonzero\" fill-opacity=\"1\" /><path clip-path=\"url(#clip640)\" d=\"M2195.72 128.319 L2199.98 128.319 L2199.98 164.338 L2195.72 164.338 L2195.72 128.319 Z\" fill=\"#000000\" fill-rule=\"nonzero\" fill-opacity=\"1\" /><path clip-path=\"url(#clip640)\" d=\"M2213.1 131.051 L2213.1 138.412 L2221.88 138.412 L2221.88 141.722 L2213.1 141.722 L2213.1 155.796 Q2213.1 158.967 2213.96 159.87 Q2214.84 160.773 2217.5 160.773 L2221.88 160.773 L2221.88 164.338 L2217.5 164.338 Q2212.57 164.338 2210.7 162.509 Q2208.82 160.657 2208.82 155.796 L2208.82 141.722 L2205.7 141.722 L2205.7 138.412 L2208.82 138.412 L2208.82 131.051 L2213.1 131.051 Z\" fill=\"#000000\" fill-rule=\"nonzero\" fill-opacity=\"1\" /><path clip-path=\"url(#clip640)\" d=\"M1822.44 219.634 L1966.36 219.634 L1966.36 178.162 L1822.44 178.162 L1822.44 219.634  Z\" fill=\"#e26f46\" fill-rule=\"evenodd\" fill-opacity=\"0.5\"/>\n",
       "<polyline clip-path=\"url(#clip640)\" style=\"stroke:#000000; stroke-linecap:round; stroke-linejoin:round; stroke-width:4; stroke-opacity:1; fill:none\" points=\"1822.44,219.634 1966.36,219.634 1966.36,178.162 1822.44,178.162 1822.44,219.634 \"/>\n",
       "<path clip-path=\"url(#clip640)\" d=\"M1990.88 181.618 L2018.04 181.618 L2018.04 185.182 L1996.18 212.242 L2018.57 212.242 L2018.57 216.178 L1990.35 216.178 L1990.35 212.613 L2012.2 185.553 L1990.88 185.553 L1990.88 181.618 Z\" fill=\"#000000\" fill-rule=\"nonzero\" fill-opacity=\"1\" /><path clip-path=\"url(#clip640)\" d=\"M2035.21 193.238 Q2031.79 193.238 2029.8 195.923 Q2027.8 198.585 2027.8 203.238 Q2027.8 207.891 2029.77 210.576 Q2031.76 213.238 2035.21 213.238 Q2038.62 213.238 2040.61 210.553 Q2042.6 207.867 2042.6 203.238 Q2042.6 198.631 2040.61 195.946 Q2038.62 193.238 2035.21 193.238 M2035.21 189.627 Q2040.77 189.627 2043.94 193.238 Q2047.11 196.849 2047.11 203.238 Q2047.11 209.604 2043.94 213.238 Q2040.77 216.849 2035.21 216.849 Q2029.63 216.849 2026.46 213.238 Q2023.31 209.604 2023.31 203.238 Q2023.31 196.849 2026.46 193.238 Q2029.63 189.627 2035.21 189.627 Z\" fill=\"#000000\" fill-rule=\"nonzero\" fill-opacity=\"1\" /><path clip-path=\"url(#clip640)\" d=\"M2075.72 200.529 L2075.72 216.178 L2071.46 216.178 L2071.46 200.668 Q2071.46 196.988 2070.03 195.159 Q2068.59 193.33 2065.72 193.33 Q2062.27 193.33 2060.28 195.53 Q2058.29 197.729 2058.29 201.525 L2058.29 216.178 L2054.01 216.178 L2054.01 190.252 L2058.29 190.252 L2058.29 194.28 Q2059.82 191.942 2061.88 190.784 Q2063.96 189.627 2066.67 189.627 Q2071.14 189.627 2073.43 192.405 Q2075.72 195.159 2075.72 200.529 Z\" fill=\"#000000\" fill-rule=\"nonzero\" fill-opacity=\"1\" /><path clip-path=\"url(#clip640)\" d=\"M2094.26 193.238 Q2090.84 193.238 2088.85 195.923 Q2086.86 198.585 2086.86 203.238 Q2086.86 207.891 2088.82 210.576 Q2090.81 213.238 2094.26 213.238 Q2097.67 213.238 2099.66 210.553 Q2101.65 207.867 2101.65 203.238 Q2101.65 198.631 2099.66 195.946 Q2097.67 193.238 2094.26 193.238 M2094.26 189.627 Q2099.82 189.627 2102.99 193.238 Q2106.16 196.849 2106.16 203.238 Q2106.16 209.604 2102.99 213.238 Q2099.82 216.849 2094.26 216.849 Q2088.68 216.849 2085.51 213.238 Q2082.36 209.604 2082.36 203.238 Q2082.36 196.849 2085.51 193.238 Q2088.68 189.627 2094.26 189.627 Z\" fill=\"#000000\" fill-rule=\"nonzero\" fill-opacity=\"1\" /><path clip-path=\"url(#clip640)\" d=\"M2143.31 194.233 Q2142.6 193.817 2141.74 193.631 Q2140.91 193.423 2139.89 193.423 Q2136.28 193.423 2134.33 195.784 Q2132.41 198.122 2132.41 202.52 L2132.41 216.178 L2128.13 216.178 L2128.13 190.252 L2132.41 190.252 L2132.41 194.28 Q2133.75 191.918 2135.91 190.784 Q2138.06 189.627 2141.14 189.627 Q2141.58 189.627 2142.11 189.696 Q2142.64 189.743 2143.29 189.858 L2143.31 194.233 Z\" fill=\"#000000\" fill-rule=\"nonzero\" fill-opacity=\"1\" /><path clip-path=\"url(#clip640)\" d=\"M2168.92 202.15 L2168.92 204.233 L2149.33 204.233 Q2149.61 208.631 2151.97 210.946 Q2154.36 213.238 2158.59 213.238 Q2161.04 213.238 2163.34 212.636 Q2165.65 212.034 2167.92 210.83 L2167.92 214.858 Q2165.63 215.83 2163.22 216.34 Q2160.81 216.849 2158.34 216.849 Q2152.13 216.849 2148.5 213.238 Q2144.89 209.627 2144.89 203.469 Q2144.89 197.104 2148.31 193.377 Q2151.76 189.627 2157.6 189.627 Q2162.83 189.627 2165.86 193.006 Q2168.92 196.363 2168.92 202.15 M2164.66 200.9 Q2164.61 197.405 2162.69 195.321 Q2160.79 193.238 2157.64 193.238 Q2154.08 193.238 2151.92 195.252 Q2149.8 197.266 2149.47 200.923 L2164.66 200.9 Z\" fill=\"#000000\" fill-rule=\"nonzero\" fill-opacity=\"1\" /><path clip-path=\"url(#clip640)\" d=\"M2192.43 191.016 L2192.43 195.043 Q2190.63 194.117 2188.68 193.655 Q2186.74 193.192 2184.66 193.192 Q2181.48 193.192 2179.89 194.164 Q2178.31 195.136 2178.31 197.08 Q2178.31 198.562 2179.45 199.418 Q2180.58 200.252 2184.01 201.016 L2185.47 201.34 Q2190 202.312 2191.9 204.094 Q2193.82 205.854 2193.82 209.025 Q2193.82 212.636 2190.95 214.742 Q2188.11 216.849 2183.11 216.849 Q2181.02 216.849 2178.75 216.432 Q2176.51 216.039 2174.01 215.228 L2174.01 210.83 Q2176.37 212.057 2178.66 212.682 Q2180.95 213.284 2183.2 213.284 Q2186.21 213.284 2187.83 212.266 Q2189.45 211.224 2189.45 209.349 Q2189.45 207.613 2188.27 206.687 Q2187.11 205.761 2183.15 204.904 L2181.67 204.557 Q2177.71 203.724 2175.95 202.011 Q2174.19 200.275 2174.19 197.266 Q2174.19 193.608 2176.79 191.618 Q2179.38 189.627 2184.15 189.627 Q2186.51 189.627 2188.59 189.974 Q2190.67 190.321 2192.43 191.016 Z\" fill=\"#000000\" fill-rule=\"nonzero\" fill-opacity=\"1\" /><path clip-path=\"url(#clip640)\" d=\"M2200.17 205.946 L2200.17 190.252 L2204.42 190.252 L2204.42 205.784 Q2204.42 209.465 2205.86 211.316 Q2207.29 213.145 2210.17 213.145 Q2213.61 213.145 2215.6 210.946 Q2217.62 208.747 2217.62 204.951 L2217.62 190.252 L2221.88 190.252 L2221.88 216.178 L2217.62 216.178 L2217.62 212.196 Q2216.07 214.557 2214.01 215.715 Q2211.97 216.849 2209.26 216.849 Q2204.79 216.849 2202.48 214.071 Q2200.17 211.293 2200.17 205.946 M2210.88 189.627 L2210.88 189.627 Z\" fill=\"#000000\" fill-rule=\"nonzero\" fill-opacity=\"1\" /><path clip-path=\"url(#clip640)\" d=\"M2230.65 180.159 L2234.91 180.159 L2234.91 216.178 L2230.65 216.178 L2230.65 180.159 Z\" fill=\"#000000\" fill-rule=\"nonzero\" fill-opacity=\"1\" /><path clip-path=\"url(#clip640)\" d=\"M2248.04 182.891 L2248.04 190.252 L2256.81 190.252 L2256.81 193.562 L2248.04 193.562 L2248.04 207.636 Q2248.04 210.807 2248.89 211.71 Q2249.77 212.613 2252.43 212.613 L2256.81 212.613 L2256.81 216.178 L2252.43 216.178 Q2247.5 216.178 2245.63 214.349 Q2243.75 212.497 2243.75 207.636 L2243.75 193.562 L2240.63 193.562 L2240.63 190.252 L2243.75 190.252 L2243.75 182.891 L2248.04 182.891 Z\" fill=\"#000000\" fill-rule=\"nonzero\" fill-opacity=\"1\" /></svg>\n"
      ]
     },
     "execution_count": 16,
     "metadata": {},
     "output_type": "execute_result"
    }
   ],
   "source": [
    "#result_poly = solve(Ai2h(),problem)\n",
    "plot(result_box.reachable, label = \"Box result\", legend = true)\n",
    "plot!(result_zono.reachable, label = \"Zono result\")\n"
   ]
  },
  {
   "cell_type": "markdown",
   "id": "5d2e0adf",
   "metadata": {},
   "source": [
    "Actually the get_bounds function performs the actual Box/Hyperrectangles abstraction that we expect (and is thus the reference for the interval abstraction that you will later implement:"
   ]
  },
  {
   "cell_type": "code",
   "execution_count": 17,
   "id": "f30fa3fd",
   "metadata": {},
   "outputs": [
    {
     "data": {
      "text/plain": [
       "3-element Vector{Hyperrectangle}:\n",
       " Hyperrectangle{Float64, Vector{Float64}, Vector{Float64}}([1.0, 0.0], [0.30000000000000004, 0.3])\n",
       " Hyperrectangle{Float64, Vector{Float64}, Vector{Float64}}([1.0, 1.0], [0.6000000000000001, 0.6000000000000001])\n",
       " Hyperrectangle{Float64, Vector{Float64}, Vector{Float64}}([2.0, 0.0], [1.2000000000000002, 1.2000000000000002])"
      ]
     },
     "execution_count": 17,
     "metadata": {},
     "output_type": "execute_result"
    }
   ],
   "source": [
    "result_bounds = get_bounds(net,X)"
   ]
  },
  {
   "cell_type": "code",
   "execution_count": 18,
   "id": "e422c622",
   "metadata": {},
   "outputs": [
    {
     "data": {
      "image/svg+xml": [
       "<?xml version=\"1.0\" encoding=\"utf-8\"?>\n",
       "<svg xmlns=\"http://www.w3.org/2000/svg\" xmlns:xlink=\"http://www.w3.org/1999/xlink\" width=\"600\" height=\"400\" viewBox=\"0 0 2400 1600\">\n",
       "<defs>\n",
       "  <clipPath id=\"clip680\">\n",
       "    <rect x=\"0\" y=\"0\" width=\"2400\" height=\"1600\"/>\n",
       "  </clipPath>\n",
       "</defs>\n",
       "<path clip-path=\"url(#clip680)\" d=\"M0 1600 L2400 1600 L2400 0 L0 0  Z\" fill=\"#ffffff\" fill-rule=\"evenodd\" fill-opacity=\"1\"/>\n",
       "<defs>\n",
       "  <clipPath id=\"clip681\">\n",
       "    <rect x=\"480\" y=\"0\" width=\"1681\" height=\"1600\"/>\n",
       "  </clipPath>\n",
       "</defs>\n",
       "<path clip-path=\"url(#clip680)\" d=\"M193.936 1486.45 L2352.76 1486.45 L2352.76 47.2441 L193.936 47.2441  Z\" fill=\"#ffffff\" fill-rule=\"evenodd\" fill-opacity=\"1\"/>\n",
       "<defs>\n",
       "  <clipPath id=\"clip682\">\n",
       "    <rect x=\"193\" y=\"47\" width=\"2160\" height=\"1440\"/>\n",
       "  </clipPath>\n",
       "</defs>\n",
       "<polyline clip-path=\"url(#clip682)\" style=\"stroke:#000000; stroke-linecap:round; stroke-linejoin:round; stroke-width:2; stroke-opacity:0.1; fill:none\" points=\"424.753,1486.45 424.753,47.2441 \"/>\n",
       "<polyline clip-path=\"url(#clip682)\" style=\"stroke:#000000; stroke-linecap:round; stroke-linejoin:round; stroke-width:2; stroke-opacity:0.1; fill:none\" points=\"849.05,1486.45 849.05,47.2441 \"/>\n",
       "<polyline clip-path=\"url(#clip682)\" style=\"stroke:#000000; stroke-linecap:round; stroke-linejoin:round; stroke-width:2; stroke-opacity:0.1; fill:none\" points=\"1273.35,1486.45 1273.35,47.2441 \"/>\n",
       "<polyline clip-path=\"url(#clip682)\" style=\"stroke:#000000; stroke-linecap:round; stroke-linejoin:round; stroke-width:2; stroke-opacity:0.1; fill:none\" points=\"1697.64,1486.45 1697.64,47.2441 \"/>\n",
       "<polyline clip-path=\"url(#clip682)\" style=\"stroke:#000000; stroke-linecap:round; stroke-linejoin:round; stroke-width:2; stroke-opacity:0.1; fill:none\" points=\"2121.94,1486.45 2121.94,47.2441 \"/>\n",
       "<polyline clip-path=\"url(#clip680)\" style=\"stroke:#000000; stroke-linecap:round; stroke-linejoin:round; stroke-width:4; stroke-opacity:1; fill:none\" points=\"193.936,1486.45 2352.76,1486.45 \"/>\n",
       "<polyline clip-path=\"url(#clip680)\" style=\"stroke:#000000; stroke-linecap:round; stroke-linejoin:round; stroke-width:4; stroke-opacity:1; fill:none\" points=\"424.753,1486.45 424.753,1467.55 \"/>\n",
       "<polyline clip-path=\"url(#clip680)\" style=\"stroke:#000000; stroke-linecap:round; stroke-linejoin:round; stroke-width:4; stroke-opacity:1; fill:none\" points=\"849.05,1486.45 849.05,1467.55 \"/>\n",
       "<polyline clip-path=\"url(#clip680)\" style=\"stroke:#000000; stroke-linecap:round; stroke-linejoin:round; stroke-width:4; stroke-opacity:1; fill:none\" points=\"1273.35,1486.45 1273.35,1467.55 \"/>\n",
       "<polyline clip-path=\"url(#clip680)\" style=\"stroke:#000000; stroke-linecap:round; stroke-linejoin:round; stroke-width:4; stroke-opacity:1; fill:none\" points=\"1697.64,1486.45 1697.64,1467.55 \"/>\n",
       "<polyline clip-path=\"url(#clip680)\" style=\"stroke:#000000; stroke-linecap:round; stroke-linejoin:round; stroke-width:4; stroke-opacity:1; fill:none\" points=\"2121.94,1486.45 2121.94,1467.55 \"/>\n",
       "<path clip-path=\"url(#clip680)\" d=\"M391.906 1544.91 L399.545 1544.91 L399.545 1518.55 L391.235 1520.21 L391.235 1515.95 L399.499 1514.29 L404.175 1514.29 L404.175 1544.91 L411.813 1544.91 L411.813 1548.85 L391.906 1548.85 L391.906 1544.91 Z\" fill=\"#000000\" fill-rule=\"nonzero\" fill-opacity=\"1\" /><path clip-path=\"url(#clip680)\" d=\"M421.258 1542.97 L426.142 1542.97 L426.142 1548.85 L421.258 1548.85 L421.258 1542.97 Z\" fill=\"#000000\" fill-rule=\"nonzero\" fill-opacity=\"1\" /><path clip-path=\"url(#clip680)\" d=\"M446.327 1517.37 Q442.716 1517.37 440.887 1520.93 Q439.082 1524.47 439.082 1531.6 Q439.082 1538.71 440.887 1542.27 Q442.716 1545.82 446.327 1545.82 Q449.961 1545.82 451.767 1542.27 Q453.596 1538.71 453.596 1531.6 Q453.596 1524.47 451.767 1520.93 Q449.961 1517.37 446.327 1517.37 M446.327 1513.66 Q452.137 1513.66 455.193 1518.27 Q458.272 1522.85 458.272 1531.6 Q458.272 1540.33 455.193 1544.94 Q452.137 1549.52 446.327 1549.52 Q440.517 1549.52 437.438 1544.94 Q434.383 1540.33 434.383 1531.6 Q434.383 1522.85 437.438 1518.27 Q440.517 1513.66 446.327 1513.66 Z\" fill=\"#000000\" fill-rule=\"nonzero\" fill-opacity=\"1\" /><path clip-path=\"url(#clip680)\" d=\"M816.7 1544.91 L824.339 1544.91 L824.339 1518.55 L816.029 1520.21 L816.029 1515.95 L824.293 1514.29 L828.969 1514.29 L828.969 1544.91 L836.608 1544.91 L836.608 1548.85 L816.7 1548.85 L816.7 1544.91 Z\" fill=\"#000000\" fill-rule=\"nonzero\" fill-opacity=\"1\" /><path clip-path=\"url(#clip680)\" d=\"M846.052 1542.97 L850.936 1542.97 L850.936 1548.85 L846.052 1548.85 L846.052 1542.97 Z\" fill=\"#000000\" fill-rule=\"nonzero\" fill-opacity=\"1\" /><path clip-path=\"url(#clip680)\" d=\"M861.168 1514.29 L879.524 1514.29 L879.524 1518.22 L865.45 1518.22 L865.45 1526.7 Q866.468 1526.35 867.487 1526.19 Q868.506 1526 869.524 1526 Q875.311 1526 878.691 1529.17 Q882.07 1532.34 882.07 1537.76 Q882.07 1543.34 878.598 1546.44 Q875.126 1549.52 868.806 1549.52 Q866.631 1549.52 864.362 1549.15 Q862.117 1548.78 859.709 1548.04 L859.709 1543.34 Q861.793 1544.47 864.015 1545.03 Q866.237 1545.58 868.714 1545.58 Q872.718 1545.58 875.056 1543.48 Q877.394 1541.37 877.394 1537.76 Q877.394 1534.15 875.056 1532.04 Q872.718 1529.94 868.714 1529.94 Q866.839 1529.94 864.964 1530.35 Q863.112 1530.77 861.168 1531.65 L861.168 1514.29 Z\" fill=\"#000000\" fill-rule=\"nonzero\" fill-opacity=\"1\" /><path clip-path=\"url(#clip680)\" d=\"M1244.58 1544.91 L1260.9 1544.91 L1260.9 1548.85 L1238.96 1548.85 L1238.96 1544.91 Q1241.62 1542.16 1246.2 1537.53 Q1250.81 1532.88 1251.99 1531.53 Q1254.24 1529.01 1255.12 1527.27 Q1256.02 1525.51 1256.02 1523.82 Q1256.02 1521.07 1254.08 1519.33 Q1252.15 1517.6 1249.05 1517.6 Q1246.85 1517.6 1244.4 1518.36 Q1241.97 1519.13 1239.19 1520.68 L1239.19 1515.95 Q1242.02 1514.82 1244.47 1514.24 Q1246.92 1513.66 1248.96 1513.66 Q1254.33 1513.66 1257.52 1516.35 Q1260.72 1519.03 1260.72 1523.52 Q1260.72 1525.65 1259.91 1527.57 Q1259.12 1529.47 1257.02 1532.07 Q1256.44 1532.74 1253.33 1535.95 Q1250.23 1539.15 1244.58 1544.91 Z\" fill=\"#000000\" fill-rule=\"nonzero\" fill-opacity=\"1\" /><path clip-path=\"url(#clip680)\" d=\"M1270.72 1542.97 L1275.6 1542.97 L1275.6 1548.85 L1270.72 1548.85 L1270.72 1542.97 Z\" fill=\"#000000\" fill-rule=\"nonzero\" fill-opacity=\"1\" /><path clip-path=\"url(#clip680)\" d=\"M1295.79 1517.37 Q1292.18 1517.37 1290.35 1520.93 Q1288.54 1524.47 1288.54 1531.6 Q1288.54 1538.71 1290.35 1542.27 Q1292.18 1545.82 1295.79 1545.82 Q1299.42 1545.82 1301.23 1542.27 Q1303.06 1538.71 1303.06 1531.6 Q1303.06 1524.47 1301.23 1520.93 Q1299.42 1517.37 1295.79 1517.37 M1295.79 1513.66 Q1301.6 1513.66 1304.65 1518.27 Q1307.73 1522.85 1307.73 1531.6 Q1307.73 1540.33 1304.65 1544.94 Q1301.6 1549.52 1295.79 1549.52 Q1289.98 1549.52 1286.9 1544.94 Q1283.84 1540.33 1283.84 1531.6 Q1283.84 1522.85 1286.9 1518.27 Q1289.98 1513.66 1295.79 1513.66 Z\" fill=\"#000000\" fill-rule=\"nonzero\" fill-opacity=\"1\" /><path clip-path=\"url(#clip680)\" d=\"M1669.38 1544.91 L1685.7 1544.91 L1685.7 1548.85 L1663.75 1548.85 L1663.75 1544.91 Q1666.42 1542.16 1671 1537.53 Q1675.61 1532.88 1676.79 1531.53 Q1679.03 1529.01 1679.91 1527.27 Q1680.81 1525.51 1680.81 1523.82 Q1680.81 1521.07 1678.87 1519.33 Q1676.95 1517.6 1673.85 1517.6 Q1671.65 1517.6 1669.19 1518.36 Q1666.76 1519.13 1663.99 1520.68 L1663.99 1515.95 Q1666.81 1514.82 1669.26 1514.24 Q1671.72 1513.66 1673.75 1513.66 Q1679.12 1513.66 1682.32 1516.35 Q1685.51 1519.03 1685.51 1523.52 Q1685.51 1525.65 1684.7 1527.57 Q1683.92 1529.47 1681.81 1532.07 Q1681.23 1532.74 1678.13 1535.95 Q1675.03 1539.15 1669.38 1544.91 Z\" fill=\"#000000\" fill-rule=\"nonzero\" fill-opacity=\"1\" /><path clip-path=\"url(#clip680)\" d=\"M1695.51 1542.97 L1700.4 1542.97 L1700.4 1548.85 L1695.51 1548.85 L1695.51 1542.97 Z\" fill=\"#000000\" fill-rule=\"nonzero\" fill-opacity=\"1\" /><path clip-path=\"url(#clip680)\" d=\"M1710.63 1514.29 L1728.98 1514.29 L1728.98 1518.22 L1714.91 1518.22 L1714.91 1526.7 Q1715.93 1526.35 1716.95 1526.19 Q1717.97 1526 1718.98 1526 Q1724.77 1526 1728.15 1529.17 Q1731.53 1532.34 1731.53 1537.76 Q1731.53 1543.34 1728.06 1546.44 Q1724.59 1549.52 1718.27 1549.52 Q1716.09 1549.52 1713.82 1549.15 Q1711.58 1548.78 1709.17 1548.04 L1709.17 1543.34 Q1711.25 1544.47 1713.48 1545.03 Q1715.7 1545.58 1718.17 1545.58 Q1722.18 1545.58 1724.52 1543.48 Q1726.86 1541.37 1726.86 1537.76 Q1726.86 1534.15 1724.52 1532.04 Q1722.18 1529.94 1718.17 1529.94 Q1716.3 1529.94 1714.42 1530.35 Q1712.57 1530.77 1710.63 1531.65 L1710.63 1514.29 Z\" fill=\"#000000\" fill-rule=\"nonzero\" fill-opacity=\"1\" /><path clip-path=\"url(#clip680)\" d=\"M2103.25 1530.21 Q2106.6 1530.93 2108.48 1533.2 Q2110.38 1535.47 2110.38 1538.8 Q2110.38 1543.92 2106.86 1546.72 Q2103.34 1549.52 2096.86 1549.52 Q2094.68 1549.52 2092.37 1549.08 Q2090.08 1548.66 2087.62 1547.81 L2087.62 1543.29 Q2089.57 1544.43 2091.88 1545.01 Q2094.2 1545.58 2096.72 1545.58 Q2101.12 1545.58 2103.41 1543.85 Q2105.72 1542.11 2105.72 1538.8 Q2105.72 1535.75 2103.57 1534.03 Q2101.44 1532.3 2097.62 1532.3 L2093.59 1532.3 L2093.59 1528.45 L2097.81 1528.45 Q2101.26 1528.45 2103.08 1527.09 Q2104.91 1525.7 2104.91 1523.11 Q2104.91 1520.45 2103.02 1519.03 Q2101.14 1517.6 2097.62 1517.6 Q2095.7 1517.6 2093.5 1518.01 Q2091.3 1518.43 2088.66 1519.31 L2088.66 1515.14 Q2091.33 1514.4 2093.64 1514.03 Q2095.98 1513.66 2098.04 1513.66 Q2103.36 1513.66 2106.46 1516.09 Q2109.57 1518.5 2109.57 1522.62 Q2109.57 1525.49 2107.92 1527.48 Q2106.28 1529.45 2103.25 1530.21 Z\" fill=\"#000000\" fill-rule=\"nonzero\" fill-opacity=\"1\" /><path clip-path=\"url(#clip680)\" d=\"M2119.24 1542.97 L2124.13 1542.97 L2124.13 1548.85 L2119.24 1548.85 L2119.24 1542.97 Z\" fill=\"#000000\" fill-rule=\"nonzero\" fill-opacity=\"1\" /><path clip-path=\"url(#clip680)\" d=\"M2144.31 1517.37 Q2140.7 1517.37 2138.87 1520.93 Q2137.07 1524.47 2137.07 1531.6 Q2137.07 1538.71 2138.87 1542.27 Q2140.7 1545.82 2144.31 1545.82 Q2147.95 1545.82 2149.75 1542.27 Q2151.58 1538.71 2151.58 1531.6 Q2151.58 1524.47 2149.75 1520.93 Q2147.95 1517.37 2144.31 1517.37 M2144.31 1513.66 Q2150.12 1513.66 2153.18 1518.27 Q2156.26 1522.85 2156.26 1531.6 Q2156.26 1540.33 2153.18 1544.94 Q2150.12 1549.52 2144.31 1549.52 Q2138.5 1549.52 2135.42 1544.94 Q2132.37 1540.33 2132.37 1531.6 Q2132.37 1522.85 2135.42 1518.27 Q2138.5 1513.66 2144.31 1513.66 Z\" fill=\"#000000\" fill-rule=\"nonzero\" fill-opacity=\"1\" /><polyline clip-path=\"url(#clip682)\" style=\"stroke:#000000; stroke-linecap:round; stroke-linejoin:round; stroke-width:2; stroke-opacity:0.1; fill:none\" points=\"193.936,1332.57 2352.76,1332.57 \"/>\n",
       "<polyline clip-path=\"url(#clip682)\" style=\"stroke:#000000; stroke-linecap:round; stroke-linejoin:round; stroke-width:2; stroke-opacity:0.1; fill:none\" points=\"193.936,1049.71 2352.76,1049.71 \"/>\n",
       "<polyline clip-path=\"url(#clip682)\" style=\"stroke:#000000; stroke-linecap:round; stroke-linejoin:round; stroke-width:2; stroke-opacity:0.1; fill:none\" points=\"193.936,766.846 2352.76,766.846 \"/>\n",
       "<polyline clip-path=\"url(#clip682)\" style=\"stroke:#000000; stroke-linecap:round; stroke-linejoin:round; stroke-width:2; stroke-opacity:0.1; fill:none\" points=\"193.936,483.984 2352.76,483.984 \"/>\n",
       "<polyline clip-path=\"url(#clip682)\" style=\"stroke:#000000; stroke-linecap:round; stroke-linejoin:round; stroke-width:2; stroke-opacity:0.1; fill:none\" points=\"193.936,201.121 2352.76,201.121 \"/>\n",
       "<polyline clip-path=\"url(#clip680)\" style=\"stroke:#000000; stroke-linecap:round; stroke-linejoin:round; stroke-width:4; stroke-opacity:1; fill:none\" points=\"193.936,1486.45 193.936,47.2441 \"/>\n",
       "<polyline clip-path=\"url(#clip680)\" style=\"stroke:#000000; stroke-linecap:round; stroke-linejoin:round; stroke-width:4; stroke-opacity:1; fill:none\" points=\"193.936,1332.57 212.834,1332.57 \"/>\n",
       "<polyline clip-path=\"url(#clip680)\" style=\"stroke:#000000; stroke-linecap:round; stroke-linejoin:round; stroke-width:4; stroke-opacity:1; fill:none\" points=\"193.936,1049.71 212.834,1049.71 \"/>\n",
       "<polyline clip-path=\"url(#clip680)\" style=\"stroke:#000000; stroke-linecap:round; stroke-linejoin:round; stroke-width:4; stroke-opacity:1; fill:none\" points=\"193.936,766.846 212.834,766.846 \"/>\n",
       "<polyline clip-path=\"url(#clip680)\" style=\"stroke:#000000; stroke-linecap:round; stroke-linejoin:round; stroke-width:4; stroke-opacity:1; fill:none\" points=\"193.936,483.984 212.834,483.984 \"/>\n",
       "<polyline clip-path=\"url(#clip680)\" style=\"stroke:#000000; stroke-linecap:round; stroke-linejoin:round; stroke-width:4; stroke-opacity:1; fill:none\" points=\"193.936,201.121 212.834,201.121 \"/>\n",
       "<path clip-path=\"url(#clip680)\" d=\"M50.9921 1333.02 L80.6679 1333.02 L80.6679 1336.96 L50.9921 1336.96 L50.9921 1333.02 Z\" fill=\"#000000\" fill-rule=\"nonzero\" fill-opacity=\"1\" /><path clip-path=\"url(#clip680)\" d=\"M91.5706 1345.92 L99.2095 1345.92 L99.2095 1319.55 L90.8993 1321.22 L90.8993 1316.96 L99.1632 1315.29 L103.839 1315.29 L103.839 1345.92 L111.478 1345.92 L111.478 1349.85 L91.5706 1349.85 L91.5706 1345.92 Z\" fill=\"#000000\" fill-rule=\"nonzero\" fill-opacity=\"1\" /><path clip-path=\"url(#clip680)\" d=\"M120.922 1343.97 L125.807 1343.97 L125.807 1349.85 L120.922 1349.85 L120.922 1343.97 Z\" fill=\"#000000\" fill-rule=\"nonzero\" fill-opacity=\"1\" /><path clip-path=\"url(#clip680)\" d=\"M145.992 1318.37 Q142.381 1318.37 140.552 1321.93 Q138.746 1325.48 138.746 1332.61 Q138.746 1339.71 140.552 1343.28 Q142.381 1346.82 145.992 1346.82 Q149.626 1346.82 151.431 1343.28 Q153.26 1339.71 153.26 1332.61 Q153.26 1325.48 151.431 1321.93 Q149.626 1318.37 145.992 1318.37 M145.992 1314.67 Q151.802 1314.67 154.857 1319.27 Q157.936 1323.86 157.936 1332.61 Q157.936 1341.33 154.857 1345.94 Q151.802 1350.52 145.992 1350.52 Q140.181 1350.52 137.103 1345.94 Q134.047 1341.33 134.047 1332.61 Q134.047 1323.86 137.103 1319.27 Q140.181 1314.67 145.992 1314.67 Z\" fill=\"#000000\" fill-rule=\"nonzero\" fill-opacity=\"1\" /><path clip-path=\"url(#clip680)\" d=\"M51.9875 1050.16 L81.6633 1050.16 L81.6633 1054.09 L51.9875 1054.09 L51.9875 1050.16 Z\" fill=\"#000000\" fill-rule=\"nonzero\" fill-opacity=\"1\" /><path clip-path=\"url(#clip680)\" d=\"M101.756 1035.51 Q98.1447 1035.51 96.316 1039.07 Q94.5104 1042.61 94.5104 1049.74 Q94.5104 1056.85 96.316 1060.41 Q98.1447 1063.96 101.756 1063.96 Q105.39 1063.96 107.196 1060.41 Q109.024 1056.85 109.024 1049.74 Q109.024 1042.61 107.196 1039.07 Q105.39 1035.51 101.756 1035.51 M101.756 1031.8 Q107.566 1031.8 110.621 1036.41 Q113.7 1040.99 113.7 1049.74 Q113.7 1058.47 110.621 1063.08 Q107.566 1067.66 101.756 1067.66 Q95.9456 1067.66 92.8669 1063.08 Q89.8114 1058.47 89.8114 1049.74 Q89.8114 1040.99 92.8669 1036.41 Q95.9456 1031.8 101.756 1031.8 Z\" fill=\"#000000\" fill-rule=\"nonzero\" fill-opacity=\"1\" /><path clip-path=\"url(#clip680)\" d=\"M121.918 1061.11 L126.802 1061.11 L126.802 1066.99 L121.918 1066.99 L121.918 1061.11 Z\" fill=\"#000000\" fill-rule=\"nonzero\" fill-opacity=\"1\" /><path clip-path=\"url(#clip680)\" d=\"M137.033 1032.43 L155.39 1032.43 L155.39 1036.36 L141.316 1036.36 L141.316 1044.84 Q142.334 1044.49 143.353 1044.33 Q144.371 1044.14 145.39 1044.14 Q151.177 1044.14 154.556 1047.31 Q157.936 1050.48 157.936 1055.9 Q157.936 1061.48 154.464 1064.58 Q150.992 1067.66 144.672 1067.66 Q142.496 1067.66 140.228 1067.29 Q137.982 1066.92 135.575 1066.18 L135.575 1061.48 Q137.658 1062.61 139.881 1063.17 Q142.103 1063.72 144.58 1063.72 Q148.584 1063.72 150.922 1061.62 Q153.26 1059.51 153.26 1055.9 Q153.26 1052.29 150.922 1050.18 Q148.584 1048.08 144.58 1048.08 Q142.705 1048.08 140.83 1048.49 Q138.978 1048.91 137.033 1049.79 L137.033 1032.43 Z\" fill=\"#000000\" fill-rule=\"nonzero\" fill-opacity=\"1\" /><path clip-path=\"url(#clip680)\" d=\"M100.76 752.645 Q97.1493 752.645 95.3206 756.209 Q93.515 759.751 93.515 766.881 Q93.515 773.987 95.3206 777.552 Q97.1493 781.094 100.76 781.094 Q104.395 781.094 106.2 777.552 Q108.029 773.987 108.029 766.881 Q108.029 759.751 106.2 756.209 Q104.395 752.645 100.76 752.645 M100.76 748.941 Q106.571 748.941 109.626 753.547 Q112.705 758.131 112.705 766.881 Q112.705 775.608 109.626 780.214 Q106.571 784.797 100.76 784.797 Q94.9502 784.797 91.8715 780.214 Q88.816 775.608 88.816 766.881 Q88.816 758.131 91.8715 753.547 Q94.9502 748.941 100.76 748.941 Z\" fill=\"#000000\" fill-rule=\"nonzero\" fill-opacity=\"1\" /><path clip-path=\"url(#clip680)\" d=\"M120.922 778.246 L125.807 778.246 L125.807 784.126 L120.922 784.126 L120.922 778.246 Z\" fill=\"#000000\" fill-rule=\"nonzero\" fill-opacity=\"1\" /><path clip-path=\"url(#clip680)\" d=\"M145.992 752.645 Q142.381 752.645 140.552 756.209 Q138.746 759.751 138.746 766.881 Q138.746 773.987 140.552 777.552 Q142.381 781.094 145.992 781.094 Q149.626 781.094 151.431 777.552 Q153.26 773.987 153.26 766.881 Q153.26 759.751 151.431 756.209 Q149.626 752.645 145.992 752.645 M145.992 748.941 Q151.802 748.941 154.857 753.547 Q157.936 758.131 157.936 766.881 Q157.936 775.608 154.857 780.214 Q151.802 784.797 145.992 784.797 Q140.181 784.797 137.103 780.214 Q134.047 775.608 134.047 766.881 Q134.047 758.131 137.103 753.547 Q140.181 748.941 145.992 748.941 Z\" fill=\"#000000\" fill-rule=\"nonzero\" fill-opacity=\"1\" /><path clip-path=\"url(#clip680)\" d=\"M101.756 469.782 Q98.1447 469.782 96.316 473.347 Q94.5104 476.889 94.5104 484.018 Q94.5104 491.125 96.316 494.69 Q98.1447 498.231 101.756 498.231 Q105.39 498.231 107.196 494.69 Q109.024 491.125 109.024 484.018 Q109.024 476.889 107.196 473.347 Q105.39 469.782 101.756 469.782 M101.756 466.079 Q107.566 466.079 110.621 470.685 Q113.7 475.268 113.7 484.018 Q113.7 492.745 110.621 497.352 Q107.566 501.935 101.756 501.935 Q95.9456 501.935 92.8669 497.352 Q89.8114 492.745 89.8114 484.018 Q89.8114 475.268 92.8669 470.685 Q95.9456 466.079 101.756 466.079 Z\" fill=\"#000000\" fill-rule=\"nonzero\" fill-opacity=\"1\" /><path clip-path=\"url(#clip680)\" d=\"M121.918 495.384 L126.802 495.384 L126.802 501.264 L121.918 501.264 L121.918 495.384 Z\" fill=\"#000000\" fill-rule=\"nonzero\" fill-opacity=\"1\" /><path clip-path=\"url(#clip680)\" d=\"M137.033 466.704 L155.39 466.704 L155.39 470.639 L141.316 470.639 L141.316 479.111 Q142.334 478.764 143.353 478.602 Q144.371 478.417 145.39 478.417 Q151.177 478.417 154.556 481.588 Q157.936 484.759 157.936 490.176 Q157.936 495.754 154.464 498.856 Q150.992 501.935 144.672 501.935 Q142.496 501.935 140.228 501.565 Q137.982 501.194 135.575 500.453 L135.575 495.754 Q137.658 496.889 139.881 497.444 Q142.103 498 144.58 498 Q148.584 498 150.922 495.893 Q153.26 493.787 153.26 490.176 Q153.26 486.565 150.922 484.458 Q148.584 482.352 144.58 482.352 Q142.705 482.352 140.83 482.768 Q138.978 483.185 137.033 484.065 L137.033 466.704 Z\" fill=\"#000000\" fill-rule=\"nonzero\" fill-opacity=\"1\" /><path clip-path=\"url(#clip680)\" d=\"M91.5706 214.466 L99.2095 214.466 L99.2095 188.1 L90.8993 189.767 L90.8993 185.508 L99.1632 183.841 L103.839 183.841 L103.839 214.466 L111.478 214.466 L111.478 218.401 L91.5706 218.401 L91.5706 214.466 Z\" fill=\"#000000\" fill-rule=\"nonzero\" fill-opacity=\"1\" /><path clip-path=\"url(#clip680)\" d=\"M120.922 212.522 L125.807 212.522 L125.807 218.401 L120.922 218.401 L120.922 212.522 Z\" fill=\"#000000\" fill-rule=\"nonzero\" fill-opacity=\"1\" /><path clip-path=\"url(#clip680)\" d=\"M145.992 186.92 Q142.381 186.92 140.552 190.485 Q138.746 194.026 138.746 201.156 Q138.746 208.262 140.552 211.827 Q142.381 215.369 145.992 215.369 Q149.626 215.369 151.431 211.827 Q153.26 208.262 153.26 201.156 Q153.26 194.026 151.431 190.485 Q149.626 186.92 145.992 186.92 M145.992 183.216 Q151.802 183.216 154.857 187.823 Q157.936 192.406 157.936 201.156 Q157.936 209.883 154.857 214.489 Q151.802 219.073 145.992 219.073 Q140.181 219.073 137.103 214.489 Q134.047 209.883 134.047 201.156 Q134.047 192.406 137.103 187.823 Q140.181 183.216 145.992 183.216 Z\" fill=\"#000000\" fill-rule=\"nonzero\" fill-opacity=\"1\" /><path clip-path=\"url(#clip682)\" d=\"M1273.35 1445.72 L2291.66 766.846 L1273.35 87.9763 L255.035 766.846 L1273.35 1445.72 L1273.35 1445.72  Z\" fill=\"#009af9\" fill-rule=\"evenodd\" fill-opacity=\"0.5\"/>\n",
       "<polyline clip-path=\"url(#clip682)\" style=\"stroke:#000000; stroke-linecap:round; stroke-linejoin:round; stroke-width:4; stroke-opacity:0.5; fill:none\" points=\"1273.35,1445.72 2291.66,766.846 1273.35,87.9763 255.035,766.846 1273.35,1445.72 \"/>\n",
       "<path clip-path=\"url(#clip682)\" d=\"M1782.5 427.411 L764.19 427.411 L764.19 1106.28 L1782.5 1106.28 L1782.5 427.411 L1782.5 427.411  Z\" fill=\"#e26f46\" fill-rule=\"evenodd\" fill-opacity=\"0.5\"/>\n",
       "<polyline clip-path=\"url(#clip682)\" style=\"stroke:#000000; stroke-linecap:round; stroke-linejoin:round; stroke-width:4; stroke-opacity:0.5; fill:none\" points=\"1782.5,427.411 764.19,427.411 764.19,1106.28 1782.5,1106.28 1782.5,427.411 \"/>\n",
       "<path clip-path=\"url(#clip682)\" d=\"M2291.66 87.9763 L255.035 87.9763 L255.035 1445.72 L2291.66 1445.72 L2291.66 87.9763 L2291.66 87.9763  Z\" fill=\"#3da44d\" fill-rule=\"evenodd\" fill-opacity=\"0.5\"/>\n",
       "<polyline clip-path=\"url(#clip682)\" style=\"stroke:#000000; stroke-linecap:round; stroke-linejoin:round; stroke-width:4; stroke-opacity:0.5; fill:none\" points=\"2291.66,87.9763 255.035,87.9763 255.035,1445.72 2291.66,1445.72 2291.66,87.9763 \"/>\n",
       "<path clip-path=\"url(#clip680)\" d=\"M265.897 302.578 L902.749 302.578 L902.749 95.2176 L265.897 95.2176  Z\" fill=\"#ffffff\" fill-rule=\"evenodd\" fill-opacity=\"1\"/>\n",
       "<polyline clip-path=\"url(#clip680)\" style=\"stroke:#000000; stroke-linecap:round; stroke-linejoin:round; stroke-width:4; stroke-opacity:1; fill:none\" points=\"265.897,302.578 902.749,302.578 902.749,95.2176 265.897,95.2176 265.897,302.578 \"/>\n",
       "<path clip-path=\"url(#clip680)\" d=\"M289.884 167.794 L433.805 167.794 L433.805 126.322 L289.884 126.322 L289.884 167.794  Z\" fill=\"#009af9\" fill-rule=\"evenodd\" fill-opacity=\"0.5\"/>\n",
       "<polyline clip-path=\"url(#clip680)\" style=\"stroke:#000000; stroke-linecap:round; stroke-linejoin:round; stroke-width:4; stroke-opacity:1; fill:none\" points=\"289.884,167.794 433.805,167.794 433.805,126.322 289.884,126.322 289.884,167.794 \"/>\n",
       "<path clip-path=\"url(#clip680)\" d=\"M462.468 147.833 L462.468 160.495 L469.968 160.495 Q473.741 160.495 475.546 158.944 Q477.375 157.37 477.375 154.152 Q477.375 150.912 475.546 149.384 Q473.741 147.833 469.968 147.833 L462.468 147.833 M462.468 133.62 L462.468 144.037 L469.389 144.037 Q472.815 144.037 474.481 142.764 Q476.171 141.467 476.171 138.828 Q476.171 136.213 474.481 134.916 Q472.815 133.62 469.389 133.62 L462.468 133.62 M457.792 129.778 L469.736 129.778 Q475.083 129.778 477.977 132 Q480.87 134.222 480.87 138.319 Q480.87 141.49 479.389 143.365 Q477.907 145.24 475.037 145.703 Q478.486 146.444 480.384 148.805 Q482.306 151.143 482.306 154.662 Q482.306 159.291 479.157 161.814 Q476.009 164.338 470.199 164.338 L457.792 164.338 L457.792 129.778 Z\" fill=\"#000000\" fill-rule=\"nonzero\" fill-opacity=\"1\" /><path clip-path=\"url(#clip680)\" d=\"M500.176 141.398 Q496.75 141.398 494.759 144.083 Q492.768 146.745 492.768 151.398 Q492.768 156.051 494.736 158.736 Q496.727 161.398 500.176 161.398 Q503.579 161.398 505.569 158.713 Q507.56 156.027 507.56 151.398 Q507.56 146.791 505.569 144.106 Q503.579 141.398 500.176 141.398 M500.176 137.787 Q505.731 137.787 508.903 141.398 Q512.074 145.009 512.074 151.398 Q512.074 157.764 508.903 161.398 Q505.731 165.009 500.176 165.009 Q494.597 165.009 491.426 161.398 Q488.278 157.764 488.278 151.398 Q488.278 145.009 491.426 141.398 Q494.597 137.787 500.176 137.787 Z\" fill=\"#000000\" fill-rule=\"nonzero\" fill-opacity=\"1\" /><path clip-path=\"url(#clip680)\" d=\"M539.227 138.412 L529.852 151.027 L539.713 164.338 L534.69 164.338 L527.143 154.152 L519.597 164.338 L514.574 164.338 L524.643 150.773 L515.43 138.412 L520.453 138.412 L527.328 147.648 L534.203 138.412 L539.227 138.412 Z\" fill=\"#000000\" fill-rule=\"nonzero\" fill-opacity=\"1\" /><path clip-path=\"url(#clip680)\" d=\"M575.824 142.393 Q575.106 141.977 574.249 141.791 Q573.416 141.583 572.398 141.583 Q568.787 141.583 566.842 143.944 Q564.921 146.282 564.921 150.68 L564.921 164.338 L560.638 164.338 L560.638 138.412 L564.921 138.412 L564.921 142.44 Q566.263 140.078 568.416 138.944 Q570.569 137.787 573.648 137.787 Q574.087 137.787 574.62 137.856 Q575.152 137.903 575.8 138.018 L575.824 142.393 Z\" fill=\"#000000\" fill-rule=\"nonzero\" fill-opacity=\"1\" /><path clip-path=\"url(#clip680)\" d=\"M601.425 150.31 L601.425 152.393 L581.842 152.393 Q582.12 156.791 584.481 159.106 Q586.865 161.398 591.101 161.398 Q593.555 161.398 595.847 160.796 Q598.161 160.194 600.43 158.99 L600.43 163.018 Q598.138 163.99 595.731 164.5 Q593.323 165.009 590.847 165.009 Q584.643 165.009 581.009 161.398 Q577.398 157.787 577.398 151.629 Q577.398 145.264 580.824 141.537 Q584.273 137.787 590.106 137.787 Q595.337 137.787 598.37 141.166 Q601.425 144.523 601.425 150.31 M597.166 149.06 Q597.12 145.565 595.198 143.481 Q593.3 141.398 590.152 141.398 Q586.587 141.398 584.435 143.412 Q582.305 145.426 581.981 149.083 L597.166 149.06 Z\" fill=\"#000000\" fill-rule=\"nonzero\" fill-opacity=\"1\" /><path clip-path=\"url(#clip680)\" d=\"M624.944 139.176 L624.944 143.203 Q623.138 142.277 621.194 141.815 Q619.249 141.352 617.166 141.352 Q613.995 141.352 612.397 142.324 Q610.823 143.296 610.823 145.24 Q610.823 146.722 611.958 147.578 Q613.092 148.412 616.518 149.176 L617.976 149.5 Q622.513 150.472 624.411 152.254 Q626.333 154.014 626.333 157.185 Q626.333 160.796 623.462 162.902 Q620.615 165.009 615.615 165.009 Q613.532 165.009 611.263 164.592 Q609.018 164.199 606.518 163.388 L606.518 158.99 Q608.879 160.217 611.171 160.842 Q613.462 161.444 615.708 161.444 Q618.717 161.444 620.337 160.426 Q621.958 159.384 621.958 157.509 Q621.958 155.773 620.777 154.847 Q619.62 153.921 615.661 153.064 L614.18 152.717 Q610.222 151.884 608.462 150.171 Q606.703 148.435 606.703 145.426 Q606.703 141.768 609.296 139.778 Q611.888 137.787 616.657 137.787 Q619.018 137.787 621.101 138.134 Q623.184 138.481 624.944 139.176 Z\" fill=\"#000000\" fill-rule=\"nonzero\" fill-opacity=\"1\" /><path clip-path=\"url(#clip680)\" d=\"M632.675 154.106 L632.675 138.412 L636.934 138.412 L636.934 153.944 Q636.934 157.625 638.37 159.476 Q639.805 161.305 642.675 161.305 Q646.124 161.305 648.115 159.106 Q650.129 156.907 650.129 153.111 L650.129 138.412 L654.388 138.412 L654.388 164.338 L650.129 164.338 L650.129 160.356 Q648.578 162.717 646.518 163.875 Q644.481 165.009 641.772 165.009 Q637.305 165.009 634.99 162.231 Q632.675 159.453 632.675 154.106 M643.393 137.787 L643.393 137.787 Z\" fill=\"#000000\" fill-rule=\"nonzero\" fill-opacity=\"1\" /><path clip-path=\"url(#clip680)\" d=\"M663.161 128.319 L667.42 128.319 L667.42 164.338 L663.161 164.338 L663.161 128.319 Z\" fill=\"#000000\" fill-rule=\"nonzero\" fill-opacity=\"1\" /><path clip-path=\"url(#clip680)\" d=\"M680.545 131.051 L680.545 138.412 L689.318 138.412 L689.318 141.722 L680.545 141.722 L680.545 155.796 Q680.545 158.967 681.402 159.87 Q682.281 160.773 684.943 160.773 L689.318 160.773 L689.318 164.338 L684.943 164.338 Q680.013 164.338 678.138 162.509 Q676.263 160.657 676.263 155.796 L676.263 141.722 L673.138 141.722 L673.138 138.412 L676.263 138.412 L676.263 131.051 L680.545 131.051 Z\" fill=\"#000000\" fill-rule=\"nonzero\" fill-opacity=\"1\" /><path clip-path=\"url(#clip680)\" d=\"M289.884 219.634 L433.805 219.634 L433.805 178.162 L289.884 178.162 L289.884 219.634  Z\" fill=\"#e26f46\" fill-rule=\"evenodd\" fill-opacity=\"0.5\"/>\n",
       "<polyline clip-path=\"url(#clip680)\" style=\"stroke:#000000; stroke-linecap:round; stroke-linejoin:round; stroke-width:4; stroke-opacity:1; fill:none\" points=\"289.884,219.634 433.805,219.634 433.805,178.162 289.884,178.162 289.884,219.634 \"/>\n",
       "<path clip-path=\"url(#clip680)\" d=\"M458.324 181.618 L485.477 181.618 L485.477 185.182 L463.625 212.242 L486.009 212.242 L486.009 216.178 L457.792 216.178 L457.792 212.613 L479.643 185.553 L458.324 185.553 L458.324 181.618 Z\" fill=\"#000000\" fill-rule=\"nonzero\" fill-opacity=\"1\" /><path clip-path=\"url(#clip680)\" d=\"M502.653 193.238 Q499.227 193.238 497.236 195.923 Q495.245 198.585 495.245 203.238 Q495.245 207.891 497.213 210.576 Q499.204 213.238 502.653 213.238 Q506.055 213.238 508.046 210.553 Q510.037 207.867 510.037 203.238 Q510.037 198.631 508.046 195.946 Q506.055 193.238 502.653 193.238 M502.653 189.627 Q508.208 189.627 511.379 193.238 Q514.551 196.849 514.551 203.238 Q514.551 209.604 511.379 213.238 Q508.208 216.849 502.653 216.849 Q497.074 216.849 493.903 213.238 Q490.755 209.604 490.755 203.238 Q490.755 196.849 493.903 193.238 Q497.074 189.627 502.653 189.627 Z\" fill=\"#000000\" fill-rule=\"nonzero\" fill-opacity=\"1\" /><path clip-path=\"url(#clip680)\" d=\"M543.162 200.529 L543.162 216.178 L538.902 216.178 L538.902 200.668 Q538.902 196.988 537.467 195.159 Q536.032 193.33 533.162 193.33 Q529.713 193.33 527.722 195.53 Q525.731 197.729 525.731 201.525 L525.731 216.178 L521.449 216.178 L521.449 190.252 L525.731 190.252 L525.731 194.28 Q527.259 191.942 529.319 190.784 Q531.402 189.627 534.111 189.627 Q538.578 189.627 540.87 192.405 Q543.162 195.159 543.162 200.529 Z\" fill=\"#000000\" fill-rule=\"nonzero\" fill-opacity=\"1\" /><path clip-path=\"url(#clip680)\" d=\"M561.703 193.238 Q558.277 193.238 556.287 195.923 Q554.296 198.585 554.296 203.238 Q554.296 207.891 556.263 210.576 Q558.254 213.238 561.703 213.238 Q565.106 213.238 567.097 210.553 Q569.087 207.867 569.087 203.238 Q569.087 198.631 567.097 195.946 Q565.106 193.238 561.703 193.238 M561.703 189.627 Q567.259 189.627 570.43 193.238 Q573.601 196.849 573.601 203.238 Q573.601 209.604 570.43 213.238 Q567.259 216.849 561.703 216.849 Q556.125 216.849 552.953 213.238 Q549.805 209.604 549.805 203.238 Q549.805 196.849 552.953 193.238 Q556.125 189.627 561.703 189.627 Z\" fill=\"#000000\" fill-rule=\"nonzero\" fill-opacity=\"1\" /><path clip-path=\"url(#clip680)\" d=\"M610.754 194.233 Q610.036 193.817 609.18 193.631 Q608.347 193.423 607.328 193.423 Q603.717 193.423 601.772 195.784 Q599.851 198.122 599.851 202.52 L599.851 216.178 L595.569 216.178 L595.569 190.252 L599.851 190.252 L599.851 194.28 Q601.194 191.918 603.347 190.784 Q605.499 189.627 608.578 189.627 Q609.018 189.627 609.55 189.696 Q610.083 189.743 610.731 189.858 L610.754 194.233 Z\" fill=\"#000000\" fill-rule=\"nonzero\" fill-opacity=\"1\" /><path clip-path=\"url(#clip680)\" d=\"M636.356 202.15 L636.356 204.233 L616.772 204.233 Q617.05 208.631 619.411 210.946 Q621.796 213.238 626.032 213.238 Q628.485 213.238 630.777 212.636 Q633.092 212.034 635.36 210.83 L635.36 214.858 Q633.069 215.83 630.661 216.34 Q628.254 216.849 625.777 216.849 Q619.573 216.849 615.939 213.238 Q612.328 209.627 612.328 203.469 Q612.328 197.104 615.754 193.377 Q619.203 189.627 625.036 189.627 Q630.268 189.627 633.3 193.006 Q636.356 196.363 636.356 202.15 M632.096 200.9 Q632.05 197.405 630.129 195.321 Q628.231 193.238 625.083 193.238 Q621.518 193.238 619.365 195.252 Q617.235 197.266 616.911 200.923 L632.096 200.9 Z\" fill=\"#000000\" fill-rule=\"nonzero\" fill-opacity=\"1\" /><path clip-path=\"url(#clip680)\" d=\"M659.874 191.016 L659.874 195.043 Q658.068 194.117 656.124 193.655 Q654.18 193.192 652.096 193.192 Q648.925 193.192 647.328 194.164 Q645.754 195.136 645.754 197.08 Q645.754 198.562 646.888 199.418 Q648.022 200.252 651.448 201.016 L652.906 201.34 Q657.443 202.312 659.342 204.094 Q661.263 205.854 661.263 209.025 Q661.263 212.636 658.393 214.742 Q655.545 216.849 650.545 216.849 Q648.462 216.849 646.194 216.432 Q643.948 216.039 641.448 215.228 L641.448 210.83 Q643.809 212.057 646.101 212.682 Q648.393 213.284 650.638 213.284 Q653.647 213.284 655.268 212.266 Q656.888 211.224 656.888 209.349 Q656.888 207.613 655.707 206.687 Q654.55 205.761 650.592 204.904 L649.11 204.557 Q645.152 203.724 643.393 202.011 Q641.633 200.275 641.633 197.266 Q641.633 193.608 644.226 191.618 Q646.819 189.627 651.587 189.627 Q653.948 189.627 656.031 189.974 Q658.115 190.321 659.874 191.016 Z\" fill=\"#000000\" fill-rule=\"nonzero\" fill-opacity=\"1\" /><path clip-path=\"url(#clip680)\" d=\"M667.605 205.946 L667.605 190.252 L671.865 190.252 L671.865 205.784 Q671.865 209.465 673.3 211.316 Q674.735 213.145 677.605 213.145 Q681.054 213.145 683.045 210.946 Q685.059 208.747 685.059 204.951 L685.059 190.252 L689.318 190.252 L689.318 216.178 L685.059 216.178 L685.059 212.196 Q683.508 214.557 681.448 215.715 Q679.411 216.849 676.703 216.849 Q672.235 216.849 669.92 214.071 Q667.605 211.293 667.605 205.946 M678.323 189.627 L678.323 189.627 Z\" fill=\"#000000\" fill-rule=\"nonzero\" fill-opacity=\"1\" /><path clip-path=\"url(#clip680)\" d=\"M698.091 180.159 L702.351 180.159 L702.351 216.178 L698.091 216.178 L698.091 180.159 Z\" fill=\"#000000\" fill-rule=\"nonzero\" fill-opacity=\"1\" /><path clip-path=\"url(#clip680)\" d=\"M715.476 182.891 L715.476 190.252 L724.249 190.252 L724.249 193.562 L715.476 193.562 L715.476 207.636 Q715.476 210.807 716.332 211.71 Q717.212 212.613 719.874 212.613 L724.249 212.613 L724.249 216.178 L719.874 216.178 Q714.943 216.178 713.068 214.349 Q711.193 212.497 711.193 207.636 L711.193 193.562 L708.068 193.562 L708.068 190.252 L711.193 190.252 L711.193 182.891 L715.476 182.891 Z\" fill=\"#000000\" fill-rule=\"nonzero\" fill-opacity=\"1\" /><path clip-path=\"url(#clip680)\" d=\"M289.884 271.474 L433.805 271.474 L433.805 230.002 L289.884 230.002 L289.884 271.474  Z\" fill=\"#3da44d\" fill-rule=\"evenodd\" fill-opacity=\"0.5\"/>\n",
       "<polyline clip-path=\"url(#clip680)\" style=\"stroke:#000000; stroke-linecap:round; stroke-linejoin:round; stroke-width:4; stroke-opacity:1; fill:none\" points=\"289.884,271.474 433.805,271.474 433.805,230.002 289.884,230.002 289.884,271.474 \"/>\n",
       "<path clip-path=\"url(#clip680)\" d=\"M476.704 254.754 Q476.704 250.124 474.782 247.578 Q472.884 245.032 469.435 245.032 Q466.009 245.032 464.088 247.578 Q462.19 250.124 462.19 254.754 Q462.19 259.36 464.088 261.906 Q466.009 264.453 469.435 264.453 Q472.884 264.453 474.782 261.906 Q476.704 259.36 476.704 254.754 M480.963 264.8 Q480.963 271.42 478.023 274.638 Q475.083 277.879 469.019 277.879 Q466.773 277.879 464.782 277.531 Q462.792 277.207 460.917 276.513 L460.917 272.369 Q462.792 273.388 464.62 273.874 Q466.449 274.36 468.347 274.36 Q472.537 274.36 474.62 272.161 Q476.704 269.985 476.704 265.564 L476.704 263.457 Q475.384 265.749 473.324 266.883 Q471.264 268.018 468.394 268.018 Q463.625 268.018 460.708 264.383 Q457.792 260.749 457.792 254.754 Q457.792 248.735 460.708 245.101 Q463.625 241.467 468.394 241.467 Q471.264 241.467 473.324 242.601 Q475.384 243.735 476.704 246.027 L476.704 242.092 L480.963 242.092 L480.963 264.8 Z\" fill=\"#000000\" fill-rule=\"nonzero\" fill-opacity=\"1\" /><path clip-path=\"url(#clip680)\" d=\"M511.912 253.99 L511.912 256.073 L492.329 256.073 Q492.606 260.471 494.967 262.786 Q497.352 265.078 501.588 265.078 Q504.042 265.078 506.333 264.476 Q508.648 263.874 510.916 262.67 L510.916 266.698 Q508.625 267.67 506.217 268.18 Q503.81 268.689 501.333 268.689 Q495.13 268.689 491.495 265.078 Q487.884 261.467 487.884 255.309 Q487.884 248.944 491.31 245.217 Q494.759 241.467 500.592 241.467 Q505.824 241.467 508.856 244.846 Q511.912 248.203 511.912 253.99 M507.653 252.74 Q507.606 249.245 505.685 247.161 Q503.787 245.078 500.639 245.078 Q497.074 245.078 494.921 247.092 Q492.792 249.106 492.468 252.763 L507.653 252.74 Z\" fill=\"#000000\" fill-rule=\"nonzero\" fill-opacity=\"1\" /><path clip-path=\"url(#clip680)\" d=\"M523.115 234.731 L523.115 242.092 L531.889 242.092 L531.889 245.402 L523.115 245.402 L523.115 259.476 Q523.115 262.647 523.972 263.55 Q524.852 264.453 527.514 264.453 L531.889 264.453 L531.889 268.018 L527.514 268.018 Q522.583 268.018 520.708 266.189 Q518.833 264.337 518.833 259.476 L518.833 245.402 L515.708 245.402 L515.708 242.092 L518.833 242.092 L518.833 234.731 L523.115 234.731 Z\" fill=\"#000000\" fill-rule=\"nonzero\" fill-opacity=\"1\" /><path clip-path=\"url(#clip680)\" d=\"M557.189 275.888 L557.189 279.198 L532.56 279.198 L532.56 275.888 L557.189 275.888 Z\" fill=\"#000000\" fill-rule=\"nonzero\" fill-opacity=\"1\" /><path clip-path=\"url(#clip680)\" d=\"M579.805 255.078 Q579.805 250.379 577.861 247.717 Q575.939 245.032 572.56 245.032 Q569.18 245.032 567.236 247.717 Q565.314 250.379 565.314 255.078 Q565.314 259.777 567.236 262.462 Q569.18 265.124 572.56 265.124 Q575.939 265.124 577.861 262.462 Q579.805 259.777 579.805 255.078 M565.314 246.027 Q566.657 243.712 568.694 242.601 Q570.754 241.467 573.601 241.467 Q578.324 241.467 581.263 245.217 Q584.226 248.967 584.226 255.078 Q584.226 261.189 581.263 264.939 Q578.324 268.689 573.601 268.689 Q570.754 268.689 568.694 267.578 Q566.657 266.443 565.314 264.129 L565.314 268.018 L561.032 268.018 L561.032 231.999 L565.314 231.999 L565.314 246.027 Z\" fill=\"#000000\" fill-rule=\"nonzero\" fill-opacity=\"1\" /><path clip-path=\"url(#clip680)\" d=\"M601.333 245.078 Q597.907 245.078 595.916 247.763 Q593.925 250.425 593.925 255.078 Q593.925 259.731 595.893 262.416 Q597.884 265.078 601.333 265.078 Q604.735 265.078 606.726 262.393 Q608.717 259.707 608.717 255.078 Q608.717 250.471 606.726 247.786 Q604.735 245.078 601.333 245.078 M601.333 241.467 Q606.888 241.467 610.059 245.078 Q613.231 248.689 613.231 255.078 Q613.231 261.444 610.059 265.078 Q606.888 268.689 601.333 268.689 Q595.754 268.689 592.583 265.078 Q589.435 261.444 589.435 255.078 Q589.435 248.689 592.583 245.078 Q595.754 241.467 601.333 241.467 Z\" fill=\"#000000\" fill-rule=\"nonzero\" fill-opacity=\"1\" /><path clip-path=\"url(#clip680)\" d=\"M619.851 257.786 L619.851 242.092 L624.11 242.092 L624.11 257.624 Q624.11 261.305 625.545 263.156 Q626.981 264.985 629.851 264.985 Q633.3 264.985 635.291 262.786 Q637.305 260.587 637.305 256.791 L637.305 242.092 L641.564 242.092 L641.564 268.018 L637.305 268.018 L637.305 264.036 Q635.754 266.397 633.694 267.555 Q631.657 268.689 628.948 268.689 Q624.481 268.689 622.166 265.911 Q619.851 263.133 619.851 257.786 M630.569 241.467 L630.569 241.467 Z\" fill=\"#000000\" fill-rule=\"nonzero\" fill-opacity=\"1\" /><path clip-path=\"url(#clip680)\" d=\"M671.888 252.369 L671.888 268.018 L667.629 268.018 L667.629 252.508 Q667.629 248.828 666.193 246.999 Q664.758 245.17 661.888 245.17 Q658.439 245.17 656.448 247.37 Q654.457 249.569 654.457 253.365 L654.457 268.018 L650.175 268.018 L650.175 242.092 L654.457 242.092 L654.457 246.12 Q655.985 243.782 658.045 242.624 Q660.129 241.467 662.837 241.467 Q667.305 241.467 669.596 244.245 Q671.888 246.999 671.888 252.369 Z\" fill=\"#000000\" fill-rule=\"nonzero\" fill-opacity=\"1\" /><path clip-path=\"url(#clip680)\" d=\"M697.443 246.027 L697.443 231.999 L701.702 231.999 L701.702 268.018 L697.443 268.018 L697.443 264.129 Q696.101 266.443 694.04 267.578 Q692.003 268.689 689.133 268.689 Q684.434 268.689 681.471 264.939 Q678.531 261.189 678.531 255.078 Q678.531 248.967 681.471 245.217 Q684.434 241.467 689.133 241.467 Q692.003 241.467 694.04 242.601 Q696.101 243.712 697.443 246.027 M682.929 255.078 Q682.929 259.777 684.851 262.462 Q686.795 265.124 690.175 265.124 Q693.554 265.124 695.499 262.462 Q697.443 259.777 697.443 255.078 Q697.443 250.379 695.499 247.717 Q693.554 245.032 690.175 245.032 Q686.795 245.032 684.851 247.717 Q682.929 250.379 682.929 255.078 Z\" fill=\"#000000\" fill-rule=\"nonzero\" fill-opacity=\"1\" /><path clip-path=\"url(#clip680)\" d=\"M727.003 242.856 L727.003 246.883 Q725.198 245.957 723.253 245.495 Q721.309 245.032 719.226 245.032 Q716.054 245.032 714.457 246.004 Q712.883 246.976 712.883 248.92 Q712.883 250.402 714.017 251.258 Q715.151 252.092 718.577 252.856 L720.036 253.18 Q724.573 254.152 726.471 255.934 Q728.392 257.694 728.392 260.865 Q728.392 264.476 725.522 266.582 Q722.675 268.689 717.675 268.689 Q715.591 268.689 713.323 268.272 Q711.077 267.879 708.577 267.068 L708.577 262.67 Q710.939 263.897 713.23 264.522 Q715.522 265.124 717.767 265.124 Q720.776 265.124 722.397 264.106 Q724.017 263.064 724.017 261.189 Q724.017 259.453 722.837 258.527 Q721.679 257.601 717.721 256.744 L716.239 256.397 Q712.281 255.564 710.522 253.851 Q708.763 252.115 708.763 249.106 Q708.763 245.448 711.355 243.458 Q713.948 241.467 718.716 241.467 Q721.077 241.467 723.161 241.814 Q725.244 242.161 727.003 242.856 Z\" fill=\"#000000\" fill-rule=\"nonzero\" fill-opacity=\"1\" /><path clip-path=\"url(#clip680)\" d=\"M765.267 246.073 Q764.549 245.657 763.693 245.471 Q762.86 245.263 761.841 245.263 Q758.23 245.263 756.286 247.624 Q754.364 249.962 754.364 254.36 L754.364 268.018 L750.082 268.018 L750.082 242.092 L754.364 242.092 L754.364 246.12 Q755.707 243.758 757.86 242.624 Q760.012 241.467 763.091 241.467 Q763.531 241.467 764.063 241.536 Q764.596 241.583 765.244 241.698 L765.267 246.073 Z\" fill=\"#000000\" fill-rule=\"nonzero\" fill-opacity=\"1\" /><path clip-path=\"url(#clip680)\" d=\"M790.869 253.99 L790.869 256.073 L771.285 256.073 Q771.563 260.471 773.924 262.786 Q776.309 265.078 780.545 265.078 Q782.998 265.078 785.29 264.476 Q787.605 263.874 789.873 262.67 L789.873 266.698 Q787.582 267.67 785.174 268.18 Q782.767 268.689 780.29 268.689 Q774.086 268.689 770.452 265.078 Q766.841 261.467 766.841 255.309 Q766.841 248.944 770.267 245.217 Q773.716 241.467 779.549 241.467 Q784.781 241.467 787.813 244.846 Q790.869 248.203 790.869 253.99 M786.609 252.74 Q786.563 249.245 784.642 247.161 Q782.744 245.078 779.596 245.078 Q776.031 245.078 773.878 247.092 Q771.748 249.106 771.424 252.763 L786.609 252.74 Z\" fill=\"#000000\" fill-rule=\"nonzero\" fill-opacity=\"1\" /><path clip-path=\"url(#clip680)\" d=\"M814.387 242.856 L814.387 246.883 Q812.582 245.957 810.637 245.495 Q808.693 245.032 806.609 245.032 Q803.438 245.032 801.841 246.004 Q800.267 246.976 800.267 248.92 Q800.267 250.402 801.401 251.258 Q802.535 252.092 805.961 252.856 L807.42 253.18 Q811.957 254.152 813.855 255.934 Q815.776 257.694 815.776 260.865 Q815.776 264.476 812.906 266.582 Q810.058 268.689 805.058 268.689 Q802.975 268.689 800.707 268.272 Q798.461 267.879 795.961 267.068 L795.961 262.67 Q798.322 263.897 800.614 264.522 Q802.906 265.124 805.151 265.124 Q808.16 265.124 809.781 264.106 Q811.401 263.064 811.401 261.189 Q811.401 259.453 810.22 258.527 Q809.063 257.601 805.105 256.744 L803.623 256.397 Q799.665 255.564 797.906 253.851 Q796.146 252.115 796.146 249.106 Q796.146 245.448 798.739 243.458 Q801.332 241.467 806.1 241.467 Q808.461 241.467 810.545 241.814 Q812.628 242.161 814.387 242.856 Z\" fill=\"#000000\" fill-rule=\"nonzero\" fill-opacity=\"1\" /><path clip-path=\"url(#clip680)\" d=\"M822.119 257.786 L822.119 242.092 L826.378 242.092 L826.378 257.624 Q826.378 261.305 827.813 263.156 Q829.248 264.985 832.118 264.985 Q835.568 264.985 837.558 262.786 Q839.572 260.587 839.572 256.791 L839.572 242.092 L843.831 242.092 L843.831 268.018 L839.572 268.018 L839.572 264.036 Q838.021 266.397 835.961 267.555 Q833.924 268.689 831.216 268.689 Q826.748 268.689 824.433 265.911 Q822.119 263.133 822.119 257.786 M832.836 241.467 L832.836 241.467 Z\" fill=\"#000000\" fill-rule=\"nonzero\" fill-opacity=\"1\" /><path clip-path=\"url(#clip680)\" d=\"M852.604 231.999 L856.864 231.999 L856.864 268.018 L852.604 268.018 L852.604 231.999 Z\" fill=\"#000000\" fill-rule=\"nonzero\" fill-opacity=\"1\" /><path clip-path=\"url(#clip680)\" d=\"M869.989 234.731 L869.989 242.092 L878.762 242.092 L878.762 245.402 L869.989 245.402 L869.989 259.476 Q869.989 262.647 870.845 263.55 Q871.725 264.453 874.387 264.453 L878.762 264.453 L878.762 268.018 L874.387 268.018 Q869.456 268.018 867.581 266.189 Q865.706 264.337 865.706 259.476 L865.706 245.402 L862.581 245.402 L862.581 242.092 L865.706 242.092 L865.706 234.731 L869.989 234.731 Z\" fill=\"#000000\" fill-rule=\"nonzero\" fill-opacity=\"1\" /></svg>\n"
      ]
     },
     "execution_count": 18,
     "metadata": {},
     "output_type": "execute_result"
    }
   ],
   "source": [
    "plot!(result_bounds[3], label = \"get_bounds result\")"
   ]
  },
  {
   "cell_type": "markdown",
   "id": "0d3d7708",
   "metadata": {},
   "source": [
    "## Building our own interval-based approximate reachability analysis"
   ]
  },
  {
   "cell_type": "markdown",
   "id": "71586f3e",
   "metadata": {},
   "source": [
    "Now let us build an interval abstraction, using [Hyperrectangles](https://juliareach.github.io/LazySets.jl/dev/lib/sets/Hyperrectangle/), of such a small neural network, by completing the below functions. Here, you are expected to encode by yourself the action of an affine map (i.e. not use the existing function) and the activation functions.\n",
    "\n",
    "Some tips:\n",
    "- you can build a Hyperrectangle both from lower and upper bound (noted H = Hyperrectangle(low=Imin, high=Imax)) or from center and radius (noted H = Hyperrectangle(c, r)). The latter may be more convient to compute the affine transform of an Hyperrectangle. \n",
    "- you can use the low() and high() functions on a Hyperrectangle to get its lower and upper bounds\n",
    "- you can use the '.' notation to apply a saclar function elementwise to an array (for example x = [1, 2]; f(x) = x*x; y = f.(x))\n",
    "- you can simply write 'A * x + b' for an affine transform of a vector of floats.\n"
   ]
  },
  {
   "cell_type": "code",
   "execution_count": 19,
   "id": "081df451",
   "metadata": {},
   "outputs": [
    {
     "data": {
      "text/plain": [
       "interval_approximate_act_map (generic function with 1 method)"
      ]
     },
     "execution_count": 19,
     "metadata": {},
     "output_type": "execute_result"
    }
   ],
   "source": [
    "function interval_approximate_act_map(act::ActivationFunction, input::Hyperrectangle)\n",
    "    Imax = act.(high(input))\n",
    "    Imin = act.(low(input))\n",
    "    return Hyperrectangle(low=Imin, high=Imax)\n",
    "end"
   ]
  },
  {
   "cell_type": "code",
   "execution_count": 20,
   "id": "7d141f2f",
   "metadata": {},
   "outputs": [
    {
     "data": {
      "text/plain": [
       "interval_approximate_affine_map (generic function with 1 method)"
      ]
     },
     "execution_count": 20,
     "metadata": {},
     "output_type": "execute_result"
    }
   ],
   "source": [
    "function interval_approximate_affine_map(layer::Layer, input::Hyperrectangle)\n",
    "    c = layer.weights * input.center + layer.bias; \n",
    "    r = abs.(layer.weights) * input.radius\n",
    "    return Hyperrectangle(c, r)\n",
    "end"
   ]
  },
  {
   "cell_type": "code",
   "execution_count": 21,
   "id": "4cecd34a",
   "metadata": {},
   "outputs": [
    {
     "data": {
      "text/plain": [
       "interval_approximate_nnet (generic function with 1 method)"
      ]
     },
     "execution_count": 21,
     "metadata": {},
     "output_type": "execute_result"
    }
   ],
   "source": [
    "function interval_approximate_nnet(nnet::Network, input::Hyperrectangle)\n",
    "    bounds = Vector{Hyperrectangle}(undef, length(nnet.layers) + 1)\n",
    "    bounds[1] = input\n",
    "    for i in 1:length(nnet.layers)\n",
    "        temp = interval_approximate_affine_map(nnet.layers[i],bounds[i])\n",
    "        bounds[i+1] = interval_approximate_act_map(nnet.layers[i].activation,temp)\n",
    "    end\n",
    "\n",
    "    return bounds\n",
    "end"
   ]
  },
  {
   "cell_type": "markdown",
   "id": "f995034b",
   "metadata": {},
   "source": [
    "Now test these functions and make sure the results match the example of the lecture. "
   ]
  },
  {
   "cell_type": "code",
   "execution_count": 22,
   "id": "9757b87c",
   "metadata": {},
   "outputs": [
    {
     "data": {
      "text/plain": [
       "3-element Vector{Hyperrectangle}:\n",
       " Hyperrectangle{Float64, Vector{Float64}, Vector{Float64}}([1.0, 0.0], [0.30000000000000004, 0.3])\n",
       " Hyperrectangle{Float64, Vector{Float64}, Vector{Float64}}([1.0, 1.0], [0.6000000000000001, 0.6000000000000001])\n",
       " Hyperrectangle{Float64, Vector{Float64}, Vector{Float64}}([2.0, 0.0], [1.2000000000000002, 1.2000000000000002])"
      ]
     },
     "execution_count": 22,
     "metadata": {},
     "output_type": "execute_result"
    }
   ],
   "source": [
    "interval_result = interval_approximate_nnet(net, X)"
   ]
  },
  {
   "cell_type": "code",
   "execution_count": 23,
   "id": "abeaae3c",
   "metadata": {},
   "outputs": [
    {
     "data": {
      "image/svg+xml": [
       "<?xml version=\"1.0\" encoding=\"utf-8\"?>\n",
       "<svg xmlns=\"http://www.w3.org/2000/svg\" xmlns:xlink=\"http://www.w3.org/1999/xlink\" width=\"600\" height=\"400\" viewBox=\"0 0 2400 1600\">\n",
       "<defs>\n",
       "  <clipPath id=\"clip720\">\n",
       "    <rect x=\"0\" y=\"0\" width=\"2400\" height=\"1600\"/>\n",
       "  </clipPath>\n",
       "</defs>\n",
       "<path clip-path=\"url(#clip720)\" d=\"M0 1600 L2400 1600 L2400 0 L0 0  Z\" fill=\"#ffffff\" fill-rule=\"evenodd\" fill-opacity=\"1\"/>\n",
       "<defs>\n",
       "  <clipPath id=\"clip721\">\n",
       "    <rect x=\"480\" y=\"0\" width=\"1681\" height=\"1600\"/>\n",
       "  </clipPath>\n",
       "</defs>\n",
       "<path clip-path=\"url(#clip720)\" d=\"M193.936 1486.45 L2352.76 1486.45 L2352.76 47.2441 L193.936 47.2441  Z\" fill=\"#ffffff\" fill-rule=\"evenodd\" fill-opacity=\"1\"/>\n",
       "<defs>\n",
       "  <clipPath id=\"clip722\">\n",
       "    <rect x=\"193\" y=\"47\" width=\"2160\" height=\"1440\"/>\n",
       "  </clipPath>\n",
       "</defs>\n",
       "<polyline clip-path=\"url(#clip722)\" style=\"stroke:#000000; stroke-linecap:round; stroke-linejoin:round; stroke-width:2; stroke-opacity:0.1; fill:none\" points=\"424.753,1486.45 424.753,47.2441 \"/>\n",
       "<polyline clip-path=\"url(#clip722)\" style=\"stroke:#000000; stroke-linecap:round; stroke-linejoin:round; stroke-width:2; stroke-opacity:0.1; fill:none\" points=\"849.05,1486.45 849.05,47.2441 \"/>\n",
       "<polyline clip-path=\"url(#clip722)\" style=\"stroke:#000000; stroke-linecap:round; stroke-linejoin:round; stroke-width:2; stroke-opacity:0.1; fill:none\" points=\"1273.35,1486.45 1273.35,47.2441 \"/>\n",
       "<polyline clip-path=\"url(#clip722)\" style=\"stroke:#000000; stroke-linecap:round; stroke-linejoin:round; stroke-width:2; stroke-opacity:0.1; fill:none\" points=\"1697.64,1486.45 1697.64,47.2441 \"/>\n",
       "<polyline clip-path=\"url(#clip722)\" style=\"stroke:#000000; stroke-linecap:round; stroke-linejoin:round; stroke-width:2; stroke-opacity:0.1; fill:none\" points=\"2121.94,1486.45 2121.94,47.2441 \"/>\n",
       "<polyline clip-path=\"url(#clip720)\" style=\"stroke:#000000; stroke-linecap:round; stroke-linejoin:round; stroke-width:4; stroke-opacity:1; fill:none\" points=\"193.936,1486.45 2352.76,1486.45 \"/>\n",
       "<polyline clip-path=\"url(#clip720)\" style=\"stroke:#000000; stroke-linecap:round; stroke-linejoin:round; stroke-width:4; stroke-opacity:1; fill:none\" points=\"424.753,1486.45 424.753,1467.55 \"/>\n",
       "<polyline clip-path=\"url(#clip720)\" style=\"stroke:#000000; stroke-linecap:round; stroke-linejoin:round; stroke-width:4; stroke-opacity:1; fill:none\" points=\"849.05,1486.45 849.05,1467.55 \"/>\n",
       "<polyline clip-path=\"url(#clip720)\" style=\"stroke:#000000; stroke-linecap:round; stroke-linejoin:round; stroke-width:4; stroke-opacity:1; fill:none\" points=\"1273.35,1486.45 1273.35,1467.55 \"/>\n",
       "<polyline clip-path=\"url(#clip720)\" style=\"stroke:#000000; stroke-linecap:round; stroke-linejoin:round; stroke-width:4; stroke-opacity:1; fill:none\" points=\"1697.64,1486.45 1697.64,1467.55 \"/>\n",
       "<polyline clip-path=\"url(#clip720)\" style=\"stroke:#000000; stroke-linecap:round; stroke-linejoin:round; stroke-width:4; stroke-opacity:1; fill:none\" points=\"2121.94,1486.45 2121.94,1467.55 \"/>\n",
       "<path clip-path=\"url(#clip720)\" d=\"M391.906 1544.91 L399.545 1544.91 L399.545 1518.55 L391.235 1520.21 L391.235 1515.95 L399.499 1514.29 L404.175 1514.29 L404.175 1544.91 L411.813 1544.91 L411.813 1548.85 L391.906 1548.85 L391.906 1544.91 Z\" fill=\"#000000\" fill-rule=\"nonzero\" fill-opacity=\"1\" /><path clip-path=\"url(#clip720)\" d=\"M421.258 1542.97 L426.142 1542.97 L426.142 1548.85 L421.258 1548.85 L421.258 1542.97 Z\" fill=\"#000000\" fill-rule=\"nonzero\" fill-opacity=\"1\" /><path clip-path=\"url(#clip720)\" d=\"M446.327 1517.37 Q442.716 1517.37 440.887 1520.93 Q439.082 1524.47 439.082 1531.6 Q439.082 1538.71 440.887 1542.27 Q442.716 1545.82 446.327 1545.82 Q449.961 1545.82 451.767 1542.27 Q453.596 1538.71 453.596 1531.6 Q453.596 1524.47 451.767 1520.93 Q449.961 1517.37 446.327 1517.37 M446.327 1513.66 Q452.137 1513.66 455.193 1518.27 Q458.272 1522.85 458.272 1531.6 Q458.272 1540.33 455.193 1544.94 Q452.137 1549.52 446.327 1549.52 Q440.517 1549.52 437.438 1544.94 Q434.383 1540.33 434.383 1531.6 Q434.383 1522.85 437.438 1518.27 Q440.517 1513.66 446.327 1513.66 Z\" fill=\"#000000\" fill-rule=\"nonzero\" fill-opacity=\"1\" /><path clip-path=\"url(#clip720)\" d=\"M816.7 1544.91 L824.339 1544.91 L824.339 1518.55 L816.029 1520.21 L816.029 1515.95 L824.293 1514.29 L828.969 1514.29 L828.969 1544.91 L836.608 1544.91 L836.608 1548.85 L816.7 1548.85 L816.7 1544.91 Z\" fill=\"#000000\" fill-rule=\"nonzero\" fill-opacity=\"1\" /><path clip-path=\"url(#clip720)\" d=\"M846.052 1542.97 L850.936 1542.97 L850.936 1548.85 L846.052 1548.85 L846.052 1542.97 Z\" fill=\"#000000\" fill-rule=\"nonzero\" fill-opacity=\"1\" /><path clip-path=\"url(#clip720)\" d=\"M861.168 1514.29 L879.524 1514.29 L879.524 1518.22 L865.45 1518.22 L865.45 1526.7 Q866.468 1526.35 867.487 1526.19 Q868.506 1526 869.524 1526 Q875.311 1526 878.691 1529.17 Q882.07 1532.34 882.07 1537.76 Q882.07 1543.34 878.598 1546.44 Q875.126 1549.52 868.806 1549.52 Q866.631 1549.52 864.362 1549.15 Q862.117 1548.78 859.709 1548.04 L859.709 1543.34 Q861.793 1544.47 864.015 1545.03 Q866.237 1545.58 868.714 1545.58 Q872.718 1545.58 875.056 1543.48 Q877.394 1541.37 877.394 1537.76 Q877.394 1534.15 875.056 1532.04 Q872.718 1529.94 868.714 1529.94 Q866.839 1529.94 864.964 1530.35 Q863.112 1530.77 861.168 1531.65 L861.168 1514.29 Z\" fill=\"#000000\" fill-rule=\"nonzero\" fill-opacity=\"1\" /><path clip-path=\"url(#clip720)\" d=\"M1244.58 1544.91 L1260.9 1544.91 L1260.9 1548.85 L1238.96 1548.85 L1238.96 1544.91 Q1241.62 1542.16 1246.2 1537.53 Q1250.81 1532.88 1251.99 1531.53 Q1254.24 1529.01 1255.12 1527.27 Q1256.02 1525.51 1256.02 1523.82 Q1256.02 1521.07 1254.08 1519.33 Q1252.15 1517.6 1249.05 1517.6 Q1246.85 1517.6 1244.4 1518.36 Q1241.97 1519.13 1239.19 1520.68 L1239.19 1515.95 Q1242.02 1514.82 1244.47 1514.24 Q1246.92 1513.66 1248.96 1513.66 Q1254.33 1513.66 1257.52 1516.35 Q1260.72 1519.03 1260.72 1523.52 Q1260.72 1525.65 1259.91 1527.57 Q1259.12 1529.47 1257.02 1532.07 Q1256.44 1532.74 1253.33 1535.95 Q1250.23 1539.15 1244.58 1544.91 Z\" fill=\"#000000\" fill-rule=\"nonzero\" fill-opacity=\"1\" /><path clip-path=\"url(#clip720)\" d=\"M1270.72 1542.97 L1275.6 1542.97 L1275.6 1548.85 L1270.72 1548.85 L1270.72 1542.97 Z\" fill=\"#000000\" fill-rule=\"nonzero\" fill-opacity=\"1\" /><path clip-path=\"url(#clip720)\" d=\"M1295.79 1517.37 Q1292.18 1517.37 1290.35 1520.93 Q1288.54 1524.47 1288.54 1531.6 Q1288.54 1538.71 1290.35 1542.27 Q1292.18 1545.82 1295.79 1545.82 Q1299.42 1545.82 1301.23 1542.27 Q1303.06 1538.71 1303.06 1531.6 Q1303.06 1524.47 1301.23 1520.93 Q1299.42 1517.37 1295.79 1517.37 M1295.79 1513.66 Q1301.6 1513.66 1304.65 1518.27 Q1307.73 1522.85 1307.73 1531.6 Q1307.73 1540.33 1304.65 1544.94 Q1301.6 1549.52 1295.79 1549.52 Q1289.98 1549.52 1286.9 1544.94 Q1283.84 1540.33 1283.84 1531.6 Q1283.84 1522.85 1286.9 1518.27 Q1289.98 1513.66 1295.79 1513.66 Z\" fill=\"#000000\" fill-rule=\"nonzero\" fill-opacity=\"1\" /><path clip-path=\"url(#clip720)\" d=\"M1669.38 1544.91 L1685.7 1544.91 L1685.7 1548.85 L1663.75 1548.85 L1663.75 1544.91 Q1666.42 1542.16 1671 1537.53 Q1675.61 1532.88 1676.79 1531.53 Q1679.03 1529.01 1679.91 1527.27 Q1680.81 1525.51 1680.81 1523.82 Q1680.81 1521.07 1678.87 1519.33 Q1676.95 1517.6 1673.85 1517.6 Q1671.65 1517.6 1669.19 1518.36 Q1666.76 1519.13 1663.99 1520.68 L1663.99 1515.95 Q1666.81 1514.82 1669.26 1514.24 Q1671.72 1513.66 1673.75 1513.66 Q1679.12 1513.66 1682.32 1516.35 Q1685.51 1519.03 1685.51 1523.52 Q1685.51 1525.65 1684.7 1527.57 Q1683.92 1529.47 1681.81 1532.07 Q1681.23 1532.74 1678.13 1535.95 Q1675.03 1539.15 1669.38 1544.91 Z\" fill=\"#000000\" fill-rule=\"nonzero\" fill-opacity=\"1\" /><path clip-path=\"url(#clip720)\" d=\"M1695.51 1542.97 L1700.4 1542.97 L1700.4 1548.85 L1695.51 1548.85 L1695.51 1542.97 Z\" fill=\"#000000\" fill-rule=\"nonzero\" fill-opacity=\"1\" /><path clip-path=\"url(#clip720)\" d=\"M1710.63 1514.29 L1728.98 1514.29 L1728.98 1518.22 L1714.91 1518.22 L1714.91 1526.7 Q1715.93 1526.35 1716.95 1526.19 Q1717.97 1526 1718.98 1526 Q1724.77 1526 1728.15 1529.17 Q1731.53 1532.34 1731.53 1537.76 Q1731.53 1543.34 1728.06 1546.44 Q1724.59 1549.52 1718.27 1549.52 Q1716.09 1549.52 1713.82 1549.15 Q1711.58 1548.78 1709.17 1548.04 L1709.17 1543.34 Q1711.25 1544.47 1713.48 1545.03 Q1715.7 1545.58 1718.17 1545.58 Q1722.18 1545.58 1724.52 1543.48 Q1726.86 1541.37 1726.86 1537.76 Q1726.86 1534.15 1724.52 1532.04 Q1722.18 1529.94 1718.17 1529.94 Q1716.3 1529.94 1714.42 1530.35 Q1712.57 1530.77 1710.63 1531.65 L1710.63 1514.29 Z\" fill=\"#000000\" fill-rule=\"nonzero\" fill-opacity=\"1\" /><path clip-path=\"url(#clip720)\" d=\"M2103.25 1530.21 Q2106.6 1530.93 2108.48 1533.2 Q2110.38 1535.47 2110.38 1538.8 Q2110.38 1543.92 2106.86 1546.72 Q2103.34 1549.52 2096.86 1549.52 Q2094.68 1549.52 2092.37 1549.08 Q2090.08 1548.66 2087.62 1547.81 L2087.62 1543.29 Q2089.57 1544.43 2091.88 1545.01 Q2094.2 1545.58 2096.72 1545.58 Q2101.12 1545.58 2103.41 1543.85 Q2105.72 1542.11 2105.72 1538.8 Q2105.72 1535.75 2103.57 1534.03 Q2101.44 1532.3 2097.62 1532.3 L2093.59 1532.3 L2093.59 1528.45 L2097.81 1528.45 Q2101.26 1528.45 2103.08 1527.09 Q2104.91 1525.7 2104.91 1523.11 Q2104.91 1520.45 2103.02 1519.03 Q2101.14 1517.6 2097.62 1517.6 Q2095.7 1517.6 2093.5 1518.01 Q2091.3 1518.43 2088.66 1519.31 L2088.66 1515.14 Q2091.33 1514.4 2093.64 1514.03 Q2095.98 1513.66 2098.04 1513.66 Q2103.36 1513.66 2106.46 1516.09 Q2109.57 1518.5 2109.57 1522.62 Q2109.57 1525.49 2107.92 1527.48 Q2106.28 1529.45 2103.25 1530.21 Z\" fill=\"#000000\" fill-rule=\"nonzero\" fill-opacity=\"1\" /><path clip-path=\"url(#clip720)\" d=\"M2119.24 1542.97 L2124.13 1542.97 L2124.13 1548.85 L2119.24 1548.85 L2119.24 1542.97 Z\" fill=\"#000000\" fill-rule=\"nonzero\" fill-opacity=\"1\" /><path clip-path=\"url(#clip720)\" d=\"M2144.31 1517.37 Q2140.7 1517.37 2138.87 1520.93 Q2137.07 1524.47 2137.07 1531.6 Q2137.07 1538.71 2138.87 1542.27 Q2140.7 1545.82 2144.31 1545.82 Q2147.95 1545.82 2149.75 1542.27 Q2151.58 1538.71 2151.58 1531.6 Q2151.58 1524.47 2149.75 1520.93 Q2147.95 1517.37 2144.31 1517.37 M2144.31 1513.66 Q2150.12 1513.66 2153.18 1518.27 Q2156.26 1522.85 2156.26 1531.6 Q2156.26 1540.33 2153.18 1544.94 Q2150.12 1549.52 2144.31 1549.52 Q2138.5 1549.52 2135.42 1544.94 Q2132.37 1540.33 2132.37 1531.6 Q2132.37 1522.85 2135.42 1518.27 Q2138.5 1513.66 2144.31 1513.66 Z\" fill=\"#000000\" fill-rule=\"nonzero\" fill-opacity=\"1\" /><polyline clip-path=\"url(#clip722)\" style=\"stroke:#000000; stroke-linecap:round; stroke-linejoin:round; stroke-width:2; stroke-opacity:0.1; fill:none\" points=\"193.936,1332.57 2352.76,1332.57 \"/>\n",
       "<polyline clip-path=\"url(#clip722)\" style=\"stroke:#000000; stroke-linecap:round; stroke-linejoin:round; stroke-width:2; stroke-opacity:0.1; fill:none\" points=\"193.936,1049.71 2352.76,1049.71 \"/>\n",
       "<polyline clip-path=\"url(#clip722)\" style=\"stroke:#000000; stroke-linecap:round; stroke-linejoin:round; stroke-width:2; stroke-opacity:0.1; fill:none\" points=\"193.936,766.846 2352.76,766.846 \"/>\n",
       "<polyline clip-path=\"url(#clip722)\" style=\"stroke:#000000; stroke-linecap:round; stroke-linejoin:round; stroke-width:2; stroke-opacity:0.1; fill:none\" points=\"193.936,483.984 2352.76,483.984 \"/>\n",
       "<polyline clip-path=\"url(#clip722)\" style=\"stroke:#000000; stroke-linecap:round; stroke-linejoin:round; stroke-width:2; stroke-opacity:0.1; fill:none\" points=\"193.936,201.121 2352.76,201.121 \"/>\n",
       "<polyline clip-path=\"url(#clip720)\" style=\"stroke:#000000; stroke-linecap:round; stroke-linejoin:round; stroke-width:4; stroke-opacity:1; fill:none\" points=\"193.936,1486.45 193.936,47.2441 \"/>\n",
       "<polyline clip-path=\"url(#clip720)\" style=\"stroke:#000000; stroke-linecap:round; stroke-linejoin:round; stroke-width:4; stroke-opacity:1; fill:none\" points=\"193.936,1332.57 212.834,1332.57 \"/>\n",
       "<polyline clip-path=\"url(#clip720)\" style=\"stroke:#000000; stroke-linecap:round; stroke-linejoin:round; stroke-width:4; stroke-opacity:1; fill:none\" points=\"193.936,1049.71 212.834,1049.71 \"/>\n",
       "<polyline clip-path=\"url(#clip720)\" style=\"stroke:#000000; stroke-linecap:round; stroke-linejoin:round; stroke-width:4; stroke-opacity:1; fill:none\" points=\"193.936,766.846 212.834,766.846 \"/>\n",
       "<polyline clip-path=\"url(#clip720)\" style=\"stroke:#000000; stroke-linecap:round; stroke-linejoin:round; stroke-width:4; stroke-opacity:1; fill:none\" points=\"193.936,483.984 212.834,483.984 \"/>\n",
       "<polyline clip-path=\"url(#clip720)\" style=\"stroke:#000000; stroke-linecap:round; stroke-linejoin:round; stroke-width:4; stroke-opacity:1; fill:none\" points=\"193.936,201.121 212.834,201.121 \"/>\n",
       "<path clip-path=\"url(#clip720)\" d=\"M50.9921 1333.02 L80.6679 1333.02 L80.6679 1336.96 L50.9921 1336.96 L50.9921 1333.02 Z\" fill=\"#000000\" fill-rule=\"nonzero\" fill-opacity=\"1\" /><path clip-path=\"url(#clip720)\" d=\"M91.5706 1345.92 L99.2095 1345.92 L99.2095 1319.55 L90.8993 1321.22 L90.8993 1316.96 L99.1632 1315.29 L103.839 1315.29 L103.839 1345.92 L111.478 1345.92 L111.478 1349.85 L91.5706 1349.85 L91.5706 1345.92 Z\" fill=\"#000000\" fill-rule=\"nonzero\" fill-opacity=\"1\" /><path clip-path=\"url(#clip720)\" d=\"M120.922 1343.97 L125.807 1343.97 L125.807 1349.85 L120.922 1349.85 L120.922 1343.97 Z\" fill=\"#000000\" fill-rule=\"nonzero\" fill-opacity=\"1\" /><path clip-path=\"url(#clip720)\" d=\"M145.992 1318.37 Q142.381 1318.37 140.552 1321.93 Q138.746 1325.48 138.746 1332.61 Q138.746 1339.71 140.552 1343.28 Q142.381 1346.82 145.992 1346.82 Q149.626 1346.82 151.431 1343.28 Q153.26 1339.71 153.26 1332.61 Q153.26 1325.48 151.431 1321.93 Q149.626 1318.37 145.992 1318.37 M145.992 1314.67 Q151.802 1314.67 154.857 1319.27 Q157.936 1323.86 157.936 1332.61 Q157.936 1341.33 154.857 1345.94 Q151.802 1350.52 145.992 1350.52 Q140.181 1350.52 137.103 1345.94 Q134.047 1341.33 134.047 1332.61 Q134.047 1323.86 137.103 1319.27 Q140.181 1314.67 145.992 1314.67 Z\" fill=\"#000000\" fill-rule=\"nonzero\" fill-opacity=\"1\" /><path clip-path=\"url(#clip720)\" d=\"M51.9875 1050.16 L81.6633 1050.16 L81.6633 1054.09 L51.9875 1054.09 L51.9875 1050.16 Z\" fill=\"#000000\" fill-rule=\"nonzero\" fill-opacity=\"1\" /><path clip-path=\"url(#clip720)\" d=\"M101.756 1035.51 Q98.1447 1035.51 96.316 1039.07 Q94.5104 1042.61 94.5104 1049.74 Q94.5104 1056.85 96.316 1060.41 Q98.1447 1063.96 101.756 1063.96 Q105.39 1063.96 107.196 1060.41 Q109.024 1056.85 109.024 1049.74 Q109.024 1042.61 107.196 1039.07 Q105.39 1035.51 101.756 1035.51 M101.756 1031.8 Q107.566 1031.8 110.621 1036.41 Q113.7 1040.99 113.7 1049.74 Q113.7 1058.47 110.621 1063.08 Q107.566 1067.66 101.756 1067.66 Q95.9456 1067.66 92.8669 1063.08 Q89.8114 1058.47 89.8114 1049.74 Q89.8114 1040.99 92.8669 1036.41 Q95.9456 1031.8 101.756 1031.8 Z\" fill=\"#000000\" fill-rule=\"nonzero\" fill-opacity=\"1\" /><path clip-path=\"url(#clip720)\" d=\"M121.918 1061.11 L126.802 1061.11 L126.802 1066.99 L121.918 1066.99 L121.918 1061.11 Z\" fill=\"#000000\" fill-rule=\"nonzero\" fill-opacity=\"1\" /><path clip-path=\"url(#clip720)\" d=\"M137.033 1032.43 L155.39 1032.43 L155.39 1036.36 L141.316 1036.36 L141.316 1044.84 Q142.334 1044.49 143.353 1044.33 Q144.371 1044.14 145.39 1044.14 Q151.177 1044.14 154.556 1047.31 Q157.936 1050.48 157.936 1055.9 Q157.936 1061.48 154.464 1064.58 Q150.992 1067.66 144.672 1067.66 Q142.496 1067.66 140.228 1067.29 Q137.982 1066.92 135.575 1066.18 L135.575 1061.48 Q137.658 1062.61 139.881 1063.17 Q142.103 1063.72 144.58 1063.72 Q148.584 1063.72 150.922 1061.62 Q153.26 1059.51 153.26 1055.9 Q153.26 1052.29 150.922 1050.18 Q148.584 1048.08 144.58 1048.08 Q142.705 1048.08 140.83 1048.49 Q138.978 1048.91 137.033 1049.79 L137.033 1032.43 Z\" fill=\"#000000\" fill-rule=\"nonzero\" fill-opacity=\"1\" /><path clip-path=\"url(#clip720)\" d=\"M100.76 752.645 Q97.1493 752.645 95.3206 756.209 Q93.515 759.751 93.515 766.881 Q93.515 773.987 95.3206 777.552 Q97.1493 781.094 100.76 781.094 Q104.395 781.094 106.2 777.552 Q108.029 773.987 108.029 766.881 Q108.029 759.751 106.2 756.209 Q104.395 752.645 100.76 752.645 M100.76 748.941 Q106.571 748.941 109.626 753.547 Q112.705 758.131 112.705 766.881 Q112.705 775.608 109.626 780.214 Q106.571 784.797 100.76 784.797 Q94.9502 784.797 91.8715 780.214 Q88.816 775.608 88.816 766.881 Q88.816 758.131 91.8715 753.547 Q94.9502 748.941 100.76 748.941 Z\" fill=\"#000000\" fill-rule=\"nonzero\" fill-opacity=\"1\" /><path clip-path=\"url(#clip720)\" d=\"M120.922 778.246 L125.807 778.246 L125.807 784.126 L120.922 784.126 L120.922 778.246 Z\" fill=\"#000000\" fill-rule=\"nonzero\" fill-opacity=\"1\" /><path clip-path=\"url(#clip720)\" d=\"M145.992 752.645 Q142.381 752.645 140.552 756.209 Q138.746 759.751 138.746 766.881 Q138.746 773.987 140.552 777.552 Q142.381 781.094 145.992 781.094 Q149.626 781.094 151.431 777.552 Q153.26 773.987 153.26 766.881 Q153.26 759.751 151.431 756.209 Q149.626 752.645 145.992 752.645 M145.992 748.941 Q151.802 748.941 154.857 753.547 Q157.936 758.131 157.936 766.881 Q157.936 775.608 154.857 780.214 Q151.802 784.797 145.992 784.797 Q140.181 784.797 137.103 780.214 Q134.047 775.608 134.047 766.881 Q134.047 758.131 137.103 753.547 Q140.181 748.941 145.992 748.941 Z\" fill=\"#000000\" fill-rule=\"nonzero\" fill-opacity=\"1\" /><path clip-path=\"url(#clip720)\" d=\"M101.756 469.782 Q98.1447 469.782 96.316 473.347 Q94.5104 476.889 94.5104 484.018 Q94.5104 491.125 96.316 494.69 Q98.1447 498.231 101.756 498.231 Q105.39 498.231 107.196 494.69 Q109.024 491.125 109.024 484.018 Q109.024 476.889 107.196 473.347 Q105.39 469.782 101.756 469.782 M101.756 466.079 Q107.566 466.079 110.621 470.685 Q113.7 475.268 113.7 484.018 Q113.7 492.745 110.621 497.352 Q107.566 501.935 101.756 501.935 Q95.9456 501.935 92.8669 497.352 Q89.8114 492.745 89.8114 484.018 Q89.8114 475.268 92.8669 470.685 Q95.9456 466.079 101.756 466.079 Z\" fill=\"#000000\" fill-rule=\"nonzero\" fill-opacity=\"1\" /><path clip-path=\"url(#clip720)\" d=\"M121.918 495.384 L126.802 495.384 L126.802 501.264 L121.918 501.264 L121.918 495.384 Z\" fill=\"#000000\" fill-rule=\"nonzero\" fill-opacity=\"1\" /><path clip-path=\"url(#clip720)\" d=\"M137.033 466.704 L155.39 466.704 L155.39 470.639 L141.316 470.639 L141.316 479.111 Q142.334 478.764 143.353 478.602 Q144.371 478.417 145.39 478.417 Q151.177 478.417 154.556 481.588 Q157.936 484.759 157.936 490.176 Q157.936 495.754 154.464 498.856 Q150.992 501.935 144.672 501.935 Q142.496 501.935 140.228 501.565 Q137.982 501.194 135.575 500.453 L135.575 495.754 Q137.658 496.889 139.881 497.444 Q142.103 498 144.58 498 Q148.584 498 150.922 495.893 Q153.26 493.787 153.26 490.176 Q153.26 486.565 150.922 484.458 Q148.584 482.352 144.58 482.352 Q142.705 482.352 140.83 482.768 Q138.978 483.185 137.033 484.065 L137.033 466.704 Z\" fill=\"#000000\" fill-rule=\"nonzero\" fill-opacity=\"1\" /><path clip-path=\"url(#clip720)\" d=\"M91.5706 214.466 L99.2095 214.466 L99.2095 188.1 L90.8993 189.767 L90.8993 185.508 L99.1632 183.841 L103.839 183.841 L103.839 214.466 L111.478 214.466 L111.478 218.401 L91.5706 218.401 L91.5706 214.466 Z\" fill=\"#000000\" fill-rule=\"nonzero\" fill-opacity=\"1\" /><path clip-path=\"url(#clip720)\" d=\"M120.922 212.522 L125.807 212.522 L125.807 218.401 L120.922 218.401 L120.922 212.522 Z\" fill=\"#000000\" fill-rule=\"nonzero\" fill-opacity=\"1\" /><path clip-path=\"url(#clip720)\" d=\"M145.992 186.92 Q142.381 186.92 140.552 190.485 Q138.746 194.026 138.746 201.156 Q138.746 208.262 140.552 211.827 Q142.381 215.369 145.992 215.369 Q149.626 215.369 151.431 211.827 Q153.26 208.262 153.26 201.156 Q153.26 194.026 151.431 190.485 Q149.626 186.92 145.992 186.92 M145.992 183.216 Q151.802 183.216 154.857 187.823 Q157.936 192.406 157.936 201.156 Q157.936 209.883 154.857 214.489 Q151.802 219.073 145.992 219.073 Q140.181 219.073 137.103 214.489 Q134.047 209.883 134.047 201.156 Q134.047 192.406 137.103 187.823 Q140.181 183.216 145.992 183.216 Z\" fill=\"#000000\" fill-rule=\"nonzero\" fill-opacity=\"1\" /><path clip-path=\"url(#clip722)\" d=\"M2291.66 87.9763 L255.035 87.9763 L255.035 1445.72 L2291.66 1445.72 L2291.66 87.9763 L2291.66 87.9763  Z\" fill=\"#009af9\" fill-rule=\"evenodd\" fill-opacity=\"0.5\"/>\n",
       "<polyline clip-path=\"url(#clip722)\" style=\"stroke:#000000; stroke-linecap:round; stroke-linejoin:round; stroke-width:4; stroke-opacity:0.5; fill:none\" points=\"2291.66,87.9763 255.035,87.9763 255.035,1445.72 2291.66,1445.72 2291.66,87.9763 \"/>\n",
       "<path clip-path=\"url(#clip720)\" d=\"M265.897 198.898 L713.305 198.898 L713.305 95.2176 L265.897 95.2176  Z\" fill=\"#ffffff\" fill-rule=\"evenodd\" fill-opacity=\"1\"/>\n",
       "<polyline clip-path=\"url(#clip720)\" style=\"stroke:#000000; stroke-linecap:round; stroke-linejoin:round; stroke-width:4; stroke-opacity:1; fill:none\" points=\"265.897,198.898 713.305,198.898 713.305,95.2176 265.897,95.2176 265.897,198.898 \"/>\n",
       "<path clip-path=\"url(#clip720)\" d=\"M289.884 167.794 L433.805 167.794 L433.805 126.322 L289.884 126.322 L289.884 167.794  Z\" fill=\"#009af9\" fill-rule=\"evenodd\" fill-opacity=\"0.5\"/>\n",
       "<polyline clip-path=\"url(#clip720)\" style=\"stroke:#000000; stroke-linecap:round; stroke-linejoin:round; stroke-width:4; stroke-opacity:1; fill:none\" points=\"289.884,167.794 433.805,167.794 433.805,126.322 289.884,126.322 289.884,167.794 \"/>\n",
       "<path clip-path=\"url(#clip720)\" d=\"M462.468 147.833 L462.468 160.495 L469.968 160.495 Q473.741 160.495 475.546 158.944 Q477.375 157.37 477.375 154.152 Q477.375 150.912 475.546 149.384 Q473.741 147.833 469.968 147.833 L462.468 147.833 M462.468 133.62 L462.468 144.037 L469.389 144.037 Q472.815 144.037 474.481 142.764 Q476.171 141.467 476.171 138.828 Q476.171 136.213 474.481 134.916 Q472.815 133.62 469.389 133.62 L462.468 133.62 M457.792 129.778 L469.736 129.778 Q475.083 129.778 477.977 132 Q480.87 134.222 480.87 138.319 Q480.87 141.49 479.389 143.365 Q477.907 145.24 475.037 145.703 Q478.486 146.444 480.384 148.805 Q482.306 151.143 482.306 154.662 Q482.306 159.291 479.157 161.814 Q476.009 164.338 470.199 164.338 L457.792 164.338 L457.792 129.778 Z\" fill=\"#000000\" fill-rule=\"nonzero\" fill-opacity=\"1\" /><path clip-path=\"url(#clip720)\" d=\"M500.176 141.398 Q496.75 141.398 494.759 144.083 Q492.768 146.745 492.768 151.398 Q492.768 156.051 494.736 158.736 Q496.727 161.398 500.176 161.398 Q503.579 161.398 505.569 158.713 Q507.56 156.027 507.56 151.398 Q507.56 146.791 505.569 144.106 Q503.579 141.398 500.176 141.398 M500.176 137.787 Q505.731 137.787 508.903 141.398 Q512.074 145.009 512.074 151.398 Q512.074 157.764 508.903 161.398 Q505.731 165.009 500.176 165.009 Q494.597 165.009 491.426 161.398 Q488.278 157.764 488.278 151.398 Q488.278 145.009 491.426 141.398 Q494.597 137.787 500.176 137.787 Z\" fill=\"#000000\" fill-rule=\"nonzero\" fill-opacity=\"1\" /><path clip-path=\"url(#clip720)\" d=\"M539.227 138.412 L529.852 151.027 L539.713 164.338 L534.69 164.338 L527.143 154.152 L519.597 164.338 L514.574 164.338 L524.643 150.773 L515.43 138.412 L520.453 138.412 L527.328 147.648 L534.203 138.412 L539.227 138.412 Z\" fill=\"#000000\" fill-rule=\"nonzero\" fill-opacity=\"1\" /><path clip-path=\"url(#clip720)\" d=\"M575.824 142.393 Q575.106 141.977 574.249 141.791 Q573.416 141.583 572.398 141.583 Q568.787 141.583 566.842 143.944 Q564.921 146.282 564.921 150.68 L564.921 164.338 L560.638 164.338 L560.638 138.412 L564.921 138.412 L564.921 142.44 Q566.263 140.078 568.416 138.944 Q570.569 137.787 573.648 137.787 Q574.087 137.787 574.62 137.856 Q575.152 137.903 575.8 138.018 L575.824 142.393 Z\" fill=\"#000000\" fill-rule=\"nonzero\" fill-opacity=\"1\" /><path clip-path=\"url(#clip720)\" d=\"M601.425 150.31 L601.425 152.393 L581.842 152.393 Q582.12 156.791 584.481 159.106 Q586.865 161.398 591.101 161.398 Q593.555 161.398 595.847 160.796 Q598.161 160.194 600.43 158.99 L600.43 163.018 Q598.138 163.99 595.731 164.5 Q593.323 165.009 590.847 165.009 Q584.643 165.009 581.009 161.398 Q577.398 157.787 577.398 151.629 Q577.398 145.264 580.824 141.537 Q584.273 137.787 590.106 137.787 Q595.337 137.787 598.37 141.166 Q601.425 144.523 601.425 150.31 M597.166 149.06 Q597.12 145.565 595.198 143.481 Q593.3 141.398 590.152 141.398 Q586.587 141.398 584.435 143.412 Q582.305 145.426 581.981 149.083 L597.166 149.06 Z\" fill=\"#000000\" fill-rule=\"nonzero\" fill-opacity=\"1\" /><path clip-path=\"url(#clip720)\" d=\"M624.944 139.176 L624.944 143.203 Q623.138 142.277 621.194 141.815 Q619.249 141.352 617.166 141.352 Q613.995 141.352 612.397 142.324 Q610.823 143.296 610.823 145.24 Q610.823 146.722 611.958 147.578 Q613.092 148.412 616.518 149.176 L617.976 149.5 Q622.513 150.472 624.411 152.254 Q626.333 154.014 626.333 157.185 Q626.333 160.796 623.462 162.902 Q620.615 165.009 615.615 165.009 Q613.532 165.009 611.263 164.592 Q609.018 164.199 606.518 163.388 L606.518 158.99 Q608.879 160.217 611.171 160.842 Q613.462 161.444 615.708 161.444 Q618.717 161.444 620.337 160.426 Q621.958 159.384 621.958 157.509 Q621.958 155.773 620.777 154.847 Q619.62 153.921 615.661 153.064 L614.18 152.717 Q610.222 151.884 608.462 150.171 Q606.703 148.435 606.703 145.426 Q606.703 141.768 609.296 139.778 Q611.888 137.787 616.657 137.787 Q619.018 137.787 621.101 138.134 Q623.184 138.481 624.944 139.176 Z\" fill=\"#000000\" fill-rule=\"nonzero\" fill-opacity=\"1\" /><path clip-path=\"url(#clip720)\" d=\"M632.675 154.106 L632.675 138.412 L636.934 138.412 L636.934 153.944 Q636.934 157.625 638.37 159.476 Q639.805 161.305 642.675 161.305 Q646.124 161.305 648.115 159.106 Q650.129 156.907 650.129 153.111 L650.129 138.412 L654.388 138.412 L654.388 164.338 L650.129 164.338 L650.129 160.356 Q648.578 162.717 646.518 163.875 Q644.481 165.009 641.772 165.009 Q637.305 165.009 634.99 162.231 Q632.675 159.453 632.675 154.106 M643.393 137.787 L643.393 137.787 Z\" fill=\"#000000\" fill-rule=\"nonzero\" fill-opacity=\"1\" /><path clip-path=\"url(#clip720)\" d=\"M663.161 128.319 L667.42 128.319 L667.42 164.338 L663.161 164.338 L663.161 128.319 Z\" fill=\"#000000\" fill-rule=\"nonzero\" fill-opacity=\"1\" /><path clip-path=\"url(#clip720)\" d=\"M680.545 131.051 L680.545 138.412 L689.318 138.412 L689.318 141.722 L680.545 141.722 L680.545 155.796 Q680.545 158.967 681.402 159.87 Q682.281 160.773 684.943 160.773 L689.318 160.773 L689.318 164.338 L684.943 164.338 Q680.013 164.338 678.138 162.509 Q676.263 160.657 676.263 155.796 L676.263 141.722 L673.138 141.722 L673.138 138.412 L676.263 138.412 L676.263 131.051 L680.545 131.051 Z\" fill=\"#000000\" fill-rule=\"nonzero\" fill-opacity=\"1\" /></svg>\n"
      ]
     },
     "execution_count": 23,
     "metadata": {},
     "output_type": "execute_result"
    }
   ],
   "source": [
    "plot(interval_result[length(net.layers)+1], label = \"Box result\", legend = true)"
   ]
  },
  {
   "cell_type": "markdown",
   "id": "380a6fcc",
   "metadata": {},
   "source": [
    "## Now encode and test a simple zonotopic abstraction in a similar way\n",
    "You are welcome here to use [Zonotopes](https://juliareach.github.io/LazySets.jl/dev/lib/sets/Zonotope/) from the [LazySets Library](https://juliareach.github.io/LazySets.jl/dev/) and existing operations such as the affine_map function. You will still need to encode the action of the activation functions (focus on Identity and ReLU). For ReLU, please implement the transformer which is minimeal in term of area in the input-output plane (see lecture).\n",
    "\n",
    "Note that writing 'A * x + b' where x is a zonotope, A a weights matrix and b a vector instead of using affine_map,  creates an AffineMap object using the [Lazy paradigm](https://juliareach.github.io/LazySets.jl/dev/man/tour/#The-Lazy-paradigm). This new object wraps the computation of the affine map until it is actually needed. In order to get a set which contains the result of operations on Lazy sets such as Zonotopes, you would need to call the [concretize](https://juliareach.github.io/LazySets.jl/dev/lib/interfaces/#LazySets.concretize-Tuple{LazySet}) function on this object.) "
   ]
  },
  {
   "cell_type": "code",
   "execution_count": 24,
   "id": "6e58aa93",
   "metadata": {},
   "outputs": [
    {
     "data": {
      "text/plain": [
       "zono_approximate_act_map (generic function with 1 method)"
      ]
     },
     "execution_count": 24,
     "metadata": {},
     "output_type": "execute_result"
    }
   ],
   "source": [
    "function zono_approximate_act_map(act::ActivationFunction, input::Zonotope)\n",
    "    if (act == Id())\n",
    "        return input\n",
    "    elseif (act == ReLU())\n",
    "        if (all(>=(0),low(input))) # if all components of the zonotope are greater than zero\n",
    "            return input\n",
    "        else\n",
    "            lambda = high(input)./(high(input)-low(input))\n",
    "            center_Z = lambda .* LazySets.center(input) - lambda .* low(input)/2.0\n",
    "            gen_Z = lambda .* genmat(input)\n",
    "            Z = Zonotope(center_Z,gen_Z)\n",
    "            dim_X = length(lambda)\n",
    "            new_gen = Zonotope(zeros(dim_X), diagm(lambda.*low(input)/2.0))\n",
    "            return minkowski_sum(Z,new_gen)\n",
    "        end\n",
    "    else \n",
    "        print(\"warning, \",act,\" not yet implemented\")\n",
    "        return input\n",
    "    end\n",
    "end"
   ]
  },
  {
   "cell_type": "code",
   "execution_count": 25,
   "id": "2ea07c5f",
   "metadata": {},
   "outputs": [
    {
     "data": {
      "text/plain": [
       "zono_approximate_affine_map (generic function with 1 method)"
      ]
     },
     "execution_count": 25,
     "metadata": {},
     "output_type": "execute_result"
    }
   ],
   "source": [
    "function zono_approximate_affine_map(layer::Layer, input::Zonotope)\n",
    "    return affine_map(layer.weights, input,layer.bias)\n",
    "    #return concretize(layer.weights * input +layer.bias)\n",
    "end"
   ]
  },
  {
   "cell_type": "code",
   "execution_count": 26,
   "id": "fcfe58d5",
   "metadata": {},
   "outputs": [
    {
     "data": {
      "text/plain": [
       "zono_approximate_nnet (generic function with 1 method)"
      ]
     },
     "execution_count": 26,
     "metadata": {},
     "output_type": "execute_result"
    }
   ],
   "source": [
    "function zono_approximate_nnet(nnet::Network, input::Hyperrectangle)\n",
    "    bounds = Vector{Zonotope}(undef, length(nnet.layers) + 1)\n",
    "    bounds[1] = input\n",
    "    for i in 1:length(nnet.layers)\n",
    "        temp = zono_approximate_affine_map(nnet.layers[i],bounds[i])\n",
    "        print(\"temp affine_map = \",temp)\n",
    "        bounds[i+1] = zono_approximate_act_map(nnet.layers[i].activation,temp)\n",
    "    end\n",
    "\n",
    "    return bounds\n",
    "end"
   ]
  },
  {
   "cell_type": "code",
   "execution_count": 27,
   "id": "0f9500ab",
   "metadata": {},
   "outputs": [
    {
     "name": "stdout",
     "output_type": "stream",
     "text": [
      "temp affine_map = Zonotope{Float64, Vector{Float64}, Matrix{Float64}}([1.0, 1.0], [0.30000000000000004 0.3; 0.30000000000000004 -0.3])temp affine_map = Zonotope{Float64, Vector{Float64}, Matrix{Float64}}([2.0, 0.0], [0.6000000000000001 0.0; 0.0 0.6])"
     ]
    },
    {
     "data": {
      "text/plain": [
       "3-element Vector{Zonotope}:\n",
       " Zonotope{Float64, Vector{Float64}, Matrix{Float64}}([1.0, 0.0], [0.30000000000000004 0.0; 0.0 0.3])\n",
       " Zonotope{Float64, Vector{Float64}, Matrix{Float64}}([1.0, 1.0], [0.30000000000000004 0.3; 0.30000000000000004 -0.3])\n",
       " Zonotope{Float64, Vector{Float64}, Matrix{Float64}}([2.0, 0.0], [0.6000000000000001 0.0; 0.0 0.6])"
      ]
     },
     "execution_count": 27,
     "metadata": {},
     "output_type": "execute_result"
    }
   ],
   "source": [
    "zono_result = zono_approximate_nnet(net, X)"
   ]
  },
  {
   "cell_type": "code",
   "execution_count": 28,
   "id": "50a72a55",
   "metadata": {},
   "outputs": [
    {
     "data": {
      "image/svg+xml": [
       "<?xml version=\"1.0\" encoding=\"utf-8\"?>\n",
       "<svg xmlns=\"http://www.w3.org/2000/svg\" xmlns:xlink=\"http://www.w3.org/1999/xlink\" width=\"600\" height=\"400\" viewBox=\"0 0 2400 1600\">\n",
       "<defs>\n",
       "  <clipPath id=\"clip760\">\n",
       "    <rect x=\"0\" y=\"0\" width=\"2400\" height=\"1600\"/>\n",
       "  </clipPath>\n",
       "</defs>\n",
       "<path clip-path=\"url(#clip760)\" d=\"M0 1600 L2400 1600 L2400 0 L0 0  Z\" fill=\"#ffffff\" fill-rule=\"evenodd\" fill-opacity=\"1\"/>\n",
       "<defs>\n",
       "  <clipPath id=\"clip761\">\n",
       "    <rect x=\"480\" y=\"0\" width=\"1681\" height=\"1600\"/>\n",
       "  </clipPath>\n",
       "</defs>\n",
       "<path clip-path=\"url(#clip760)\" d=\"M193.936 1486.45 L2352.76 1486.45 L2352.76 47.2441 L193.936 47.2441  Z\" fill=\"#ffffff\" fill-rule=\"evenodd\" fill-opacity=\"1\"/>\n",
       "<defs>\n",
       "  <clipPath id=\"clip762\">\n",
       "    <rect x=\"193\" y=\"47\" width=\"2160\" height=\"1440\"/>\n",
       "  </clipPath>\n",
       "</defs>\n",
       "<polyline clip-path=\"url(#clip762)\" style=\"stroke:#000000; stroke-linecap:round; stroke-linejoin:round; stroke-width:2; stroke-opacity:0.1; fill:none\" points=\"327.771,1486.45 327.771,47.2441 \"/>\n",
       "<polyline clip-path=\"url(#clip762)\" style=\"stroke:#000000; stroke-linecap:round; stroke-linejoin:round; stroke-width:2; stroke-opacity:0.1; fill:none\" points=\"691.454,1486.45 691.454,47.2441 \"/>\n",
       "<polyline clip-path=\"url(#clip762)\" style=\"stroke:#000000; stroke-linecap:round; stroke-linejoin:round; stroke-width:2; stroke-opacity:0.1; fill:none\" points=\"1055.14,1486.45 1055.14,47.2441 \"/>\n",
       "<polyline clip-path=\"url(#clip762)\" style=\"stroke:#000000; stroke-linecap:round; stroke-linejoin:round; stroke-width:2; stroke-opacity:0.1; fill:none\" points=\"1418.82,1486.45 1418.82,47.2441 \"/>\n",
       "<polyline clip-path=\"url(#clip762)\" style=\"stroke:#000000; stroke-linecap:round; stroke-linejoin:round; stroke-width:2; stroke-opacity:0.1; fill:none\" points=\"1782.5,1486.45 1782.5,47.2441 \"/>\n",
       "<polyline clip-path=\"url(#clip762)\" style=\"stroke:#000000; stroke-linecap:round; stroke-linejoin:round; stroke-width:2; stroke-opacity:0.1; fill:none\" points=\"2146.18,1486.45 2146.18,47.2441 \"/>\n",
       "<polyline clip-path=\"url(#clip760)\" style=\"stroke:#000000; stroke-linecap:round; stroke-linejoin:round; stroke-width:4; stroke-opacity:1; fill:none\" points=\"193.936,1486.45 2352.76,1486.45 \"/>\n",
       "<polyline clip-path=\"url(#clip760)\" style=\"stroke:#000000; stroke-linecap:round; stroke-linejoin:round; stroke-width:4; stroke-opacity:1; fill:none\" points=\"327.771,1486.45 327.771,1467.55 \"/>\n",
       "<polyline clip-path=\"url(#clip760)\" style=\"stroke:#000000; stroke-linecap:round; stroke-linejoin:round; stroke-width:4; stroke-opacity:1; fill:none\" points=\"691.454,1486.45 691.454,1467.55 \"/>\n",
       "<polyline clip-path=\"url(#clip760)\" style=\"stroke:#000000; stroke-linecap:round; stroke-linejoin:round; stroke-width:4; stroke-opacity:1; fill:none\" points=\"1055.14,1486.45 1055.14,1467.55 \"/>\n",
       "<polyline clip-path=\"url(#clip760)\" style=\"stroke:#000000; stroke-linecap:round; stroke-linejoin:round; stroke-width:4; stroke-opacity:1; fill:none\" points=\"1418.82,1486.45 1418.82,1467.55 \"/>\n",
       "<polyline clip-path=\"url(#clip760)\" style=\"stroke:#000000; stroke-linecap:round; stroke-linejoin:round; stroke-width:4; stroke-opacity:1; fill:none\" points=\"1782.5,1486.45 1782.5,1467.55 \"/>\n",
       "<polyline clip-path=\"url(#clip760)\" style=\"stroke:#000000; stroke-linecap:round; stroke-linejoin:round; stroke-width:4; stroke-opacity:1; fill:none\" points=\"2146.18,1486.45 2146.18,1467.55 \"/>\n",
       "<path clip-path=\"url(#clip760)\" d=\"M305.653 1517.37 Q302.042 1517.37 300.213 1520.93 Q298.408 1524.47 298.408 1531.6 Q298.408 1538.71 300.213 1542.27 Q302.042 1545.82 305.653 1545.82 Q309.287 1545.82 311.093 1542.27 Q312.922 1538.71 312.922 1531.6 Q312.922 1524.47 311.093 1520.93 Q309.287 1517.37 305.653 1517.37 M305.653 1513.66 Q311.463 1513.66 314.519 1518.27 Q317.598 1522.85 317.598 1531.6 Q317.598 1540.33 314.519 1544.94 Q311.463 1549.52 305.653 1549.52 Q299.843 1549.52 296.764 1544.94 Q293.709 1540.33 293.709 1531.6 Q293.709 1522.85 296.764 1518.27 Q299.843 1513.66 305.653 1513.66 Z\" fill=\"#000000\" fill-rule=\"nonzero\" fill-opacity=\"1\" /><path clip-path=\"url(#clip760)\" d=\"M325.815 1542.97 L330.699 1542.97 L330.699 1548.85 L325.815 1548.85 L325.815 1542.97 Z\" fill=\"#000000\" fill-rule=\"nonzero\" fill-opacity=\"1\" /><path clip-path=\"url(#clip760)\" d=\"M340.931 1514.29 L359.287 1514.29 L359.287 1518.22 L345.213 1518.22 L345.213 1526.7 Q346.232 1526.35 347.25 1526.19 Q348.269 1526 349.287 1526 Q355.074 1526 358.454 1529.17 Q361.834 1532.34 361.834 1537.76 Q361.834 1543.34 358.361 1546.44 Q354.889 1549.52 348.57 1549.52 Q346.394 1549.52 344.125 1549.15 Q341.88 1548.78 339.473 1548.04 L339.473 1543.34 Q341.556 1544.47 343.778 1545.03 Q346 1545.58 348.477 1545.58 Q352.482 1545.58 354.82 1543.48 Q357.158 1541.37 357.158 1537.76 Q357.158 1534.15 354.82 1532.04 Q352.482 1529.94 348.477 1529.94 Q346.602 1529.94 344.727 1530.35 Q342.875 1530.77 340.931 1531.65 L340.931 1514.29 Z\" fill=\"#000000\" fill-rule=\"nonzero\" fill-opacity=\"1\" /><path clip-path=\"url(#clip760)\" d=\"M658.607 1544.91 L666.246 1544.91 L666.246 1518.55 L657.935 1520.21 L657.935 1515.95 L666.199 1514.29 L670.875 1514.29 L670.875 1544.91 L678.514 1544.91 L678.514 1548.85 L658.607 1548.85 L658.607 1544.91 Z\" fill=\"#000000\" fill-rule=\"nonzero\" fill-opacity=\"1\" /><path clip-path=\"url(#clip760)\" d=\"M687.958 1542.97 L692.843 1542.97 L692.843 1548.85 L687.958 1548.85 L687.958 1542.97 Z\" fill=\"#000000\" fill-rule=\"nonzero\" fill-opacity=\"1\" /><path clip-path=\"url(#clip760)\" d=\"M713.028 1517.37 Q709.417 1517.37 707.588 1520.93 Q705.782 1524.47 705.782 1531.6 Q705.782 1538.71 707.588 1542.27 Q709.417 1545.82 713.028 1545.82 Q716.662 1545.82 718.468 1542.27 Q720.296 1538.71 720.296 1531.6 Q720.296 1524.47 718.468 1520.93 Q716.662 1517.37 713.028 1517.37 M713.028 1513.66 Q718.838 1513.66 721.893 1518.27 Q724.972 1522.85 724.972 1531.6 Q724.972 1540.33 721.893 1544.94 Q718.838 1549.52 713.028 1549.52 Q707.218 1549.52 704.139 1544.94 Q701.083 1540.33 701.083 1531.6 Q701.083 1522.85 704.139 1518.27 Q707.218 1513.66 713.028 1513.66 Z\" fill=\"#000000\" fill-rule=\"nonzero\" fill-opacity=\"1\" /><path clip-path=\"url(#clip760)\" d=\"M1022.79 1544.91 L1030.43 1544.91 L1030.43 1518.55 L1022.12 1520.21 L1022.12 1515.95 L1030.38 1514.29 L1035.06 1514.29 L1035.06 1544.91 L1042.69 1544.91 L1042.69 1548.85 L1022.79 1548.85 L1022.79 1544.91 Z\" fill=\"#000000\" fill-rule=\"nonzero\" fill-opacity=\"1\" /><path clip-path=\"url(#clip760)\" d=\"M1052.14 1542.97 L1057.02 1542.97 L1057.02 1548.85 L1052.14 1548.85 L1052.14 1542.97 Z\" fill=\"#000000\" fill-rule=\"nonzero\" fill-opacity=\"1\" /><path clip-path=\"url(#clip760)\" d=\"M1067.25 1514.29 L1085.61 1514.29 L1085.61 1518.22 L1071.54 1518.22 L1071.54 1526.7 Q1072.56 1526.35 1073.57 1526.19 Q1074.59 1526 1075.61 1526 Q1081.4 1526 1084.78 1529.17 Q1088.16 1532.34 1088.16 1537.76 Q1088.16 1543.34 1084.68 1546.44 Q1081.21 1549.52 1074.89 1549.52 Q1072.72 1549.52 1070.45 1549.15 Q1068.2 1548.78 1065.8 1548.04 L1065.8 1543.34 Q1067.88 1544.47 1070.1 1545.03 Q1072.32 1545.58 1074.8 1545.58 Q1078.81 1545.58 1081.14 1543.48 Q1083.48 1541.37 1083.48 1537.76 Q1083.48 1534.15 1081.14 1532.04 Q1078.81 1529.94 1074.8 1529.94 Q1072.93 1529.94 1071.05 1530.35 Q1069.2 1530.77 1067.25 1531.65 L1067.25 1514.29 Z\" fill=\"#000000\" fill-rule=\"nonzero\" fill-opacity=\"1\" /><path clip-path=\"url(#clip760)\" d=\"M1390.06 1544.91 L1406.38 1544.91 L1406.38 1548.85 L1384.43 1548.85 L1384.43 1544.91 Q1387.09 1542.16 1391.68 1537.53 Q1396.28 1532.88 1397.46 1531.53 Q1399.71 1529.01 1400.59 1527.27 Q1401.49 1525.51 1401.49 1523.82 Q1401.49 1521.07 1399.55 1519.33 Q1397.63 1517.6 1394.53 1517.6 Q1392.33 1517.6 1389.87 1518.36 Q1387.44 1519.13 1384.66 1520.68 L1384.66 1515.95 Q1387.49 1514.82 1389.94 1514.24 Q1392.4 1513.66 1394.43 1513.66 Q1399.8 1513.66 1403 1516.35 Q1406.19 1519.03 1406.19 1523.52 Q1406.19 1525.65 1405.38 1527.57 Q1404.59 1529.47 1402.49 1532.07 Q1401.91 1532.74 1398.81 1535.95 Q1395.71 1539.15 1390.06 1544.91 Z\" fill=\"#000000\" fill-rule=\"nonzero\" fill-opacity=\"1\" /><path clip-path=\"url(#clip760)\" d=\"M1416.19 1542.97 L1421.08 1542.97 L1421.08 1548.85 L1416.19 1548.85 L1416.19 1542.97 Z\" fill=\"#000000\" fill-rule=\"nonzero\" fill-opacity=\"1\" /><path clip-path=\"url(#clip760)\" d=\"M1441.26 1517.37 Q1437.65 1517.37 1435.82 1520.93 Q1434.02 1524.47 1434.02 1531.6 Q1434.02 1538.71 1435.82 1542.27 Q1437.65 1545.82 1441.26 1545.82 Q1444.9 1545.82 1446.7 1542.27 Q1448.53 1538.71 1448.53 1531.6 Q1448.53 1524.47 1446.7 1520.93 Q1444.9 1517.37 1441.26 1517.37 M1441.26 1513.66 Q1447.07 1513.66 1450.13 1518.27 Q1453.21 1522.85 1453.21 1531.6 Q1453.21 1540.33 1450.13 1544.94 Q1447.07 1549.52 1441.26 1549.52 Q1435.45 1549.52 1432.37 1544.94 Q1429.32 1540.33 1429.32 1531.6 Q1429.32 1522.85 1432.37 1518.27 Q1435.45 1513.66 1441.26 1513.66 Z\" fill=\"#000000\" fill-rule=\"nonzero\" fill-opacity=\"1\" /><path clip-path=\"url(#clip760)\" d=\"M1754.24 1544.91 L1770.56 1544.91 L1770.56 1548.85 L1748.61 1548.85 L1748.61 1544.91 Q1751.27 1542.16 1755.86 1537.53 Q1760.46 1532.88 1761.65 1531.53 Q1763.89 1529.01 1764.77 1527.27 Q1765.67 1525.51 1765.67 1523.82 Q1765.67 1521.07 1763.73 1519.33 Q1761.81 1517.6 1758.71 1517.6 Q1756.51 1517.6 1754.05 1518.36 Q1751.62 1519.13 1748.84 1520.68 L1748.84 1515.95 Q1751.67 1514.82 1754.12 1514.24 Q1756.58 1513.66 1758.61 1513.66 Q1763.98 1513.66 1767.18 1516.35 Q1770.37 1519.03 1770.37 1523.52 Q1770.37 1525.65 1769.56 1527.57 Q1768.77 1529.47 1766.67 1532.07 Q1766.09 1532.74 1762.99 1535.95 Q1759.89 1539.15 1754.24 1544.91 Z\" fill=\"#000000\" fill-rule=\"nonzero\" fill-opacity=\"1\" /><path clip-path=\"url(#clip760)\" d=\"M1780.37 1542.97 L1785.26 1542.97 L1785.26 1548.85 L1780.37 1548.85 L1780.37 1542.97 Z\" fill=\"#000000\" fill-rule=\"nonzero\" fill-opacity=\"1\" /><path clip-path=\"url(#clip760)\" d=\"M1795.49 1514.29 L1813.84 1514.29 L1813.84 1518.22 L1799.77 1518.22 L1799.77 1526.7 Q1800.79 1526.35 1801.81 1526.19 Q1802.83 1526 1803.84 1526 Q1809.63 1526 1813.01 1529.17 Q1816.39 1532.34 1816.39 1537.76 Q1816.39 1543.34 1812.92 1546.44 Q1809.45 1549.52 1803.13 1549.52 Q1800.95 1549.52 1798.68 1549.15 Q1796.44 1548.78 1794.03 1548.04 L1794.03 1543.34 Q1796.11 1544.47 1798.33 1545.03 Q1800.56 1545.58 1803.03 1545.58 Q1807.04 1545.58 1809.38 1543.48 Q1811.71 1541.37 1811.71 1537.76 Q1811.71 1534.15 1809.38 1532.04 Q1807.04 1529.94 1803.03 1529.94 Q1801.16 1529.94 1799.28 1530.35 Q1797.43 1530.77 1795.49 1531.65 L1795.49 1514.29 Z\" fill=\"#000000\" fill-rule=\"nonzero\" fill-opacity=\"1\" /><path clip-path=\"url(#clip760)\" d=\"M2127.49 1530.21 Q2130.85 1530.93 2132.72 1533.2 Q2134.62 1535.47 2134.62 1538.8 Q2134.62 1543.92 2131.1 1546.72 Q2127.58 1549.52 2121.1 1549.52 Q2118.93 1549.52 2116.61 1549.08 Q2114.32 1548.66 2111.87 1547.81 L2111.87 1543.29 Q2113.81 1544.43 2116.13 1545.01 Q2118.44 1545.58 2120.96 1545.58 Q2125.36 1545.58 2127.65 1543.85 Q2129.97 1542.11 2129.97 1538.8 Q2129.97 1535.75 2127.82 1534.03 Q2125.69 1532.3 2121.87 1532.3 L2117.84 1532.3 L2117.84 1528.45 L2122.05 1528.45 Q2125.5 1528.45 2127.33 1527.09 Q2129.16 1525.7 2129.16 1523.11 Q2129.16 1520.45 2127.26 1519.03 Q2125.39 1517.6 2121.87 1517.6 Q2119.95 1517.6 2117.75 1518.01 Q2115.55 1518.43 2112.91 1519.31 L2112.91 1515.14 Q2115.57 1514.4 2117.89 1514.03 Q2120.22 1513.66 2122.28 1513.66 Q2127.61 1513.66 2130.71 1516.09 Q2133.81 1518.5 2133.81 1522.62 Q2133.81 1525.49 2132.17 1527.48 Q2130.52 1529.45 2127.49 1530.21 Z\" fill=\"#000000\" fill-rule=\"nonzero\" fill-opacity=\"1\" /><path clip-path=\"url(#clip760)\" d=\"M2143.49 1542.97 L2148.37 1542.97 L2148.37 1548.85 L2143.49 1548.85 L2143.49 1542.97 Z\" fill=\"#000000\" fill-rule=\"nonzero\" fill-opacity=\"1\" /><path clip-path=\"url(#clip760)\" d=\"M2168.56 1517.37 Q2164.95 1517.37 2163.12 1520.93 Q2161.31 1524.47 2161.31 1531.6 Q2161.31 1538.71 2163.12 1542.27 Q2164.95 1545.82 2168.56 1545.82 Q2172.19 1545.82 2174 1542.27 Q2175.83 1538.71 2175.83 1531.6 Q2175.83 1524.47 2174 1520.93 Q2172.19 1517.37 2168.56 1517.37 M2168.56 1513.66 Q2174.37 1513.66 2177.42 1518.27 Q2180.5 1522.85 2180.5 1531.6 Q2180.5 1540.33 2177.42 1544.94 Q2174.37 1549.52 2168.56 1549.52 Q2162.75 1549.52 2159.67 1544.94 Q2156.61 1540.33 2156.61 1531.6 Q2156.61 1522.85 2159.67 1518.27 Q2162.75 1513.66 2168.56 1513.66 Z\" fill=\"#000000\" fill-rule=\"nonzero\" fill-opacity=\"1\" /><polyline clip-path=\"url(#clip762)\" style=\"stroke:#000000; stroke-linecap:round; stroke-linejoin:round; stroke-width:2; stroke-opacity:0.1; fill:none\" points=\"193.936,1348.73 2352.76,1348.73 \"/>\n",
       "<polyline clip-path=\"url(#clip762)\" style=\"stroke:#000000; stroke-linecap:round; stroke-linejoin:round; stroke-width:2; stroke-opacity:0.1; fill:none\" points=\"193.936,1106.28 2352.76,1106.28 \"/>\n",
       "<polyline clip-path=\"url(#clip762)\" style=\"stroke:#000000; stroke-linecap:round; stroke-linejoin:round; stroke-width:2; stroke-opacity:0.1; fill:none\" points=\"193.936,863.827 2352.76,863.827 \"/>\n",
       "<polyline clip-path=\"url(#clip762)\" style=\"stroke:#000000; stroke-linecap:round; stroke-linejoin:round; stroke-width:2; stroke-opacity:0.1; fill:none\" points=\"193.936,621.374 2352.76,621.374 \"/>\n",
       "<polyline clip-path=\"url(#clip762)\" style=\"stroke:#000000; stroke-linecap:round; stroke-linejoin:round; stroke-width:2; stroke-opacity:0.1; fill:none\" points=\"193.936,378.92 2352.76,378.92 \"/>\n",
       "<polyline clip-path=\"url(#clip762)\" style=\"stroke:#000000; stroke-linecap:round; stroke-linejoin:round; stroke-width:2; stroke-opacity:0.1; fill:none\" points=\"193.936,136.467 2352.76,136.467 \"/>\n",
       "<polyline clip-path=\"url(#clip760)\" style=\"stroke:#000000; stroke-linecap:round; stroke-linejoin:round; stroke-width:4; stroke-opacity:1; fill:none\" points=\"193.936,1486.45 193.936,47.2441 \"/>\n",
       "<polyline clip-path=\"url(#clip760)\" style=\"stroke:#000000; stroke-linecap:round; stroke-linejoin:round; stroke-width:4; stroke-opacity:1; fill:none\" points=\"193.936,1348.73 212.834,1348.73 \"/>\n",
       "<polyline clip-path=\"url(#clip760)\" style=\"stroke:#000000; stroke-linecap:round; stroke-linejoin:round; stroke-width:4; stroke-opacity:1; fill:none\" points=\"193.936,1106.28 212.834,1106.28 \"/>\n",
       "<polyline clip-path=\"url(#clip760)\" style=\"stroke:#000000; stroke-linecap:round; stroke-linejoin:round; stroke-width:4; stroke-opacity:1; fill:none\" points=\"193.936,863.827 212.834,863.827 \"/>\n",
       "<polyline clip-path=\"url(#clip760)\" style=\"stroke:#000000; stroke-linecap:round; stroke-linejoin:round; stroke-width:4; stroke-opacity:1; fill:none\" points=\"193.936,621.374 212.834,621.374 \"/>\n",
       "<polyline clip-path=\"url(#clip760)\" style=\"stroke:#000000; stroke-linecap:round; stroke-linejoin:round; stroke-width:4; stroke-opacity:1; fill:none\" points=\"193.936,378.92 212.834,378.92 \"/>\n",
       "<polyline clip-path=\"url(#clip760)\" style=\"stroke:#000000; stroke-linecap:round; stroke-linejoin:round; stroke-width:4; stroke-opacity:1; fill:none\" points=\"193.936,136.467 212.834,136.467 \"/>\n",
       "<path clip-path=\"url(#clip760)\" d=\"M50.9921 1349.19 L80.6679 1349.19 L80.6679 1353.12 L50.9921 1353.12 L50.9921 1349.19 Z\" fill=\"#000000\" fill-rule=\"nonzero\" fill-opacity=\"1\" /><path clip-path=\"url(#clip760)\" d=\"M91.5706 1362.08 L99.2095 1362.08 L99.2095 1335.71 L90.8993 1337.38 L90.8993 1333.12 L99.1632 1331.45 L103.839 1331.45 L103.839 1362.08 L111.478 1362.08 L111.478 1366.01 L91.5706 1366.01 L91.5706 1362.08 Z\" fill=\"#000000\" fill-rule=\"nonzero\" fill-opacity=\"1\" /><path clip-path=\"url(#clip760)\" d=\"M120.922 1360.13 L125.807 1360.13 L125.807 1366.01 L120.922 1366.01 L120.922 1360.13 Z\" fill=\"#000000\" fill-rule=\"nonzero\" fill-opacity=\"1\" /><path clip-path=\"url(#clip760)\" d=\"M145.992 1334.53 Q142.381 1334.53 140.552 1338.1 Q138.746 1341.64 138.746 1348.77 Q138.746 1355.88 140.552 1359.44 Q142.381 1362.98 145.992 1362.98 Q149.626 1362.98 151.431 1359.44 Q153.26 1355.88 153.26 1348.77 Q153.26 1341.64 151.431 1338.1 Q149.626 1334.53 145.992 1334.53 M145.992 1330.83 Q151.802 1330.83 154.857 1335.44 Q157.936 1340.02 157.936 1348.77 Q157.936 1357.5 154.857 1362.1 Q151.802 1366.69 145.992 1366.69 Q140.181 1366.69 137.103 1362.1 Q134.047 1357.5 134.047 1348.77 Q134.047 1340.02 137.103 1335.44 Q140.181 1330.83 145.992 1330.83 Z\" fill=\"#000000\" fill-rule=\"nonzero\" fill-opacity=\"1\" /><path clip-path=\"url(#clip760)\" d=\"M51.9875 1106.73 L81.6633 1106.73 L81.6633 1110.67 L51.9875 1110.67 L51.9875 1106.73 Z\" fill=\"#000000\" fill-rule=\"nonzero\" fill-opacity=\"1\" /><path clip-path=\"url(#clip760)\" d=\"M101.756 1092.08 Q98.1447 1092.08 96.316 1095.64 Q94.5104 1099.19 94.5104 1106.32 Q94.5104 1113.42 96.316 1116.99 Q98.1447 1120.53 101.756 1120.53 Q105.39 1120.53 107.196 1116.99 Q109.024 1113.42 109.024 1106.32 Q109.024 1099.19 107.196 1095.64 Q105.39 1092.08 101.756 1092.08 M101.756 1088.38 Q107.566 1088.38 110.621 1092.98 Q113.7 1097.57 113.7 1106.32 Q113.7 1115.04 110.621 1119.65 Q107.566 1124.23 101.756 1124.23 Q95.9456 1124.23 92.8669 1119.65 Q89.8114 1115.04 89.8114 1106.32 Q89.8114 1097.57 92.8669 1092.98 Q95.9456 1088.38 101.756 1088.38 Z\" fill=\"#000000\" fill-rule=\"nonzero\" fill-opacity=\"1\" /><path clip-path=\"url(#clip760)\" d=\"M121.918 1117.68 L126.802 1117.68 L126.802 1123.56 L121.918 1123.56 L121.918 1117.68 Z\" fill=\"#000000\" fill-rule=\"nonzero\" fill-opacity=\"1\" /><path clip-path=\"url(#clip760)\" d=\"M137.033 1089 L155.39 1089 L155.39 1092.94 L141.316 1092.94 L141.316 1101.41 Q142.334 1101.06 143.353 1100.9 Q144.371 1100.71 145.39 1100.71 Q151.177 1100.71 154.556 1103.89 Q157.936 1107.06 157.936 1112.47 Q157.936 1118.05 154.464 1121.15 Q150.992 1124.23 144.672 1124.23 Q142.496 1124.23 140.228 1123.86 Q137.982 1123.49 135.575 1122.75 L135.575 1118.05 Q137.658 1119.19 139.881 1119.74 Q142.103 1120.3 144.58 1120.3 Q148.584 1120.3 150.922 1118.19 Q153.26 1116.08 153.26 1112.47 Q153.26 1108.86 150.922 1106.76 Q148.584 1104.65 144.58 1104.65 Q142.705 1104.65 140.83 1105.07 Q138.978 1105.48 137.033 1106.36 L137.033 1089 Z\" fill=\"#000000\" fill-rule=\"nonzero\" fill-opacity=\"1\" /><path clip-path=\"url(#clip760)\" d=\"M100.76 849.626 Q97.1493 849.626 95.3206 853.191 Q93.515 856.733 93.515 863.862 Q93.515 870.969 95.3206 874.533 Q97.1493 878.075 100.76 878.075 Q104.395 878.075 106.2 874.533 Q108.029 870.969 108.029 863.862 Q108.029 856.733 106.2 853.191 Q104.395 849.626 100.76 849.626 M100.76 845.922 Q106.571 845.922 109.626 850.529 Q112.705 855.112 112.705 863.862 Q112.705 872.589 109.626 877.195 Q106.571 881.779 100.76 881.779 Q94.9502 881.779 91.8715 877.195 Q88.816 872.589 88.816 863.862 Q88.816 855.112 91.8715 850.529 Q94.9502 845.922 100.76 845.922 Z\" fill=\"#000000\" fill-rule=\"nonzero\" fill-opacity=\"1\" /><path clip-path=\"url(#clip760)\" d=\"M120.922 875.228 L125.807 875.228 L125.807 881.107 L120.922 881.107 L120.922 875.228 Z\" fill=\"#000000\" fill-rule=\"nonzero\" fill-opacity=\"1\" /><path clip-path=\"url(#clip760)\" d=\"M145.992 849.626 Q142.381 849.626 140.552 853.191 Q138.746 856.733 138.746 863.862 Q138.746 870.969 140.552 874.533 Q142.381 878.075 145.992 878.075 Q149.626 878.075 151.431 874.533 Q153.26 870.969 153.26 863.862 Q153.26 856.733 151.431 853.191 Q149.626 849.626 145.992 849.626 M145.992 845.922 Q151.802 845.922 154.857 850.529 Q157.936 855.112 157.936 863.862 Q157.936 872.589 154.857 877.195 Q151.802 881.779 145.992 881.779 Q140.181 881.779 137.103 877.195 Q134.047 872.589 134.047 863.862 Q134.047 855.112 137.103 850.529 Q140.181 845.922 145.992 845.922 Z\" fill=\"#000000\" fill-rule=\"nonzero\" fill-opacity=\"1\" /><path clip-path=\"url(#clip760)\" d=\"M101.756 607.173 Q98.1447 607.173 96.316 610.737 Q94.5104 614.279 94.5104 621.409 Q94.5104 628.515 96.316 632.08 Q98.1447 635.622 101.756 635.622 Q105.39 635.622 107.196 632.08 Q109.024 628.515 109.024 621.409 Q109.024 614.279 107.196 610.737 Q105.39 607.173 101.756 607.173 M101.756 603.469 Q107.566 603.469 110.621 608.075 Q113.7 612.659 113.7 621.409 Q113.7 630.135 110.621 634.742 Q107.566 639.325 101.756 639.325 Q95.9456 639.325 92.8669 634.742 Q89.8114 630.135 89.8114 621.409 Q89.8114 612.659 92.8669 608.075 Q95.9456 603.469 101.756 603.469 Z\" fill=\"#000000\" fill-rule=\"nonzero\" fill-opacity=\"1\" /><path clip-path=\"url(#clip760)\" d=\"M121.918 632.774 L126.802 632.774 L126.802 638.654 L121.918 638.654 L121.918 632.774 Z\" fill=\"#000000\" fill-rule=\"nonzero\" fill-opacity=\"1\" /><path clip-path=\"url(#clip760)\" d=\"M137.033 604.094 L155.39 604.094 L155.39 608.029 L141.316 608.029 L141.316 616.501 Q142.334 616.154 143.353 615.992 Q144.371 615.807 145.39 615.807 Q151.177 615.807 154.556 618.978 Q157.936 622.149 157.936 627.566 Q157.936 633.145 154.464 636.247 Q150.992 639.325 144.672 639.325 Q142.496 639.325 140.228 638.955 Q137.982 638.584 135.575 637.844 L135.575 633.145 Q137.658 634.279 139.881 634.834 Q142.103 635.39 144.58 635.39 Q148.584 635.39 150.922 633.284 Q153.26 631.177 153.26 627.566 Q153.26 623.955 150.922 621.848 Q148.584 619.742 144.58 619.742 Q142.705 619.742 140.83 620.159 Q138.978 620.575 137.033 621.455 L137.033 604.094 Z\" fill=\"#000000\" fill-rule=\"nonzero\" fill-opacity=\"1\" /><path clip-path=\"url(#clip760)\" d=\"M91.5706 392.265 L99.2095 392.265 L99.2095 365.9 L90.8993 367.566 L90.8993 363.307 L99.1632 361.64 L103.839 361.64 L103.839 392.265 L111.478 392.265 L111.478 396.2 L91.5706 396.2 L91.5706 392.265 Z\" fill=\"#000000\" fill-rule=\"nonzero\" fill-opacity=\"1\" /><path clip-path=\"url(#clip760)\" d=\"M120.922 390.321 L125.807 390.321 L125.807 396.2 L120.922 396.2 L120.922 390.321 Z\" fill=\"#000000\" fill-rule=\"nonzero\" fill-opacity=\"1\" /><path clip-path=\"url(#clip760)\" d=\"M145.992 364.719 Q142.381 364.719 140.552 368.284 Q138.746 371.826 138.746 378.955 Q138.746 386.062 140.552 389.626 Q142.381 393.168 145.992 393.168 Q149.626 393.168 151.431 389.626 Q153.26 386.062 153.26 378.955 Q153.26 371.826 151.431 368.284 Q149.626 364.719 145.992 364.719 M145.992 361.015 Q151.802 361.015 154.857 365.622 Q157.936 370.205 157.936 378.955 Q157.936 387.682 154.857 392.288 Q151.802 396.872 145.992 396.872 Q140.181 396.872 137.103 392.288 Q134.047 387.682 134.047 378.955 Q134.047 370.205 137.103 365.622 Q140.181 361.015 145.992 361.015 Z\" fill=\"#000000\" fill-rule=\"nonzero\" fill-opacity=\"1\" /><path clip-path=\"url(#clip760)\" d=\"M92.566 149.812 L100.205 149.812 L100.205 123.446 L91.8947 125.113 L91.8947 120.854 L100.159 119.187 L104.834 119.187 L104.834 149.812 L112.473 149.812 L112.473 153.747 L92.566 153.747 L92.566 149.812 Z\" fill=\"#000000\" fill-rule=\"nonzero\" fill-opacity=\"1\" /><path clip-path=\"url(#clip760)\" d=\"M121.918 147.867 L126.802 147.867 L126.802 153.747 L121.918 153.747 L121.918 147.867 Z\" fill=\"#000000\" fill-rule=\"nonzero\" fill-opacity=\"1\" /><path clip-path=\"url(#clip760)\" d=\"M137.033 119.187 L155.39 119.187 L155.39 123.122 L141.316 123.122 L141.316 131.594 Q142.334 131.247 143.353 131.085 Q144.371 130.9 145.39 130.9 Q151.177 130.9 154.556 134.071 Q157.936 137.242 157.936 142.659 Q157.936 148.238 154.464 151.34 Q150.992 154.418 144.672 154.418 Q142.496 154.418 140.228 154.048 Q137.982 153.678 135.575 152.937 L135.575 148.238 Q137.658 149.372 139.881 149.928 Q142.103 150.483 144.58 150.483 Q148.584 150.483 150.922 148.377 Q153.26 146.27 153.26 142.659 Q153.26 139.048 150.922 136.942 Q148.584 134.835 144.58 134.835 Q142.705 134.835 140.83 135.252 Q138.978 135.668 137.033 136.548 L137.033 119.187 Z\" fill=\"#000000\" fill-rule=\"nonzero\" fill-opacity=\"1\" /><path clip-path=\"url(#clip762)\" d=\"M2291.66 281.939 L545.981 281.939 L545.981 1445.72 L2291.66 1445.72 L2291.66 281.939 L2291.66 281.939  Z\" fill=\"#009af9\" fill-rule=\"evenodd\" fill-opacity=\"0.5\"/>\n",
       "<polyline clip-path=\"url(#clip762)\" style=\"stroke:#000000; stroke-linecap:round; stroke-linejoin:round; stroke-width:4; stroke-opacity:0.5; fill:none\" points=\"2291.66,281.939 545.981,281.939 545.981,1445.72 2291.66,1445.72 2291.66,281.939 \"/>\n",
       "<path clip-path=\"url(#clip762)\" d=\"M691.454 669.865 L1127.87 378.92 L691.454 87.9763 L255.035 378.92 L691.454 669.865 L691.454 669.865  Z\" fill=\"#e26f46\" fill-rule=\"evenodd\" fill-opacity=\"0.5\"/>\n",
       "<polyline clip-path=\"url(#clip762)\" style=\"stroke:#000000; stroke-linecap:round; stroke-linejoin:round; stroke-width:4; stroke-opacity:0.5; fill:none\" points=\"691.454,669.865 1127.87,378.92 691.454,87.9763 255.035,378.92 691.454,669.865 \"/>\n",
       "<path clip-path=\"url(#clip762)\" d=\"M1855.24 572.883 L982.4 572.883 L982.4 1154.77 L1855.24 1154.77 L1855.24 572.883 L1855.24 572.883  Z\" fill=\"#3da44d\" fill-rule=\"evenodd\" fill-opacity=\"0.5\"/>\n",
       "<polyline clip-path=\"url(#clip762)\" style=\"stroke:#000000; stroke-linecap:round; stroke-linejoin:round; stroke-width:4; stroke-opacity:0.5; fill:none\" points=\"1855.24,572.883 982.4,572.883 982.4,1154.77 1855.24,1154.77 1855.24,572.883 \"/>\n",
       "<path clip-path=\"url(#clip760)\" d=\"M265.897 1438.47 L994.137 1438.47 L994.137 1231.11 L265.897 1231.11  Z\" fill=\"#ffffff\" fill-rule=\"evenodd\" fill-opacity=\"1\"/>\n",
       "<polyline clip-path=\"url(#clip760)\" style=\"stroke:#000000; stroke-linecap:round; stroke-linejoin:round; stroke-width:4; stroke-opacity:1; fill:none\" points=\"265.897,1438.47 994.137,1438.47 994.137,1231.11 265.897,1231.11 265.897,1438.47 \"/>\n",
       "<path clip-path=\"url(#clip760)\" d=\"M289.884 1303.69 L433.805 1303.69 L433.805 1262.22 L289.884 1262.22 L289.884 1303.69  Z\" fill=\"#009af9\" fill-rule=\"evenodd\" fill-opacity=\"0.5\"/>\n",
       "<polyline clip-path=\"url(#clip760)\" style=\"stroke:#000000; stroke-linecap:round; stroke-linejoin:round; stroke-width:4; stroke-opacity:1; fill:none\" points=\"289.884,1303.69 433.805,1303.69 433.805,1262.22 289.884,1262.22 289.884,1303.69 \"/>\n",
       "<path clip-path=\"url(#clip760)\" d=\"M462.468 1283.73 L462.468 1296.39 L469.968 1296.39 Q473.741 1296.39 475.546 1294.84 Q477.375 1293.27 477.375 1290.05 Q477.375 1286.81 475.546 1285.28 Q473.741 1283.73 469.968 1283.73 L462.468 1283.73 M462.468 1269.52 L462.468 1279.93 L469.389 1279.93 Q472.815 1279.93 474.481 1278.66 Q476.171 1277.36 476.171 1274.73 Q476.171 1272.11 474.481 1270.81 Q472.815 1269.52 469.389 1269.52 L462.468 1269.52 M457.792 1265.67 L469.736 1265.67 Q475.083 1265.67 477.977 1267.9 Q480.87 1270.12 480.87 1274.22 Q480.87 1277.39 479.389 1279.26 Q477.907 1281.14 475.037 1281.6 Q478.486 1282.34 480.384 1284.7 Q482.306 1287.04 482.306 1290.56 Q482.306 1295.19 479.157 1297.71 Q476.009 1300.23 470.199 1300.23 L457.792 1300.23 L457.792 1265.67 Z\" fill=\"#000000\" fill-rule=\"nonzero\" fill-opacity=\"1\" /><path clip-path=\"url(#clip760)\" d=\"M500.176 1277.29 Q496.75 1277.29 494.759 1279.98 Q492.768 1282.64 492.768 1287.29 Q492.768 1291.95 494.736 1294.63 Q496.727 1297.29 500.176 1297.29 Q503.579 1297.29 505.569 1294.61 Q507.56 1291.92 507.56 1287.29 Q507.56 1282.69 505.569 1280 Q503.579 1277.29 500.176 1277.29 M500.176 1273.68 Q505.731 1273.68 508.903 1277.29 Q512.074 1280.91 512.074 1287.29 Q512.074 1293.66 508.903 1297.29 Q505.731 1300.91 500.176 1300.91 Q494.597 1300.91 491.426 1297.29 Q488.278 1293.66 488.278 1287.29 Q488.278 1280.91 491.426 1277.29 Q494.597 1273.68 500.176 1273.68 Z\" fill=\"#000000\" fill-rule=\"nonzero\" fill-opacity=\"1\" /><path clip-path=\"url(#clip760)\" d=\"M539.227 1274.31 L529.852 1286.92 L539.713 1300.23 L534.69 1300.23 L527.143 1290.05 L519.597 1300.23 L514.574 1300.23 L524.643 1286.67 L515.43 1274.31 L520.453 1274.31 L527.328 1283.54 L534.203 1274.31 L539.227 1274.31 Z\" fill=\"#000000\" fill-rule=\"nonzero\" fill-opacity=\"1\" /><path clip-path=\"url(#clip760)\" d=\"M570.847 1277.29 Q567.421 1277.29 565.43 1279.98 Q563.439 1282.64 563.439 1287.29 Q563.439 1291.95 565.407 1294.63 Q567.398 1297.29 570.847 1297.29 Q574.249 1297.29 576.24 1294.61 Q578.231 1291.92 578.231 1287.29 Q578.231 1282.69 576.24 1280 Q574.249 1277.29 570.847 1277.29 M570.847 1273.68 Q576.402 1273.68 579.574 1277.29 Q582.745 1280.91 582.745 1287.29 Q582.745 1293.66 579.574 1297.29 Q576.402 1300.91 570.847 1300.91 Q565.268 1300.91 562.097 1297.29 Q558.949 1293.66 558.949 1287.29 Q558.949 1280.91 562.097 1277.29 Q565.268 1273.68 570.847 1273.68 Z\" fill=\"#000000\" fill-rule=\"nonzero\" fill-opacity=\"1\" /><path clip-path=\"url(#clip760)\" d=\"M589.365 1290 L589.365 1274.31 L593.624 1274.31 L593.624 1289.84 Q593.624 1293.52 595.06 1295.37 Q596.495 1297.2 599.365 1297.2 Q602.814 1297.2 604.805 1295 Q606.819 1292.8 606.819 1289.01 L606.819 1274.31 L611.078 1274.31 L611.078 1300.23 L606.819 1300.23 L606.819 1296.25 Q605.268 1298.61 603.208 1299.77 Q601.171 1300.91 598.462 1300.91 Q593.995 1300.91 591.68 1298.13 Q589.365 1295.35 589.365 1290 M600.083 1273.68 L600.083 1273.68 Z\" fill=\"#000000\" fill-rule=\"nonzero\" fill-opacity=\"1\" /><path clip-path=\"url(#clip760)\" d=\"M624.064 1266.95 L624.064 1274.31 L632.837 1274.31 L632.837 1277.62 L624.064 1277.62 L624.064 1291.69 Q624.064 1294.86 624.92 1295.77 Q625.8 1296.67 628.462 1296.67 L632.837 1296.67 L632.837 1300.23 L628.462 1300.23 Q623.532 1300.23 621.657 1298.41 Q619.782 1296.55 619.782 1291.69 L619.782 1277.62 L616.657 1277.62 L616.657 1274.31 L619.782 1274.31 L619.782 1266.95 L624.064 1266.95 Z\" fill=\"#000000\" fill-rule=\"nonzero\" fill-opacity=\"1\" /><path clip-path=\"url(#clip760)\" d=\"M642.559 1296.35 L642.559 1310.1 L638.277 1310.1 L638.277 1274.31 L642.559 1274.31 L642.559 1278.24 Q643.902 1275.93 645.939 1274.82 Q647.999 1273.68 650.846 1273.68 Q655.568 1273.68 658.508 1277.43 Q661.471 1281.18 661.471 1287.29 Q661.471 1293.41 658.508 1297.16 Q655.568 1300.91 650.846 1300.91 Q647.999 1300.91 645.939 1299.79 Q643.902 1298.66 642.559 1296.35 M657.05 1287.29 Q657.05 1282.6 655.106 1279.93 Q653.184 1277.25 649.805 1277.25 Q646.425 1277.25 644.481 1279.93 Q642.559 1282.6 642.559 1287.29 Q642.559 1291.99 644.481 1294.68 Q646.425 1297.34 649.805 1297.34 Q653.184 1297.34 655.106 1294.68 Q657.05 1291.99 657.05 1287.29 Z\" fill=\"#000000\" fill-rule=\"nonzero\" fill-opacity=\"1\" /><path clip-path=\"url(#clip760)\" d=\"M668.092 1290 L668.092 1274.31 L672.351 1274.31 L672.351 1289.84 Q672.351 1293.52 673.786 1295.37 Q675.221 1297.2 678.092 1297.2 Q681.541 1297.2 683.531 1295 Q685.545 1292.8 685.545 1289.01 L685.545 1274.31 L689.804 1274.31 L689.804 1300.23 L685.545 1300.23 L685.545 1296.25 Q683.994 1298.61 681.934 1299.77 Q679.897 1300.91 677.189 1300.91 Q672.721 1300.91 670.406 1298.13 Q668.092 1295.35 668.092 1290 M678.809 1273.68 L678.809 1273.68 Z\" fill=\"#000000\" fill-rule=\"nonzero\" fill-opacity=\"1\" /><path clip-path=\"url(#clip760)\" d=\"M702.79 1266.95 L702.79 1274.31 L711.564 1274.31 L711.564 1277.62 L702.79 1277.62 L702.79 1291.69 Q702.79 1294.86 703.647 1295.77 Q704.527 1296.67 707.189 1296.67 L711.564 1296.67 L711.564 1300.23 L707.189 1300.23 Q702.258 1300.23 700.383 1298.41 Q698.508 1296.55 698.508 1291.69 L698.508 1277.62 L695.383 1277.62 L695.383 1274.31 L698.508 1274.31 L698.508 1266.95 L702.79 1266.95 Z\" fill=\"#000000\" fill-rule=\"nonzero\" fill-opacity=\"1\" /><path clip-path=\"url(#clip760)\" d=\"M289.884 1355.53 L433.805 1355.53 L433.805 1314.06 L289.884 1314.06 L289.884 1355.53  Z\" fill=\"#e26f46\" fill-rule=\"evenodd\" fill-opacity=\"0.5\"/>\n",
       "<polyline clip-path=\"url(#clip760)\" style=\"stroke:#000000; stroke-linecap:round; stroke-linejoin:round; stroke-width:4; stroke-opacity:1; fill:none\" points=\"289.884,1355.53 433.805,1355.53 433.805,1314.06 289.884,1314.06 289.884,1355.53 \"/>\n",
       "<path clip-path=\"url(#clip760)\" d=\"M458.324 1317.51 L485.477 1317.51 L485.477 1321.08 L463.625 1348.14 L486.009 1348.14 L486.009 1352.07 L457.792 1352.07 L457.792 1348.51 L479.643 1321.45 L458.324 1321.45 L458.324 1317.51 Z\" fill=\"#000000\" fill-rule=\"nonzero\" fill-opacity=\"1\" /><path clip-path=\"url(#clip760)\" d=\"M502.653 1329.13 Q499.227 1329.13 497.236 1331.82 Q495.245 1334.48 495.245 1339.13 Q495.245 1343.79 497.213 1346.47 Q499.204 1349.13 502.653 1349.13 Q506.055 1349.13 508.046 1346.45 Q510.037 1343.76 510.037 1339.13 Q510.037 1334.53 508.046 1331.84 Q506.055 1329.13 502.653 1329.13 M502.653 1325.52 Q508.208 1325.52 511.379 1329.13 Q514.551 1332.75 514.551 1339.13 Q514.551 1345.5 511.379 1349.13 Q508.208 1352.75 502.653 1352.75 Q497.074 1352.75 493.903 1349.13 Q490.755 1345.5 490.755 1339.13 Q490.755 1332.75 493.903 1329.13 Q497.074 1325.52 502.653 1325.52 Z\" fill=\"#000000\" fill-rule=\"nonzero\" fill-opacity=\"1\" /><path clip-path=\"url(#clip760)\" d=\"M543.162 1336.43 L543.162 1352.07 L538.902 1352.07 L538.902 1336.57 Q538.902 1332.88 537.467 1331.06 Q536.032 1329.23 533.162 1329.23 Q529.713 1329.23 527.722 1331.43 Q525.731 1333.63 525.731 1337.42 L525.731 1352.07 L521.449 1352.07 L521.449 1326.15 L525.731 1326.15 L525.731 1330.18 Q527.259 1327.84 529.319 1326.68 Q531.402 1325.52 534.111 1325.52 Q538.578 1325.52 540.87 1328.3 Q543.162 1331.06 543.162 1336.43 Z\" fill=\"#000000\" fill-rule=\"nonzero\" fill-opacity=\"1\" /><path clip-path=\"url(#clip760)\" d=\"M561.703 1329.13 Q558.277 1329.13 556.287 1331.82 Q554.296 1334.48 554.296 1339.13 Q554.296 1343.79 556.263 1346.47 Q558.254 1349.13 561.703 1349.13 Q565.106 1349.13 567.097 1346.45 Q569.087 1343.76 569.087 1339.13 Q569.087 1334.53 567.097 1331.84 Q565.106 1329.13 561.703 1329.13 M561.703 1325.52 Q567.259 1325.52 570.43 1329.13 Q573.601 1332.75 573.601 1339.13 Q573.601 1345.5 570.43 1349.13 Q567.259 1352.75 561.703 1352.75 Q556.125 1352.75 552.953 1349.13 Q549.805 1345.5 549.805 1339.13 Q549.805 1332.75 552.953 1329.13 Q556.125 1325.52 561.703 1325.52 Z\" fill=\"#000000\" fill-rule=\"nonzero\" fill-opacity=\"1\" /><path clip-path=\"url(#clip760)\" d=\"M605.777 1329.13 Q602.351 1329.13 600.36 1331.82 Q598.37 1334.48 598.37 1339.13 Q598.37 1343.79 600.337 1346.47 Q602.328 1349.13 605.777 1349.13 Q609.18 1349.13 611.171 1346.45 Q613.161 1343.76 613.161 1339.13 Q613.161 1334.53 611.171 1331.84 Q609.18 1329.13 605.777 1329.13 M605.777 1325.52 Q611.333 1325.52 614.504 1329.13 Q617.675 1332.75 617.675 1339.13 Q617.675 1345.5 614.504 1349.13 Q611.333 1352.75 605.777 1352.75 Q600.198 1352.75 597.027 1349.13 Q593.879 1345.5 593.879 1339.13 Q593.879 1332.75 597.027 1329.13 Q600.198 1325.52 605.777 1325.52 Z\" fill=\"#000000\" fill-rule=\"nonzero\" fill-opacity=\"1\" /><path clip-path=\"url(#clip760)\" d=\"M624.296 1341.84 L624.296 1326.15 L628.555 1326.15 L628.555 1341.68 Q628.555 1345.36 629.99 1347.21 Q631.425 1349.04 634.295 1349.04 Q637.745 1349.04 639.735 1346.84 Q641.749 1344.64 641.749 1340.85 L641.749 1326.15 L646.008 1326.15 L646.008 1352.07 L641.749 1352.07 L641.749 1348.09 Q640.198 1350.45 638.138 1351.61 Q636.101 1352.75 633.393 1352.75 Q628.925 1352.75 626.61 1349.97 Q624.296 1347.19 624.296 1341.84 M635.013 1325.52 L635.013 1325.52 Z\" fill=\"#000000\" fill-rule=\"nonzero\" fill-opacity=\"1\" /><path clip-path=\"url(#clip760)\" d=\"M658.994 1318.79 L658.994 1326.15 L667.767 1326.15 L667.767 1329.46 L658.994 1329.46 L658.994 1343.53 Q658.994 1346.7 659.851 1347.61 Q660.73 1348.51 663.393 1348.51 L667.767 1348.51 L667.767 1352.07 L663.393 1352.07 Q658.462 1352.07 656.587 1350.25 Q654.712 1348.39 654.712 1343.53 L654.712 1329.46 L651.587 1329.46 L651.587 1326.15 L654.712 1326.15 L654.712 1318.79 L658.994 1318.79 Z\" fill=\"#000000\" fill-rule=\"nonzero\" fill-opacity=\"1\" /><path clip-path=\"url(#clip760)\" d=\"M677.49 1348.19 L677.49 1361.94 L673.207 1361.94 L673.207 1326.15 L677.49 1326.15 L677.49 1330.08 Q678.832 1327.77 680.869 1326.66 Q682.929 1325.52 685.777 1325.52 Q690.499 1325.52 693.439 1329.27 Q696.402 1333.02 696.402 1339.13 Q696.402 1345.25 693.439 1349 Q690.499 1352.75 685.777 1352.75 Q682.929 1352.75 680.869 1351.63 Q678.832 1350.5 677.49 1348.19 M691.98 1339.13 Q691.98 1334.44 690.036 1331.77 Q688.115 1329.09 684.735 1329.09 Q681.355 1329.09 679.411 1331.77 Q677.49 1334.44 677.49 1339.13 Q677.49 1343.83 679.411 1346.52 Q681.355 1349.18 684.735 1349.18 Q688.115 1349.18 690.036 1346.52 Q691.98 1343.83 691.98 1339.13 Z\" fill=\"#000000\" fill-rule=\"nonzero\" fill-opacity=\"1\" /><path clip-path=\"url(#clip760)\" d=\"M703.022 1341.84 L703.022 1326.15 L707.281 1326.15 L707.281 1341.68 Q707.281 1345.36 708.716 1347.21 Q710.152 1349.04 713.022 1349.04 Q716.471 1349.04 718.462 1346.84 Q720.476 1344.64 720.476 1340.85 L720.476 1326.15 L724.735 1326.15 L724.735 1352.07 L720.476 1352.07 L720.476 1348.09 Q718.925 1350.45 716.864 1351.61 Q714.827 1352.75 712.119 1352.75 Q707.652 1352.75 705.337 1349.97 Q703.022 1347.19 703.022 1341.84 M713.739 1325.52 L713.739 1325.52 Z\" fill=\"#000000\" fill-rule=\"nonzero\" fill-opacity=\"1\" /><path clip-path=\"url(#clip760)\" d=\"M737.721 1318.79 L737.721 1326.15 L746.494 1326.15 L746.494 1329.46 L737.721 1329.46 L737.721 1343.53 Q737.721 1346.7 738.577 1347.61 Q739.457 1348.51 742.119 1348.51 L746.494 1348.51 L746.494 1352.07 L742.119 1352.07 Q737.188 1352.07 735.313 1350.25 Q733.438 1348.39 733.438 1343.53 L733.438 1329.46 L730.313 1329.46 L730.313 1326.15 L733.438 1326.15 L733.438 1318.79 L737.721 1318.79 Z\" fill=\"#000000\" fill-rule=\"nonzero\" fill-opacity=\"1\" /><path clip-path=\"url(#clip760)\" d=\"M768.577 1348.14 L776.216 1348.14 L776.216 1321.77 L767.906 1323.44 L767.906 1319.18 L776.17 1317.51 L780.846 1317.51 L780.846 1348.14 L788.484 1348.14 L788.484 1352.07 L768.577 1352.07 L768.577 1348.14 Z\" fill=\"#000000\" fill-rule=\"nonzero\" fill-opacity=\"1\" /><path clip-path=\"url(#clip760)\" d=\"M813.855 1326.91 L813.855 1330.94 Q812.049 1330.01 810.105 1329.55 Q808.16 1329.09 806.077 1329.09 Q802.906 1329.09 801.308 1330.06 Q799.734 1331.03 799.734 1332.98 Q799.734 1334.46 800.869 1335.32 Q802.003 1336.15 805.429 1336.91 L806.887 1337.24 Q811.424 1338.21 813.322 1339.99 Q815.244 1341.75 815.244 1344.92 Q815.244 1348.53 812.373 1350.64 Q809.526 1352.75 804.526 1352.75 Q802.443 1352.75 800.174 1352.33 Q797.929 1351.94 795.429 1351.13 L795.429 1346.73 Q797.79 1347.95 800.082 1348.58 Q802.373 1349.18 804.619 1349.18 Q807.628 1349.18 809.248 1348.16 Q810.869 1347.12 810.869 1345.25 Q810.869 1343.51 809.688 1342.58 Q808.531 1341.66 804.572 1340.8 L803.091 1340.45 Q799.133 1339.62 797.373 1337.91 Q795.614 1336.17 795.614 1333.16 Q795.614 1329.51 798.207 1327.51 Q800.799 1325.52 805.568 1325.52 Q807.929 1325.52 810.012 1325.87 Q812.095 1326.22 813.855 1326.91 Z\" fill=\"#000000\" fill-rule=\"nonzero\" fill-opacity=\"1\" /><path clip-path=\"url(#clip760)\" d=\"M826.239 1318.79 L826.239 1326.15 L835.012 1326.15 L835.012 1329.46 L826.239 1329.46 L826.239 1343.53 Q826.239 1346.7 827.095 1347.61 Q827.975 1348.51 830.637 1348.51 L835.012 1348.51 L835.012 1352.07 L830.637 1352.07 Q825.706 1352.07 823.831 1350.25 Q821.956 1348.39 821.956 1343.53 L821.956 1329.46 L818.831 1329.46 L818.831 1326.15 L821.956 1326.15 L821.956 1318.79 L826.239 1318.79 Z\" fill=\"#000000\" fill-rule=\"nonzero\" fill-opacity=\"1\" /><path clip-path=\"url(#clip760)\" d=\"M855.683 1316.06 L859.942 1316.06 L859.942 1352.07 L855.683 1352.07 L855.683 1316.06 Z\" fill=\"#000000\" fill-rule=\"nonzero\" fill-opacity=\"1\" /><path clip-path=\"url(#clip760)\" d=\"M880.637 1339.04 Q875.475 1339.04 873.484 1340.22 Q871.493 1341.4 871.493 1344.25 Q871.493 1346.52 872.975 1347.86 Q874.479 1349.18 877.049 1349.18 Q880.59 1349.18 882.72 1346.68 Q884.873 1344.16 884.873 1339.99 L884.873 1339.04 L880.637 1339.04 M889.132 1337.28 L889.132 1352.07 L884.873 1352.07 L884.873 1348.14 Q883.414 1350.5 881.239 1351.63 Q879.063 1352.75 875.915 1352.75 Q871.933 1352.75 869.572 1350.52 Q867.234 1348.28 867.234 1344.53 Q867.234 1340.15 870.151 1337.93 Q873.09 1335.71 878.901 1335.71 L884.873 1335.71 L884.873 1335.29 Q884.873 1332.35 882.928 1330.76 Q881.007 1329.13 877.512 1329.13 Q875.29 1329.13 873.183 1329.67 Q871.077 1330.2 869.132 1331.26 L869.132 1327.33 Q871.47 1326.43 873.669 1325.99 Q875.868 1325.52 877.952 1325.52 Q883.577 1325.52 886.354 1328.44 Q889.132 1331.36 889.132 1337.28 Z\" fill=\"#000000\" fill-rule=\"nonzero\" fill-opacity=\"1\" /><path clip-path=\"url(#clip760)\" d=\"M908.692 1354.48 Q906.887 1359.11 905.174 1360.52 Q903.461 1361.94 900.59 1361.94 L897.188 1361.94 L897.188 1358.37 L899.688 1358.37 Q901.447 1358.37 902.419 1357.54 Q903.391 1356.7 904.572 1353.6 L905.336 1351.66 L894.85 1326.15 L899.363 1326.15 L907.465 1346.43 L915.567 1326.15 L920.081 1326.15 L908.692 1354.48 Z\" fill=\"#000000\" fill-rule=\"nonzero\" fill-opacity=\"1\" /><path clip-path=\"url(#clip760)\" d=\"M948.136 1338.05 L948.136 1340.13 L928.553 1340.13 Q928.831 1344.53 931.192 1346.84 Q933.576 1349.13 937.812 1349.13 Q940.266 1349.13 942.558 1348.53 Q944.872 1347.93 947.141 1346.73 L947.141 1350.75 Q944.849 1351.73 942.442 1352.24 Q940.035 1352.75 937.558 1352.75 Q931.354 1352.75 927.72 1349.13 Q924.109 1345.52 924.109 1339.37 Q924.109 1333 927.535 1329.27 Q930.984 1325.52 936.817 1325.52 Q942.048 1325.52 945.081 1328.9 Q948.136 1332.26 948.136 1338.05 M943.877 1336.8 Q943.831 1333.3 941.91 1331.22 Q940.011 1329.13 936.863 1329.13 Q933.298 1329.13 931.146 1331.15 Q929.016 1333.16 928.692 1336.82 L943.877 1336.8 Z\" fill=\"#000000\" fill-rule=\"nonzero\" fill-opacity=\"1\" /><path clip-path=\"url(#clip760)\" d=\"M970.15 1330.13 Q969.433 1329.71 968.576 1329.53 Q967.743 1329.32 966.724 1329.32 Q963.113 1329.32 961.169 1331.68 Q959.247 1334.02 959.247 1338.42 L959.247 1352.07 L954.965 1352.07 L954.965 1326.15 L959.247 1326.15 L959.247 1330.18 Q960.59 1327.82 962.743 1326.68 Q964.896 1325.52 967.974 1325.52 Q968.414 1325.52 968.946 1325.59 Q969.479 1325.64 970.127 1325.76 L970.15 1330.13 Z\" fill=\"#000000\" fill-rule=\"nonzero\" fill-opacity=\"1\" /><path clip-path=\"url(#clip760)\" d=\"M289.884 1407.37 L433.805 1407.37 L433.805 1365.9 L289.884 1365.9 L289.884 1407.37  Z\" fill=\"#3da44d\" fill-rule=\"evenodd\" fill-opacity=\"0.5\"/>\n",
       "<polyline clip-path=\"url(#clip760)\" style=\"stroke:#000000; stroke-linecap:round; stroke-linejoin:round; stroke-width:4; stroke-opacity:1; fill:none\" points=\"289.884,1407.37 433.805,1407.37 433.805,1365.9 289.884,1365.9 289.884,1407.37 \"/>\n",
       "<path clip-path=\"url(#clip760)\" d=\"M458.324 1369.35 L485.477 1369.35 L485.477 1372.92 L463.625 1399.98 L486.009 1399.98 L486.009 1403.91 L457.792 1403.91 L457.792 1400.35 L479.643 1373.29 L458.324 1373.29 L458.324 1369.35 Z\" fill=\"#000000\" fill-rule=\"nonzero\" fill-opacity=\"1\" /><path clip-path=\"url(#clip760)\" d=\"M502.653 1380.97 Q499.227 1380.97 497.236 1383.66 Q495.245 1386.32 495.245 1390.97 Q495.245 1395.63 497.213 1398.31 Q499.204 1400.97 502.653 1400.97 Q506.055 1400.97 508.046 1398.29 Q510.037 1395.6 510.037 1390.97 Q510.037 1386.37 508.046 1383.68 Q506.055 1380.97 502.653 1380.97 M502.653 1377.36 Q508.208 1377.36 511.379 1380.97 Q514.551 1384.59 514.551 1390.97 Q514.551 1397.34 511.379 1400.97 Q508.208 1404.59 502.653 1404.59 Q497.074 1404.59 493.903 1400.97 Q490.755 1397.34 490.755 1390.97 Q490.755 1384.59 493.903 1380.97 Q497.074 1377.36 502.653 1377.36 Z\" fill=\"#000000\" fill-rule=\"nonzero\" fill-opacity=\"1\" /><path clip-path=\"url(#clip760)\" d=\"M543.162 1388.27 L543.162 1403.91 L538.902 1403.91 L538.902 1388.41 Q538.902 1384.72 537.467 1382.9 Q536.032 1381.07 533.162 1381.07 Q529.713 1381.07 527.722 1383.27 Q525.731 1385.47 525.731 1389.26 L525.731 1403.91 L521.449 1403.91 L521.449 1377.99 L525.731 1377.99 L525.731 1382.02 Q527.259 1379.68 529.319 1378.52 Q531.402 1377.36 534.111 1377.36 Q538.578 1377.36 540.87 1380.14 Q543.162 1382.9 543.162 1388.27 Z\" fill=\"#000000\" fill-rule=\"nonzero\" fill-opacity=\"1\" /><path clip-path=\"url(#clip760)\" d=\"M561.703 1380.97 Q558.277 1380.97 556.287 1383.66 Q554.296 1386.32 554.296 1390.97 Q554.296 1395.63 556.263 1398.31 Q558.254 1400.97 561.703 1400.97 Q565.106 1400.97 567.097 1398.29 Q569.087 1395.6 569.087 1390.97 Q569.087 1386.37 567.097 1383.68 Q565.106 1380.97 561.703 1380.97 M561.703 1377.36 Q567.259 1377.36 570.43 1380.97 Q573.601 1384.59 573.601 1390.97 Q573.601 1397.34 570.43 1400.97 Q567.259 1404.59 561.703 1404.59 Q556.125 1404.59 552.953 1400.97 Q549.805 1397.34 549.805 1390.97 Q549.805 1384.59 552.953 1380.97 Q556.125 1377.36 561.703 1377.36 Z\" fill=\"#000000\" fill-rule=\"nonzero\" fill-opacity=\"1\" /><path clip-path=\"url(#clip760)\" d=\"M608.856 1367.9 L608.856 1371.44 L604.782 1371.44 Q602.49 1371.44 601.587 1372.36 Q600.708 1373.29 600.708 1375.7 L600.708 1377.99 L607.722 1377.99 L607.722 1381.3 L600.708 1381.3 L600.708 1403.91 L596.425 1403.91 L596.425 1381.3 L592.351 1381.3 L592.351 1377.99 L596.425 1377.99 L596.425 1376.18 Q596.425 1371.85 598.439 1369.89 Q600.453 1367.9 604.828 1367.9 L608.856 1367.9 Z\" fill=\"#000000\" fill-rule=\"nonzero\" fill-opacity=\"1\" /><path clip-path=\"url(#clip760)\" d=\"M612.421 1377.99 L616.68 1377.99 L616.68 1403.91 L612.421 1403.91 L612.421 1377.99 M612.421 1367.9 L616.68 1367.9 L616.68 1373.29 L612.421 1373.29 L612.421 1367.9 Z\" fill=\"#000000\" fill-rule=\"nonzero\" fill-opacity=\"1\" /><path clip-path=\"url(#clip760)\" d=\"M647.143 1388.27 L647.143 1403.91 L642.883 1403.91 L642.883 1388.41 Q642.883 1384.72 641.448 1382.9 Q640.013 1381.07 637.143 1381.07 Q633.694 1381.07 631.703 1383.27 Q629.712 1385.47 629.712 1389.26 L629.712 1403.91 L625.43 1403.91 L625.43 1377.99 L629.712 1377.99 L629.712 1382.02 Q631.24 1379.68 633.3 1378.52 Q635.383 1377.36 638.092 1377.36 Q642.559 1377.36 644.851 1380.14 Q647.143 1382.9 647.143 1388.27 Z\" fill=\"#000000\" fill-rule=\"nonzero\" fill-opacity=\"1\" /><path clip-path=\"url(#clip760)\" d=\"M667.42 1390.88 Q662.258 1390.88 660.268 1392.06 Q658.277 1393.24 658.277 1396.09 Q658.277 1398.36 659.758 1399.7 Q661.263 1401.02 663.832 1401.02 Q667.374 1401.02 669.504 1398.52 Q671.656 1396 671.656 1391.83 L671.656 1390.88 L667.42 1390.88 M675.916 1389.12 L675.916 1403.91 L671.656 1403.91 L671.656 1399.98 Q670.198 1402.34 668.022 1403.47 Q665.846 1404.59 662.698 1404.59 Q658.717 1404.59 656.356 1402.36 Q654.018 1400.12 654.018 1396.37 Q654.018 1391.99 656.934 1389.77 Q659.874 1387.55 665.684 1387.55 L671.656 1387.55 L671.656 1387.13 Q671.656 1384.19 669.712 1382.6 Q667.791 1380.97 664.295 1380.97 Q662.073 1380.97 659.967 1381.51 Q657.86 1382.04 655.916 1383.1 L655.916 1379.17 Q658.254 1378.27 660.453 1377.83 Q662.652 1377.36 664.735 1377.36 Q670.36 1377.36 673.138 1380.28 Q675.916 1383.2 675.916 1389.12 Z\" fill=\"#000000\" fill-rule=\"nonzero\" fill-opacity=\"1\" /><path clip-path=\"url(#clip760)\" d=\"M684.689 1367.9 L688.948 1367.9 L688.948 1403.91 L684.689 1403.91 L684.689 1367.9 Z\" fill=\"#000000\" fill-rule=\"nonzero\" fill-opacity=\"1\" /><path clip-path=\"url(#clip760)\" d=\"M722.976 1380.97 Q719.55 1380.97 717.559 1383.66 Q715.568 1386.32 715.568 1390.97 Q715.568 1395.63 717.536 1398.31 Q719.526 1400.97 722.976 1400.97 Q726.378 1400.97 728.369 1398.29 Q730.36 1395.6 730.36 1390.97 Q730.36 1386.37 728.369 1383.68 Q726.378 1380.97 722.976 1380.97 M722.976 1377.36 Q728.531 1377.36 731.702 1380.97 Q734.874 1384.59 734.874 1390.97 Q734.874 1397.34 731.702 1400.97 Q728.531 1404.59 722.976 1404.59 Q717.397 1404.59 714.226 1400.97 Q711.077 1397.34 711.077 1390.97 Q711.077 1384.59 714.226 1380.97 Q717.397 1377.36 722.976 1377.36 Z\" fill=\"#000000\" fill-rule=\"nonzero\" fill-opacity=\"1\" /><path clip-path=\"url(#clip760)\" d=\"M741.494 1393.68 L741.494 1377.99 L745.753 1377.99 L745.753 1393.52 Q745.753 1397.2 747.188 1399.05 Q748.624 1400.88 751.494 1400.88 Q754.943 1400.88 756.934 1398.68 Q758.948 1396.48 758.948 1392.69 L758.948 1377.99 L763.207 1377.99 L763.207 1403.91 L758.948 1403.91 L758.948 1399.93 Q757.397 1402.29 755.336 1403.45 Q753.299 1404.59 750.591 1404.59 Q746.124 1404.59 743.809 1401.81 Q741.494 1399.03 741.494 1393.68 M752.211 1377.36 L752.211 1377.36 Z\" fill=\"#000000\" fill-rule=\"nonzero\" fill-opacity=\"1\" /><path clip-path=\"url(#clip760)\" d=\"M776.193 1370.63 L776.193 1377.99 L784.966 1377.99 L784.966 1381.3 L776.193 1381.3 L776.193 1395.37 Q776.193 1398.54 777.049 1399.45 Q777.929 1400.35 780.591 1400.35 L784.966 1400.35 L784.966 1403.91 L780.591 1403.91 Q775.66 1403.91 773.785 1402.09 Q771.91 1400.23 771.91 1395.37 L771.91 1381.3 L768.785 1381.3 L768.785 1377.99 L771.91 1377.99 L771.91 1370.63 L776.193 1370.63 Z\" fill=\"#000000\" fill-rule=\"nonzero\" fill-opacity=\"1\" /><path clip-path=\"url(#clip760)\" d=\"M794.688 1400.03 L794.688 1413.78 L790.406 1413.78 L790.406 1377.99 L794.688 1377.99 L794.688 1381.92 Q796.031 1379.61 798.068 1378.5 Q800.128 1377.36 802.975 1377.36 Q807.697 1377.36 810.637 1381.11 Q813.6 1384.86 813.6 1390.97 Q813.6 1397.09 810.637 1400.84 Q807.697 1404.59 802.975 1404.59 Q800.128 1404.59 798.068 1403.47 Q796.031 1402.34 794.688 1400.03 M809.179 1390.97 Q809.179 1386.28 807.234 1383.61 Q805.313 1380.93 801.933 1380.93 Q798.554 1380.93 796.609 1383.61 Q794.688 1386.28 794.688 1390.97 Q794.688 1395.67 796.609 1398.36 Q798.554 1401.02 801.933 1401.02 Q805.313 1401.02 807.234 1398.36 Q809.179 1395.67 809.179 1390.97 Z\" fill=\"#000000\" fill-rule=\"nonzero\" fill-opacity=\"1\" /><path clip-path=\"url(#clip760)\" d=\"M820.22 1393.68 L820.22 1377.99 L824.48 1377.99 L824.48 1393.52 Q824.48 1397.2 825.915 1399.05 Q827.35 1400.88 830.22 1400.88 Q833.669 1400.88 835.66 1398.68 Q837.674 1396.48 837.674 1392.69 L837.674 1377.99 L841.933 1377.99 L841.933 1403.91 L837.674 1403.91 L837.674 1399.93 Q836.123 1402.29 834.063 1403.45 Q832.026 1404.59 829.318 1404.59 Q824.85 1404.59 822.535 1401.81 Q820.22 1399.03 820.22 1393.68 M830.938 1377.36 L830.938 1377.36 Z\" fill=\"#000000\" fill-rule=\"nonzero\" fill-opacity=\"1\" /><path clip-path=\"url(#clip760)\" d=\"M854.919 1370.63 L854.919 1377.99 L863.692 1377.99 L863.692 1381.3 L854.919 1381.3 L854.919 1395.37 Q854.919 1398.54 855.776 1399.45 Q856.655 1400.35 859.317 1400.35 L863.692 1400.35 L863.692 1403.91 L859.317 1403.91 Q854.387 1403.91 852.512 1402.09 Q850.637 1400.23 850.637 1395.37 L850.637 1381.3 L847.512 1381.3 L847.512 1377.99 L850.637 1377.99 L850.637 1370.63 L854.919 1370.63 Z\" fill=\"#000000\" fill-rule=\"nonzero\" fill-opacity=\"1\" /></svg>\n"
      ]
     },
     "execution_count": 28,
     "metadata": {},
     "output_type": "execute_result"
    }
   ],
   "source": [
    "plot(interval_result[length(net.layers)+1], label = \"Box output\", legend = true)\n",
    "plot!(zono_result[length(net.layers)], label = \"Zono output 1st layer\")\n",
    "plot!(zono_result[length(net.layers)+1], label = \"Zono final output\")"
   ]
  },
  {
   "cell_type": "markdown",
   "id": "09fe7bfe",
   "metadata": {},
   "source": [
    "Let us now test your ReLU abstraction on another example. Correct it if necessary..."
   ]
  },
  {
   "cell_type": "code",
   "execution_count": 29,
   "id": "b66cb217",
   "metadata": {},
   "outputs": [
    {
     "data": {
      "text/plain": [
       "Zonotope{Float64, Vector{Float64}, Matrix{Float64}}([-0.5], [1.5;;])"
      ]
     },
     "execution_count": 29,
     "metadata": {},
     "output_type": "execute_result"
    }
   ],
   "source": [
    "# one-dimensional zonotope \n",
    "X2 = Zonotope([-0.5], [[1.5]])"
   ]
  },
  {
   "cell_type": "code",
   "execution_count": 30,
   "id": "366852b1",
   "metadata": {},
   "outputs": [
    {
     "data": {
      "text/plain": [
       "Zonotope{Float64, Vector{Float64}, Matrix{Float64}}([0.16666666666666666], [0.5 -0.3333333333333333])"
      ]
     },
     "execution_count": 30,
     "metadata": {},
     "output_type": "execute_result"
    }
   ],
   "source": [
    "res_ReLU = zono_approximate_act_map(ReLU(),X2)"
   ]
  },
  {
   "cell_type": "code",
   "execution_count": 31,
   "id": "c745310e",
   "metadata": {},
   "outputs": [
    {
     "data": {
      "image/svg+xml": [
       "<?xml version=\"1.0\" encoding=\"utf-8\"?>\n",
       "<svg xmlns=\"http://www.w3.org/2000/svg\" xmlns:xlink=\"http://www.w3.org/1999/xlink\" width=\"600\" height=\"400\" viewBox=\"0 0 2400 1600\">\n",
       "<defs>\n",
       "  <clipPath id=\"clip800\">\n",
       "    <rect x=\"0\" y=\"0\" width=\"2400\" height=\"1600\"/>\n",
       "  </clipPath>\n",
       "</defs>\n",
       "<path clip-path=\"url(#clip800)\" d=\"M0 1600 L2400 1600 L2400 0 L0 0  Z\" fill=\"#ffffff\" fill-rule=\"evenodd\" fill-opacity=\"1\"/>\n",
       "<defs>\n",
       "  <clipPath id=\"clip801\">\n",
       "    <rect x=\"480\" y=\"0\" width=\"1681\" height=\"1600\"/>\n",
       "  </clipPath>\n",
       "</defs>\n",
       "<path clip-path=\"url(#clip800)\" d=\"M192.941 1486.45 L2352.76 1486.45 L2352.76 47.2441 L192.941 47.2441  Z\" fill=\"#ffffff\" fill-rule=\"evenodd\" fill-opacity=\"1\"/>\n",
       "<defs>\n",
       "  <clipPath id=\"clip802\">\n",
       "    <rect x=\"192\" y=\"47\" width=\"2161\" height=\"1440\"/>\n",
       "  </clipPath>\n",
       "</defs>\n",
       "<polyline clip-path=\"url(#clip802)\" style=\"stroke:#000000; stroke-linecap:round; stroke-linejoin:round; stroke-width:2; stroke-opacity:0.1; fill:none\" points=\"254.067,1486.45 254.067,47.2441 \"/>\n",
       "<polyline clip-path=\"url(#clip802)\" style=\"stroke:#000000; stroke-linecap:round; stroke-linejoin:round; stroke-width:2; stroke-opacity:0.1; fill:none\" points=\"933.255,1486.45 933.255,47.2441 \"/>\n",
       "<polyline clip-path=\"url(#clip802)\" style=\"stroke:#000000; stroke-linecap:round; stroke-linejoin:round; stroke-width:2; stroke-opacity:0.1; fill:none\" points=\"1612.44,1486.45 1612.44,47.2441 \"/>\n",
       "<polyline clip-path=\"url(#clip802)\" style=\"stroke:#000000; stroke-linecap:round; stroke-linejoin:round; stroke-width:2; stroke-opacity:0.1; fill:none\" points=\"2291.63,1486.45 2291.63,47.2441 \"/>\n",
       "<polyline clip-path=\"url(#clip800)\" style=\"stroke:#000000; stroke-linecap:round; stroke-linejoin:round; stroke-width:4; stroke-opacity:1; fill:none\" points=\"192.941,1486.45 2352.76,1486.45 \"/>\n",
       "<polyline clip-path=\"url(#clip800)\" style=\"stroke:#000000; stroke-linecap:round; stroke-linejoin:round; stroke-width:4; stroke-opacity:1; fill:none\" points=\"254.067,1486.45 254.067,1467.55 \"/>\n",
       "<polyline clip-path=\"url(#clip800)\" style=\"stroke:#000000; stroke-linecap:round; stroke-linejoin:round; stroke-width:4; stroke-opacity:1; fill:none\" points=\"933.255,1486.45 933.255,1467.55 \"/>\n",
       "<polyline clip-path=\"url(#clip800)\" style=\"stroke:#000000; stroke-linecap:round; stroke-linejoin:round; stroke-width:4; stroke-opacity:1; fill:none\" points=\"1612.44,1486.45 1612.44,1467.55 \"/>\n",
       "<polyline clip-path=\"url(#clip800)\" style=\"stroke:#000000; stroke-linecap:round; stroke-linejoin:round; stroke-width:4; stroke-opacity:1; fill:none\" points=\"2291.63,1486.45 2291.63,1467.55 \"/>\n",
       "<path clip-path=\"url(#clip800)\" d=\"M224.01 1532.02 L253.686 1532.02 L253.686 1535.95 L224.01 1535.95 L224.01 1532.02 Z\" fill=\"#000000\" fill-rule=\"nonzero\" fill-opacity=\"1\" /><path clip-path=\"url(#clip800)\" d=\"M267.806 1544.91 L284.125 1544.91 L284.125 1548.85 L262.181 1548.85 L262.181 1544.91 Q264.843 1542.16 269.426 1537.53 Q274.033 1532.88 275.213 1531.53 Q277.459 1529.01 278.338 1527.27 Q279.241 1525.51 279.241 1523.82 Q279.241 1521.07 277.297 1519.33 Q275.375 1517.6 272.273 1517.6 Q270.074 1517.6 267.621 1518.36 Q265.19 1519.13 262.412 1520.68 L262.412 1515.95 Q265.236 1514.82 267.69 1514.24 Q270.144 1513.66 272.181 1513.66 Q277.551 1513.66 280.746 1516.35 Q283.94 1519.03 283.94 1523.52 Q283.94 1525.65 283.13 1527.57 Q282.343 1529.47 280.236 1532.07 Q279.658 1532.74 276.556 1535.95 Q273.454 1539.15 267.806 1544.91 Z\" fill=\"#000000\" fill-rule=\"nonzero\" fill-opacity=\"1\" /><path clip-path=\"url(#clip800)\" d=\"M903.012 1532.02 L932.688 1532.02 L932.688 1535.95 L903.012 1535.95 L903.012 1532.02 Z\" fill=\"#000000\" fill-rule=\"nonzero\" fill-opacity=\"1\" /><path clip-path=\"url(#clip800)\" d=\"M943.59 1544.91 L951.229 1544.91 L951.229 1518.55 L942.919 1520.21 L942.919 1515.95 L951.183 1514.29 L955.859 1514.29 L955.859 1544.91 L963.498 1544.91 L963.498 1548.85 L943.59 1548.85 L943.59 1544.91 Z\" fill=\"#000000\" fill-rule=\"nonzero\" fill-opacity=\"1\" /><path clip-path=\"url(#clip800)\" d=\"M1612.44 1517.37 Q1608.83 1517.37 1607 1520.93 Q1605.2 1524.47 1605.2 1531.6 Q1605.2 1538.71 1607 1542.27 Q1608.83 1545.82 1612.44 1545.82 Q1616.08 1545.82 1617.88 1542.27 Q1619.71 1538.71 1619.71 1531.6 Q1619.71 1524.47 1617.88 1520.93 Q1616.08 1517.37 1612.44 1517.37 M1612.44 1513.66 Q1618.25 1513.66 1621.31 1518.27 Q1624.39 1522.85 1624.39 1531.6 Q1624.39 1540.33 1621.31 1544.94 Q1618.25 1549.52 1612.44 1549.52 Q1606.63 1549.52 1603.55 1544.94 Q1600.5 1540.33 1600.5 1531.6 Q1600.5 1522.85 1603.55 1518.27 Q1606.63 1513.66 1612.44 1513.66 Z\" fill=\"#000000\" fill-rule=\"nonzero\" fill-opacity=\"1\" /><path clip-path=\"url(#clip800)\" d=\"M2282.01 1544.91 L2289.65 1544.91 L2289.65 1518.55 L2281.34 1520.21 L2281.34 1515.95 L2289.6 1514.29 L2294.28 1514.29 L2294.28 1544.91 L2301.92 1544.91 L2301.92 1548.85 L2282.01 1548.85 L2282.01 1544.91 Z\" fill=\"#000000\" fill-rule=\"nonzero\" fill-opacity=\"1\" /><polyline clip-path=\"url(#clip802)\" style=\"stroke:#000000; stroke-linecap:round; stroke-linejoin:round; stroke-width:2; stroke-opacity:0.1; fill:none\" points=\"192.941,1309.94 2352.76,1309.94 \"/>\n",
       "<polyline clip-path=\"url(#clip802)\" style=\"stroke:#000000; stroke-linecap:round; stroke-linejoin:round; stroke-width:2; stroke-opacity:0.1; fill:none\" points=\"192.941,902.62 2352.76,902.62 \"/>\n",
       "<polyline clip-path=\"url(#clip802)\" style=\"stroke:#000000; stroke-linecap:round; stroke-linejoin:round; stroke-width:2; stroke-opacity:0.1; fill:none\" points=\"192.941,495.298 2352.76,495.298 \"/>\n",
       "<polyline clip-path=\"url(#clip802)\" style=\"stroke:#000000; stroke-linecap:round; stroke-linejoin:round; stroke-width:2; stroke-opacity:0.1; fill:none\" points=\"192.941,87.9763 2352.76,87.9763 \"/>\n",
       "<polyline clip-path=\"url(#clip800)\" style=\"stroke:#000000; stroke-linecap:round; stroke-linejoin:round; stroke-width:4; stroke-opacity:1; fill:none\" points=\"192.941,1486.45 192.941,47.2441 \"/>\n",
       "<polyline clip-path=\"url(#clip800)\" style=\"stroke:#000000; stroke-linecap:round; stroke-linejoin:round; stroke-width:4; stroke-opacity:1; fill:none\" points=\"192.941,1309.94 211.838,1309.94 \"/>\n",
       "<polyline clip-path=\"url(#clip800)\" style=\"stroke:#000000; stroke-linecap:round; stroke-linejoin:round; stroke-width:4; stroke-opacity:1; fill:none\" points=\"192.941,902.62 211.838,902.62 \"/>\n",
       "<polyline clip-path=\"url(#clip800)\" style=\"stroke:#000000; stroke-linecap:round; stroke-linejoin:round; stroke-width:4; stroke-opacity:1; fill:none\" points=\"192.941,495.298 211.838,495.298 \"/>\n",
       "<polyline clip-path=\"url(#clip800)\" style=\"stroke:#000000; stroke-linecap:round; stroke-linejoin:round; stroke-width:4; stroke-opacity:1; fill:none\" points=\"192.941,87.9763 211.838,87.9763 \"/>\n",
       "<path clip-path=\"url(#clip800)\" d=\"M50.9921 1310.39 L80.6679 1310.39 L80.6679 1314.33 L50.9921 1314.33 L50.9921 1310.39 Z\" fill=\"#000000\" fill-rule=\"nonzero\" fill-opacity=\"1\" /><path clip-path=\"url(#clip800)\" d=\"M100.76 1295.74 Q97.1493 1295.74 95.3206 1299.31 Q93.515 1302.85 93.515 1309.98 Q93.515 1317.08 95.3206 1320.65 Q97.1493 1324.19 100.76 1324.19 Q104.395 1324.19 106.2 1320.65 Q108.029 1317.08 108.029 1309.98 Q108.029 1302.85 106.2 1299.31 Q104.395 1295.74 100.76 1295.74 M100.76 1292.04 Q106.571 1292.04 109.626 1296.64 Q112.705 1301.23 112.705 1309.98 Q112.705 1318.7 109.626 1323.31 Q106.571 1327.89 100.76 1327.89 Q94.9502 1327.89 91.8715 1323.31 Q88.816 1318.7 88.816 1309.98 Q88.816 1301.23 91.8715 1296.64 Q94.9502 1292.04 100.76 1292.04 Z\" fill=\"#000000\" fill-rule=\"nonzero\" fill-opacity=\"1\" /><path clip-path=\"url(#clip800)\" d=\"M120.922 1321.34 L125.807 1321.34 L125.807 1327.22 L120.922 1327.22 L120.922 1321.34 Z\" fill=\"#000000\" fill-rule=\"nonzero\" fill-opacity=\"1\" /><path clip-path=\"url(#clip800)\" d=\"M136.038 1292.66 L154.394 1292.66 L154.394 1296.6 L140.32 1296.6 L140.32 1305.07 Q141.339 1304.72 142.357 1304.56 Q143.376 1304.37 144.394 1304.37 Q150.181 1304.37 153.561 1307.55 Q156.941 1310.72 156.941 1316.13 Q156.941 1321.71 153.468 1324.81 Q149.996 1327.89 143.677 1327.89 Q141.501 1327.89 139.232 1327.52 Q136.987 1327.15 134.58 1326.41 L134.58 1321.71 Q136.663 1322.85 138.885 1323.4 Q141.107 1323.96 143.584 1323.96 Q147.589 1323.96 149.927 1321.85 Q152.265 1319.74 152.265 1316.13 Q152.265 1312.52 149.927 1310.42 Q147.589 1308.31 143.584 1308.31 Q141.709 1308.31 139.834 1308.73 Q137.982 1309.14 136.038 1310.02 L136.038 1292.66 Z\" fill=\"#000000\" fill-rule=\"nonzero\" fill-opacity=\"1\" /><path clip-path=\"url(#clip800)\" d=\"M99.765 888.419 Q96.1539 888.419 94.3252 891.983 Q92.5197 895.525 92.5197 902.655 Q92.5197 909.761 94.3252 913.326 Q96.1539 916.868 99.765 916.868 Q103.399 916.868 105.205 913.326 Q107.033 909.761 107.033 902.655 Q107.033 895.525 105.205 891.983 Q103.399 888.419 99.765 888.419 M99.765 884.715 Q105.575 884.715 108.631 889.321 Q111.709 893.905 111.709 902.655 Q111.709 911.381 108.631 915.988 Q105.575 920.571 99.765 920.571 Q93.9549 920.571 90.8762 915.988 Q87.8206 911.381 87.8206 902.655 Q87.8206 893.905 90.8762 889.321 Q93.9549 884.715 99.765 884.715 Z\" fill=\"#000000\" fill-rule=\"nonzero\" fill-opacity=\"1\" /><path clip-path=\"url(#clip800)\" d=\"M119.927 914.02 L124.811 914.02 L124.811 919.9 L119.927 919.9 L119.927 914.02 Z\" fill=\"#000000\" fill-rule=\"nonzero\" fill-opacity=\"1\" /><path clip-path=\"url(#clip800)\" d=\"M144.996 888.419 Q141.385 888.419 139.556 891.983 Q137.751 895.525 137.751 902.655 Q137.751 909.761 139.556 913.326 Q141.385 916.868 144.996 916.868 Q148.63 916.868 150.436 913.326 Q152.265 909.761 152.265 902.655 Q152.265 895.525 150.436 891.983 Q148.63 888.419 144.996 888.419 M144.996 884.715 Q150.806 884.715 153.862 889.321 Q156.941 893.905 156.941 902.655 Q156.941 911.381 153.862 915.988 Q150.806 920.571 144.996 920.571 Q139.186 920.571 136.107 915.988 Q133.052 911.381 133.052 902.655 Q133.052 893.905 136.107 889.321 Q139.186 884.715 144.996 884.715 Z\" fill=\"#000000\" fill-rule=\"nonzero\" fill-opacity=\"1\" /><path clip-path=\"url(#clip800)\" d=\"M100.76 481.097 Q97.1493 481.097 95.3206 484.662 Q93.515 488.203 93.515 495.333 Q93.515 502.439 95.3206 506.004 Q97.1493 509.546 100.76 509.546 Q104.395 509.546 106.2 506.004 Q108.029 502.439 108.029 495.333 Q108.029 488.203 106.2 484.662 Q104.395 481.097 100.76 481.097 M100.76 477.393 Q106.571 477.393 109.626 482 Q112.705 486.583 112.705 495.333 Q112.705 504.06 109.626 508.666 Q106.571 513.249 100.76 513.249 Q94.9502 513.249 91.8715 508.666 Q88.816 504.06 88.816 495.333 Q88.816 486.583 91.8715 482 Q94.9502 477.393 100.76 477.393 Z\" fill=\"#000000\" fill-rule=\"nonzero\" fill-opacity=\"1\" /><path clip-path=\"url(#clip800)\" d=\"M120.922 506.699 L125.807 506.699 L125.807 512.578 L120.922 512.578 L120.922 506.699 Z\" fill=\"#000000\" fill-rule=\"nonzero\" fill-opacity=\"1\" /><path clip-path=\"url(#clip800)\" d=\"M136.038 478.018 L154.394 478.018 L154.394 481.953 L140.32 481.953 L140.32 490.425 Q141.339 490.078 142.357 489.916 Q143.376 489.731 144.394 489.731 Q150.181 489.731 153.561 492.902 Q156.941 496.074 156.941 501.49 Q156.941 507.069 153.468 510.171 Q149.996 513.249 143.677 513.249 Q141.501 513.249 139.232 512.879 Q136.987 512.509 134.58 511.768 L134.58 507.069 Q136.663 508.203 138.885 508.759 Q141.107 509.314 143.584 509.314 Q147.589 509.314 149.927 507.208 Q152.265 505.101 152.265 501.49 Q152.265 497.879 149.927 495.773 Q147.589 493.666 143.584 493.666 Q141.709 493.666 139.834 494.083 Q137.982 494.499 136.038 495.379 L136.038 478.018 Z\" fill=\"#000000\" fill-rule=\"nonzero\" fill-opacity=\"1\" /><path clip-path=\"url(#clip800)\" d=\"M90.5752 101.321 L98.2141 101.321 L98.2141 74.9555 L89.904 76.6222 L89.904 72.3629 L98.1678 70.6963 L102.844 70.6963 L102.844 101.321 L110.483 101.321 L110.483 105.256 L90.5752 105.256 L90.5752 101.321 Z\" fill=\"#000000\" fill-rule=\"nonzero\" fill-opacity=\"1\" /><path clip-path=\"url(#clip800)\" d=\"M119.927 99.3767 L124.811 99.3767 L124.811 105.256 L119.927 105.256 L119.927 99.3767 Z\" fill=\"#000000\" fill-rule=\"nonzero\" fill-opacity=\"1\" /><path clip-path=\"url(#clip800)\" d=\"M144.996 73.775 Q141.385 73.775 139.556 77.3398 Q137.751 80.8814 137.751 88.011 Q137.751 95.1174 139.556 98.6822 Q141.385 102.224 144.996 102.224 Q148.63 102.224 150.436 98.6822 Q152.265 95.1174 152.265 88.011 Q152.265 80.8814 150.436 77.3398 Q148.63 73.775 144.996 73.775 M144.996 70.0713 Q150.806 70.0713 153.862 74.6777 Q156.941 79.261 156.941 88.011 Q156.941 96.7378 153.862 101.344 Q150.806 105.928 144.996 105.928 Q139.186 105.928 136.107 101.344 Q133.052 96.7378 133.052 88.011 Q133.052 79.261 136.107 74.6777 Q139.186 70.0713 144.996 70.0713 Z\" fill=\"#000000\" fill-rule=\"nonzero\" fill-opacity=\"1\" /><path clip-path=\"url(#clip802)\" d=\"M254.067 1445.72 L2291.63 631.072 L2291.63 87.9763 L254.067 902.62 L254.067 1445.72 L254.067 1445.72  Z\" fill=\"#009af9\" fill-rule=\"evenodd\" fill-opacity=\"0.5\"/>\n",
       "<polyline clip-path=\"url(#clip802)\" style=\"stroke:#000000; stroke-linecap:round; stroke-linejoin:round; stroke-width:4; stroke-opacity:0.5; fill:none\" points=\"254.067,1445.72 2291.63,631.072 2291.63,87.9763 254.067,902.62 254.067,1445.72 \"/>\n",
       "<path clip-path=\"url(#clip800)\" d=\"M264.934 198.898 L1108.71 198.898 L1108.71 95.2176 L264.934 95.2176  Z\" fill=\"#ffffff\" fill-rule=\"evenodd\" fill-opacity=\"1\"/>\n",
       "<polyline clip-path=\"url(#clip800)\" style=\"stroke:#000000; stroke-linecap:round; stroke-linejoin:round; stroke-width:4; stroke-opacity:1; fill:none\" points=\"264.934,198.898 1108.71,198.898 1108.71,95.2176 264.934,95.2176 264.934,198.898 \"/>\n",
       "<path clip-path=\"url(#clip800)\" d=\"M288.932 167.794 L432.92 167.794 L432.92 126.322 L288.932 126.322 L288.932 167.794  Z\" fill=\"#009af9\" fill-rule=\"evenodd\" fill-opacity=\"0.5\"/>\n",
       "<polyline clip-path=\"url(#clip800)\" style=\"stroke:#000000; stroke-linecap:round; stroke-linejoin:round; stroke-width:4; stroke-opacity:1; fill:none\" points=\"288.932,167.794 432.92,167.794 432.92,126.322 288.932,126.322 288.932,167.794 \"/>\n",
       "<path clip-path=\"url(#clip800)\" d=\"M473.307 148.134 Q474.811 148.643 476.224 150.31 Q477.659 151.977 479.094 154.893 L483.839 164.338 L478.816 164.338 L474.395 155.472 Q472.682 152 471.061 150.865 Q469.464 149.731 466.687 149.731 L461.594 149.731 L461.594 164.338 L456.918 164.338 L456.918 129.778 L467.474 129.778 Q473.399 129.778 476.316 132.254 Q479.233 134.731 479.233 139.731 Q479.233 142.995 477.705 145.148 Q476.2 147.301 473.307 148.134 M461.594 133.62 L461.594 145.889 L467.474 145.889 Q470.853 145.889 472.566 144.338 Q474.302 142.764 474.302 139.731 Q474.302 136.699 472.566 135.171 Q470.853 133.62 467.474 133.62 L461.594 133.62 Z\" fill=\"#000000\" fill-rule=\"nonzero\" fill-opacity=\"1\" /><path clip-path=\"url(#clip800)\" d=\"M509.719 150.31 L509.719 152.393 L490.135 152.393 Q490.413 156.791 492.774 159.106 Q495.159 161.398 499.395 161.398 Q501.848 161.398 504.14 160.796 Q506.455 160.194 508.723 158.99 L508.723 163.018 Q506.432 163.99 504.024 164.5 Q501.617 165.009 499.14 165.009 Q492.936 165.009 489.302 161.398 Q485.691 157.787 485.691 151.629 Q485.691 145.264 489.117 141.537 Q492.566 137.787 498.399 137.787 Q503.631 137.787 506.663 141.166 Q509.719 144.523 509.719 150.31 M505.459 149.06 Q505.413 145.565 503.492 143.481 Q501.594 141.398 498.446 141.398 Q494.881 141.398 492.728 143.412 Q490.598 145.426 490.274 149.083 L505.459 149.06 Z\" fill=\"#000000\" fill-rule=\"nonzero\" fill-opacity=\"1\" /><path clip-path=\"url(#clip800)\" d=\"M516.895 129.778 L521.57 129.778 L521.57 160.402 L538.399 160.402 L538.399 164.338 L516.895 164.338 L516.895 129.778 Z\" fill=\"#000000\" fill-rule=\"nonzero\" fill-opacity=\"1\" /><path clip-path=\"url(#clip800)\" d=\"M540.413 129.778 L545.112 129.778 L545.112 150.773 Q545.112 156.328 547.126 158.782 Q549.14 161.213 553.654 161.213 Q558.144 161.213 560.158 158.782 Q562.172 156.328 562.172 150.773 L562.172 129.778 L566.871 129.778 L566.871 151.352 Q566.871 158.111 563.515 161.56 Q560.181 165.009 553.654 165.009 Q547.103 165.009 543.746 161.56 Q540.413 158.111 540.413 151.352 L540.413 129.778 Z\" fill=\"#000000\" fill-rule=\"nonzero\" fill-opacity=\"1\" /><path clip-path=\"url(#clip800)\" d=\"M590.528 138.412 L594.788 138.412 L594.788 164.338 L590.528 164.338 L590.528 138.412 M590.528 128.319 L594.788 128.319 L594.788 133.713 L590.528 133.713 L590.528 128.319 Z\" fill=\"#000000\" fill-rule=\"nonzero\" fill-opacity=\"1\" /><path clip-path=\"url(#clip800)\" d=\"M625.25 148.689 L625.25 164.338 L620.991 164.338 L620.991 148.828 Q620.991 145.148 619.556 143.319 Q618.121 141.49 615.251 141.49 Q611.801 141.49 609.811 143.69 Q607.82 145.889 607.82 149.685 L607.82 164.338 L603.538 164.338 L603.538 138.412 L607.82 138.412 L607.82 142.44 Q609.348 140.102 611.408 138.944 Q613.491 137.787 616.2 137.787 Q620.667 137.787 622.959 140.565 Q625.25 143.319 625.25 148.689 Z\" fill=\"#000000\" fill-rule=\"nonzero\" fill-opacity=\"1\" /><path clip-path=\"url(#clip800)\" d=\"M648.815 138.412 L653.074 138.412 L653.074 164.338 L648.815 164.338 L648.815 138.412 M648.815 128.319 L653.074 128.319 L653.074 133.713 L648.815 133.713 L648.815 128.319 Z\" fill=\"#000000\" fill-rule=\"nonzero\" fill-opacity=\"1\" /><path clip-path=\"url(#clip800)\" d=\"M683.537 148.689 L683.537 164.338 L679.278 164.338 L679.278 148.828 Q679.278 145.148 677.843 143.319 Q676.408 141.49 673.537 141.49 Q670.088 141.49 668.097 143.69 Q666.107 145.889 666.107 149.685 L666.107 164.338 L661.824 164.338 L661.824 138.412 L666.107 138.412 L666.107 142.44 Q667.635 140.102 669.695 138.944 Q671.778 137.787 674.486 137.787 Q678.954 137.787 681.246 140.565 Q683.537 143.319 683.537 148.689 Z\" fill=\"#000000\" fill-rule=\"nonzero\" fill-opacity=\"1\" /><path clip-path=\"url(#clip800)\" d=\"M696.153 160.449 L696.153 174.199 L691.87 174.199 L691.87 138.412 L696.153 138.412 L696.153 142.347 Q697.495 140.032 699.532 138.921 Q701.593 137.787 704.44 137.787 Q709.162 137.787 712.102 141.537 Q715.065 145.287 715.065 151.398 Q715.065 157.509 712.102 161.259 Q709.162 165.009 704.44 165.009 Q701.593 165.009 699.532 163.898 Q697.495 162.763 696.153 160.449 M710.644 151.398 Q710.644 146.699 708.699 144.037 Q706.778 141.352 703.398 141.352 Q700.019 141.352 698.074 144.037 Q696.153 146.699 696.153 151.398 Q696.153 156.097 698.074 158.782 Q700.019 161.444 703.398 161.444 Q706.778 161.444 708.699 158.782 Q710.644 156.097 710.644 151.398 Z\" fill=\"#000000\" fill-rule=\"nonzero\" fill-opacity=\"1\" /><path clip-path=\"url(#clip800)\" d=\"M721.685 154.106 L721.685 138.412 L725.944 138.412 L725.944 153.944 Q725.944 157.625 727.38 159.476 Q728.815 161.305 731.685 161.305 Q735.134 161.305 737.125 159.106 Q739.139 156.907 739.139 153.111 L739.139 138.412 L743.398 138.412 L743.398 164.338 L739.139 164.338 L739.139 160.356 Q737.588 162.717 735.528 163.875 Q733.491 165.009 730.782 165.009 Q726.315 165.009 724 162.231 Q721.685 159.453 721.685 154.106 M732.403 137.787 L732.403 137.787 Z\" fill=\"#000000\" fill-rule=\"nonzero\" fill-opacity=\"1\" /><path clip-path=\"url(#clip800)\" d=\"M756.384 131.051 L756.384 138.412 L765.157 138.412 L765.157 141.722 L756.384 141.722 L756.384 155.796 Q756.384 158.967 757.241 159.87 Q758.12 160.773 760.782 160.773 L765.157 160.773 L765.157 164.338 L760.782 164.338 Q755.852 164.338 753.977 162.509 Q752.102 160.657 752.102 155.796 L752.102 141.722 L748.977 141.722 L748.977 138.412 L752.102 138.412 L752.102 131.051 L756.384 131.051 Z\" fill=\"#000000\" fill-rule=\"nonzero\" fill-opacity=\"1\" /><path clip-path=\"url(#clip800)\" d=\"M768.606 149.453 L781.083 149.453 L781.083 153.25 L768.606 153.25 L768.606 149.453 Z\" fill=\"#000000\" fill-rule=\"nonzero\" fill-opacity=\"1\" /><path clip-path=\"url(#clip800)\" d=\"M798.791 141.398 Q795.365 141.398 793.375 144.083 Q791.384 146.745 791.384 151.398 Q791.384 156.051 793.351 158.736 Q795.342 161.398 798.791 161.398 Q802.194 161.398 804.185 158.713 Q806.175 156.027 806.175 151.398 Q806.175 146.791 804.185 144.106 Q802.194 141.398 798.791 141.398 M798.791 137.787 Q804.347 137.787 807.518 141.398 Q810.689 145.009 810.689 151.398 Q810.689 157.764 807.518 161.398 Q804.347 165.009 798.791 165.009 Q793.213 165.009 790.041 161.398 Q786.893 157.764 786.893 151.398 Q786.893 145.009 790.041 141.398 Q793.213 137.787 798.791 137.787 Z\" fill=\"#000000\" fill-rule=\"nonzero\" fill-opacity=\"1\" /><path clip-path=\"url(#clip800)\" d=\"M817.31 154.106 L817.31 138.412 L821.569 138.412 L821.569 153.944 Q821.569 157.625 823.004 159.476 Q824.439 161.305 827.31 161.305 Q830.759 161.305 832.749 159.106 Q834.763 156.907 834.763 153.111 L834.763 138.412 L839.022 138.412 L839.022 164.338 L834.763 164.338 L834.763 160.356 Q833.212 162.717 831.152 163.875 Q829.115 165.009 826.407 165.009 Q821.939 165.009 819.624 162.231 Q817.31 159.453 817.31 154.106 M828.027 137.787 L828.027 137.787 Z\" fill=\"#000000\" fill-rule=\"nonzero\" fill-opacity=\"1\" /><path clip-path=\"url(#clip800)\" d=\"M852.009 131.051 L852.009 138.412 L860.782 138.412 L860.782 141.722 L852.009 141.722 L852.009 155.796 Q852.009 158.967 852.865 159.87 Q853.745 160.773 856.407 160.773 L860.782 160.773 L860.782 164.338 L856.407 164.338 Q851.476 164.338 849.601 162.509 Q847.726 160.657 847.726 155.796 L847.726 141.722 L844.601 141.722 L844.601 138.412 L847.726 138.412 L847.726 131.051 L852.009 131.051 Z\" fill=\"#000000\" fill-rule=\"nonzero\" fill-opacity=\"1\" /><path clip-path=\"url(#clip800)\" d=\"M870.504 160.449 L870.504 174.199 L866.221 174.199 L866.221 138.412 L870.504 138.412 L870.504 142.347 Q871.846 140.032 873.883 138.921 Q875.944 137.787 878.791 137.787 Q883.513 137.787 886.453 141.537 Q889.416 145.287 889.416 151.398 Q889.416 157.509 886.453 161.259 Q883.513 165.009 878.791 165.009 Q875.944 165.009 873.883 163.898 Q871.846 162.763 870.504 160.449 M884.994 151.398 Q884.994 146.699 883.05 144.037 Q881.129 141.352 877.749 141.352 Q874.37 141.352 872.425 144.037 Q870.504 146.699 870.504 151.398 Q870.504 156.097 872.425 158.782 Q874.37 161.444 877.749 161.444 Q881.129 161.444 883.05 158.782 Q884.994 156.097 884.994 151.398 Z\" fill=\"#000000\" fill-rule=\"nonzero\" fill-opacity=\"1\" /><path clip-path=\"url(#clip800)\" d=\"M896.036 154.106 L896.036 138.412 L900.295 138.412 L900.295 153.944 Q900.295 157.625 901.73 159.476 Q903.166 161.305 906.036 161.305 Q909.485 161.305 911.476 159.106 Q913.49 156.907 913.49 153.111 L913.49 138.412 L917.749 138.412 L917.749 164.338 L913.49 164.338 L913.49 160.356 Q911.939 162.717 909.879 163.875 Q907.842 165.009 905.133 165.009 Q900.666 165.009 898.351 162.231 Q896.036 159.453 896.036 154.106 M906.754 137.787 L906.754 137.787 Z\" fill=\"#000000\" fill-rule=\"nonzero\" fill-opacity=\"1\" /><path clip-path=\"url(#clip800)\" d=\"M930.735 131.051 L930.735 138.412 L939.508 138.412 L939.508 141.722 L930.735 141.722 L930.735 155.796 Q930.735 158.967 931.591 159.87 Q932.471 160.773 935.133 160.773 L939.508 160.773 L939.508 164.338 L935.133 164.338 Q930.203 164.338 928.328 162.509 Q926.453 160.657 926.453 155.796 L926.453 141.722 L923.328 141.722 L923.328 138.412 L926.453 138.412 L926.453 131.051 L930.735 131.051 Z\" fill=\"#000000\" fill-rule=\"nonzero\" fill-opacity=\"1\" /><path clip-path=\"url(#clip800)\" d=\"M964.3 160.449 L964.3 174.199 L960.017 174.199 L960.017 138.412 L964.3 138.412 L964.3 142.347 Q965.642 140.032 967.679 138.921 Q969.739 137.787 972.587 137.787 Q977.309 137.787 980.249 141.537 Q983.212 145.287 983.212 151.398 Q983.212 157.509 980.249 161.259 Q977.309 165.009 972.587 165.009 Q969.739 165.009 967.679 163.898 Q965.642 162.763 964.3 160.449 M978.79 151.398 Q978.79 146.699 976.846 144.037 Q974.925 141.352 971.545 141.352 Q968.165 141.352 966.221 144.037 Q964.3 146.699 964.3 151.398 Q964.3 156.097 966.221 158.782 Q968.165 161.444 971.545 161.444 Q974.925 161.444 976.846 158.782 Q978.79 156.097 978.79 151.398 Z\" fill=\"#000000\" fill-rule=\"nonzero\" fill-opacity=\"1\" /><path clip-path=\"url(#clip800)\" d=\"M990.272 128.319 L994.531 128.319 L994.531 164.338 L990.272 164.338 L990.272 128.319 Z\" fill=\"#000000\" fill-rule=\"nonzero\" fill-opacity=\"1\" /><path clip-path=\"url(#clip800)\" d=\"M1015.23 151.305 Q1010.06 151.305 1008.07 152.486 Q1006.08 153.666 1006.08 156.514 Q1006.08 158.782 1007.56 160.125 Q1009.07 161.444 1011.64 161.444 Q1015.18 161.444 1017.31 158.944 Q1019.46 156.421 1019.46 152.254 L1019.46 151.305 L1015.23 151.305 M1023.72 149.546 L1023.72 164.338 L1019.46 164.338 L1019.46 160.402 Q1018 162.763 1015.83 163.898 Q1013.65 165.009 1010.5 165.009 Q1006.52 165.009 1004.16 162.787 Q1001.82 160.541 1001.82 156.791 Q1001.82 152.416 1004.74 150.194 Q1007.68 147.972 1013.49 147.972 L1019.46 147.972 L1019.46 147.555 Q1019.46 144.615 1017.52 143.018 Q1015.6 141.398 1012.1 141.398 Q1009.88 141.398 1007.77 141.93 Q1005.67 142.463 1003.72 143.527 L1003.72 139.592 Q1006.06 138.69 1008.26 138.25 Q1010.46 137.787 1012.54 137.787 Q1018.17 137.787 1020.94 140.703 Q1023.72 143.62 1023.72 149.546 Z\" fill=\"#000000\" fill-rule=\"nonzero\" fill-opacity=\"1\" /><path clip-path=\"url(#clip800)\" d=\"M1054.04 148.689 L1054.04 164.338 L1049.79 164.338 L1049.79 148.828 Q1049.79 145.148 1048.35 143.319 Q1046.91 141.49 1044.04 141.49 Q1040.6 141.49 1038.6 143.69 Q1036.61 145.889 1036.61 149.685 L1036.61 164.338 L1032.33 164.338 L1032.33 138.412 L1036.61 138.412 L1036.61 142.44 Q1038.14 140.102 1040.2 138.944 Q1042.29 137.787 1044.99 137.787 Q1049.46 137.787 1051.75 140.565 Q1054.04 143.319 1054.04 148.689 Z\" fill=\"#000000\" fill-rule=\"nonzero\" fill-opacity=\"1\" /><path clip-path=\"url(#clip800)\" d=\"M1084.72 150.31 L1084.72 152.393 L1065.13 152.393 Q1065.41 156.791 1067.77 159.106 Q1070.16 161.398 1074.39 161.398 Q1076.85 161.398 1079.14 160.796 Q1081.45 160.194 1083.72 158.99 L1083.72 163.018 Q1081.43 163.99 1079.02 164.5 Q1076.61 165.009 1074.14 165.009 Q1067.93 165.009 1064.3 161.398 Q1060.69 157.787 1060.69 151.629 Q1060.69 145.264 1064.11 141.537 Q1067.56 137.787 1073.4 137.787 Q1078.63 137.787 1081.66 141.166 Q1084.72 144.523 1084.72 150.31 M1080.46 149.06 Q1080.41 145.565 1078.49 143.481 Q1076.59 141.398 1073.44 141.398 Q1069.88 141.398 1067.72 143.412 Q1065.6 145.426 1065.27 149.083 L1080.46 149.06 Z\" fill=\"#000000\" fill-rule=\"nonzero\" fill-opacity=\"1\" /></svg>\n"
      ]
     },
     "execution_count": 31,
     "metadata": {},
     "output_type": "execute_result"
    }
   ],
   "source": [
    "# building the 2-dimensional zonotope (X2,res_ReLU) in order to visualize it\n",
    "input_output_zono = Zonotope(vcat(-0.5,LazySets.center(res_ReLU)), vcat([1.5 0.0],genmat(res_ReLU)))\n",
    "plot(input_output_zono,label = \"ReLU in input-output plane\", legend = true)"
   ]
  },
  {
   "cell_type": "markdown",
   "id": "7dbe3548",
   "metadata": {},
   "source": [
    "Let us now go 2-dimensional to make sure your functions still work fine: they should apply the ReLU componentwise on the dimensions of the Zonotope input to produce a Zonotope output. "
   ]
  },
  {
   "cell_type": "code",
   "execution_count": 32,
   "id": "12006f88",
   "metadata": {},
   "outputs": [
    {
     "data": {
      "text/plain": [
       "Zonotope{Float64, Vector{Float64}, Matrix{Float64}}([-0.5, -0.5], [1.5; 1.5;;])"
      ]
     },
     "execution_count": 32,
     "metadata": {},
     "output_type": "execute_result"
    }
   ],
   "source": [
    "X3 = Zonotope([-0.5, -0.5], [[1.5, 1.5]])"
   ]
  },
  {
   "cell_type": "markdown",
   "id": "75a53938",
   "metadata": {},
   "source": [
    "What does the X3 zonotope represent ? \n",
    "\n",
    "Let us now apply the ReLU function to X3. "
   ]
  },
  {
   "cell_type": "code",
   "execution_count": 33,
   "id": "c75fbdb8",
   "metadata": {},
   "outputs": [
    {
     "data": {
      "text/plain": [
       "Zonotope{Float64, Vector{Float64}, Matrix{Float64}}([0.16666666666666666, 0.16666666666666666], [0.5 -0.3333333333333333 0.0; 0.5 0.0 -0.3333333333333333])"
      ]
     },
     "execution_count": 33,
     "metadata": {},
     "output_type": "execute_result"
    }
   ],
   "source": [
    "res_ReLU3 = zono_approximate_act_map(ReLU(),X3)"
   ]
  },
  {
   "cell_type": "code",
   "execution_count": 34,
   "id": "b398e311",
   "metadata": {},
   "outputs": [
    {
     "data": {
      "image/svg+xml": [
       "<?xml version=\"1.0\" encoding=\"utf-8\"?>\n",
       "<svg xmlns=\"http://www.w3.org/2000/svg\" xmlns:xlink=\"http://www.w3.org/1999/xlink\" width=\"600\" height=\"400\" viewBox=\"0 0 2400 1600\">\n",
       "<defs>\n",
       "  <clipPath id=\"clip840\">\n",
       "    <rect x=\"0\" y=\"0\" width=\"2400\" height=\"1600\"/>\n",
       "  </clipPath>\n",
       "</defs>\n",
       "<path clip-path=\"url(#clip840)\" d=\"M0 1600 L2400 1600 L2400 0 L0 0  Z\" fill=\"#ffffff\" fill-rule=\"evenodd\" fill-opacity=\"1\"/>\n",
       "<defs>\n",
       "  <clipPath id=\"clip841\">\n",
       "    <rect x=\"480\" y=\"0\" width=\"1681\" height=\"1600\"/>\n",
       "  </clipPath>\n",
       "</defs>\n",
       "<path clip-path=\"url(#clip840)\" d=\"M192.941 1486.45 L2352.76 1486.45 L2352.76 47.2441 L192.941 47.2441  Z\" fill=\"#ffffff\" fill-rule=\"evenodd\" fill-opacity=\"1\"/>\n",
       "<defs>\n",
       "  <clipPath id=\"clip842\">\n",
       "    <rect x=\"192\" y=\"47\" width=\"2161\" height=\"1440\"/>\n",
       "  </clipPath>\n",
       "</defs>\n",
       "<polyline clip-path=\"url(#clip842)\" style=\"stroke:#000000; stroke-linecap:round; stroke-linejoin:round; stroke-width:2; stroke-opacity:0.1; fill:none\" points=\"457.824,1486.45 457.824,47.2441 \"/>\n",
       "<polyline clip-path=\"url(#clip842)\" style=\"stroke:#000000; stroke-linecap:round; stroke-linejoin:round; stroke-width:2; stroke-opacity:0.1; fill:none\" points=\"1069.09,1486.45 1069.09,47.2441 \"/>\n",
       "<polyline clip-path=\"url(#clip842)\" style=\"stroke:#000000; stroke-linecap:round; stroke-linejoin:round; stroke-width:2; stroke-opacity:0.1; fill:none\" points=\"1680.36,1486.45 1680.36,47.2441 \"/>\n",
       "<polyline clip-path=\"url(#clip842)\" style=\"stroke:#000000; stroke-linecap:round; stroke-linejoin:round; stroke-width:2; stroke-opacity:0.1; fill:none\" points=\"2291.63,1486.45 2291.63,47.2441 \"/>\n",
       "<polyline clip-path=\"url(#clip840)\" style=\"stroke:#000000; stroke-linecap:round; stroke-linejoin:round; stroke-width:4; stroke-opacity:1; fill:none\" points=\"192.941,1486.45 2352.76,1486.45 \"/>\n",
       "<polyline clip-path=\"url(#clip840)\" style=\"stroke:#000000; stroke-linecap:round; stroke-linejoin:round; stroke-width:4; stroke-opacity:1; fill:none\" points=\"457.824,1486.45 457.824,1467.55 \"/>\n",
       "<polyline clip-path=\"url(#clip840)\" style=\"stroke:#000000; stroke-linecap:round; stroke-linejoin:round; stroke-width:4; stroke-opacity:1; fill:none\" points=\"1069.09,1486.45 1069.09,1467.55 \"/>\n",
       "<polyline clip-path=\"url(#clip840)\" style=\"stroke:#000000; stroke-linecap:round; stroke-linejoin:round; stroke-width:4; stroke-opacity:1; fill:none\" points=\"1680.36,1486.45 1680.36,1467.55 \"/>\n",
       "<polyline clip-path=\"url(#clip840)\" style=\"stroke:#000000; stroke-linecap:round; stroke-linejoin:round; stroke-width:4; stroke-opacity:1; fill:none\" points=\"2291.63,1486.45 2291.63,1467.55 \"/>\n",
       "<path clip-path=\"url(#clip840)\" d=\"M404.849 1532.02 L434.525 1532.02 L434.525 1535.95 L404.849 1535.95 L404.849 1532.02 Z\" fill=\"#000000\" fill-rule=\"nonzero\" fill-opacity=\"1\" /><path clip-path=\"url(#clip840)\" d=\"M454.618 1517.37 Q451.007 1517.37 449.178 1520.93 Q447.372 1524.47 447.372 1531.6 Q447.372 1538.71 449.178 1542.27 Q451.007 1545.82 454.618 1545.82 Q458.252 1545.82 460.057 1542.27 Q461.886 1538.71 461.886 1531.6 Q461.886 1524.47 460.057 1520.93 Q458.252 1517.37 454.618 1517.37 M454.618 1513.66 Q460.428 1513.66 463.483 1518.27 Q466.562 1522.85 466.562 1531.6 Q466.562 1540.33 463.483 1544.94 Q460.428 1549.52 454.618 1549.52 Q448.807 1549.52 445.729 1544.94 Q442.673 1540.33 442.673 1531.6 Q442.673 1522.85 445.729 1518.27 Q448.807 1513.66 454.618 1513.66 Z\" fill=\"#000000\" fill-rule=\"nonzero\" fill-opacity=\"1\" /><path clip-path=\"url(#clip840)\" d=\"M474.78 1542.97 L479.664 1542.97 L479.664 1548.85 L474.78 1548.85 L474.78 1542.97 Z\" fill=\"#000000\" fill-rule=\"nonzero\" fill-opacity=\"1\" /><path clip-path=\"url(#clip840)\" d=\"M489.895 1514.29 L508.252 1514.29 L508.252 1518.22 L494.178 1518.22 L494.178 1526.7 Q495.196 1526.35 496.215 1526.19 Q497.233 1526 498.252 1526 Q504.039 1526 507.418 1529.17 Q510.798 1532.34 510.798 1537.76 Q510.798 1543.34 507.326 1546.44 Q503.853 1549.52 497.534 1549.52 Q495.358 1549.52 493.09 1549.15 Q490.844 1548.78 488.437 1548.04 L488.437 1543.34 Q490.52 1544.47 492.742 1545.03 Q494.965 1545.58 497.441 1545.58 Q501.446 1545.58 503.784 1543.48 Q506.122 1541.37 506.122 1537.76 Q506.122 1534.15 503.784 1532.04 Q501.446 1529.94 497.441 1529.94 Q495.566 1529.94 493.692 1530.35 Q491.84 1530.77 489.895 1531.65 L489.895 1514.29 Z\" fill=\"#000000\" fill-rule=\"nonzero\" fill-opacity=\"1\" /><path clip-path=\"url(#clip840)\" d=\"M1046.48 1517.37 Q1042.87 1517.37 1041.04 1520.93 Q1039.23 1524.47 1039.23 1531.6 Q1039.23 1538.71 1041.04 1542.27 Q1042.87 1545.82 1046.48 1545.82 Q1050.11 1545.82 1051.92 1542.27 Q1053.74 1538.71 1053.74 1531.6 Q1053.74 1524.47 1051.92 1520.93 Q1050.11 1517.37 1046.48 1517.37 M1046.48 1513.66 Q1052.29 1513.66 1055.34 1518.27 Q1058.42 1522.85 1058.42 1531.6 Q1058.42 1540.33 1055.34 1544.94 Q1052.29 1549.52 1046.48 1549.52 Q1040.67 1549.52 1037.59 1544.94 Q1034.53 1540.33 1034.53 1531.6 Q1034.53 1522.85 1037.59 1518.27 Q1040.67 1513.66 1046.48 1513.66 Z\" fill=\"#000000\" fill-rule=\"nonzero\" fill-opacity=\"1\" /><path clip-path=\"url(#clip840)\" d=\"M1066.64 1542.97 L1071.52 1542.97 L1071.52 1548.85 L1066.64 1548.85 L1066.64 1542.97 Z\" fill=\"#000000\" fill-rule=\"nonzero\" fill-opacity=\"1\" /><path clip-path=\"url(#clip840)\" d=\"M1091.71 1517.37 Q1088.1 1517.37 1086.27 1520.93 Q1084.46 1524.47 1084.46 1531.6 Q1084.46 1538.71 1086.27 1542.27 Q1088.1 1545.82 1091.71 1545.82 Q1095.34 1545.82 1097.15 1542.27 Q1098.98 1538.71 1098.98 1531.6 Q1098.98 1524.47 1097.15 1520.93 Q1095.34 1517.37 1091.71 1517.37 M1091.71 1513.66 Q1097.52 1513.66 1100.57 1518.27 Q1103.65 1522.85 1103.65 1531.6 Q1103.65 1540.33 1100.57 1544.94 Q1097.52 1549.52 1091.71 1549.52 Q1085.9 1549.52 1082.82 1544.94 Q1079.76 1540.33 1079.76 1531.6 Q1079.76 1522.85 1082.82 1518.27 Q1085.9 1513.66 1091.71 1513.66 Z\" fill=\"#000000\" fill-rule=\"nonzero\" fill-opacity=\"1\" /><path clip-path=\"url(#clip840)\" d=\"M1658.24 1517.37 Q1654.63 1517.37 1652.8 1520.93 Q1651 1524.47 1651 1531.6 Q1651 1538.71 1652.8 1542.27 Q1654.63 1545.82 1658.24 1545.82 Q1661.88 1545.82 1663.68 1542.27 Q1665.51 1538.71 1665.51 1531.6 Q1665.51 1524.47 1663.68 1520.93 Q1661.88 1517.37 1658.24 1517.37 M1658.24 1513.66 Q1664.05 1513.66 1667.11 1518.27 Q1670.19 1522.85 1670.19 1531.6 Q1670.19 1540.33 1667.11 1544.94 Q1664.05 1549.52 1658.24 1549.52 Q1652.43 1549.52 1649.35 1544.94 Q1646.3 1540.33 1646.3 1531.6 Q1646.3 1522.85 1649.35 1518.27 Q1652.43 1513.66 1658.24 1513.66 Z\" fill=\"#000000\" fill-rule=\"nonzero\" fill-opacity=\"1\" /><path clip-path=\"url(#clip840)\" d=\"M1678.4 1542.97 L1683.29 1542.97 L1683.29 1548.85 L1678.4 1548.85 L1678.4 1542.97 Z\" fill=\"#000000\" fill-rule=\"nonzero\" fill-opacity=\"1\" /><path clip-path=\"url(#clip840)\" d=\"M1693.52 1514.29 L1711.88 1514.29 L1711.88 1518.22 L1697.8 1518.22 L1697.8 1526.7 Q1698.82 1526.35 1699.84 1526.19 Q1700.86 1526 1701.88 1526 Q1707.66 1526 1711.04 1529.17 Q1714.42 1532.34 1714.42 1537.76 Q1714.42 1543.34 1710.95 1546.44 Q1707.48 1549.52 1701.16 1549.52 Q1698.98 1549.52 1696.71 1549.15 Q1694.47 1548.78 1692.06 1548.04 L1692.06 1543.34 Q1694.15 1544.47 1696.37 1545.03 Q1698.59 1545.58 1701.07 1545.58 Q1705.07 1545.58 1707.41 1543.48 Q1709.75 1541.37 1709.75 1537.76 Q1709.75 1534.15 1707.41 1532.04 Q1705.07 1529.94 1701.07 1529.94 Q1699.19 1529.94 1697.32 1530.35 Q1695.46 1530.77 1693.52 1531.65 L1693.52 1514.29 Z\" fill=\"#000000\" fill-rule=\"nonzero\" fill-opacity=\"1\" /><path clip-path=\"url(#clip840)\" d=\"M2258.78 1544.91 L2266.42 1544.91 L2266.42 1518.55 L2258.11 1520.21 L2258.11 1515.95 L2266.37 1514.29 L2271.05 1514.29 L2271.05 1544.91 L2278.69 1544.91 L2278.69 1548.85 L2258.78 1548.85 L2258.78 1544.91 Z\" fill=\"#000000\" fill-rule=\"nonzero\" fill-opacity=\"1\" /><path clip-path=\"url(#clip840)\" d=\"M2288.13 1542.97 L2293.02 1542.97 L2293.02 1548.85 L2288.13 1548.85 L2288.13 1542.97 Z\" fill=\"#000000\" fill-rule=\"nonzero\" fill-opacity=\"1\" /><path clip-path=\"url(#clip840)\" d=\"M2313.2 1517.37 Q2309.59 1517.37 2307.76 1520.93 Q2305.96 1524.47 2305.96 1531.6 Q2305.96 1538.71 2307.76 1542.27 Q2309.59 1545.82 2313.2 1545.82 Q2316.84 1545.82 2318.64 1542.27 Q2320.47 1538.71 2320.47 1531.6 Q2320.47 1524.47 2318.64 1520.93 Q2316.84 1517.37 2313.2 1517.37 M2313.2 1513.66 Q2319.01 1513.66 2322.07 1518.27 Q2325.15 1522.85 2325.15 1531.6 Q2325.15 1540.33 2322.07 1544.94 Q2319.01 1549.52 2313.2 1549.52 Q2307.39 1549.52 2304.31 1544.94 Q2301.26 1540.33 2301.26 1531.6 Q2301.26 1522.85 2304.31 1518.27 Q2307.39 1513.66 2313.2 1513.66 Z\" fill=\"#000000\" fill-rule=\"nonzero\" fill-opacity=\"1\" /><polyline clip-path=\"url(#clip842)\" style=\"stroke:#000000; stroke-linecap:round; stroke-linejoin:round; stroke-width:2; stroke-opacity:0.1; fill:none\" points=\"192.941,1309.94 2352.76,1309.94 \"/>\n",
       "<polyline clip-path=\"url(#clip842)\" style=\"stroke:#000000; stroke-linecap:round; stroke-linejoin:round; stroke-width:2; stroke-opacity:0.1; fill:none\" points=\"192.941,902.62 2352.76,902.62 \"/>\n",
       "<polyline clip-path=\"url(#clip842)\" style=\"stroke:#000000; stroke-linecap:round; stroke-linejoin:round; stroke-width:2; stroke-opacity:0.1; fill:none\" points=\"192.941,495.298 2352.76,495.298 \"/>\n",
       "<polyline clip-path=\"url(#clip842)\" style=\"stroke:#000000; stroke-linecap:round; stroke-linejoin:round; stroke-width:2; stroke-opacity:0.1; fill:none\" points=\"192.941,87.9763 2352.76,87.9763 \"/>\n",
       "<polyline clip-path=\"url(#clip840)\" style=\"stroke:#000000; stroke-linecap:round; stroke-linejoin:round; stroke-width:4; stroke-opacity:1; fill:none\" points=\"192.941,1486.45 192.941,47.2441 \"/>\n",
       "<polyline clip-path=\"url(#clip840)\" style=\"stroke:#000000; stroke-linecap:round; stroke-linejoin:round; stroke-width:4; stroke-opacity:1; fill:none\" points=\"192.941,1309.94 211.838,1309.94 \"/>\n",
       "<polyline clip-path=\"url(#clip840)\" style=\"stroke:#000000; stroke-linecap:round; stroke-linejoin:round; stroke-width:4; stroke-opacity:1; fill:none\" points=\"192.941,902.62 211.838,902.62 \"/>\n",
       "<polyline clip-path=\"url(#clip840)\" style=\"stroke:#000000; stroke-linecap:round; stroke-linejoin:round; stroke-width:4; stroke-opacity:1; fill:none\" points=\"192.941,495.298 211.838,495.298 \"/>\n",
       "<polyline clip-path=\"url(#clip840)\" style=\"stroke:#000000; stroke-linecap:round; stroke-linejoin:round; stroke-width:4; stroke-opacity:1; fill:none\" points=\"192.941,87.9763 211.838,87.9763 \"/>\n",
       "<path clip-path=\"url(#clip840)\" d=\"M50.9921 1310.39 L80.6679 1310.39 L80.6679 1314.33 L50.9921 1314.33 L50.9921 1310.39 Z\" fill=\"#000000\" fill-rule=\"nonzero\" fill-opacity=\"1\" /><path clip-path=\"url(#clip840)\" d=\"M100.76 1295.74 Q97.1493 1295.74 95.3206 1299.31 Q93.515 1302.85 93.515 1309.98 Q93.515 1317.08 95.3206 1320.65 Q97.1493 1324.19 100.76 1324.19 Q104.395 1324.19 106.2 1320.65 Q108.029 1317.08 108.029 1309.98 Q108.029 1302.85 106.2 1299.31 Q104.395 1295.74 100.76 1295.74 M100.76 1292.04 Q106.571 1292.04 109.626 1296.64 Q112.705 1301.23 112.705 1309.98 Q112.705 1318.7 109.626 1323.31 Q106.571 1327.89 100.76 1327.89 Q94.9502 1327.89 91.8715 1323.31 Q88.816 1318.7 88.816 1309.98 Q88.816 1301.23 91.8715 1296.64 Q94.9502 1292.04 100.76 1292.04 Z\" fill=\"#000000\" fill-rule=\"nonzero\" fill-opacity=\"1\" /><path clip-path=\"url(#clip840)\" d=\"M120.922 1321.34 L125.807 1321.34 L125.807 1327.22 L120.922 1327.22 L120.922 1321.34 Z\" fill=\"#000000\" fill-rule=\"nonzero\" fill-opacity=\"1\" /><path clip-path=\"url(#clip840)\" d=\"M136.038 1292.66 L154.394 1292.66 L154.394 1296.6 L140.32 1296.6 L140.32 1305.07 Q141.339 1304.72 142.357 1304.56 Q143.376 1304.37 144.394 1304.37 Q150.181 1304.37 153.561 1307.55 Q156.941 1310.72 156.941 1316.13 Q156.941 1321.71 153.468 1324.81 Q149.996 1327.89 143.677 1327.89 Q141.501 1327.89 139.232 1327.52 Q136.987 1327.15 134.58 1326.41 L134.58 1321.71 Q136.663 1322.85 138.885 1323.4 Q141.107 1323.96 143.584 1323.96 Q147.589 1323.96 149.927 1321.85 Q152.265 1319.74 152.265 1316.13 Q152.265 1312.52 149.927 1310.42 Q147.589 1308.31 143.584 1308.31 Q141.709 1308.31 139.834 1308.73 Q137.982 1309.14 136.038 1310.02 L136.038 1292.66 Z\" fill=\"#000000\" fill-rule=\"nonzero\" fill-opacity=\"1\" /><path clip-path=\"url(#clip840)\" d=\"M99.765 888.419 Q96.1539 888.419 94.3252 891.983 Q92.5197 895.525 92.5197 902.655 Q92.5197 909.761 94.3252 913.326 Q96.1539 916.868 99.765 916.868 Q103.399 916.868 105.205 913.326 Q107.033 909.761 107.033 902.655 Q107.033 895.525 105.205 891.983 Q103.399 888.419 99.765 888.419 M99.765 884.715 Q105.575 884.715 108.631 889.321 Q111.709 893.905 111.709 902.655 Q111.709 911.381 108.631 915.988 Q105.575 920.571 99.765 920.571 Q93.9549 920.571 90.8762 915.988 Q87.8206 911.381 87.8206 902.655 Q87.8206 893.905 90.8762 889.321 Q93.9549 884.715 99.765 884.715 Z\" fill=\"#000000\" fill-rule=\"nonzero\" fill-opacity=\"1\" /><path clip-path=\"url(#clip840)\" d=\"M119.927 914.02 L124.811 914.02 L124.811 919.9 L119.927 919.9 L119.927 914.02 Z\" fill=\"#000000\" fill-rule=\"nonzero\" fill-opacity=\"1\" /><path clip-path=\"url(#clip840)\" d=\"M144.996 888.419 Q141.385 888.419 139.556 891.983 Q137.751 895.525 137.751 902.655 Q137.751 909.761 139.556 913.326 Q141.385 916.868 144.996 916.868 Q148.63 916.868 150.436 913.326 Q152.265 909.761 152.265 902.655 Q152.265 895.525 150.436 891.983 Q148.63 888.419 144.996 888.419 M144.996 884.715 Q150.806 884.715 153.862 889.321 Q156.941 893.905 156.941 902.655 Q156.941 911.381 153.862 915.988 Q150.806 920.571 144.996 920.571 Q139.186 920.571 136.107 915.988 Q133.052 911.381 133.052 902.655 Q133.052 893.905 136.107 889.321 Q139.186 884.715 144.996 884.715 Z\" fill=\"#000000\" fill-rule=\"nonzero\" fill-opacity=\"1\" /><path clip-path=\"url(#clip840)\" d=\"M100.76 481.097 Q97.1493 481.097 95.3206 484.662 Q93.515 488.203 93.515 495.333 Q93.515 502.439 95.3206 506.004 Q97.1493 509.546 100.76 509.546 Q104.395 509.546 106.2 506.004 Q108.029 502.439 108.029 495.333 Q108.029 488.203 106.2 484.662 Q104.395 481.097 100.76 481.097 M100.76 477.393 Q106.571 477.393 109.626 482 Q112.705 486.583 112.705 495.333 Q112.705 504.06 109.626 508.666 Q106.571 513.249 100.76 513.249 Q94.9502 513.249 91.8715 508.666 Q88.816 504.06 88.816 495.333 Q88.816 486.583 91.8715 482 Q94.9502 477.393 100.76 477.393 Z\" fill=\"#000000\" fill-rule=\"nonzero\" fill-opacity=\"1\" /><path clip-path=\"url(#clip840)\" d=\"M120.922 506.699 L125.807 506.699 L125.807 512.578 L120.922 512.578 L120.922 506.699 Z\" fill=\"#000000\" fill-rule=\"nonzero\" fill-opacity=\"1\" /><path clip-path=\"url(#clip840)\" d=\"M136.038 478.018 L154.394 478.018 L154.394 481.953 L140.32 481.953 L140.32 490.425 Q141.339 490.078 142.357 489.916 Q143.376 489.731 144.394 489.731 Q150.181 489.731 153.561 492.902 Q156.941 496.074 156.941 501.49 Q156.941 507.069 153.468 510.171 Q149.996 513.249 143.677 513.249 Q141.501 513.249 139.232 512.879 Q136.987 512.509 134.58 511.768 L134.58 507.069 Q136.663 508.203 138.885 508.759 Q141.107 509.314 143.584 509.314 Q147.589 509.314 149.927 507.208 Q152.265 505.101 152.265 501.49 Q152.265 497.879 149.927 495.773 Q147.589 493.666 143.584 493.666 Q141.709 493.666 139.834 494.083 Q137.982 494.499 136.038 495.379 L136.038 478.018 Z\" fill=\"#000000\" fill-rule=\"nonzero\" fill-opacity=\"1\" /><path clip-path=\"url(#clip840)\" d=\"M90.5752 101.321 L98.2141 101.321 L98.2141 74.9555 L89.904 76.6222 L89.904 72.3629 L98.1678 70.6963 L102.844 70.6963 L102.844 101.321 L110.483 101.321 L110.483 105.256 L90.5752 105.256 L90.5752 101.321 Z\" fill=\"#000000\" fill-rule=\"nonzero\" fill-opacity=\"1\" /><path clip-path=\"url(#clip840)\" d=\"M119.927 99.3767 L124.811 99.3767 L124.811 105.256 L119.927 105.256 L119.927 99.3767 Z\" fill=\"#000000\" fill-rule=\"nonzero\" fill-opacity=\"1\" /><path clip-path=\"url(#clip840)\" d=\"M144.996 73.775 Q141.385 73.775 139.556 77.3398 Q137.751 80.8814 137.751 88.011 Q137.751 95.1174 139.556 98.6822 Q141.385 102.224 144.996 102.224 Q148.63 102.224 150.436 98.6822 Q152.265 95.1174 152.265 88.011 Q152.265 80.8814 150.436 77.3398 Q148.63 73.775 144.996 73.775 M144.996 70.0713 Q150.806 70.0713 153.862 74.6777 Q156.941 79.261 156.941 88.011 Q156.941 96.7378 153.862 101.344 Q150.806 105.928 144.996 105.928 Q139.186 105.928 136.107 101.344 Q133.052 96.7378 133.052 88.011 Q133.052 79.261 136.107 74.6777 Q139.186 70.0713 144.996 70.0713 Z\" fill=\"#000000\" fill-rule=\"nonzero\" fill-opacity=\"1\" /><path clip-path=\"url(#clip842)\" d=\"M254.067 1445.72 L1069.09 1445.72 L2291.63 631.072 L2291.63 87.9763 L1476.6 87.9763 L254.067 902.62 L254.067 1445.72 L254.067 1445.72  Z\" fill=\"#009af9\" fill-rule=\"evenodd\" fill-opacity=\"0.5\"/>\n",
       "<polyline clip-path=\"url(#clip842)\" style=\"stroke:#000000; stroke-linecap:round; stroke-linejoin:round; stroke-width:4; stroke-opacity:0.5; fill:none\" points=\"254.067,1445.72 1069.09,1445.72 2291.63,631.072 2291.63,87.9763 1476.6,87.9763 254.067,902.62 254.067,1445.72 \"/>\n",
       "</svg>\n"
      ]
     },
     "execution_count": 34,
     "metadata": {},
     "output_type": "execute_result"
    }
   ],
   "source": [
    "plot(res_ReLU3)"
   ]
  },
  {
   "cell_type": "markdown",
   "id": "e56a3824",
   "metadata": {},
   "source": [
    "You probably noted that there has been some over-approximation here, due to applying ReLU independently on each dimension and creating a new noise symbol for each dimension. This is the problem addressed by the article on the \"k-ReLU\" technique mentioned in Lecture 2. "
   ]
  },
  {
   "cell_type": "markdown",
   "id": "d8e44553",
   "metadata": {},
   "source": [
    "### Testing on another network\n",
    "\n",
    "Finally, let us test your analysis on another network (where your ReLU abstraction is needed) and compare it to the result of AI2"
   ]
  },
  {
   "cell_type": "code",
   "execution_count": 35,
   "id": "d380fb38",
   "metadata": {},
   "outputs": [
    {
     "data": {
      "text/plain": [
       "Network(Layer[Layer{ReLU, Float64}([1.0 -2.0; -1.0 0.5; 1.0 1.5], [0.5, 1.0, -0.5], ReLU()), Layer{Id, Float64}([-1.0 -1.0 1.0; 2.0 1.0 -0.5], [-0.2, -1.0], Id())])"
      ]
     },
     "execution_count": 35,
     "metadata": {},
     "output_type": "execute_result"
    }
   ],
   "source": [
    "W1 = [1 -2.0; -1.0 0.5; 1.0 1.5]\n",
    "b1 = [0.5; 1.0; -0.5]\n",
    "W2 = [-1.0 -1.0 1.0; 2.0 1.0 -0.5]\n",
    "b2 = [-0.2; -1.0]\n",
    "L1 = Layer(W1, b1, ReLU())\n",
    "L2 = Layer(W2, b2, Id())\n",
    "net = Network([L1, L2])"
   ]
  },
  {
   "cell_type": "code",
   "execution_count": 36,
   "id": "dcf64ec8",
   "metadata": {},
   "outputs": [
    {
     "name": "stdout",
     "output_type": "stream",
     "text": [
      "temp affine_map = Zonotope{Float64, Vector{Float64}, Matrix{Float64}}([0.5, 1.0, -0.5], [2.0 -2.0; -2.0 0.5; 2.0 1.5])temp affine_map = Zonotope{Float64, Vector{Float64}, Matrix{Float64}}([-2.047767857142857, 2.4348214285714285], [1.1321428571428571 1.4178571428571427 0.984375 0.5249999999999999 -0.8571428571428571; 0.42142857142857154 -2.2214285714285715 -1.96875 -0.5249999999999999 0.42857142857142855])"
     ]
    },
    {
     "data": {
      "image/svg+xml": [
       "<?xml version=\"1.0\" encoding=\"utf-8\"?>\n",
       "<svg xmlns=\"http://www.w3.org/2000/svg\" xmlns:xlink=\"http://www.w3.org/1999/xlink\" width=\"600\" height=\"400\" viewBox=\"0 0 2400 1600\">\n",
       "<defs>\n",
       "  <clipPath id=\"clip880\">\n",
       "    <rect x=\"0\" y=\"0\" width=\"2400\" height=\"1600\"/>\n",
       "  </clipPath>\n",
       "</defs>\n",
       "<path clip-path=\"url(#clip880)\" d=\"M0 1600 L2400 1600 L2400 0 L0 0  Z\" fill=\"#ffffff\" fill-rule=\"evenodd\" fill-opacity=\"1\"/>\n",
       "<defs>\n",
       "  <clipPath id=\"clip881\">\n",
       "    <rect x=\"480\" y=\"0\" width=\"1681\" height=\"1600\"/>\n",
       "  </clipPath>\n",
       "</defs>\n",
       "<path clip-path=\"url(#clip880)\" d=\"M192.941 1486.45 L2352.76 1486.45 L2352.76 47.2441 L192.941 47.2441  Z\" fill=\"#ffffff\" fill-rule=\"evenodd\" fill-opacity=\"1\"/>\n",
       "<defs>\n",
       "  <clipPath id=\"clip882\">\n",
       "    <rect x=\"192\" y=\"47\" width=\"2161\" height=\"1440\"/>\n",
       "  </clipPath>\n",
       "</defs>\n",
       "<polyline clip-path=\"url(#clip882)\" style=\"stroke:#000000; stroke-linecap:round; stroke-linejoin:round; stroke-width:2; stroke-opacity:0.1; fill:none\" points=\"453.883,1486.45 453.883,47.2441 \"/>\n",
       "<polyline clip-path=\"url(#clip882)\" style=\"stroke:#000000; stroke-linecap:round; stroke-linejoin:round; stroke-width:2; stroke-opacity:0.1; fill:none\" points=\"868.315,1486.45 868.315,47.2441 \"/>\n",
       "<polyline clip-path=\"url(#clip882)\" style=\"stroke:#000000; stroke-linecap:round; stroke-linejoin:round; stroke-width:2; stroke-opacity:0.1; fill:none\" points=\"1282.75,1486.45 1282.75,47.2441 \"/>\n",
       "<polyline clip-path=\"url(#clip882)\" style=\"stroke:#000000; stroke-linecap:round; stroke-linejoin:round; stroke-width:2; stroke-opacity:0.1; fill:none\" points=\"1697.18,1486.45 1697.18,47.2441 \"/>\n",
       "<polyline clip-path=\"url(#clip882)\" style=\"stroke:#000000; stroke-linecap:round; stroke-linejoin:round; stroke-width:2; stroke-opacity:0.1; fill:none\" points=\"2111.61,1486.45 2111.61,47.2441 \"/>\n",
       "<polyline clip-path=\"url(#clip880)\" style=\"stroke:#000000; stroke-linecap:round; stroke-linejoin:round; stroke-width:4; stroke-opacity:1; fill:none\" points=\"192.941,1486.45 2352.76,1486.45 \"/>\n",
       "<polyline clip-path=\"url(#clip880)\" style=\"stroke:#000000; stroke-linecap:round; stroke-linejoin:round; stroke-width:4; stroke-opacity:1; fill:none\" points=\"453.883,1486.45 453.883,1467.55 \"/>\n",
       "<polyline clip-path=\"url(#clip880)\" style=\"stroke:#000000; stroke-linecap:round; stroke-linejoin:round; stroke-width:4; stroke-opacity:1; fill:none\" points=\"868.315,1486.45 868.315,1467.55 \"/>\n",
       "<polyline clip-path=\"url(#clip880)\" style=\"stroke:#000000; stroke-linecap:round; stroke-linejoin:round; stroke-width:4; stroke-opacity:1; fill:none\" points=\"1282.75,1486.45 1282.75,1467.55 \"/>\n",
       "<polyline clip-path=\"url(#clip880)\" style=\"stroke:#000000; stroke-linecap:round; stroke-linejoin:round; stroke-width:4; stroke-opacity:1; fill:none\" points=\"1697.18,1486.45 1697.18,1467.55 \"/>\n",
       "<polyline clip-path=\"url(#clip880)\" style=\"stroke:#000000; stroke-linecap:round; stroke-linejoin:round; stroke-width:4; stroke-opacity:1; fill:none\" points=\"2111.61,1486.45 2111.61,1467.55 \"/>\n",
       "<path clip-path=\"url(#clip880)\" d=\"M422.946 1532.02 L452.621 1532.02 L452.621 1535.95 L422.946 1535.95 L422.946 1532.02 Z\" fill=\"#000000\" fill-rule=\"nonzero\" fill-opacity=\"1\" /><path clip-path=\"url(#clip880)\" d=\"M473.292 1529.7 Q470.144 1529.7 468.292 1531.86 Q466.464 1534.01 466.464 1537.76 Q466.464 1541.49 468.292 1543.66 Q470.144 1545.82 473.292 1545.82 Q476.441 1545.82 478.269 1543.66 Q480.121 1541.49 480.121 1537.76 Q480.121 1534.01 478.269 1531.86 Q476.441 1529.7 473.292 1529.7 M482.575 1515.05 L482.575 1519.31 Q480.816 1518.48 479.01 1518.04 Q477.228 1517.6 475.468 1517.6 Q470.839 1517.6 468.385 1520.72 Q465.955 1523.85 465.607 1530.17 Q466.973 1528.15 469.033 1527.09 Q471.093 1526 473.57 1526 Q478.779 1526 481.788 1529.17 Q484.82 1532.32 484.82 1537.76 Q484.82 1543.08 481.672 1546.3 Q478.524 1549.52 473.292 1549.52 Q467.297 1549.52 464.126 1544.94 Q460.955 1540.33 460.955 1531.6 Q460.955 1523.41 464.843 1518.55 Q468.732 1513.66 475.283 1513.66 Q477.042 1513.66 478.825 1514.01 Q480.63 1514.36 482.575 1515.05 Z\" fill=\"#000000\" fill-rule=\"nonzero\" fill-opacity=\"1\" /><path clip-path=\"url(#clip880)\" d=\"M837.215 1532.02 L866.891 1532.02 L866.891 1535.95 L837.215 1535.95 L837.215 1532.02 Z\" fill=\"#000000\" fill-rule=\"nonzero\" fill-opacity=\"1\" /><path clip-path=\"url(#clip880)\" d=\"M889.831 1518.36 L878.025 1536.81 L889.831 1536.81 L889.831 1518.36 M888.604 1514.29 L894.484 1514.29 L894.484 1536.81 L899.414 1536.81 L899.414 1540.7 L894.484 1540.7 L894.484 1548.85 L889.831 1548.85 L889.831 1540.7 L874.229 1540.7 L874.229 1536.19 L888.604 1514.29 Z\" fill=\"#000000\" fill-rule=\"nonzero\" fill-opacity=\"1\" /><path clip-path=\"url(#clip880)\" d=\"M1252.69 1532.02 L1282.36 1532.02 L1282.36 1535.95 L1252.69 1535.95 L1252.69 1532.02 Z\" fill=\"#000000\" fill-rule=\"nonzero\" fill-opacity=\"1\" /><path clip-path=\"url(#clip880)\" d=\"M1296.48 1544.91 L1312.8 1544.91 L1312.8 1548.85 L1290.86 1548.85 L1290.86 1544.91 Q1293.52 1542.16 1298.11 1537.53 Q1302.71 1532.88 1303.89 1531.53 Q1306.14 1529.01 1307.02 1527.27 Q1307.92 1525.51 1307.92 1523.82 Q1307.92 1521.07 1305.98 1519.33 Q1304.05 1517.6 1300.95 1517.6 Q1298.75 1517.6 1296.3 1518.36 Q1293.87 1519.13 1291.09 1520.68 L1291.09 1515.95 Q1293.92 1514.82 1296.37 1514.24 Q1298.82 1513.66 1300.86 1513.66 Q1306.23 1513.66 1309.42 1516.35 Q1312.62 1519.03 1312.62 1523.52 Q1312.62 1525.65 1311.81 1527.57 Q1311.02 1529.47 1308.92 1532.07 Q1308.34 1532.74 1305.23 1535.95 Q1302.13 1539.15 1296.48 1544.91 Z\" fill=\"#000000\" fill-rule=\"nonzero\" fill-opacity=\"1\" /><path clip-path=\"url(#clip880)\" d=\"M1697.18 1517.37 Q1693.57 1517.37 1691.74 1520.93 Q1689.93 1524.47 1689.93 1531.6 Q1689.93 1538.71 1691.74 1542.27 Q1693.57 1545.82 1697.18 1545.82 Q1700.81 1545.82 1702.62 1542.27 Q1704.45 1538.71 1704.45 1531.6 Q1704.45 1524.47 1702.62 1520.93 Q1700.81 1517.37 1697.18 1517.37 M1697.18 1513.66 Q1702.99 1513.66 1706.04 1518.27 Q1709.12 1522.85 1709.12 1531.6 Q1709.12 1540.33 1706.04 1544.94 Q1702.99 1549.52 1697.18 1549.52 Q1691.37 1549.52 1688.29 1544.94 Q1685.23 1540.33 1685.23 1531.6 Q1685.23 1522.85 1688.29 1518.27 Q1691.37 1513.66 1697.18 1513.66 Z\" fill=\"#000000\" fill-rule=\"nonzero\" fill-opacity=\"1\" /><path clip-path=\"url(#clip880)\" d=\"M2106.26 1544.91 L2122.58 1544.91 L2122.58 1548.85 L2100.64 1548.85 L2100.64 1544.91 Q2103.3 1542.16 2107.88 1537.53 Q2112.49 1532.88 2113.67 1531.53 Q2115.92 1529.01 2116.8 1527.27 Q2117.7 1525.51 2117.7 1523.82 Q2117.7 1521.07 2115.75 1519.33 Q2113.83 1517.6 2110.73 1517.6 Q2108.53 1517.6 2106.08 1518.36 Q2103.65 1519.13 2100.87 1520.68 L2100.87 1515.95 Q2103.69 1514.82 2106.15 1514.24 Q2108.6 1513.66 2110.64 1513.66 Q2116.01 1513.66 2119.2 1516.35 Q2122.4 1519.03 2122.4 1523.52 Q2122.4 1525.65 2121.59 1527.57 Q2120.8 1529.47 2118.69 1532.07 Q2118.11 1532.74 2115.01 1535.95 Q2111.91 1539.15 2106.26 1544.91 Z\" fill=\"#000000\" fill-rule=\"nonzero\" fill-opacity=\"1\" /><polyline clip-path=\"url(#clip882)\" style=\"stroke:#000000; stroke-linecap:round; stroke-linejoin:round; stroke-width:2; stroke-opacity:0.1; fill:none\" points=\"192.941,1368.82 2352.76,1368.82 \"/>\n",
       "<polyline clip-path=\"url(#clip882)\" style=\"stroke:#000000; stroke-linecap:round; stroke-linejoin:round; stroke-width:2; stroke-opacity:0.1; fill:none\" points=\"192.941,1063.86 2352.76,1063.86 \"/>\n",
       "<polyline clip-path=\"url(#clip882)\" style=\"stroke:#000000; stroke-linecap:round; stroke-linejoin:round; stroke-width:2; stroke-opacity:0.1; fill:none\" points=\"192.941,758.895 2352.76,758.895 \"/>\n",
       "<polyline clip-path=\"url(#clip882)\" style=\"stroke:#000000; stroke-linecap:round; stroke-linejoin:round; stroke-width:2; stroke-opacity:0.1; fill:none\" points=\"192.941,453.932 2352.76,453.932 \"/>\n",
       "<polyline clip-path=\"url(#clip882)\" style=\"stroke:#000000; stroke-linecap:round; stroke-linejoin:round; stroke-width:2; stroke-opacity:0.1; fill:none\" points=\"192.941,148.969 2352.76,148.969 \"/>\n",
       "<polyline clip-path=\"url(#clip880)\" style=\"stroke:#000000; stroke-linecap:round; stroke-linejoin:round; stroke-width:4; stroke-opacity:1; fill:none\" points=\"192.941,1486.45 192.941,47.2441 \"/>\n",
       "<polyline clip-path=\"url(#clip880)\" style=\"stroke:#000000; stroke-linecap:round; stroke-linejoin:round; stroke-width:4; stroke-opacity:1; fill:none\" points=\"192.941,1368.82 211.838,1368.82 \"/>\n",
       "<polyline clip-path=\"url(#clip880)\" style=\"stroke:#000000; stroke-linecap:round; stroke-linejoin:round; stroke-width:4; stroke-opacity:1; fill:none\" points=\"192.941,1063.86 211.838,1063.86 \"/>\n",
       "<polyline clip-path=\"url(#clip880)\" style=\"stroke:#000000; stroke-linecap:round; stroke-linejoin:round; stroke-width:4; stroke-opacity:1; fill:none\" points=\"192.941,758.895 211.838,758.895 \"/>\n",
       "<polyline clip-path=\"url(#clip880)\" style=\"stroke:#000000; stroke-linecap:round; stroke-linejoin:round; stroke-width:4; stroke-opacity:1; fill:none\" points=\"192.941,453.932 211.838,453.932 \"/>\n",
       "<polyline clip-path=\"url(#clip880)\" style=\"stroke:#000000; stroke-linecap:round; stroke-linejoin:round; stroke-width:4; stroke-opacity:1; fill:none\" points=\"192.941,148.969 211.838,148.969 \"/>\n",
       "<path clip-path=\"url(#clip880)\" d=\"M50.9921 1369.27 L80.6679 1369.27 L80.6679 1373.21 L50.9921 1373.21 L50.9921 1369.27 Z\" fill=\"#000000\" fill-rule=\"nonzero\" fill-opacity=\"1\" /><path clip-path=\"url(#clip880)\" d=\"M94.7882 1382.17 L111.108 1382.17 L111.108 1386.1 L89.1632 1386.1 L89.1632 1382.17 Q91.8252 1379.41 96.4085 1374.78 Q101.015 1370.13 102.196 1368.79 Q104.441 1366.26 105.321 1364.53 Q106.223 1362.77 106.223 1361.08 Q106.223 1358.32 104.279 1356.59 Q102.358 1354.85 99.2558 1354.85 Q97.0567 1354.85 94.603 1355.62 Q92.1725 1356.38 89.3947 1357.93 L89.3947 1353.21 Q92.2188 1352.07 94.6724 1351.5 Q97.1261 1350.92 99.1632 1350.92 Q104.534 1350.92 107.728 1353.6 Q110.922 1356.29 110.922 1360.78 Q110.922 1362.91 110.112 1364.83 Q109.325 1366.73 107.219 1369.32 Q106.64 1369.99 103.538 1373.21 Q100.436 1376.4 94.7882 1382.17 Z\" fill=\"#000000\" fill-rule=\"nonzero\" fill-opacity=\"1\" /><path clip-path=\"url(#clip880)\" d=\"M120.922 1380.22 L125.807 1380.22 L125.807 1386.1 L120.922 1386.1 L120.922 1380.22 Z\" fill=\"#000000\" fill-rule=\"nonzero\" fill-opacity=\"1\" /><path clip-path=\"url(#clip880)\" d=\"M136.038 1351.54 L154.394 1351.54 L154.394 1355.48 L140.32 1355.48 L140.32 1363.95 Q141.339 1363.6 142.357 1363.44 Q143.376 1363.25 144.394 1363.25 Q150.181 1363.25 153.561 1366.43 Q156.941 1369.6 156.941 1375.01 Q156.941 1380.59 153.468 1383.69 Q149.996 1386.77 143.677 1386.77 Q141.501 1386.77 139.232 1386.4 Q136.987 1386.03 134.58 1385.29 L134.58 1380.59 Q136.663 1381.73 138.885 1382.28 Q141.107 1382.84 143.584 1382.84 Q147.589 1382.84 149.927 1380.73 Q152.265 1378.62 152.265 1375.01 Q152.265 1371.4 149.927 1369.3 Q147.589 1367.19 143.584 1367.19 Q141.709 1367.19 139.834 1367.61 Q137.982 1368.02 136.038 1368.9 L136.038 1351.54 Z\" fill=\"#000000\" fill-rule=\"nonzero\" fill-opacity=\"1\" /><path clip-path=\"url(#clip880)\" d=\"M99.765 1049.66 Q96.1539 1049.66 94.3252 1053.22 Q92.5197 1056.76 92.5197 1063.89 Q92.5197 1071 94.3252 1074.56 Q96.1539 1078.11 99.765 1078.11 Q103.399 1078.11 105.205 1074.56 Q107.033 1071 107.033 1063.89 Q107.033 1056.76 105.205 1053.22 Q103.399 1049.66 99.765 1049.66 M99.765 1045.95 Q105.575 1045.95 108.631 1050.56 Q111.709 1055.14 111.709 1063.89 Q111.709 1072.62 108.631 1077.23 Q105.575 1081.81 99.765 1081.81 Q93.9549 1081.81 90.8762 1077.23 Q87.8206 1072.62 87.8206 1063.89 Q87.8206 1055.14 90.8762 1050.56 Q93.9549 1045.95 99.765 1045.95 Z\" fill=\"#000000\" fill-rule=\"nonzero\" fill-opacity=\"1\" /><path clip-path=\"url(#clip880)\" d=\"M119.927 1075.26 L124.811 1075.26 L124.811 1081.14 L119.927 1081.14 L119.927 1075.26 Z\" fill=\"#000000\" fill-rule=\"nonzero\" fill-opacity=\"1\" /><path clip-path=\"url(#clip880)\" d=\"M144.996 1049.66 Q141.385 1049.66 139.556 1053.22 Q137.751 1056.76 137.751 1063.89 Q137.751 1071 139.556 1074.56 Q141.385 1078.11 144.996 1078.11 Q148.63 1078.11 150.436 1074.56 Q152.265 1071 152.265 1063.89 Q152.265 1056.76 150.436 1053.22 Q148.63 1049.66 144.996 1049.66 M144.996 1045.95 Q150.806 1045.95 153.862 1050.56 Q156.941 1055.14 156.941 1063.89 Q156.941 1072.62 153.862 1077.23 Q150.806 1081.81 144.996 1081.81 Q139.186 1081.81 136.107 1077.23 Q133.052 1072.62 133.052 1063.89 Q133.052 1055.14 136.107 1050.56 Q139.186 1045.95 144.996 1045.95 Z\" fill=\"#000000\" fill-rule=\"nonzero\" fill-opacity=\"1\" /><path clip-path=\"url(#clip880)\" d=\"M94.7882 772.24 L111.108 772.24 L111.108 776.175 L89.1632 776.175 L89.1632 772.24 Q91.8252 769.485 96.4085 764.856 Q101.015 760.203 102.196 758.86 Q104.441 756.337 105.321 754.601 Q106.223 752.842 106.223 751.152 Q106.223 748.398 104.279 746.661 Q102.358 744.925 99.2558 744.925 Q97.0567 744.925 94.603 745.689 Q92.1725 746.453 89.3947 748.004 L89.3947 743.282 Q92.2188 742.148 94.6724 741.569 Q97.1261 740.99 99.1632 740.99 Q104.534 740.99 107.728 743.675 Q110.922 746.361 110.922 750.851 Q110.922 752.981 110.112 754.902 Q109.325 756.8 107.219 759.393 Q106.64 760.064 103.538 763.282 Q100.436 766.476 94.7882 772.24 Z\" fill=\"#000000\" fill-rule=\"nonzero\" fill-opacity=\"1\" /><path clip-path=\"url(#clip880)\" d=\"M120.922 770.296 L125.807 770.296 L125.807 776.175 L120.922 776.175 L120.922 770.296 Z\" fill=\"#000000\" fill-rule=\"nonzero\" fill-opacity=\"1\" /><path clip-path=\"url(#clip880)\" d=\"M136.038 741.615 L154.394 741.615 L154.394 745.55 L140.32 745.55 L140.32 754.023 Q141.339 753.675 142.357 753.513 Q143.376 753.328 144.394 753.328 Q150.181 753.328 153.561 756.499 Q156.941 759.671 156.941 765.087 Q156.941 770.666 153.468 773.768 Q149.996 776.846 143.677 776.846 Q141.501 776.846 139.232 776.476 Q136.987 776.106 134.58 775.365 L134.58 770.666 Q136.663 771.8 138.885 772.356 Q141.107 772.911 143.584 772.911 Q147.589 772.911 149.927 770.805 Q152.265 768.698 152.265 765.087 Q152.265 761.476 149.927 759.37 Q147.589 757.263 143.584 757.263 Q141.709 757.263 139.834 757.68 Q137.982 758.097 136.038 758.976 L136.038 741.615 Z\" fill=\"#000000\" fill-rule=\"nonzero\" fill-opacity=\"1\" /><path clip-path=\"url(#clip880)\" d=\"M89.8114 436.652 L108.168 436.652 L108.168 440.587 L94.0937 440.587 L94.0937 449.059 Q95.1123 448.712 96.1308 448.55 Q97.1493 448.365 98.1678 448.365 Q103.955 448.365 107.334 451.536 Q110.714 454.707 110.714 460.124 Q110.714 465.703 107.242 468.805 Q103.77 471.883 97.4502 471.883 Q95.2743 471.883 93.0058 471.513 Q90.7604 471.143 88.353 470.402 L88.353 465.703 Q90.4364 466.837 92.6586 467.393 Q94.8808 467.948 97.3576 467.948 Q101.362 467.948 103.7 465.842 Q106.038 463.735 106.038 460.124 Q106.038 456.513 103.7 454.407 Q101.362 452.3 97.3576 452.3 Q95.4826 452.3 93.6076 452.717 Q91.7558 453.133 89.8114 454.013 L89.8114 436.652 Z\" fill=\"#000000\" fill-rule=\"nonzero\" fill-opacity=\"1\" /><path clip-path=\"url(#clip880)\" d=\"M119.927 465.332 L124.811 465.332 L124.811 471.212 L119.927 471.212 L119.927 465.332 Z\" fill=\"#000000\" fill-rule=\"nonzero\" fill-opacity=\"1\" /><path clip-path=\"url(#clip880)\" d=\"M144.996 439.731 Q141.385 439.731 139.556 443.296 Q137.751 446.837 137.751 453.967 Q137.751 461.073 139.556 464.638 Q141.385 468.18 144.996 468.18 Q148.63 468.18 150.436 464.638 Q152.265 461.073 152.265 453.967 Q152.265 446.837 150.436 443.296 Q148.63 439.731 144.996 439.731 M144.996 436.027 Q150.806 436.027 153.862 440.633 Q156.941 445.217 156.941 453.967 Q156.941 462.694 153.862 467.3 Q150.806 471.883 144.996 471.883 Q139.186 471.883 136.107 467.3 Q133.052 462.694 133.052 453.967 Q133.052 445.217 136.107 440.633 Q139.186 436.027 144.996 436.027 Z\" fill=\"#000000\" fill-rule=\"nonzero\" fill-opacity=\"1\" /><path clip-path=\"url(#clip880)\" d=\"M89.5799 131.689 L111.802 131.689 L111.802 133.68 L99.2558 166.249 L94.3715 166.249 L106.177 135.624 L89.5799 135.624 L89.5799 131.689 Z\" fill=\"#000000\" fill-rule=\"nonzero\" fill-opacity=\"1\" /><path clip-path=\"url(#clip880)\" d=\"M120.922 160.369 L125.807 160.369 L125.807 166.249 L120.922 166.249 L120.922 160.369 Z\" fill=\"#000000\" fill-rule=\"nonzero\" fill-opacity=\"1\" /><path clip-path=\"url(#clip880)\" d=\"M136.038 131.689 L154.394 131.689 L154.394 135.624 L140.32 135.624 L140.32 144.096 Q141.339 143.749 142.357 143.587 Q143.376 143.402 144.394 143.402 Q150.181 143.402 153.561 146.573 Q156.941 149.744 156.941 155.161 Q156.941 160.74 153.468 163.842 Q149.996 166.92 143.677 166.92 Q141.501 166.92 139.232 166.55 Q136.987 166.179 134.58 165.439 L134.58 160.74 Q136.663 161.874 138.885 162.429 Q141.107 162.985 143.584 162.985 Q147.589 162.985 149.927 160.879 Q152.265 158.772 152.265 155.161 Q152.265 151.55 149.927 149.443 Q147.589 147.337 143.584 147.337 Q141.709 147.337 139.834 147.754 Q137.982 148.17 136.038 149.05 L136.038 131.689 Z\" fill=\"#000000\" fill-rule=\"nonzero\" fill-opacity=\"1\" /><path clip-path=\"url(#clip882)\" d=\"M254.067 190.792 L662.024 671.109 L1249.63 1213.07 L1467.21 1341.16 L1822.43 1445.72 L2291.63 1342.9 L1883.67 862.583 L1296.07 320.62 L1078.49 192.535 L723.264 87.9763 L254.067 190.792 L254.067 190.792  Z\" fill=\"#009af9\" fill-rule=\"evenodd\" fill-opacity=\"0.5\"/>\n",
       "<polyline clip-path=\"url(#clip882)\" style=\"stroke:#000000; stroke-linecap:round; stroke-linejoin:round; stroke-width:4; stroke-opacity:0.5; fill:none\" points=\"254.067,190.792 662.024,671.109 1249.63,1213.07 1467.21,1341.16 1822.43,1445.72 2291.63,1342.9 1883.67,862.583 1296.07,320.62 1078.49,192.535 723.264,87.9763 254.067,190.792 \"/>\n",
       "<path clip-path=\"url(#clip880)\" d=\"M1798.32 198.898 L2280.76 198.898 L2280.76 95.2176 L1798.32 95.2176  Z\" fill=\"#ffffff\" fill-rule=\"evenodd\" fill-opacity=\"1\"/>\n",
       "<polyline clip-path=\"url(#clip880)\" style=\"stroke:#000000; stroke-linecap:round; stroke-linejoin:round; stroke-width:4; stroke-opacity:1; fill:none\" points=\"1798.32,198.898 2280.76,198.898 2280.76,95.2176 1798.32,95.2176 1798.32,198.898 \"/>\n",
       "<path clip-path=\"url(#clip880)\" d=\"M1822.32 167.794 L1966.31 167.794 L1966.31 126.322 L1822.32 126.322 L1822.32 167.794  Z\" fill=\"#009af9\" fill-rule=\"evenodd\" fill-opacity=\"0.5\"/>\n",
       "<polyline clip-path=\"url(#clip880)\" style=\"stroke:#000000; stroke-linecap:round; stroke-linejoin:round; stroke-width:4; stroke-opacity:1; fill:none\" points=\"1822.32,167.794 1966.31,167.794 1966.31,126.322 1822.32,126.322 1822.32,167.794 \"/>\n",
       "<path clip-path=\"url(#clip880)\" d=\"M1990.84 129.778 L2017.99 129.778 L2017.99 133.342 L1996.14 160.402 L2018.52 160.402 L2018.52 164.338 L1990.31 164.338 L1990.31 160.773 L2012.16 133.713 L1990.84 133.713 L1990.84 129.778 Z\" fill=\"#000000\" fill-rule=\"nonzero\" fill-opacity=\"1\" /><path clip-path=\"url(#clip880)\" d=\"M2035.17 141.398 Q2031.74 141.398 2029.75 144.083 Q2027.76 146.745 2027.76 151.398 Q2027.76 156.051 2029.73 158.736 Q2031.72 161.398 2035.17 161.398 Q2038.57 161.398 2040.56 158.713 Q2042.55 156.027 2042.55 151.398 Q2042.55 146.791 2040.56 144.106 Q2038.57 141.398 2035.17 141.398 M2035.17 137.787 Q2040.72 137.787 2043.89 141.398 Q2047.07 145.009 2047.07 151.398 Q2047.07 157.764 2043.89 161.398 Q2040.72 165.009 2035.17 165.009 Q2029.59 165.009 2026.42 161.398 Q2023.27 157.764 2023.27 151.398 Q2023.27 145.009 2026.42 141.398 Q2029.59 137.787 2035.17 137.787 Z\" fill=\"#000000\" fill-rule=\"nonzero\" fill-opacity=\"1\" /><path clip-path=\"url(#clip880)\" d=\"M2075.68 148.689 L2075.68 164.338 L2071.42 164.338 L2071.42 148.828 Q2071.42 145.148 2069.98 143.319 Q2068.55 141.49 2065.68 141.49 Q2062.23 141.49 2060.24 143.69 Q2058.25 145.889 2058.25 149.685 L2058.25 164.338 L2053.96 164.338 L2053.96 138.412 L2058.25 138.412 L2058.25 142.44 Q2059.77 140.102 2061.83 138.944 Q2063.92 137.787 2066.63 137.787 Q2071.09 137.787 2073.39 140.565 Q2075.68 143.319 2075.68 148.689 Z\" fill=\"#000000\" fill-rule=\"nonzero\" fill-opacity=\"1\" /><path clip-path=\"url(#clip880)\" d=\"M2094.22 141.398 Q2090.79 141.398 2088.8 144.083 Q2086.81 146.745 2086.81 151.398 Q2086.81 156.051 2088.78 158.736 Q2090.77 161.398 2094.22 161.398 Q2097.62 161.398 2099.61 158.713 Q2101.6 156.027 2101.6 151.398 Q2101.6 146.791 2099.61 144.106 Q2097.62 141.398 2094.22 141.398 M2094.22 137.787 Q2099.77 137.787 2102.95 141.398 Q2106.12 145.009 2106.12 151.398 Q2106.12 157.764 2102.95 161.398 Q2099.77 165.009 2094.22 165.009 Q2088.64 165.009 2085.47 161.398 Q2082.32 157.764 2082.32 151.398 Q2082.32 145.009 2085.47 141.398 Q2088.64 137.787 2094.22 137.787 Z\" fill=\"#000000\" fill-rule=\"nonzero\" fill-opacity=\"1\" /><path clip-path=\"url(#clip880)\" d=\"M2143.27 142.393 Q2142.55 141.977 2141.7 141.791 Q2140.86 141.583 2139.84 141.583 Q2136.23 141.583 2134.29 143.944 Q2132.37 146.282 2132.37 150.68 L2132.37 164.338 L2128.08 164.338 L2128.08 138.412 L2132.37 138.412 L2132.37 142.44 Q2133.71 140.078 2135.86 138.944 Q2138.01 137.787 2141.09 137.787 Q2141.53 137.787 2142.07 137.856 Q2142.6 137.903 2143.25 138.018 L2143.27 142.393 Z\" fill=\"#000000\" fill-rule=\"nonzero\" fill-opacity=\"1\" /><path clip-path=\"url(#clip880)\" d=\"M2168.87 150.31 L2168.87 152.393 L2149.29 152.393 Q2149.57 156.791 2151.93 159.106 Q2154.31 161.398 2158.55 161.398 Q2161 161.398 2163.29 160.796 Q2165.61 160.194 2167.88 158.99 L2167.88 163.018 Q2165.58 163.99 2163.18 164.5 Q2160.77 165.009 2158.29 165.009 Q2152.09 165.009 2148.45 161.398 Q2144.84 157.787 2144.84 151.629 Q2144.84 145.264 2148.27 141.537 Q2151.72 137.787 2157.55 137.787 Q2162.78 137.787 2165.82 141.166 Q2168.87 144.523 2168.87 150.31 M2164.61 149.06 Q2164.57 145.565 2162.64 143.481 Q2160.75 141.398 2157.6 141.398 Q2154.03 141.398 2151.88 143.412 Q2149.75 145.426 2149.43 149.083 L2164.61 149.06 Z\" fill=\"#000000\" fill-rule=\"nonzero\" fill-opacity=\"1\" /><path clip-path=\"url(#clip880)\" d=\"M2192.39 139.176 L2192.39 143.203 Q2190.58 142.277 2188.64 141.815 Q2186.7 141.352 2184.61 141.352 Q2181.44 141.352 2179.84 142.324 Q2178.27 143.296 2178.27 145.24 Q2178.27 146.722 2179.4 147.578 Q2180.54 148.412 2183.96 149.176 L2185.42 149.5 Q2189.96 150.472 2191.86 152.254 Q2193.78 154.014 2193.78 157.185 Q2193.78 160.796 2190.91 162.902 Q2188.06 165.009 2183.06 165.009 Q2180.98 165.009 2178.71 164.592 Q2176.46 164.199 2173.96 163.388 L2173.96 158.99 Q2176.32 160.217 2178.62 160.842 Q2180.91 161.444 2183.15 161.444 Q2186.16 161.444 2187.78 160.426 Q2189.4 159.384 2189.4 157.509 Q2189.4 155.773 2188.22 154.847 Q2187.07 153.921 2183.11 153.064 L2181.63 152.717 Q2177.67 151.884 2175.91 150.171 Q2174.15 148.435 2174.15 145.426 Q2174.15 141.768 2176.74 139.778 Q2179.33 137.787 2184.1 137.787 Q2186.46 137.787 2188.55 138.134 Q2190.63 138.481 2192.39 139.176 Z\" fill=\"#000000\" fill-rule=\"nonzero\" fill-opacity=\"1\" /><path clip-path=\"url(#clip880)\" d=\"M2200.12 154.106 L2200.12 138.412 L2204.38 138.412 L2204.38 153.944 Q2204.38 157.625 2205.82 159.476 Q2207.25 161.305 2210.12 161.305 Q2213.57 161.305 2215.56 159.106 Q2217.57 156.907 2217.57 153.111 L2217.57 138.412 L2221.83 138.412 L2221.83 164.338 L2217.57 164.338 L2217.57 160.356 Q2216.02 162.717 2213.96 163.875 Q2211.93 165.009 2209.22 165.009 Q2204.75 165.009 2202.44 162.231 Q2200.12 159.453 2200.12 154.106 M2210.84 137.787 L2210.84 137.787 Z\" fill=\"#000000\" fill-rule=\"nonzero\" fill-opacity=\"1\" /><path clip-path=\"url(#clip880)\" d=\"M2230.61 128.319 L2234.87 128.319 L2234.87 164.338 L2230.61 164.338 L2230.61 128.319 Z\" fill=\"#000000\" fill-rule=\"nonzero\" fill-opacity=\"1\" /><path clip-path=\"url(#clip880)\" d=\"M2247.99 131.051 L2247.99 138.412 L2256.76 138.412 L2256.76 141.722 L2247.99 141.722 L2247.99 155.796 Q2247.99 158.967 2248.85 159.87 Q2249.73 160.773 2252.39 160.773 L2256.76 160.773 L2256.76 164.338 L2252.39 164.338 Q2247.46 164.338 2245.58 162.509 Q2243.71 160.657 2243.71 155.796 L2243.71 141.722 L2240.58 141.722 L2240.58 138.412 L2243.71 138.412 L2243.71 131.051 L2247.99 131.051 Z\" fill=\"#000000\" fill-rule=\"nonzero\" fill-opacity=\"1\" /></svg>\n"
      ]
     },
     "execution_count": 36,
     "metadata": {},
     "output_type": "execute_result"
    }
   ],
   "source": [
    "X = Hyperrectangle(low = [-2., -1.], high = [2., 1.])\n",
    "zono_result = zono_approximate_nnet(net, X)\n",
    "Plots.plot(zono_result[3], label = \"Zono result\")"
   ]
  },
  {
   "cell_type": "markdown",
   "id": "f9752cf8",
   "metadata": {},
   "source": [
    "Your result should be compared to the result of Ai2z below:"
   ]
  },
  {
   "cell_type": "code",
   "execution_count": 37,
   "id": "058e6644",
   "metadata": {},
   "outputs": [
    {
     "data": {
      "image/svg+xml": [
       "<?xml version=\"1.0\" encoding=\"utf-8\"?>\n",
       "<svg xmlns=\"http://www.w3.org/2000/svg\" xmlns:xlink=\"http://www.w3.org/1999/xlink\" width=\"600\" height=\"400\" viewBox=\"0 0 2400 1600\">\n",
       "<defs>\n",
       "  <clipPath id=\"clip920\">\n",
       "    <rect x=\"0\" y=\"0\" width=\"2400\" height=\"1600\"/>\n",
       "  </clipPath>\n",
       "</defs>\n",
       "<path clip-path=\"url(#clip920)\" d=\"M0 1600 L2400 1600 L2400 0 L0 0  Z\" fill=\"#ffffff\" fill-rule=\"evenodd\" fill-opacity=\"1\"/>\n",
       "<defs>\n",
       "  <clipPath id=\"clip921\">\n",
       "    <rect x=\"480\" y=\"0\" width=\"1681\" height=\"1600\"/>\n",
       "  </clipPath>\n",
       "</defs>\n",
       "<path clip-path=\"url(#clip920)\" d=\"M192.941 1486.45 L2352.76 1486.45 L2352.76 47.2441 L192.941 47.2441  Z\" fill=\"#ffffff\" fill-rule=\"evenodd\" fill-opacity=\"1\"/>\n",
       "<defs>\n",
       "  <clipPath id=\"clip922\">\n",
       "    <rect x=\"192\" y=\"47\" width=\"2161\" height=\"1440\"/>\n",
       "  </clipPath>\n",
       "</defs>\n",
       "<polyline clip-path=\"url(#clip922)\" style=\"stroke:#000000; stroke-linecap:round; stroke-linejoin:round; stroke-width:2; stroke-opacity:0.1; fill:none\" points=\"453.883,1486.45 453.883,47.2441 \"/>\n",
       "<polyline clip-path=\"url(#clip922)\" style=\"stroke:#000000; stroke-linecap:round; stroke-linejoin:round; stroke-width:2; stroke-opacity:0.1; fill:none\" points=\"868.315,1486.45 868.315,47.2441 \"/>\n",
       "<polyline clip-path=\"url(#clip922)\" style=\"stroke:#000000; stroke-linecap:round; stroke-linejoin:round; stroke-width:2; stroke-opacity:0.1; fill:none\" points=\"1282.75,1486.45 1282.75,47.2441 \"/>\n",
       "<polyline clip-path=\"url(#clip922)\" style=\"stroke:#000000; stroke-linecap:round; stroke-linejoin:round; stroke-width:2; stroke-opacity:0.1; fill:none\" points=\"1697.18,1486.45 1697.18,47.2441 \"/>\n",
       "<polyline clip-path=\"url(#clip922)\" style=\"stroke:#000000; stroke-linecap:round; stroke-linejoin:round; stroke-width:2; stroke-opacity:0.1; fill:none\" points=\"2111.61,1486.45 2111.61,47.2441 \"/>\n",
       "<polyline clip-path=\"url(#clip920)\" style=\"stroke:#000000; stroke-linecap:round; stroke-linejoin:round; stroke-width:4; stroke-opacity:1; fill:none\" points=\"192.941,1486.45 2352.76,1486.45 \"/>\n",
       "<polyline clip-path=\"url(#clip920)\" style=\"stroke:#000000; stroke-linecap:round; stroke-linejoin:round; stroke-width:4; stroke-opacity:1; fill:none\" points=\"453.883,1486.45 453.883,1467.55 \"/>\n",
       "<polyline clip-path=\"url(#clip920)\" style=\"stroke:#000000; stroke-linecap:round; stroke-linejoin:round; stroke-width:4; stroke-opacity:1; fill:none\" points=\"868.315,1486.45 868.315,1467.55 \"/>\n",
       "<polyline clip-path=\"url(#clip920)\" style=\"stroke:#000000; stroke-linecap:round; stroke-linejoin:round; stroke-width:4; stroke-opacity:1; fill:none\" points=\"1282.75,1486.45 1282.75,1467.55 \"/>\n",
       "<polyline clip-path=\"url(#clip920)\" style=\"stroke:#000000; stroke-linecap:round; stroke-linejoin:round; stroke-width:4; stroke-opacity:1; fill:none\" points=\"1697.18,1486.45 1697.18,1467.55 \"/>\n",
       "<polyline clip-path=\"url(#clip920)\" style=\"stroke:#000000; stroke-linecap:round; stroke-linejoin:round; stroke-width:4; stroke-opacity:1; fill:none\" points=\"2111.61,1486.45 2111.61,1467.55 \"/>\n",
       "<path clip-path=\"url(#clip920)\" d=\"M422.946 1532.02 L452.621 1532.02 L452.621 1535.95 L422.946 1535.95 L422.946 1532.02 Z\" fill=\"#000000\" fill-rule=\"nonzero\" fill-opacity=\"1\" /><path clip-path=\"url(#clip920)\" d=\"M473.292 1529.7 Q470.144 1529.7 468.292 1531.86 Q466.464 1534.01 466.464 1537.76 Q466.464 1541.49 468.292 1543.66 Q470.144 1545.82 473.292 1545.82 Q476.441 1545.82 478.269 1543.66 Q480.121 1541.49 480.121 1537.76 Q480.121 1534.01 478.269 1531.86 Q476.441 1529.7 473.292 1529.7 M482.575 1515.05 L482.575 1519.31 Q480.816 1518.48 479.01 1518.04 Q477.228 1517.6 475.468 1517.6 Q470.839 1517.6 468.385 1520.72 Q465.955 1523.85 465.607 1530.17 Q466.973 1528.15 469.033 1527.09 Q471.093 1526 473.57 1526 Q478.779 1526 481.788 1529.17 Q484.82 1532.32 484.82 1537.76 Q484.82 1543.08 481.672 1546.3 Q478.524 1549.52 473.292 1549.52 Q467.297 1549.52 464.126 1544.94 Q460.955 1540.33 460.955 1531.6 Q460.955 1523.41 464.843 1518.55 Q468.732 1513.66 475.283 1513.66 Q477.042 1513.66 478.825 1514.01 Q480.63 1514.36 482.575 1515.05 Z\" fill=\"#000000\" fill-rule=\"nonzero\" fill-opacity=\"1\" /><path clip-path=\"url(#clip920)\" d=\"M837.215 1532.02 L866.891 1532.02 L866.891 1535.95 L837.215 1535.95 L837.215 1532.02 Z\" fill=\"#000000\" fill-rule=\"nonzero\" fill-opacity=\"1\" /><path clip-path=\"url(#clip920)\" d=\"M889.831 1518.36 L878.025 1536.81 L889.831 1536.81 L889.831 1518.36 M888.604 1514.29 L894.484 1514.29 L894.484 1536.81 L899.414 1536.81 L899.414 1540.7 L894.484 1540.7 L894.484 1548.85 L889.831 1548.85 L889.831 1540.7 L874.229 1540.7 L874.229 1536.19 L888.604 1514.29 Z\" fill=\"#000000\" fill-rule=\"nonzero\" fill-opacity=\"1\" /><path clip-path=\"url(#clip920)\" d=\"M1252.69 1532.02 L1282.36 1532.02 L1282.36 1535.95 L1252.69 1535.95 L1252.69 1532.02 Z\" fill=\"#000000\" fill-rule=\"nonzero\" fill-opacity=\"1\" /><path clip-path=\"url(#clip920)\" d=\"M1296.48 1544.91 L1312.8 1544.91 L1312.8 1548.85 L1290.86 1548.85 L1290.86 1544.91 Q1293.52 1542.16 1298.11 1537.53 Q1302.71 1532.88 1303.89 1531.53 Q1306.14 1529.01 1307.02 1527.27 Q1307.92 1525.51 1307.92 1523.82 Q1307.92 1521.07 1305.98 1519.33 Q1304.05 1517.6 1300.95 1517.6 Q1298.75 1517.6 1296.3 1518.36 Q1293.87 1519.13 1291.09 1520.68 L1291.09 1515.95 Q1293.92 1514.82 1296.37 1514.24 Q1298.82 1513.66 1300.86 1513.66 Q1306.23 1513.66 1309.42 1516.35 Q1312.62 1519.03 1312.62 1523.52 Q1312.62 1525.65 1311.81 1527.57 Q1311.02 1529.47 1308.92 1532.07 Q1308.34 1532.74 1305.23 1535.95 Q1302.13 1539.15 1296.48 1544.91 Z\" fill=\"#000000\" fill-rule=\"nonzero\" fill-opacity=\"1\" /><path clip-path=\"url(#clip920)\" d=\"M1697.18 1517.37 Q1693.57 1517.37 1691.74 1520.93 Q1689.93 1524.47 1689.93 1531.6 Q1689.93 1538.71 1691.74 1542.27 Q1693.57 1545.82 1697.18 1545.82 Q1700.81 1545.82 1702.62 1542.27 Q1704.45 1538.71 1704.45 1531.6 Q1704.45 1524.47 1702.62 1520.93 Q1700.81 1517.37 1697.18 1517.37 M1697.18 1513.66 Q1702.99 1513.66 1706.04 1518.27 Q1709.12 1522.85 1709.12 1531.6 Q1709.12 1540.33 1706.04 1544.94 Q1702.99 1549.52 1697.18 1549.52 Q1691.37 1549.52 1688.29 1544.94 Q1685.23 1540.33 1685.23 1531.6 Q1685.23 1522.85 1688.29 1518.27 Q1691.37 1513.66 1697.18 1513.66 Z\" fill=\"#000000\" fill-rule=\"nonzero\" fill-opacity=\"1\" /><path clip-path=\"url(#clip920)\" d=\"M2106.26 1544.91 L2122.58 1544.91 L2122.58 1548.85 L2100.64 1548.85 L2100.64 1544.91 Q2103.3 1542.16 2107.88 1537.53 Q2112.49 1532.88 2113.67 1531.53 Q2115.92 1529.01 2116.8 1527.27 Q2117.7 1525.51 2117.7 1523.82 Q2117.7 1521.07 2115.75 1519.33 Q2113.83 1517.6 2110.73 1517.6 Q2108.53 1517.6 2106.08 1518.36 Q2103.65 1519.13 2100.87 1520.68 L2100.87 1515.95 Q2103.69 1514.82 2106.15 1514.24 Q2108.6 1513.66 2110.64 1513.66 Q2116.01 1513.66 2119.2 1516.35 Q2122.4 1519.03 2122.4 1523.52 Q2122.4 1525.65 2121.59 1527.57 Q2120.8 1529.47 2118.69 1532.07 Q2118.11 1532.74 2115.01 1535.95 Q2111.91 1539.15 2106.26 1544.91 Z\" fill=\"#000000\" fill-rule=\"nonzero\" fill-opacity=\"1\" /><polyline clip-path=\"url(#clip922)\" style=\"stroke:#000000; stroke-linecap:round; stroke-linejoin:round; stroke-width:2; stroke-opacity:0.1; fill:none\" points=\"192.941,1368.82 2352.76,1368.82 \"/>\n",
       "<polyline clip-path=\"url(#clip922)\" style=\"stroke:#000000; stroke-linecap:round; stroke-linejoin:round; stroke-width:2; stroke-opacity:0.1; fill:none\" points=\"192.941,1063.86 2352.76,1063.86 \"/>\n",
       "<polyline clip-path=\"url(#clip922)\" style=\"stroke:#000000; stroke-linecap:round; stroke-linejoin:round; stroke-width:2; stroke-opacity:0.1; fill:none\" points=\"192.941,758.895 2352.76,758.895 \"/>\n",
       "<polyline clip-path=\"url(#clip922)\" style=\"stroke:#000000; stroke-linecap:round; stroke-linejoin:round; stroke-width:2; stroke-opacity:0.1; fill:none\" points=\"192.941,453.932 2352.76,453.932 \"/>\n",
       "<polyline clip-path=\"url(#clip922)\" style=\"stroke:#000000; stroke-linecap:round; stroke-linejoin:round; stroke-width:2; stroke-opacity:0.1; fill:none\" points=\"192.941,148.969 2352.76,148.969 \"/>\n",
       "<polyline clip-path=\"url(#clip920)\" style=\"stroke:#000000; stroke-linecap:round; stroke-linejoin:round; stroke-width:4; stroke-opacity:1; fill:none\" points=\"192.941,1486.45 192.941,47.2441 \"/>\n",
       "<polyline clip-path=\"url(#clip920)\" style=\"stroke:#000000; stroke-linecap:round; stroke-linejoin:round; stroke-width:4; stroke-opacity:1; fill:none\" points=\"192.941,1368.82 211.838,1368.82 \"/>\n",
       "<polyline clip-path=\"url(#clip920)\" style=\"stroke:#000000; stroke-linecap:round; stroke-linejoin:round; stroke-width:4; stroke-opacity:1; fill:none\" points=\"192.941,1063.86 211.838,1063.86 \"/>\n",
       "<polyline clip-path=\"url(#clip920)\" style=\"stroke:#000000; stroke-linecap:round; stroke-linejoin:round; stroke-width:4; stroke-opacity:1; fill:none\" points=\"192.941,758.895 211.838,758.895 \"/>\n",
       "<polyline clip-path=\"url(#clip920)\" style=\"stroke:#000000; stroke-linecap:round; stroke-linejoin:round; stroke-width:4; stroke-opacity:1; fill:none\" points=\"192.941,453.932 211.838,453.932 \"/>\n",
       "<polyline clip-path=\"url(#clip920)\" style=\"stroke:#000000; stroke-linecap:round; stroke-linejoin:round; stroke-width:4; stroke-opacity:1; fill:none\" points=\"192.941,148.969 211.838,148.969 \"/>\n",
       "<path clip-path=\"url(#clip920)\" d=\"M50.9921 1369.27 L80.6679 1369.27 L80.6679 1373.21 L50.9921 1373.21 L50.9921 1369.27 Z\" fill=\"#000000\" fill-rule=\"nonzero\" fill-opacity=\"1\" /><path clip-path=\"url(#clip920)\" d=\"M94.7882 1382.17 L111.108 1382.17 L111.108 1386.1 L89.1632 1386.1 L89.1632 1382.17 Q91.8252 1379.41 96.4085 1374.78 Q101.015 1370.13 102.196 1368.79 Q104.441 1366.26 105.321 1364.53 Q106.223 1362.77 106.223 1361.08 Q106.223 1358.32 104.279 1356.59 Q102.358 1354.85 99.2558 1354.85 Q97.0567 1354.85 94.603 1355.62 Q92.1725 1356.38 89.3947 1357.93 L89.3947 1353.21 Q92.2188 1352.07 94.6724 1351.5 Q97.1261 1350.92 99.1632 1350.92 Q104.534 1350.92 107.728 1353.6 Q110.922 1356.29 110.922 1360.78 Q110.922 1362.91 110.112 1364.83 Q109.325 1366.73 107.219 1369.32 Q106.64 1369.99 103.538 1373.21 Q100.436 1376.4 94.7882 1382.17 Z\" fill=\"#000000\" fill-rule=\"nonzero\" fill-opacity=\"1\" /><path clip-path=\"url(#clip920)\" d=\"M120.922 1380.22 L125.807 1380.22 L125.807 1386.1 L120.922 1386.1 L120.922 1380.22 Z\" fill=\"#000000\" fill-rule=\"nonzero\" fill-opacity=\"1\" /><path clip-path=\"url(#clip920)\" d=\"M136.038 1351.54 L154.394 1351.54 L154.394 1355.48 L140.32 1355.48 L140.32 1363.95 Q141.339 1363.6 142.357 1363.44 Q143.376 1363.25 144.394 1363.25 Q150.181 1363.25 153.561 1366.43 Q156.941 1369.6 156.941 1375.01 Q156.941 1380.59 153.468 1383.69 Q149.996 1386.77 143.677 1386.77 Q141.501 1386.77 139.232 1386.4 Q136.987 1386.03 134.58 1385.29 L134.58 1380.59 Q136.663 1381.73 138.885 1382.28 Q141.107 1382.84 143.584 1382.84 Q147.589 1382.84 149.927 1380.73 Q152.265 1378.62 152.265 1375.01 Q152.265 1371.4 149.927 1369.3 Q147.589 1367.19 143.584 1367.19 Q141.709 1367.19 139.834 1367.61 Q137.982 1368.02 136.038 1368.9 L136.038 1351.54 Z\" fill=\"#000000\" fill-rule=\"nonzero\" fill-opacity=\"1\" /><path clip-path=\"url(#clip920)\" d=\"M99.765 1049.66 Q96.1539 1049.66 94.3252 1053.22 Q92.5197 1056.76 92.5197 1063.89 Q92.5197 1071 94.3252 1074.56 Q96.1539 1078.11 99.765 1078.11 Q103.399 1078.11 105.205 1074.56 Q107.033 1071 107.033 1063.89 Q107.033 1056.76 105.205 1053.22 Q103.399 1049.66 99.765 1049.66 M99.765 1045.95 Q105.575 1045.95 108.631 1050.56 Q111.709 1055.14 111.709 1063.89 Q111.709 1072.62 108.631 1077.23 Q105.575 1081.81 99.765 1081.81 Q93.9549 1081.81 90.8762 1077.23 Q87.8206 1072.62 87.8206 1063.89 Q87.8206 1055.14 90.8762 1050.56 Q93.9549 1045.95 99.765 1045.95 Z\" fill=\"#000000\" fill-rule=\"nonzero\" fill-opacity=\"1\" /><path clip-path=\"url(#clip920)\" d=\"M119.927 1075.26 L124.811 1075.26 L124.811 1081.14 L119.927 1081.14 L119.927 1075.26 Z\" fill=\"#000000\" fill-rule=\"nonzero\" fill-opacity=\"1\" /><path clip-path=\"url(#clip920)\" d=\"M144.996 1049.66 Q141.385 1049.66 139.556 1053.22 Q137.751 1056.76 137.751 1063.89 Q137.751 1071 139.556 1074.56 Q141.385 1078.11 144.996 1078.11 Q148.63 1078.11 150.436 1074.56 Q152.265 1071 152.265 1063.89 Q152.265 1056.76 150.436 1053.22 Q148.63 1049.66 144.996 1049.66 M144.996 1045.95 Q150.806 1045.95 153.862 1050.56 Q156.941 1055.14 156.941 1063.89 Q156.941 1072.62 153.862 1077.23 Q150.806 1081.81 144.996 1081.81 Q139.186 1081.81 136.107 1077.23 Q133.052 1072.62 133.052 1063.89 Q133.052 1055.14 136.107 1050.56 Q139.186 1045.95 144.996 1045.95 Z\" fill=\"#000000\" fill-rule=\"nonzero\" fill-opacity=\"1\" /><path clip-path=\"url(#clip920)\" d=\"M94.7882 772.24 L111.108 772.24 L111.108 776.175 L89.1632 776.175 L89.1632 772.24 Q91.8252 769.485 96.4085 764.856 Q101.015 760.203 102.196 758.86 Q104.441 756.337 105.321 754.601 Q106.223 752.842 106.223 751.152 Q106.223 748.398 104.279 746.661 Q102.358 744.925 99.2558 744.925 Q97.0567 744.925 94.603 745.689 Q92.1725 746.453 89.3947 748.004 L89.3947 743.282 Q92.2188 742.148 94.6724 741.569 Q97.1261 740.99 99.1632 740.99 Q104.534 740.99 107.728 743.675 Q110.922 746.361 110.922 750.851 Q110.922 752.981 110.112 754.902 Q109.325 756.8 107.219 759.393 Q106.64 760.064 103.538 763.282 Q100.436 766.476 94.7882 772.24 Z\" fill=\"#000000\" fill-rule=\"nonzero\" fill-opacity=\"1\" /><path clip-path=\"url(#clip920)\" d=\"M120.922 770.296 L125.807 770.296 L125.807 776.175 L120.922 776.175 L120.922 770.296 Z\" fill=\"#000000\" fill-rule=\"nonzero\" fill-opacity=\"1\" /><path clip-path=\"url(#clip920)\" d=\"M136.038 741.615 L154.394 741.615 L154.394 745.55 L140.32 745.55 L140.32 754.023 Q141.339 753.675 142.357 753.513 Q143.376 753.328 144.394 753.328 Q150.181 753.328 153.561 756.499 Q156.941 759.671 156.941 765.087 Q156.941 770.666 153.468 773.768 Q149.996 776.846 143.677 776.846 Q141.501 776.846 139.232 776.476 Q136.987 776.106 134.58 775.365 L134.58 770.666 Q136.663 771.8 138.885 772.356 Q141.107 772.911 143.584 772.911 Q147.589 772.911 149.927 770.805 Q152.265 768.698 152.265 765.087 Q152.265 761.476 149.927 759.37 Q147.589 757.263 143.584 757.263 Q141.709 757.263 139.834 757.68 Q137.982 758.097 136.038 758.976 L136.038 741.615 Z\" fill=\"#000000\" fill-rule=\"nonzero\" fill-opacity=\"1\" /><path clip-path=\"url(#clip920)\" d=\"M89.8114 436.652 L108.168 436.652 L108.168 440.587 L94.0937 440.587 L94.0937 449.059 Q95.1123 448.712 96.1308 448.55 Q97.1493 448.365 98.1678 448.365 Q103.955 448.365 107.334 451.536 Q110.714 454.707 110.714 460.124 Q110.714 465.703 107.242 468.805 Q103.77 471.883 97.4502 471.883 Q95.2743 471.883 93.0058 471.513 Q90.7604 471.143 88.353 470.402 L88.353 465.703 Q90.4364 466.837 92.6586 467.393 Q94.8808 467.948 97.3576 467.948 Q101.362 467.948 103.7 465.842 Q106.038 463.735 106.038 460.124 Q106.038 456.513 103.7 454.407 Q101.362 452.3 97.3576 452.3 Q95.4826 452.3 93.6076 452.717 Q91.7558 453.133 89.8114 454.013 L89.8114 436.652 Z\" fill=\"#000000\" fill-rule=\"nonzero\" fill-opacity=\"1\" /><path clip-path=\"url(#clip920)\" d=\"M119.927 465.332 L124.811 465.332 L124.811 471.212 L119.927 471.212 L119.927 465.332 Z\" fill=\"#000000\" fill-rule=\"nonzero\" fill-opacity=\"1\" /><path clip-path=\"url(#clip920)\" d=\"M144.996 439.731 Q141.385 439.731 139.556 443.296 Q137.751 446.837 137.751 453.967 Q137.751 461.073 139.556 464.638 Q141.385 468.18 144.996 468.18 Q148.63 468.18 150.436 464.638 Q152.265 461.073 152.265 453.967 Q152.265 446.837 150.436 443.296 Q148.63 439.731 144.996 439.731 M144.996 436.027 Q150.806 436.027 153.862 440.633 Q156.941 445.217 156.941 453.967 Q156.941 462.694 153.862 467.3 Q150.806 471.883 144.996 471.883 Q139.186 471.883 136.107 467.3 Q133.052 462.694 133.052 453.967 Q133.052 445.217 136.107 440.633 Q139.186 436.027 144.996 436.027 Z\" fill=\"#000000\" fill-rule=\"nonzero\" fill-opacity=\"1\" /><path clip-path=\"url(#clip920)\" d=\"M89.5799 131.689 L111.802 131.689 L111.802 133.68 L99.2558 166.249 L94.3715 166.249 L106.177 135.624 L89.5799 135.624 L89.5799 131.689 Z\" fill=\"#000000\" fill-rule=\"nonzero\" fill-opacity=\"1\" /><path clip-path=\"url(#clip920)\" d=\"M120.922 160.369 L125.807 160.369 L125.807 166.249 L120.922 166.249 L120.922 160.369 Z\" fill=\"#000000\" fill-rule=\"nonzero\" fill-opacity=\"1\" /><path clip-path=\"url(#clip920)\" d=\"M136.038 131.689 L154.394 131.689 L154.394 135.624 L140.32 135.624 L140.32 144.096 Q141.339 143.749 142.357 143.587 Q143.376 143.402 144.394 143.402 Q150.181 143.402 153.561 146.573 Q156.941 149.744 156.941 155.161 Q156.941 160.74 153.468 163.842 Q149.996 166.92 143.677 166.92 Q141.501 166.92 139.232 166.55 Q136.987 166.179 134.58 165.439 L134.58 160.74 Q136.663 161.874 138.885 162.429 Q141.107 162.985 143.584 162.985 Q147.589 162.985 149.927 160.879 Q152.265 158.772 152.265 155.161 Q152.265 151.55 149.927 149.443 Q147.589 147.337 143.584 147.337 Q141.709 147.337 139.834 147.754 Q137.982 148.17 136.038 149.05 L136.038 131.689 Z\" fill=\"#000000\" fill-rule=\"nonzero\" fill-opacity=\"1\" /><path clip-path=\"url(#clip922)\" d=\"M254.067 190.792 L662.024 671.109 L1249.63 1213.07 L1467.21 1341.16 L1822.43 1445.72 L2291.63 1342.9 L1883.67 862.583 L1296.07 320.62 L1078.49 192.535 L723.264 87.9763 L254.067 190.792 L254.067 190.792  Z\" fill=\"#009af9\" fill-rule=\"evenodd\" fill-opacity=\"0.5\"/>\n",
       "<polyline clip-path=\"url(#clip922)\" style=\"stroke:#000000; stroke-linecap:round; stroke-linejoin:round; stroke-width:4; stroke-opacity:0.5; fill:none\" points=\"254.067,190.792 662.024,671.109 1249.63,1213.07 1467.21,1341.16 1822.43,1445.72 2291.63,1342.9 1883.67,862.583 1296.07,320.62 1078.49,192.535 723.264,87.9763 254.067,190.792 \"/>\n",
       "<path clip-path=\"url(#clip922)\" d=\"M254.067 190.792 L662.024 671.109 L1249.63 1213.07 L1467.21 1341.16 L1822.43 1445.72 L2291.63 1342.9 L1883.67 862.583 L1296.07 320.62 L1078.49 192.535 L723.264 87.9763 L254.067 190.792 L254.067 190.792  Z\" fill=\"#e26f46\" fill-rule=\"evenodd\" fill-opacity=\"0.5\"/>\n",
       "<polyline clip-path=\"url(#clip922)\" style=\"stroke:#000000; stroke-linecap:round; stroke-linejoin:round; stroke-width:4; stroke-opacity:0.5; fill:none\" points=\"254.067,190.792 662.024,671.109 1249.63,1213.07 1467.21,1341.16 1822.43,1445.72 2291.63,1342.9 1883.67,862.583 1296.07,320.62 1078.49,192.535 723.264,87.9763 254.067,190.792 \"/>\n",
       "<path clip-path=\"url(#clip920)\" d=\"M1798.32 250.738 L2280.76 250.738 L2280.76 95.2176 L1798.32 95.2176  Z\" fill=\"#ffffff\" fill-rule=\"evenodd\" fill-opacity=\"1\"/>\n",
       "<polyline clip-path=\"url(#clip920)\" style=\"stroke:#000000; stroke-linecap:round; stroke-linejoin:round; stroke-width:4; stroke-opacity:1; fill:none\" points=\"1798.32,250.738 2280.76,250.738 2280.76,95.2176 1798.32,95.2176 1798.32,250.738 \"/>\n",
       "<path clip-path=\"url(#clip920)\" d=\"M1822.32 167.794 L1966.31 167.794 L1966.31 126.322 L1822.32 126.322 L1822.32 167.794  Z\" fill=\"#009af9\" fill-rule=\"evenodd\" fill-opacity=\"0.5\"/>\n",
       "<polyline clip-path=\"url(#clip920)\" style=\"stroke:#000000; stroke-linecap:round; stroke-linejoin:round; stroke-width:4; stroke-opacity:1; fill:none\" points=\"1822.32,167.794 1966.31,167.794 1966.31,126.322 1822.32,126.322 1822.32,167.794 \"/>\n",
       "<path clip-path=\"url(#clip920)\" d=\"M1990.84 129.778 L2017.99 129.778 L2017.99 133.342 L1996.14 160.402 L2018.52 160.402 L2018.52 164.338 L1990.31 164.338 L1990.31 160.773 L2012.16 133.713 L1990.84 133.713 L1990.84 129.778 Z\" fill=\"#000000\" fill-rule=\"nonzero\" fill-opacity=\"1\" /><path clip-path=\"url(#clip920)\" d=\"M2035.17 141.398 Q2031.74 141.398 2029.75 144.083 Q2027.76 146.745 2027.76 151.398 Q2027.76 156.051 2029.73 158.736 Q2031.72 161.398 2035.17 161.398 Q2038.57 161.398 2040.56 158.713 Q2042.55 156.027 2042.55 151.398 Q2042.55 146.791 2040.56 144.106 Q2038.57 141.398 2035.17 141.398 M2035.17 137.787 Q2040.72 137.787 2043.89 141.398 Q2047.07 145.009 2047.07 151.398 Q2047.07 157.764 2043.89 161.398 Q2040.72 165.009 2035.17 165.009 Q2029.59 165.009 2026.42 161.398 Q2023.27 157.764 2023.27 151.398 Q2023.27 145.009 2026.42 141.398 Q2029.59 137.787 2035.17 137.787 Z\" fill=\"#000000\" fill-rule=\"nonzero\" fill-opacity=\"1\" /><path clip-path=\"url(#clip920)\" d=\"M2075.68 148.689 L2075.68 164.338 L2071.42 164.338 L2071.42 148.828 Q2071.42 145.148 2069.98 143.319 Q2068.55 141.49 2065.68 141.49 Q2062.23 141.49 2060.24 143.69 Q2058.25 145.889 2058.25 149.685 L2058.25 164.338 L2053.96 164.338 L2053.96 138.412 L2058.25 138.412 L2058.25 142.44 Q2059.77 140.102 2061.83 138.944 Q2063.92 137.787 2066.63 137.787 Q2071.09 137.787 2073.39 140.565 Q2075.68 143.319 2075.68 148.689 Z\" fill=\"#000000\" fill-rule=\"nonzero\" fill-opacity=\"1\" /><path clip-path=\"url(#clip920)\" d=\"M2094.22 141.398 Q2090.79 141.398 2088.8 144.083 Q2086.81 146.745 2086.81 151.398 Q2086.81 156.051 2088.78 158.736 Q2090.77 161.398 2094.22 161.398 Q2097.62 161.398 2099.61 158.713 Q2101.6 156.027 2101.6 151.398 Q2101.6 146.791 2099.61 144.106 Q2097.62 141.398 2094.22 141.398 M2094.22 137.787 Q2099.77 137.787 2102.95 141.398 Q2106.12 145.009 2106.12 151.398 Q2106.12 157.764 2102.95 161.398 Q2099.77 165.009 2094.22 165.009 Q2088.64 165.009 2085.47 161.398 Q2082.32 157.764 2082.32 151.398 Q2082.32 145.009 2085.47 141.398 Q2088.64 137.787 2094.22 137.787 Z\" fill=\"#000000\" fill-rule=\"nonzero\" fill-opacity=\"1\" /><path clip-path=\"url(#clip920)\" d=\"M2143.27 142.393 Q2142.55 141.977 2141.7 141.791 Q2140.86 141.583 2139.84 141.583 Q2136.23 141.583 2134.29 143.944 Q2132.37 146.282 2132.37 150.68 L2132.37 164.338 L2128.08 164.338 L2128.08 138.412 L2132.37 138.412 L2132.37 142.44 Q2133.71 140.078 2135.86 138.944 Q2138.01 137.787 2141.09 137.787 Q2141.53 137.787 2142.07 137.856 Q2142.6 137.903 2143.25 138.018 L2143.27 142.393 Z\" fill=\"#000000\" fill-rule=\"nonzero\" fill-opacity=\"1\" /><path clip-path=\"url(#clip920)\" d=\"M2168.87 150.31 L2168.87 152.393 L2149.29 152.393 Q2149.57 156.791 2151.93 159.106 Q2154.31 161.398 2158.55 161.398 Q2161 161.398 2163.29 160.796 Q2165.61 160.194 2167.88 158.99 L2167.88 163.018 Q2165.58 163.99 2163.18 164.5 Q2160.77 165.009 2158.29 165.009 Q2152.09 165.009 2148.45 161.398 Q2144.84 157.787 2144.84 151.629 Q2144.84 145.264 2148.27 141.537 Q2151.72 137.787 2157.55 137.787 Q2162.78 137.787 2165.82 141.166 Q2168.87 144.523 2168.87 150.31 M2164.61 149.06 Q2164.57 145.565 2162.64 143.481 Q2160.75 141.398 2157.6 141.398 Q2154.03 141.398 2151.88 143.412 Q2149.75 145.426 2149.43 149.083 L2164.61 149.06 Z\" fill=\"#000000\" fill-rule=\"nonzero\" fill-opacity=\"1\" /><path clip-path=\"url(#clip920)\" d=\"M2192.39 139.176 L2192.39 143.203 Q2190.58 142.277 2188.64 141.815 Q2186.7 141.352 2184.61 141.352 Q2181.44 141.352 2179.84 142.324 Q2178.27 143.296 2178.27 145.24 Q2178.27 146.722 2179.4 147.578 Q2180.54 148.412 2183.96 149.176 L2185.42 149.5 Q2189.96 150.472 2191.86 152.254 Q2193.78 154.014 2193.78 157.185 Q2193.78 160.796 2190.91 162.902 Q2188.06 165.009 2183.06 165.009 Q2180.98 165.009 2178.71 164.592 Q2176.46 164.199 2173.96 163.388 L2173.96 158.99 Q2176.32 160.217 2178.62 160.842 Q2180.91 161.444 2183.15 161.444 Q2186.16 161.444 2187.78 160.426 Q2189.4 159.384 2189.4 157.509 Q2189.4 155.773 2188.22 154.847 Q2187.07 153.921 2183.11 153.064 L2181.63 152.717 Q2177.67 151.884 2175.91 150.171 Q2174.15 148.435 2174.15 145.426 Q2174.15 141.768 2176.74 139.778 Q2179.33 137.787 2184.1 137.787 Q2186.46 137.787 2188.55 138.134 Q2190.63 138.481 2192.39 139.176 Z\" fill=\"#000000\" fill-rule=\"nonzero\" fill-opacity=\"1\" /><path clip-path=\"url(#clip920)\" d=\"M2200.12 154.106 L2200.12 138.412 L2204.38 138.412 L2204.38 153.944 Q2204.38 157.625 2205.82 159.476 Q2207.25 161.305 2210.12 161.305 Q2213.57 161.305 2215.56 159.106 Q2217.57 156.907 2217.57 153.111 L2217.57 138.412 L2221.83 138.412 L2221.83 164.338 L2217.57 164.338 L2217.57 160.356 Q2216.02 162.717 2213.96 163.875 Q2211.93 165.009 2209.22 165.009 Q2204.75 165.009 2202.44 162.231 Q2200.12 159.453 2200.12 154.106 M2210.84 137.787 L2210.84 137.787 Z\" fill=\"#000000\" fill-rule=\"nonzero\" fill-opacity=\"1\" /><path clip-path=\"url(#clip920)\" d=\"M2230.61 128.319 L2234.87 128.319 L2234.87 164.338 L2230.61 164.338 L2230.61 128.319 Z\" fill=\"#000000\" fill-rule=\"nonzero\" fill-opacity=\"1\" /><path clip-path=\"url(#clip920)\" d=\"M2247.99 131.051 L2247.99 138.412 L2256.76 138.412 L2256.76 141.722 L2247.99 141.722 L2247.99 155.796 Q2247.99 158.967 2248.85 159.87 Q2249.73 160.773 2252.39 160.773 L2256.76 160.773 L2256.76 164.338 L2252.39 164.338 Q2247.46 164.338 2245.58 162.509 Q2243.71 160.657 2243.71 155.796 L2243.71 141.722 L2240.58 141.722 L2240.58 138.412 L2243.71 138.412 L2243.71 131.051 L2247.99 131.051 Z\" fill=\"#000000\" fill-rule=\"nonzero\" fill-opacity=\"1\" /><path clip-path=\"url(#clip920)\" d=\"M1822.32 219.634 L1966.31 219.634 L1966.31 178.162 L1822.32 178.162 L1822.32 219.634  Z\" fill=\"#e26f46\" fill-rule=\"evenodd\" fill-opacity=\"0.5\"/>\n",
       "<polyline clip-path=\"url(#clip920)\" style=\"stroke:#000000; stroke-linecap:round; stroke-linejoin:round; stroke-width:4; stroke-opacity:1; fill:none\" points=\"1822.32,219.634 1966.31,219.634 1966.31,178.162 1822.32,178.162 1822.32,219.634 \"/>\n",
       "<path clip-path=\"url(#clip920)\" d=\"M1990.84 181.618 L2017.99 181.618 L2017.99 185.182 L1996.14 212.242 L2018.52 212.242 L2018.52 216.178 L1990.31 216.178 L1990.31 212.613 L2012.16 185.553 L1990.84 185.553 L1990.84 181.618 Z\" fill=\"#000000\" fill-rule=\"nonzero\" fill-opacity=\"1\" /><path clip-path=\"url(#clip920)\" d=\"M2035.17 193.238 Q2031.74 193.238 2029.75 195.923 Q2027.76 198.585 2027.76 203.238 Q2027.76 207.891 2029.73 210.576 Q2031.72 213.238 2035.17 213.238 Q2038.57 213.238 2040.56 210.553 Q2042.55 207.867 2042.55 203.238 Q2042.55 198.631 2040.56 195.946 Q2038.57 193.238 2035.17 193.238 M2035.17 189.627 Q2040.72 189.627 2043.89 193.238 Q2047.07 196.849 2047.07 203.238 Q2047.07 209.604 2043.89 213.238 Q2040.72 216.849 2035.17 216.849 Q2029.59 216.849 2026.42 213.238 Q2023.27 209.604 2023.27 203.238 Q2023.27 196.849 2026.42 193.238 Q2029.59 189.627 2035.17 189.627 Z\" fill=\"#000000\" fill-rule=\"nonzero\" fill-opacity=\"1\" /><path clip-path=\"url(#clip920)\" d=\"M2075.68 200.529 L2075.68 216.178 L2071.42 216.178 L2071.42 200.668 Q2071.42 196.988 2069.98 195.159 Q2068.55 193.33 2065.68 193.33 Q2062.23 193.33 2060.24 195.53 Q2058.25 197.729 2058.25 201.525 L2058.25 216.178 L2053.96 216.178 L2053.96 190.252 L2058.25 190.252 L2058.25 194.28 Q2059.77 191.942 2061.83 190.784 Q2063.92 189.627 2066.63 189.627 Q2071.09 189.627 2073.39 192.405 Q2075.68 195.159 2075.68 200.529 Z\" fill=\"#000000\" fill-rule=\"nonzero\" fill-opacity=\"1\" /><path clip-path=\"url(#clip920)\" d=\"M2094.22 193.238 Q2090.79 193.238 2088.8 195.923 Q2086.81 198.585 2086.81 203.238 Q2086.81 207.891 2088.78 210.576 Q2090.77 213.238 2094.22 213.238 Q2097.62 213.238 2099.61 210.553 Q2101.6 207.867 2101.6 203.238 Q2101.6 198.631 2099.61 195.946 Q2097.62 193.238 2094.22 193.238 M2094.22 189.627 Q2099.77 189.627 2102.95 193.238 Q2106.12 196.849 2106.12 203.238 Q2106.12 209.604 2102.95 213.238 Q2099.77 216.849 2094.22 216.849 Q2088.64 216.849 2085.47 213.238 Q2082.32 209.604 2082.32 203.238 Q2082.32 196.849 2085.47 193.238 Q2088.64 189.627 2094.22 189.627 Z\" fill=\"#000000\" fill-rule=\"nonzero\" fill-opacity=\"1\" /><path clip-path=\"url(#clip920)\" d=\"M2143.27 194.233 Q2142.55 193.817 2141.7 193.631 Q2140.86 193.423 2139.84 193.423 Q2136.23 193.423 2134.29 195.784 Q2132.37 198.122 2132.37 202.52 L2132.37 216.178 L2128.08 216.178 L2128.08 190.252 L2132.37 190.252 L2132.37 194.28 Q2133.71 191.918 2135.86 190.784 Q2138.01 189.627 2141.09 189.627 Q2141.53 189.627 2142.07 189.696 Q2142.6 189.743 2143.25 189.858 L2143.27 194.233 Z\" fill=\"#000000\" fill-rule=\"nonzero\" fill-opacity=\"1\" /><path clip-path=\"url(#clip920)\" d=\"M2168.87 202.15 L2168.87 204.233 L2149.29 204.233 Q2149.57 208.631 2151.93 210.946 Q2154.31 213.238 2158.55 213.238 Q2161 213.238 2163.29 212.636 Q2165.61 212.034 2167.88 210.83 L2167.88 214.858 Q2165.58 215.83 2163.18 216.34 Q2160.77 216.849 2158.29 216.849 Q2152.09 216.849 2148.45 213.238 Q2144.84 209.627 2144.84 203.469 Q2144.84 197.104 2148.27 193.377 Q2151.72 189.627 2157.55 189.627 Q2162.78 189.627 2165.82 193.006 Q2168.87 196.363 2168.87 202.15 M2164.61 200.9 Q2164.57 197.405 2162.64 195.321 Q2160.75 193.238 2157.6 193.238 Q2154.03 193.238 2151.88 195.252 Q2149.75 197.266 2149.43 200.923 L2164.61 200.9 Z\" fill=\"#000000\" fill-rule=\"nonzero\" fill-opacity=\"1\" /><path clip-path=\"url(#clip920)\" d=\"M2192.39 191.016 L2192.39 195.043 Q2190.58 194.117 2188.64 193.655 Q2186.7 193.192 2184.61 193.192 Q2181.44 193.192 2179.84 194.164 Q2178.27 195.136 2178.27 197.08 Q2178.27 198.562 2179.4 199.418 Q2180.54 200.252 2183.96 201.016 L2185.42 201.34 Q2189.96 202.312 2191.86 204.094 Q2193.78 205.854 2193.78 209.025 Q2193.78 212.636 2190.91 214.742 Q2188.06 216.849 2183.06 216.849 Q2180.98 216.849 2178.71 216.432 Q2176.46 216.039 2173.96 215.228 L2173.96 210.83 Q2176.32 212.057 2178.62 212.682 Q2180.91 213.284 2183.15 213.284 Q2186.16 213.284 2187.78 212.266 Q2189.4 211.224 2189.4 209.349 Q2189.4 207.613 2188.22 206.687 Q2187.07 205.761 2183.11 204.904 L2181.63 204.557 Q2177.67 203.724 2175.91 202.011 Q2174.15 200.275 2174.15 197.266 Q2174.15 193.608 2176.74 191.618 Q2179.33 189.627 2184.1 189.627 Q2186.46 189.627 2188.55 189.974 Q2190.63 190.321 2192.39 191.016 Z\" fill=\"#000000\" fill-rule=\"nonzero\" fill-opacity=\"1\" /><path clip-path=\"url(#clip920)\" d=\"M2200.12 205.946 L2200.12 190.252 L2204.38 190.252 L2204.38 205.784 Q2204.38 209.465 2205.82 211.316 Q2207.25 213.145 2210.12 213.145 Q2213.57 213.145 2215.56 210.946 Q2217.57 208.747 2217.57 204.951 L2217.57 190.252 L2221.83 190.252 L2221.83 216.178 L2217.57 216.178 L2217.57 212.196 Q2216.02 214.557 2213.96 215.715 Q2211.93 216.849 2209.22 216.849 Q2204.75 216.849 2202.44 214.071 Q2200.12 211.293 2200.12 205.946 M2210.84 189.627 L2210.84 189.627 Z\" fill=\"#000000\" fill-rule=\"nonzero\" fill-opacity=\"1\" /><path clip-path=\"url(#clip920)\" d=\"M2230.61 180.159 L2234.87 180.159 L2234.87 216.178 L2230.61 216.178 L2230.61 180.159 Z\" fill=\"#000000\" fill-rule=\"nonzero\" fill-opacity=\"1\" /><path clip-path=\"url(#clip920)\" d=\"M2247.99 182.891 L2247.99 190.252 L2256.76 190.252 L2256.76 193.562 L2247.99 193.562 L2247.99 207.636 Q2247.99 210.807 2248.85 211.71 Q2249.73 212.613 2252.39 212.613 L2256.76 212.613 L2256.76 216.178 L2252.39 216.178 Q2247.46 216.178 2245.58 214.349 Q2243.71 212.497 2243.71 207.636 L2243.71 193.562 L2240.58 193.562 L2240.58 190.252 L2243.71 190.252 L2243.71 182.891 L2247.99 182.891 Z\" fill=\"#000000\" fill-rule=\"nonzero\" fill-opacity=\"1\" /></svg>\n"
      ]
     },
     "execution_count": 37,
     "metadata": {},
     "output_type": "execute_result"
    }
   ],
   "source": [
    "problem = Problem(net, X, X)\n",
    "result_zono = solve(Ai2z(),problem)\n",
    "plot!(result_zono.reachable, label = \"Zono result\")"
   ]
  },
  {
   "cell_type": "markdown",
   "id": "08020b7a",
   "metadata": {},
   "source": [
    "## Going further (optional)\n",
    "Implement and experiment a zonotopic abstraction for other activation functions (tanh, sigmoid)"
   ]
  }
 ],
 "metadata": {
  "kernelspec": {
   "display_name": "Julia 1.8.1",
   "language": "julia",
   "name": "julia-1.8"
  },
  "language_info": {
   "file_extension": ".jl",
   "mimetype": "application/julia",
   "name": "julia",
   "version": "1.8.1"
  }
 },
 "nbformat": 4,
 "nbformat_minor": 5
}
