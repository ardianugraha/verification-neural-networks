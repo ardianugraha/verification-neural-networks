{
 "cells": [
  {
   "cell_type": "markdown",
   "id": "feae7343",
   "metadata": {},
   "source": [
    "# Computing with Sets of Probabilities (or Imprecise Probabilities) in Julia"
   ]
  },
  {
   "cell_type": "markdown",
   "id": "4f657dd6",
   "metadata": {},
   "source": [
    "## Getting familiar with the p-box representation in [ProbabilityBoundsAnalysis.jl](https://andergray.github.io/ProbabilityBoundsAnalysis.jl/dev/)"
   ]
  },
  {
   "cell_type": "code",
   "execution_count": 1,
   "id": "80d989a5",
   "metadata": {},
   "outputs": [
    {
     "name": "stderr",
     "output_type": "stream",
     "text": [
      "\u001b[32m\u001b[1m  Activating\u001b[22m\u001b[39m new project at `~/Documents/verification-neural-networks/NeuralVerification-CARS-Workshop-master/lab2`\n",
      "\u001b[32m\u001b[1m    Updating\u001b[22m\u001b[39m registry at `~/.julia/registries/General.toml`\n",
      "\u001b[32m\u001b[1m   Resolving\u001b[22m\u001b[39m package versions...\n",
      "\u001b[32m\u001b[1m   Installed\u001b[22m\u001b[39m Rmath_jll ───────────────── v0.5.1+0\n",
      "\u001b[32m\u001b[1m   Installed\u001b[22m\u001b[39m HypergeometricFunctions ─── v0.3.25\n",
      "\u001b[32m\u001b[1m   Installed\u001b[22m\u001b[39m Rmath ───────────────────── v0.8.0\n",
      "\u001b[32m\u001b[1m   Installed\u001b[22m\u001b[39m PDMats ──────────────────── v0.11.31\n",
      "\u001b[32m\u001b[1m   Installed\u001b[22m\u001b[39m StatsFuns ───────────────── v1.3.2\n",
      "\u001b[32m\u001b[1m   Installed\u001b[22m\u001b[39m QuadGK ──────────────────── v2.11.1\n",
      "\u001b[32m\u001b[1m   Installed\u001b[22m\u001b[39m FillArrays ──────────────── v1.13.0\n",
      "\u001b[32m\u001b[1m   Installed\u001b[22m\u001b[39m AxisAlgorithms ──────────── v1.0.1\n",
      "\u001b[32m\u001b[1m   Installed\u001b[22m\u001b[39m WoodburyMatrices ────────── v0.5.6\n",
      "\u001b[32m\u001b[1m   Installed\u001b[22m\u001b[39m DensityInterface ────────── v0.4.0\n",
      "\u001b[32m\u001b[1m   Installed\u001b[22m\u001b[39m ProbabilityBoundsAnalysis ─ v0.2.11\n",
      "\u001b[32m\u001b[1m   Installed\u001b[22m\u001b[39m Distributions ───────────── v0.25.116\n",
      "\u001b[32m\u001b[1m   Installed\u001b[22m\u001b[39m Interpolations ──────────── v0.13.6\n",
      "\u001b[32m\u001b[1m    Updating\u001b[22m\u001b[39m `~/Documents/verification-neural-networks/NeuralVerification-CARS-Workshop-master/lab2/Project.toml`\n",
      " \u001b[90m [cd73f0b2] \u001b[39m\u001b[92m+ ProbabilityBoundsAnalysis v0.2.11\u001b[39m\n",
      "\u001b[32m\u001b[1m    Updating\u001b[22m\u001b[39m `~/Documents/verification-neural-networks/NeuralVerification-CARS-Workshop-master/lab2/Manifest.toml`\n",
      " \u001b[90m [79e6a3ab] \u001b[39m\u001b[92m+ Adapt v4.1.1\u001b[39m\n",
      " \u001b[90m [66dad0bd] \u001b[39m\u001b[92m+ AliasTables v1.1.3\u001b[39m\n",
      " \u001b[90m [13072b0f] \u001b[39m\u001b[92m+ AxisAlgorithms v1.0.1\u001b[39m\n",
      " \u001b[90m [96374032] \u001b[39m\u001b[92m+ CRlibm v1.0.1\u001b[39m\n",
      " \u001b[90m [d360d2e6] \u001b[39m\u001b[92m+ ChainRulesCore v1.25.1\u001b[39m\n",
      " \u001b[90m [9e997f8a] \u001b[39m\u001b[92m+ ChangesOfVariables v0.1.9\u001b[39m\n",
      " \u001b[90m [34da2185] \u001b[39m\u001b[92m+ Compat v4.16.0\u001b[39m\n",
      " \u001b[90m [9a962f9c] \u001b[39m\u001b[92m+ DataAPI v1.16.0\u001b[39m\n",
      " \u001b[90m [864edb3b] \u001b[39m\u001b[92m+ DataStructures v0.18.20\u001b[39m\n",
      " \u001b[90m [b429d917] \u001b[39m\u001b[92m+ DensityInterface v0.4.0\u001b[39m\n",
      " \u001b[90m [31c24e10] \u001b[39m\u001b[92m+ Distributions v0.25.116\u001b[39m\n",
      " \u001b[90m [ffbed154] \u001b[39m\u001b[92m+ DocStringExtensions v0.9.3\u001b[39m\n",
      " \u001b[90m [90fa49ef] \u001b[39m\u001b[92m+ ErrorfreeArithmetic v0.5.2\u001b[39m\n",
      " \u001b[90m [fa42c844] \u001b[39m\u001b[92m+ FastRounding v0.3.1\u001b[39m\n",
      " \u001b[90m [1a297f60] \u001b[39m\u001b[92m+ FillArrays v1.13.0\u001b[39m\n",
      " \u001b[90m [34004b35] \u001b[39m\u001b[92m+ HypergeometricFunctions v0.3.25\u001b[39m\n",
      " \u001b[90m [a98d9a8b] \u001b[39m\u001b[92m+ Interpolations v0.13.6\u001b[39m\n",
      " \u001b[90m [d1acc4aa] \u001b[39m\u001b[92m+ IntervalArithmetic v0.20.9\u001b[39m\n",
      " \u001b[90m [3587e190] \u001b[39m\u001b[92m+ InverseFunctions v0.1.17\u001b[39m\n",
      " \u001b[90m [92d709cd] \u001b[39m\u001b[92m+ IrrationalConstants v0.2.2\u001b[39m\n",
      " \u001b[90m [692b3bcd] \u001b[39m\u001b[92m+ JLLWrappers v1.7.0\u001b[39m\n",
      " \u001b[90m [2ab3a3ac] \u001b[39m\u001b[92m+ LogExpFunctions v0.3.28\u001b[39m\n",
      " \u001b[90m [e1d29d7a] \u001b[39m\u001b[92m+ Missings v1.2.0\u001b[39m\n",
      " \u001b[90m [6fe1bfb0] \u001b[39m\u001b[92m+ OffsetArrays v1.15.0\u001b[39m\n",
      " \u001b[90m [bac558e1] \u001b[39m\u001b[92m+ OrderedCollections v1.7.0\u001b[39m\n",
      " \u001b[90m [90014a1f] \u001b[39m\u001b[92m+ PDMats v0.11.31\u001b[39m\n",
      " \u001b[90m [aea7be01] \u001b[39m\u001b[92m+ PrecompileTools v1.2.1\u001b[39m\n",
      " \u001b[90m [21216c6a] \u001b[39m\u001b[92m+ Preferences v1.4.3\u001b[39m\n",
      " \u001b[90m [cd73f0b2] \u001b[39m\u001b[92m+ ProbabilityBoundsAnalysis v0.2.11\u001b[39m\n",
      " \u001b[90m [43287f4e] \u001b[39m\u001b[92m+ PtrArrays v1.2.1\u001b[39m\n",
      " \u001b[90m [1fd47b50] \u001b[39m\u001b[92m+ QuadGK v2.11.1\u001b[39m\n",
      " \u001b[90m [c84ed2f1] \u001b[39m\u001b[92m+ Ratios v0.4.5\u001b[39m\n",
      " \u001b[90m [3cdcf5f2] \u001b[39m\u001b[92m+ RecipesBase v1.3.4\u001b[39m\n",
      " \u001b[90m [189a3867] \u001b[39m\u001b[92m+ Reexport v1.2.2\u001b[39m\n",
      " \u001b[90m [ae029012] \u001b[39m\u001b[92m+ Requires v1.3.0\u001b[39m\n",
      " \u001b[90m [79098fc4] \u001b[39m\u001b[92m+ Rmath v0.8.0\u001b[39m\n",
      " \u001b[90m [5eaf0fd0] \u001b[39m\u001b[92m+ RoundingEmulator v0.2.1\u001b[39m\n",
      " \u001b[90m [3cc68bcd] \u001b[39m\u001b[92m+ SetRounding v0.2.1\u001b[39m\n",
      " \u001b[90m [a2af1166] \u001b[39m\u001b[92m+ SortingAlgorithms v1.2.1\u001b[39m\n",
      " \u001b[90m [276daf66] \u001b[39m\u001b[92m+ SpecialFunctions v2.5.0\u001b[39m\n",
      " \u001b[90m [90137ffa] \u001b[39m\u001b[92m+ StaticArrays v1.9.10\u001b[39m\n",
      " \u001b[90m [1e83bf80] \u001b[39m\u001b[92m+ StaticArraysCore v1.4.3\u001b[39m\n",
      " \u001b[90m [82ae8749] \u001b[39m\u001b[92m+ StatsAPI v1.7.0\u001b[39m\n",
      " \u001b[90m [2913bbd2] \u001b[39m\u001b[92m+ StatsBase v0.34.4\u001b[39m\n",
      " \u001b[90m [4c63d2b9] \u001b[39m\u001b[92m+ StatsFuns v1.3.2\u001b[39m\n",
      " \u001b[90m [efce3f68] \u001b[39m\u001b[92m+ WoodburyMatrices v0.5.6\u001b[39m\n",
      " \u001b[90m [4e9b3aee] \u001b[39m\u001b[92m+ CRlibm_jll v1.0.1+0\u001b[39m\n",
      " \u001b[90m [efe28fd5] \u001b[39m\u001b[92m+ OpenSpecFun_jll v0.5.6+0\u001b[39m\n",
      " \u001b[90m [f50d1b31] \u001b[39m\u001b[92m+ Rmath_jll v0.5.1+0\u001b[39m\n",
      " \u001b[90m [0dad84c5] \u001b[39m\u001b[92m+ ArgTools\u001b[39m\n",
      " \u001b[90m [56f22d72] \u001b[39m\u001b[92m+ Artifacts\u001b[39m\n",
      " \u001b[90m [2a0f44e3] \u001b[39m\u001b[92m+ Base64\u001b[39m\n",
      " \u001b[90m [ade2ca70] \u001b[39m\u001b[92m+ Dates\u001b[39m\n",
      " \u001b[90m [8ba89e20] \u001b[39m\u001b[92m+ Distributed\u001b[39m\n",
      " \u001b[90m [f43a241f] \u001b[39m\u001b[92m+ Downloads\u001b[39m\n",
      " \u001b[90m [b77e0a4c] \u001b[39m\u001b[92m+ InteractiveUtils\u001b[39m\n",
      " \u001b[90m [b27032c2] \u001b[39m\u001b[92m+ LibCURL\u001b[39m\n",
      " \u001b[90m [76f85450] \u001b[39m\u001b[92m+ LibGit2\u001b[39m\n",
      " \u001b[90m [8f399da3] \u001b[39m\u001b[92m+ Libdl\u001b[39m\n",
      " \u001b[90m [37e2e46d] \u001b[39m\u001b[92m+ LinearAlgebra\u001b[39m\n",
      " \u001b[90m [56ddb016] \u001b[39m\u001b[92m+ Logging\u001b[39m\n",
      " \u001b[90m [d6f4376e] \u001b[39m\u001b[92m+ Markdown\u001b[39m\n",
      " \u001b[90m [a63ad114] \u001b[39m\u001b[92m+ Mmap\u001b[39m\n",
      " \u001b[90m [ca575930] \u001b[39m\u001b[92m+ NetworkOptions\u001b[39m\n",
      " \u001b[90m [44cfe95a] \u001b[39m\u001b[92m+ Pkg\u001b[39m\n",
      " \u001b[90m [de0858da] \u001b[39m\u001b[92m+ Printf\u001b[39m\n",
      " \u001b[90m [3fa0cd96] \u001b[39m\u001b[92m+ REPL\u001b[39m\n",
      " \u001b[90m [9a3f8284] \u001b[39m\u001b[92m+ Random\u001b[39m\n",
      " \u001b[90m [ea8e919c] \u001b[39m\u001b[92m+ SHA\u001b[39m\n",
      " \u001b[90m [9e88b42a] \u001b[39m\u001b[92m+ Serialization\u001b[39m\n",
      " \u001b[90m [1a1011a3] \u001b[39m\u001b[92m+ SharedArrays\u001b[39m\n",
      " \u001b[90m [6462fe0b] \u001b[39m\u001b[92m+ Sockets\u001b[39m\n",
      " \u001b[90m [2f01184e] \u001b[39m\u001b[92m+ SparseArrays\u001b[39m\n",
      " \u001b[90m [10745b16] \u001b[39m\u001b[92m+ Statistics\u001b[39m\n",
      " \u001b[90m [4607b0f0] \u001b[39m\u001b[92m+ SuiteSparse\u001b[39m\n",
      " \u001b[90m [fa267f1f] \u001b[39m\u001b[92m+ TOML\u001b[39m\n",
      " \u001b[90m [a4e569a6] \u001b[39m\u001b[92m+ Tar\u001b[39m\n",
      " \u001b[90m [8dfed614] \u001b[39m\u001b[92m+ Test\u001b[39m\n",
      " \u001b[90m [cf7118a7] \u001b[39m\u001b[92m+ UUIDs\u001b[39m\n",
      " \u001b[90m [4ec0a83e] \u001b[39m\u001b[92m+ Unicode\u001b[39m\n",
      " \u001b[90m [e66e0078] \u001b[39m\u001b[92m+ CompilerSupportLibraries_jll\u001b[39m\n",
      " \u001b[90m [deac9b47] \u001b[39m\u001b[92m+ LibCURL_jll\u001b[39m\n",
      " \u001b[90m [29816b5a] \u001b[39m\u001b[92m+ LibSSH2_jll\u001b[39m\n",
      " \u001b[90m [c8ffd9c3] \u001b[39m\u001b[92m+ MbedTLS_jll\u001b[39m\n",
      " \u001b[90m [14a3606d] \u001b[39m\u001b[92m+ MozillaCACerts_jll\u001b[39m\n",
      " \u001b[90m [4536629a] \u001b[39m\u001b[92m+ OpenBLAS_jll\u001b[39m\n",
      " \u001b[90m [05823500] \u001b[39m\u001b[92m+ OpenLibm_jll\u001b[39m\n",
      " \u001b[90m [83775a58] \u001b[39m\u001b[92m+ Zlib_jll\u001b[39m\n",
      " \u001b[90m [8e850b90] \u001b[39m\u001b[92m+ libblastrampoline_jll\u001b[39m\n",
      " \u001b[90m [8e850ede] \u001b[39m\u001b[92m+ nghttp2_jll\u001b[39m\n",
      " \u001b[90m [3f19e933] \u001b[39m\u001b[92m+ p7zip_jll\u001b[39m\n",
      "\u001b[32m\u001b[1mPrecompiling\u001b[22m\u001b[39m project...\n",
      "\u001b[32m  ✓ \u001b[39m\u001b[90mWoodburyMatrices\u001b[39m\n",
      "\u001b[32m  ✓ \u001b[39m\u001b[90mDensityInterface\u001b[39m\n",
      "\u001b[32m  ✓ \u001b[39m\u001b[90mPDMats\u001b[39m\n",
      "\u001b[32m  ✓ \u001b[39m\u001b[90mAxisAlgorithms\u001b[39m\n",
      "\u001b[32m  ✓ \u001b[39m\u001b[90mRmath_jll\u001b[39m\n",
      "\u001b[32m  ✓ \u001b[39m\u001b[90mQuadGK\u001b[39m\n",
      "\u001b[32m  ✓ \u001b[39m\u001b[90mHypergeometricFunctions\u001b[39m\n",
      "\u001b[32m  ✓ \u001b[39m\u001b[90mRmath\u001b[39m\n",
      "\u001b[32m  ✓ \u001b[39m\u001b[90mFillArrays\u001b[39m\n",
      "\u001b[32m  ✓ \u001b[39m\u001b[90mInterpolations\u001b[39m\n",
      "\u001b[32m  ✓ \u001b[39m\u001b[90mStatsFuns\u001b[39m\n",
      "\u001b[32m  ✓ \u001b[39m\u001b[90mDistributions\u001b[39m\n",
      "\u001b[32m  ✓ \u001b[39mProbabilityBoundsAnalysis\n",
      "  13 dependencies successfully precompiled in 19 seconds (43 already precompiled)\n",
      "\u001b[32m\u001b[1m    Updating\u001b[22m\u001b[39m git-repo `https://github.com/sisl/NeuralVerification.jl`\n",
      "\u001b[32m\u001b[1m   Resolving\u001b[22m\u001b[39m package versions...\n",
      "\u001b[32m\u001b[1m   Installed\u001b[22m\u001b[39m GLPK_jll ───────────── v5.0.1+1\n",
      "\u001b[32m\u001b[1m   Installed\u001b[22m\u001b[39m cddlib_jll ─────────── v0.94.14+0\n",
      "\u001b[32m\u001b[1m   Installed\u001b[22m\u001b[39m CodecBzip2 ─────────── v0.8.5\n",
      "\u001b[32m\u001b[1m   Installed\u001b[22m\u001b[39m NaNMath ────────────── v1.0.3\n",
      "\u001b[32m\u001b[1m   Installed\u001b[22m\u001b[39m CDDLib ─────────────── v0.9.4\n",
      "\u001b[32m\u001b[1m   Installed\u001b[22m\u001b[39m SCS ────────────────── v2.0.2\n",
      "\u001b[32m\u001b[1m   Installed\u001b[22m\u001b[39m MutableArithmetics ─── v1.6.2\n",
      "\u001b[32m\u001b[1m   Installed\u001b[22m\u001b[39m OpenBLAS32_jll ─────── v0.3.17+0\n",
      "\u001b[32m\u001b[1m   Installed\u001b[22m\u001b[39m SCS_jll ────────────── v3.2.7+0\n",
      "\u001b[32m\u001b[1m   Installed\u001b[22m\u001b[39m TranscodingStreams ─── v0.11.3\n",
      "\u001b[32m\u001b[1m   Installed\u001b[22m\u001b[39m GenericLinearAlgebra ─ v0.3.14\n",
      "\u001b[32m\u001b[1m   Installed\u001b[22m\u001b[39m Polyhedra ──────────── v0.7.8\n",
      "\u001b[32m\u001b[1m   Installed\u001b[22m\u001b[39m GLPK ───────────────── v1.2.1\n",
      "\u001b[32m\u001b[1m   Installed\u001b[22m\u001b[39m JuMP ───────────────── v1.23.6\n",
      "\u001b[32m\u001b[1m   Installed\u001b[22m\u001b[39m MathOptInterface ───── v1.35.0\n",
      "\u001b[32m\u001b[1m    Updating\u001b[22m\u001b[39m `~/Documents/verification-neural-networks/NeuralVerification-CARS-Workshop-master/lab2/Project.toml`\n",
      " \u001b[90m [146f25fa] \u001b[39m\u001b[92m+ NeuralVerification v0.1.0 `https://github.com/sisl/NeuralVerification.jl#master`\u001b[39m\n",
      "\u001b[32m\u001b[1m    Updating\u001b[22m\u001b[39m `~/Documents/verification-neural-networks/NeuralVerification-CARS-Workshop-master/lab2/Manifest.toml`\n",
      " \u001b[90m [6e4b80f9] \u001b[39m\u001b[92m+ BenchmarkTools v1.6.0\u001b[39m\n",
      " \u001b[90m [3391f64e] \u001b[39m\u001b[92m+ CDDLib v0.9.4\u001b[39m\n",
      " \u001b[90m [523fee87] \u001b[39m\u001b[92m+ CodecBzip2 v0.8.5\u001b[39m\n",
      " \u001b[90m [944b1d66] \u001b[39m\u001b[92m+ CodecZlib v0.7.6\u001b[39m\n",
      " \u001b[90m [bbf7d656] \u001b[39m\u001b[92m+ CommonSubexpressions v0.3.1\u001b[39m\n",
      " \u001b[90m [187b0558] \u001b[39m\u001b[92m+ ConstructionBase v1.5.8\u001b[39m\n",
      " \u001b[90m [e2d170a0] \u001b[39m\u001b[92m+ DataValueInterfaces v1.0.0\u001b[39m\n",
      " \u001b[90m [163ba53b] \u001b[39m\u001b[92m+ DiffResults v1.1.0\u001b[39m\n",
      " \u001b[90m [b552c78f] \u001b[39m\u001b[92m+ DiffRules v1.15.1\u001b[39m\n",
      " \u001b[90m [e2ba6199] \u001b[39m\u001b[92m+ ExprTools v0.1.10\u001b[39m\n",
      " \u001b[90m [411431e0] \u001b[39m\u001b[92m+ Extents v0.1.4\u001b[39m\n",
      " \u001b[90m [f6369f11] \u001b[39m\u001b[92m+ ForwardDiff v0.10.38\u001b[39m\n",
      " \u001b[90m [60bf3e95] \u001b[39m\u001b[92m+ GLPK v1.2.1\u001b[39m\n",
      " \u001b[90m [46192b85] \u001b[39m\u001b[92m+ GPUArraysCore v0.1.6\u001b[39m\n",
      " \u001b[90m [14197337] \u001b[39m\u001b[92m+ GenericLinearAlgebra v0.3.14\u001b[39m\n",
      " \u001b[90m [68eda718] \u001b[39m\u001b[92m+ GeoFormatTypes v0.4.3\u001b[39m\n",
      " \u001b[90m [cf35fbd7] \u001b[39m\u001b[92m+ GeoInterface v1.4.0\u001b[39m\n",
      " \u001b[90m [5c1252a2] \u001b[39m\u001b[92m+ GeometryBasics v0.4.11\u001b[39m\n",
      " \u001b[90m [c8e1da08] \u001b[39m\u001b[92m+ IterTools v1.4.0\u001b[39m\n",
      " \u001b[90m [82899510] \u001b[39m\u001b[92m+ IteratorInterfaceExtensions v1.0.0\u001b[39m\n",
      " \u001b[90m [682c06a0] \u001b[39m\u001b[92m+ JSON v0.21.4\u001b[39m\n",
      " \u001b[90m [4076af6c] \u001b[39m\u001b[92m+ JuMP v1.23.6\u001b[39m\n",
      " \u001b[90m [b4f0291d] \u001b[39m\u001b[92m+ LazySets v2.14.2\u001b[39m\n",
      " \u001b[90m [1914dd2f] \u001b[39m\u001b[92m+ MacroTools v0.5.15\u001b[39m\n",
      " \u001b[90m [b8f27783] \u001b[39m\u001b[92m+ MathOptInterface v1.35.0\u001b[39m\n",
      " \u001b[90m [d8a4904e] \u001b[39m\u001b[92m+ MutableArithmetics v1.6.2\u001b[39m\n",
      " \u001b[90m [77ba4419] \u001b[39m\u001b[92m+ NaNMath v1.0.3\u001b[39m\n",
      " \u001b[90m [146f25fa] \u001b[39m\u001b[92m+ NeuralVerification v0.1.0 `https://github.com/sisl/NeuralVerification.jl#master`\u001b[39m\n",
      " \u001b[90m [d96e819e] \u001b[39m\u001b[92m+ Parameters v0.12.3\u001b[39m\n",
      " \u001b[90m [69de0a69] \u001b[39m\u001b[92m+ Parsers v2.8.1\u001b[39m\n",
      " \u001b[90m [ff2beb65] \u001b[39m\u001b[92m+ PicoSAT v0.4.1\u001b[39m\n",
      " \u001b[90m [67491407] \u001b[39m\u001b[92m+ Polyhedra v0.7.8\u001b[39m\n",
      " \u001b[90m [379f33d0] \u001b[39m\u001b[92m+ ReachabilityBase v0.3.3\u001b[39m\n",
      " \u001b[90m [c946c3f1] \u001b[39m\u001b[92m+ SCS v2.0.2\u001b[39m\n",
      " \u001b[90m [09ab397b] \u001b[39m\u001b[92m+ StructArrays v0.6.18\u001b[39m\n",
      " \u001b[90m [3783bdb8] \u001b[39m\u001b[92m+ TableTraits v1.0.1\u001b[39m\n",
      " \u001b[90m [bd369af6] \u001b[39m\u001b[92m+ Tables v1.12.0\u001b[39m\n",
      " \u001b[90m [3bb67fe8] \u001b[39m\u001b[92m+ TranscodingStreams v0.11.3\u001b[39m\n",
      " \u001b[90m [3a884ed6] \u001b[39m\u001b[92m+ UnPack v1.0.2\u001b[39m\n",
      " \u001b[90m [6e34b625] \u001b[39m\u001b[92m+ Bzip2_jll v1.0.8+4\u001b[39m\n",
      " \u001b[90m [5ae413db] \u001b[39m\u001b[92m+ EarCut_jll v2.2.4+0\u001b[39m\n",
      " \u001b[90m [e8aa6df9] \u001b[39m\u001b[92m+ GLPK_jll v5.0.1+1\u001b[39m\n",
      " \u001b[90m [1d63c593] \u001b[39m\u001b[92m+ LLVMOpenMP_jll v18.1.7+0\u001b[39m\n",
      " \u001b[90m [656ef2d0] \u001b[39m\u001b[92m+ OpenBLAS32_jll v0.3.17+0\u001b[39m\n",
      " \u001b[90m [e78fa76d] \u001b[39m\u001b[92m+ PicoSAT_jll v965.0.0+0\u001b[39m\n",
      " \u001b[90m [f4f2fc5b] \u001b[39m\u001b[92m+ SCS_jll v3.2.7+0\u001b[39m\n",
      " \u001b[90m [f07e07eb] \u001b[39m\u001b[92m+ cddlib_jll v0.94.14+0\u001b[39m\n",
      " \u001b[90m [9abbd945] \u001b[39m\u001b[92m+ Profile\u001b[39m\n",
      " \u001b[90m [781609d7] \u001b[39m\u001b[92m+ GMP_jll\u001b[39m\n",
      "\u001b[32m\u001b[1mPrecompiling\u001b[22m\u001b[39m project...\n",
      "\u001b[32m  ✓ \u001b[39m\u001b[90mNaNMath\u001b[39m\n",
      "\u001b[32m  ✓ \u001b[39m\u001b[90mTranscodingStreams\u001b[39m\n",
      "\u001b[32m  ✓ \u001b[39m\u001b[90mcddlib_jll\u001b[39m\n",
      "\u001b[32m  ✓ \u001b[39m\u001b[90mGLPK_jll\u001b[39m\n",
      "\u001b[32m  ✓ \u001b[39m\u001b[90mDiffRules\u001b[39m\n",
      "\u001b[32m  ✓ \u001b[39m\u001b[90mCodecZlib\u001b[39m\n",
      "\u001b[32m  ✓ \u001b[39m\u001b[90mOpenBLAS32_jll\u001b[39m\n",
      "\u001b[32m  ✓ \u001b[39m\u001b[90mCodecBzip2\u001b[39m\n",
      "\u001b[32m  ✓ \u001b[39m\u001b[90mGenericLinearAlgebra\u001b[39m\n",
      "\u001b[32m  ✓ \u001b[39m\u001b[90mSCS_jll\u001b[39m\n",
      "\u001b[32m  ✓ \u001b[39m\u001b[90mMutableArithmetics\u001b[39m\n",
      "\u001b[32m  ✓ \u001b[39m\u001b[90mForwardDiff\u001b[39m\n",
      "\u001b[32m  ✓ \u001b[39m\u001b[90mMathOptInterface\u001b[39m\n",
      "\u001b[32m  ✓ \u001b[39m\u001b[90mSCS\u001b[39m\n",
      "\u001b[32m  ✓ \u001b[39m\u001b[90mGLPK\u001b[39m\n",
      "\u001b[32m  ✓ \u001b[39m\u001b[90mJuMP\u001b[39m\n",
      "\u001b[32m  ✓ \u001b[39m\u001b[90mPolyhedra\u001b[39m\n",
      "\u001b[32m  ✓ \u001b[39m\u001b[90mLazySets\u001b[39m\n",
      "\u001b[32m  ✓ \u001b[39m\u001b[90mCDDLib\u001b[39m\n",
      "\u001b[32m  ✓ \u001b[39mNeuralVerification\n",
      "  20 dependencies successfully precompiled in 126 seconds (84 already precompiled)\n",
      "\u001b[32m\u001b[1m   Resolving\u001b[22m\u001b[39m package versions...\n",
      "\u001b[32m\u001b[1m    Updating\u001b[22m\u001b[39m `~/Documents/verification-neural-networks/NeuralVerification-CARS-Workshop-master/lab2/Project.toml`\n",
      " \u001b[90m [b4f0291d] \u001b[39m\u001b[92m+ LazySets v2.14.2\u001b[39m\n",
      "\u001b[32m\u001b[1m  No Changes\u001b[22m\u001b[39m to `~/Documents/verification-neural-networks/NeuralVerification-CARS-Workshop-master/lab2/Manifest.toml`\n",
      "\u001b[32m\u001b[1m   Resolving\u001b[22m\u001b[39m package versions...\n",
      "\u001b[32m\u001b[1m    Updating\u001b[22m\u001b[39m `~/Documents/verification-neural-networks/NeuralVerification-CARS-Workshop-master/lab2/Project.toml`\n",
      " \u001b[90m [d1acc4aa] \u001b[39m\u001b[92m+ IntervalArithmetic v0.20.9\u001b[39m\n",
      "\u001b[32m\u001b[1m  No Changes\u001b[22m\u001b[39m to `~/Documents/verification-neural-networks/NeuralVerification-CARS-Workshop-master/lab2/Manifest.toml`\n",
      "\u001b[32m\u001b[1m   Resolving\u001b[22m\u001b[39m package versions...\n",
      "\u001b[32m\u001b[1m    Updating\u001b[22m\u001b[39m `~/Documents/verification-neural-networks/NeuralVerification-CARS-Workshop-master/lab2/Project.toml`\n",
      " \u001b[90m [31c24e10] \u001b[39m\u001b[92m+ Distributions v0.25.116\u001b[39m\n",
      "\u001b[32m\u001b[1m  No Changes\u001b[22m\u001b[39m to `~/Documents/verification-neural-networks/NeuralVerification-CARS-Workshop-master/lab2/Manifest.toml`\n",
      "\u001b[32m\u001b[1m   Resolving\u001b[22m\u001b[39m package versions...\n",
      "\u001b[32m\u001b[1m    Updating\u001b[22m\u001b[39m `~/Documents/verification-neural-networks/NeuralVerification-CARS-Workshop-master/lab2/Project.toml`\n",
      " \u001b[90m [d330b81b] \u001b[39m\u001b[92m+ PyPlot v2.11.5\u001b[39m\n",
      "\u001b[32m\u001b[1m    Updating\u001b[22m\u001b[39m `~/Documents/verification-neural-networks/NeuralVerification-CARS-Workshop-master/lab2/Manifest.toml`\n",
      " \u001b[90m [3da002f7] \u001b[39m\u001b[92m+ ColorTypes v0.11.5\u001b[39m\n",
      " \u001b[90m [5ae59095] \u001b[39m\u001b[92m+ Colors v0.12.11\u001b[39m\n",
      " \u001b[90m [8f4d0f93] \u001b[39m\u001b[92m+ Conda v1.10.2\u001b[39m\n",
      " \u001b[90m [53c48c17] \u001b[39m\u001b[92m+ FixedPointNumbers v0.8.5\u001b[39m\n",
      " \u001b[90m [b964fa9f] \u001b[39m\u001b[92m+ LaTeXStrings v1.4.0\u001b[39m\n",
      " \u001b[90m [438e738f] \u001b[39m\u001b[92m+ PyCall v1.96.4\u001b[39m\n",
      " \u001b[90m [d330b81b] \u001b[39m\u001b[92m+ PyPlot v2.11.5\u001b[39m\n",
      " \u001b[90m [81def892] \u001b[39m\u001b[92m+ VersionParsing v1.3.0\u001b[39m\n",
      "\u001b[32m\u001b[1m   Resolving\u001b[22m\u001b[39m package versions...\n",
      "\u001b[32m\u001b[1m   Installed\u001b[22m\u001b[39m BitFlags ──────────── v0.1.9\n",
      "\u001b[32m\u001b[1m   Installed\u001b[22m\u001b[39m SimpleBufferStream ── v1.2.0\n",
      "\u001b[32m\u001b[1m   Installed\u001b[22m\u001b[39m ExceptionUnwrapping ─ v0.1.11\n",
      "\u001b[32m\u001b[1m   Installed\u001b[22m\u001b[39m OpenSSL ───────────── v1.4.3\n",
      "\u001b[32m\u001b[1m   Installed\u001b[22m\u001b[39m LoggingExtras ─────── v1.1.0\n",
      "\u001b[32m\u001b[1m   Installed\u001b[22m\u001b[39m ConcurrentUtilities ─ v2.4.3\n",
      "\u001b[32m\u001b[1m   Installed\u001b[22m\u001b[39m HTTP ──────────────── v1.10.15\n",
      "\u001b[32m\u001b[1m    Updating\u001b[22m\u001b[39m `~/Documents/verification-neural-networks/NeuralVerification-CARS-Workshop-master/lab2/Project.toml`\n",
      " \u001b[90m [91a5bcdd] \u001b[39m\u001b[92m+ Plots v1.40.9\u001b[39m\n",
      "\u001b[32m\u001b[1m    Updating\u001b[22m\u001b[39m `~/Documents/verification-neural-networks/NeuralVerification-CARS-Workshop-master/lab2/Manifest.toml`\n",
      " \u001b[90m [d1d4a3ce] \u001b[39m\u001b[92m+ BitFlags v0.1.9\u001b[39m\n",
      " \u001b[90m [35d6a980] \u001b[39m\u001b[92m+ ColorSchemes v3.27.1\u001b[39m\n",
      " \u001b[90m [c3611d14] \u001b[39m\u001b[92m+ ColorVectorSpace v0.10.0\u001b[39m\n",
      " \u001b[90m [f0e56b4a] \u001b[39m\u001b[92m+ ConcurrentUtilities v2.4.3\u001b[39m\n",
      " \u001b[90m [d38c429a] \u001b[39m\u001b[92m+ Contour v0.6.3\u001b[39m\n",
      " \u001b[90m [460bff9d] \u001b[39m\u001b[92m+ ExceptionUnwrapping v0.1.11\u001b[39m\n",
      " \u001b[90m [c87230d0] \u001b[39m\u001b[92m+ FFMPEG v0.4.2\u001b[39m\n",
      " \u001b[90m [1fa38f19] \u001b[39m\u001b[92m+ Format v1.3.7\u001b[39m\n",
      " \u001b[90m [28b8d3ca] \u001b[39m\u001b[92m+ GR v0.73.10\u001b[39m\n",
      " \u001b[90m [42e2da0e] \u001b[39m\u001b[92m+ Grisu v1.0.2\u001b[39m\n",
      " \u001b[90m [cd3eb016] \u001b[39m\u001b[92m+ HTTP v1.10.15\u001b[39m\n",
      " \u001b[90m [1019f520] \u001b[39m\u001b[92m+ JLFzf v0.1.9\u001b[39m\n",
      " \u001b[90m [23fbe1c1] \u001b[39m\u001b[92m+ Latexify v0.16.5\u001b[39m\n",
      " \u001b[90m [e6f89c97] \u001b[39m\u001b[92m+ LoggingExtras v1.1.0\u001b[39m\n",
      " \u001b[90m [739be429] \u001b[39m\u001b[92m+ MbedTLS v1.1.9\u001b[39m\n",
      " \u001b[90m [442fdcdd] \u001b[39m\u001b[92m+ Measures v0.3.2\u001b[39m\n",
      " \u001b[90m [4d8831e6] \u001b[39m\u001b[92m+ OpenSSL v1.4.3\u001b[39m\n",
      " \u001b[90m [b98c9c47] \u001b[39m\u001b[92m+ Pipe v1.3.0\u001b[39m\n",
      " \u001b[90m [ccf2f8ad] \u001b[39m\u001b[92m+ PlotThemes v3.3.0\u001b[39m\n",
      " \u001b[90m [995b91a9] \u001b[39m\u001b[92m+ PlotUtils v1.4.3\u001b[39m\n",
      " \u001b[90m [91a5bcdd] \u001b[39m\u001b[92m+ Plots v1.40.9\u001b[39m\n",
      " \u001b[90m [01d81517] \u001b[39m\u001b[92m+ RecipesPipeline v0.6.12\u001b[39m\n",
      " \u001b[90m [05181044] \u001b[39m\u001b[92m+ RelocatableFolders v1.0.1\u001b[39m\n",
      " \u001b[90m [6c6a2e73] \u001b[39m\u001b[92m+ Scratch v1.2.1\u001b[39m\n",
      " \u001b[90m [992d4aef] \u001b[39m\u001b[92m+ Showoff v1.0.3\u001b[39m\n",
      " \u001b[90m [777ac1f9] \u001b[39m\u001b[92m+ SimpleBufferStream v1.2.0\u001b[39m\n",
      " \u001b[90m [860ef19b] \u001b[39m\u001b[92m+ StableRNGs v1.0.2\u001b[39m\n",
      " \u001b[90m [62fd8b95] \u001b[39m\u001b[92m+ TensorCore v0.1.1\u001b[39m\n",
      " \u001b[90m [5c2747f8] \u001b[39m\u001b[92m+ URIs v1.5.1\u001b[39m\n",
      " \u001b[90m [1cfade01] \u001b[39m\u001b[92m+ UnicodeFun v0.4.1\u001b[39m\n",
      " \u001b[90m [1986cc42] \u001b[39m\u001b[92m+ Unitful v1.22.0\u001b[39m\n",
      " \u001b[90m [45397f5d] \u001b[39m\u001b[92m+ UnitfulLatexify v1.6.4\u001b[39m\n",
      " \u001b[90m [41fe7b60] \u001b[39m\u001b[92m+ Unzip v0.2.0\u001b[39m\n",
      " \u001b[90m [83423d85] \u001b[39m\u001b[92m+ Cairo_jll v1.18.2+1\u001b[39m\n",
      " \u001b[90m [ee1fde0b] \u001b[39m\u001b[92m+ Dbus_jll v1.14.10+0\u001b[39m\n",
      " \u001b[90m [2702e6a9] \u001b[39m\u001b[92m+ EpollShim_jll v0.0.20230411+1\u001b[39m\n",
      " \u001b[90m [2e619515] \u001b[39m\u001b[92m+ Expat_jll v2.6.4+3\u001b[39m\n",
      " \u001b[90m [b22a6f82] \u001b[39m\u001b[92m+ FFMPEG_jll v4.4.4+1\u001b[39m\n",
      " \u001b[90m [a3f928ae] \u001b[39m\u001b[92m+ Fontconfig_jll v2.15.0+0\u001b[39m\n",
      " \u001b[90m [d7e528f0] \u001b[39m\u001b[92m+ FreeType2_jll v2.13.3+1\u001b[39m\n",
      " \u001b[90m [559328eb] \u001b[39m\u001b[92m+ FriBidi_jll v1.0.16+0\u001b[39m\n",
      " \u001b[90m [0656b61e] \u001b[39m\u001b[92m+ GLFW_jll v3.4.0+2\u001b[39m\n",
      " \u001b[90m [d2c73de3] \u001b[39m\u001b[92m+ GR_jll v0.73.10+0\u001b[39m\n",
      " \u001b[90m [78b55507] \u001b[39m\u001b[92m+ Gettext_jll v0.21.0+0\u001b[39m\n",
      " \u001b[90m [7746bdde] \u001b[39m\u001b[92m+ Glib_jll v2.82.4+0\u001b[39m\n",
      " \u001b[90m [3b182d85] \u001b[39m\u001b[92m+ Graphite2_jll v1.3.14+1\u001b[39m\n",
      " \u001b[90m [2e76f6c2] \u001b[39m\u001b[92m+ HarfBuzz_jll v8.5.0+0\u001b[39m\n",
      " \u001b[90m [aacddb02] \u001b[39m\u001b[92m+ JpegTurbo_jll v3.1.1+0\u001b[39m\n",
      " \u001b[90m [c1c5ebd0] \u001b[39m\u001b[92m+ LAME_jll v3.100.2+0\u001b[39m\n",
      " \u001b[90m [88015f11] \u001b[39m\u001b[92m+ LERC_jll v4.0.1+0\u001b[39m\n",
      " \u001b[90m [dd4b983a] \u001b[39m\u001b[92m+ LZO_jll v2.10.3+0\u001b[39m\n",
      " \u001b[90m [e9f186c6] \u001b[39m\u001b[92m+ Libffi_jll v3.2.2+2\u001b[39m\n",
      " \u001b[90m [d4300ac3] \u001b[39m\u001b[92m+ Libgcrypt_jll v1.11.0+0\u001b[39m\n",
      " \u001b[90m [7e76a0d4] \u001b[39m\u001b[92m+ Libglvnd_jll v1.7.0+0\u001b[39m\n",
      " \u001b[90m [7add5ba3] \u001b[39m\u001b[92m+ Libgpg_error_jll v1.51.1+0\u001b[39m\n",
      " \u001b[90m [94ce4f54] \u001b[39m\u001b[92m+ Libiconv_jll v1.18.0+0\u001b[39m\n",
      " \u001b[90m [4b2f31a3] \u001b[39m\u001b[92m+ Libmount_jll v2.40.3+0\u001b[39m\n",
      " \u001b[90m [89763e89] \u001b[39m\u001b[92m+ Libtiff_jll v4.7.1+0\u001b[39m\n",
      " \u001b[90m [38a345b3] \u001b[39m\u001b[92m+ Libuuid_jll v2.40.3+0\u001b[39m\n",
      " \u001b[90m [e7412a2a] \u001b[39m\u001b[92m+ Ogg_jll v1.3.5+1\u001b[39m\n",
      " \u001b[90m [458c3c95] \u001b[39m\u001b[92m+ OpenSSL_jll v3.0.15+3\u001b[39m\n",
      " \u001b[90m [91d4177d] \u001b[39m\u001b[92m+ Opus_jll v1.3.3+0\u001b[39m\n",
      " \u001b[90m [36c8627f] \u001b[39m\u001b[92m+ Pango_jll v1.55.5+0\u001b[39m\n",
      " \u001b[90m [30392449] \u001b[39m\u001b[92m+ Pixman_jll v0.43.4+0\u001b[39m\n",
      " \u001b[90m [c0090381] \u001b[39m\u001b[92m+ Qt6Base_jll v6.7.1+1\u001b[39m\n",
      " \u001b[90m [629bc702] \u001b[39m\u001b[92m+ Qt6Declarative_jll v6.7.1+2\u001b[39m\n",
      " \u001b[90m [ce943373] \u001b[39m\u001b[92m+ Qt6ShaderTools_jll v6.7.1+1\u001b[39m\n",
      " \u001b[90m [e99dba38] \u001b[39m\u001b[92m+ Qt6Wayland_jll v6.7.1+1\u001b[39m\n",
      " \u001b[90m [a44049a8] \u001b[39m\u001b[92m+ Vulkan_Loader_jll v1.3.243+0\u001b[39m\n",
      " \u001b[90m [a2964d1f] \u001b[39m\u001b[92m+ Wayland_jll v1.21.0+2\u001b[39m\n",
      " \u001b[90m [2381bf8a] \u001b[39m\u001b[92m+ Wayland_protocols_jll v1.36.0+0\u001b[39m\n",
      " \u001b[90m [02c8fc9c] \u001b[39m\u001b[92m+ XML2_jll v2.13.5+0\u001b[39m\n",
      " \u001b[90m [aed1982a] \u001b[39m\u001b[92m+ XSLT_jll v1.1.42+0\u001b[39m\n",
      " \u001b[90m [ffd25f8a] \u001b[39m\u001b[92m+ XZ_jll v5.6.4+0\u001b[39m\n",
      " \u001b[90m [f67eecfb] \u001b[39m\u001b[92m+ Xorg_libICE_jll v1.1.1+0\u001b[39m\n",
      " \u001b[90m [c834827a] \u001b[39m\u001b[92m+ Xorg_libSM_jll v1.2.4+0\u001b[39m\n",
      " \u001b[90m [4f6342f7] \u001b[39m\u001b[92m+ Xorg_libX11_jll v1.8.6+3\u001b[39m\n",
      " \u001b[90m [0c0b7dd1] \u001b[39m\u001b[92m+ Xorg_libXau_jll v1.0.12+0\u001b[39m\n",
      " \u001b[90m [935fb764] \u001b[39m\u001b[92m+ Xorg_libXcursor_jll v1.2.3+0\u001b[39m\n",
      " \u001b[90m [a3789734] \u001b[39m\u001b[92m+ Xorg_libXdmcp_jll v1.1.5+0\u001b[39m\n",
      " \u001b[90m [1082639a] \u001b[39m\u001b[92m+ Xorg_libXext_jll v1.3.6+3\u001b[39m\n",
      " \u001b[90m [d091e8ba] \u001b[39m\u001b[92m+ Xorg_libXfixes_jll v6.0.0+0\u001b[39m\n",
      " \u001b[90m [a51aa0fd] \u001b[39m\u001b[92m+ Xorg_libXi_jll v1.8.2+0\u001b[39m\n",
      " \u001b[90m [d1454406] \u001b[39m\u001b[92m+ Xorg_libXinerama_jll v1.1.5+0\u001b[39m\n",
      " \u001b[90m [ec84b674] \u001b[39m\u001b[92m+ Xorg_libXrandr_jll v1.5.4+0\u001b[39m\n",
      " \u001b[90m [ea2f1a96] \u001b[39m\u001b[92m+ Xorg_libXrender_jll v0.9.11+1\u001b[39m\n",
      " \u001b[90m [14d82f49] \u001b[39m\u001b[92m+ Xorg_libpthread_stubs_jll v0.1.2+0\u001b[39m\n",
      " \u001b[90m [c7cfdc94] \u001b[39m\u001b[92m+ Xorg_libxcb_jll v1.17.0+3\u001b[39m\n",
      " \u001b[90m [cc61e674] \u001b[39m\u001b[92m+ Xorg_libxkbfile_jll v1.1.2+1\u001b[39m\n",
      " \u001b[90m [e920d4aa] \u001b[39m\u001b[92m+ Xorg_xcb_util_cursor_jll v0.1.4+0\u001b[39m\n",
      " \u001b[90m [12413925] \u001b[39m\u001b[92m+ Xorg_xcb_util_image_jll v0.4.0+1\u001b[39m\n",
      " \u001b[90m [2def613f] \u001b[39m\u001b[92m+ Xorg_xcb_util_jll v0.4.0+1\u001b[39m\n",
      " \u001b[90m [975044d2] \u001b[39m\u001b[92m+ Xorg_xcb_util_keysyms_jll v0.4.0+1\u001b[39m\n",
      " \u001b[90m [0d47668e] \u001b[39m\u001b[92m+ Xorg_xcb_util_renderutil_jll v0.3.9+1\u001b[39m\n",
      " \u001b[90m [c22f9ab0] \u001b[39m\u001b[92m+ Xorg_xcb_util_wm_jll v0.4.1+1\u001b[39m\n",
      " \u001b[90m [35661453] \u001b[39m\u001b[92m+ Xorg_xkbcomp_jll v1.4.6+1\u001b[39m\n",
      " \u001b[90m [33bec58e] \u001b[39m\u001b[92m+ Xorg_xkeyboard_config_jll v2.39.0+0\u001b[39m\n",
      " \u001b[90m [c5fb5394] \u001b[39m\u001b[92m+ Xorg_xtrans_jll v1.5.1+0\u001b[39m\n",
      " \u001b[90m [3161d3a3] \u001b[39m\u001b[92m+ Zstd_jll v1.5.7+0\u001b[39m\n",
      " \u001b[90m [35ca27e7] \u001b[39m\u001b[92m+ eudev_jll v3.2.9+0\u001b[39m\n",
      " \u001b[90m [214eeab7] \u001b[39m\u001b[92m+ fzf_jll v0.56.3+0\u001b[39m\n",
      " \u001b[90m [1a1c6b14] \u001b[39m\u001b[92m+ gperf_jll v3.1.1+1\u001b[39m\n",
      " \u001b[90m [a4ae2306] \u001b[39m\u001b[92m+ libaom_jll v3.11.0+0\u001b[39m\n",
      " \u001b[90m [0ac62f75] \u001b[39m\u001b[92m+ libass_jll v0.15.2+0\u001b[39m\n",
      " \u001b[90m [1183f4f0] \u001b[39m\u001b[92m+ libdecor_jll v0.2.2+0\u001b[39m\n",
      " \u001b[90m [2db6ffa8] \u001b[39m\u001b[92m+ libevdev_jll v1.11.0+0\u001b[39m\n",
      " \u001b[90m [f638f0a6] \u001b[39m\u001b[92m+ libfdk_aac_jll v2.0.3+0\u001b[39m\n",
      " \u001b[90m [36db933b] \u001b[39m\u001b[92m+ libinput_jll v1.18.0+0\u001b[39m\n",
      " \u001b[90m [b53b4c65] \u001b[39m\u001b[92m+ libpng_jll v1.6.45+1\u001b[39m\n",
      " \u001b[90m [f27f6e37] \u001b[39m\u001b[92m+ libvorbis_jll v1.3.7+2\u001b[39m\n",
      " \u001b[90m [009596ad] \u001b[39m\u001b[92m+ mtdev_jll v1.1.6+0\u001b[39m\n",
      " \u001b[90m [1270edf5] \u001b[39m\u001b[92m+ x264_jll v2021.5.5+0\u001b[39m\n",
      " \u001b[90m [dfaa095f] \u001b[39m\u001b[92m+ x265_jll v3.5.0+0\u001b[39m\n",
      " \u001b[90m [d8fb68d0] \u001b[39m\u001b[92m+ xkbcommon_jll v1.4.1+2\u001b[39m\n",
      " \u001b[90m [8bb1440f] \u001b[39m\u001b[92m+ DelimitedFiles\u001b[39m\n",
      " \u001b[90m [efcefdf7] \u001b[39m\u001b[92m+ PCRE2_jll\u001b[39m\n",
      "\u001b[32m\u001b[1mPrecompiling\u001b[22m\u001b[39m project...\n",
      "\u001b[32m  ✓ \u001b[39m\u001b[90mSimpleBufferStream\u001b[39m\n",
      "\u001b[32m  ✓ \u001b[39m\u001b[90mLoggingExtras\u001b[39m\n",
      "\u001b[32m  ✓ \u001b[39m\u001b[90mBitFlags\u001b[39m\n",
      "\u001b[32m  ✓ \u001b[39m\u001b[90mExceptionUnwrapping\u001b[39m\n",
      "\u001b[32m  ✓ \u001b[39m\u001b[90mConcurrentUtilities\u001b[39m\n",
      "\u001b[32m  ✓ \u001b[39m\u001b[90mOpenSSL\u001b[39m\n",
      "\u001b[32m  ✓ \u001b[39m\u001b[90mHTTP\u001b[39m\n",
      "\u001b[32m  ✓ \u001b[39m\u001b[90mGR\u001b[39m\n",
      "\u001b[32m  ✓ \u001b[39mPlots\n",
      "  9 dependencies successfully precompiled in 81 seconds (218 already precompiled)\n"
     ]
    }
   ],
   "source": [
    "import Pkg; \n",
    "Pkg.activate(\"lab2\")\n",
    "Pkg.add(name=\"ProbabilityBoundsAnalysis\"); \n",
    "Pkg.add(url=\"https://github.com/sisl/NeuralVerification.jl\"); \n",
    "Pkg.add(name=\"LazySets\"); \n",
    "Pkg.add(name=\"IntervalArithmetic\"); \n",
    "Pkg.add(name=\"Distributions\"); \n",
    "#Pkg.add(name=\"DataFrames\"); \n",
    "#Pkg.add(name=\"SplitApplyCombine\",); \n",
    "Pkg.add(name=\"PyPlot\"); \n",
    "Pkg.add(name=\"Plots\")\n",
    "# Pkg.add(name=\"ProbabilityBoundsAnalysis\", version=\"0.2.11\"); \n",
    "# Pkg.add(url=\"https://github.com/sisl/NeuralVerification.jl\"); \n",
    "# Pkg.add(name=\"LazySets\", version=\"2.11.3\"); \n",
    "# Pkg.add(name=\"IntervalArithmetic\",version=\"0.20.9\"); \n",
    "# Pkg.add(name=\"Distributions\", version = \"0.25.107\"); \n",
    "# Pkg.add(name=\"DataFrames\", version=\"1.6.1\"); \n",
    "# Pkg.add(name=\"SplitApplyCombine\",version=\"1.2.3\"); \n",
    "# Pkg.add(name=\"PyPlot\", version = \"2.11.2\"); \n",
    "# Pkg.add(name=\"Plots\", version=\"1.39.0\")\n",
    "\n",
    "using NeuralVerification, LazySets\n",
    "import NeuralVerification: Network, Layer, ReLU, Id, compute_output, ActivationFunction, get_bounds\n",
    "using Plots\n",
    "using LinearAlgebra\n",
    "\n",
    "#import Pkg; Pkg.add(\"ProbabilityBoundsAnalysis\")\n",
    "#Pkg.add(\"PyPlot\")\n",
    "using ProbabilityBoundsAnalysis, PyPlot, IntervalArithmetic\n",
    "#Matplotlib needs to be installed on your computer. If it is not, it can be installed by\n",
    "#julia -e 'ENV[\"PYTHON\"]=\"\"; using Pkg; Pkg.add(\"Conda\"); using Conda; Conda.add(\"matplotlib\"); Pkg.add(\"PyCall\"); Pkg.build(\"PyCall\"); Pkg.add(\"PyPlot\");'"
   ]
  },
  {
   "cell_type": "markdown",
   "id": "35866da6",
   "metadata": {},
   "source": [
    "### Representation and construction of p-boxes"
   ]
  },
  {
   "cell_type": "markdown",
   "id": "5a9decc2",
   "metadata": {},
   "source": [
    "Let us first define the utility function split, which returns the DSI (Dempster Shafer Interval) representation of a [P-box](https://en.wikipedia.org/wiki/Probability_box), under the form of an array of focal elements and an array of weights. We will use it slightly later."
   ]
  },
  {
   "cell_type": "code",
   "execution_count": 2,
   "id": "e7582e73",
   "metadata": {},
   "outputs": [
    {
     "data": {
      "text/plain": [
       "split (generic function with 11 methods)"
      ]
     },
     "metadata": {},
     "output_type": "display_data"
    }
   ],
   "source": [
    "import ProbabilityBoundsAnalysis: split\n",
    "function split(F :: pbox) \n",
    "    n = length(F.u)\n",
    "    focal_el = interval.(F.u, F.d) \n",
    "    masses = ones(n) ./n\n",
    "    return focal_el, masses\n",
    "end"
   ]
  },
  {
   "cell_type": "markdown",
   "id": "7879baa6",
   "metadata": {},
   "source": [
    "The discretization steps pf P-boxes, which corresponds to the number of focal elements used to represent \n",
    "the sets of probabilities, can be defined using function setSteps."
   ]
  },
  {
   "cell_type": "code",
   "execution_count": 3,
   "id": "3f746e4d",
   "metadata": {},
   "outputs": [
    {
     "data": {
      "text/plain": [
       "50"
      ]
     },
     "metadata": {},
     "output_type": "display_data"
    }
   ],
   "source": [
    "ProbabilityBoundsAnalysis.setSteps(50)"
   ]
  },
  {
   "cell_type": "markdown",
   "id": "3186a132",
   "metadata": {},
   "source": [
    "Let us now [build a P-box](https://andergray.github.io/ProbabilityBoundsAnalysis.jl/dev/pboxes/) enclosing Normal distributions: a is the p-box representation of a Normal distribution of mean 0 and variance 0.1. The list of supported distributions is available in the [documentation](https://andergray.github.io/ProbabilityBoundsAnalysis.jl/dev/pboxes/)."
   ]
  },
  {
   "cell_type": "code",
   "execution_count": 4,
   "id": "a97b4ef8",
   "metadata": {},
   "outputs": [
    {
     "data": {
      "text/plain": [
       "Pbox: \t  ~ normal ( range=[-0.30902, 0.30902], mean=0.0, var=0.01)"
      ]
     },
     "metadata": {},
     "output_type": "display_data"
    }
   ],
   "source": [
    "a = normal(0,0.1)"
   ]
  },
  {
   "cell_type": "markdown",
   "id": "f38a2103",
   "metadata": {},
   "source": [
    "Function PyPlot.plot allows us to represent graphically the pbox, by printing the lower and uper bounds on Cumulative distribution functions as plaine black/red lines. The probability distributions represented are all those lying in the grey region in-between the lower and upper CDFs."
   ]
  },
  {
   "cell_type": "code",
   "execution_count": 5,
   "id": "0211e44a",
   "metadata": {},
   "outputs": [
    {
     "data": {
      "image/png": "[encoded data removed]",
      "text/plain": [
       "Figure(PyObject <Figure size 1000x1000 with 1 Axes>)"
      ]
     },
     "metadata": {},
     "output_type": "display_data"
    }
   ],
   "source": [
    "PyPlot.plot(a)\n",
    "PyPlot.display_figs()"
   ]
  },
  {
   "cell_type": "markdown",
   "id": "65b66635",
   "metadata": {},
   "source": [
    "An interval can be converted in a P-box as follows:"
   ]
  },
  {
   "cell_type": "code",
   "execution_count": 6,
   "id": "8be9f772",
   "metadata": {},
   "outputs": [
    {
     "data": {
      "image/png": "[encoded data removed]",
      "text/plain": [
       "Figure(PyObject <Figure size 1000x1000 with 1 Axes>)"
      ]
     },
     "metadata": {},
     "output_type": "display_data"
    },
    {
     "name": "stdout",
     "output_type": "stream",
     "text": [
      "Pbox: \t  ~  ( range=[0.0, 1.0], mean=[0.0, 1.0], var=[0.0, 0.25])\n"
     ]
    }
   ],
   "source": [
    "c = makepbox(interval(0,1))\n",
    "print(c,\"\\n\")\n",
    "PyPlot.plot(c)\n",
    "PyPlot.display_figs()"
   ]
  },
  {
   "cell_type": "markdown",
   "id": "d8cdec8c",
   "metadata": {},
   "source": [
    "Can you explain the representation obtained ?"
   ]
  },
  {
   "cell_type": "markdown",
   "id": "bcf0f2e2",
   "metadata": {},
   "source": [
    "P-boxes can also be defined by using a distributions shape but with interval parameters:"
   ]
  },
  {
   "cell_type": "code",
   "execution_count": 7,
   "id": "55e15a5a",
   "metadata": {},
   "outputs": [
    {
     "data": {
      "image/png": "[encoded data removed]",
      "text/plain": [
       "Figure(PyObject <Figure size 1000x1000 with 1 Axes>)"
      ]
     },
     "metadata": {},
     "output_type": "display_data"
    },
    {
     "name": "stdout",
     "output_type": "stream",
     "text": [
      "Pbox: \t  ~ normal ( range=[-3.0902, 4.0902], mean=[0.0, 1.0], var=1.0)\n"
     ]
    }
   ],
   "source": [
    "c = normal(interval(0,1),1)\n",
    "print(c,\"\\n\")\n",
    "PyPlot.plot(c)\n",
    "PyPlot.display_figs()"
   ]
  },
  {
   "cell_type": "markdown",
   "id": "3cea80ff",
   "metadata": {},
   "source": [
    "### [Arithmetic on P-boxes]((https://andergray.github.io/ProbabilityBoundsAnalysis.jl/dev/arithmetic/))"
   ]
  },
  {
   "cell_type": "markdown",
   "id": "a1064d3d",
   "metadata": {},
   "source": [
    "The classical binary arithmetic operations can be performed on P-boxes. The default operations are Frechet operations, which consider all possible dependencies between inputs. These Frechet operations produce P-boxes, even when starting from precisely known distributions:"
   ]
  },
  {
   "cell_type": "code",
   "execution_count": 8,
   "id": "e74aeae1",
   "metadata": {},
   "outputs": [
    {
     "data": {
      "image/png": "[encoded data removed]",
      "text/plain": [
       "Figure(PyObject <Figure size 1000x1000 with 1 Axes>)"
      ]
     },
     "metadata": {},
     "output_type": "display_data"
    },
    {
     "name": "stdout",
     "output_type": "stream",
     "text": [
      "Pbox: \t  ~  ( range=[7.9098, 15.09], mean=11.5, var=[0.31981, 2.3499])\n"
     ]
    }
   ],
   "source": [
    "a1 = normal(10,1); \n",
    "a2 = uniform(1,2);\n",
    "a3 = a1 + a2\n",
    "print(a3,\"\\n\")\n",
    "PyPlot.plot(a3)\n",
    "PyPlot.display_figs()"
   ]
  },
  {
   "cell_type": "markdown",
   "id": "2c5c1b3d",
   "metadata": {},
   "source": [
    "Writing a3 = a1 + a2 is equivalent to explicitely calling the Frechet addition as follows:"
   ]
  },
  {
   "cell_type": "code",
   "execution_count": 9,
   "id": "d1da2679",
   "metadata": {},
   "outputs": [
    {
     "data": {
      "text/plain": [
       "Pbox: \t  ~  ( range=[7.9098, 15.09], mean=11.5, var=[0.31981, 2.3499])"
      ]
     },
     "metadata": {},
     "output_type": "display_data"
    }
   ],
   "source": [
    "a3 = convFrechet(a1, a2, op = +)"
   ]
  },
  {
   "cell_type": "markdown",
   "id": "03cd485e",
   "metadata": {},
   "source": [
    "When the inputs are known to be independent, the following operator can be used, which results in a subset of the above set of distributions:"
   ]
  },
  {
   "cell_type": "code",
   "execution_count": 10,
   "id": "bca02ced",
   "metadata": {},
   "outputs": [
    {
     "data": {
      "image/png": "[encoded data removed]",
      "text/plain": [
       "Figure(PyObject <Figure size 1000x1000 with 1 Axes>)"
      ]
     },
     "metadata": {},
     "output_type": "display_data"
    },
    {
     "name": "stdout",
     "output_type": "stream",
     "text": [
      "Pbox: \t  ~  ( range=[7.9098, 15.09], mean=11.5, var=1.0833)\n"
     ]
    }
   ],
   "source": [
    "a4 = convIndep(a1, a2, op = +)\n",
    "print(a4,\"\\n\")\n",
    "PyPlot.plot(a4)\n",
    "PyPlot.display_figs()"
   ]
  },
  {
   "cell_type": "markdown",
   "id": "995515aa",
   "metadata": {},
   "source": [
    "### Comparisons and queries on P-Boxes"
   ]
  },
  {
   "cell_type": "markdown",
   "id": "4fe3f557",
   "metadata": {},
   "source": [
    "A P-box can be compared to a real number: X <= x corresponds to the evaluation of the CDF P(X <=x):"
   ]
  },
  {
   "cell_type": "markdown",
   "id": "1beee555",
   "metadata": {},
   "source": [
    "For instance below, the probability that a3 is negative is 0, so that test a3 <= 0.0 answers false:"
   ]
  },
  {
   "cell_type": "code",
   "execution_count": 11,
   "id": "a8879b2d",
   "metadata": {},
   "outputs": [
    {
     "data": {
      "text/plain": [
       "false"
      ]
     },
     "metadata": {},
     "output_type": "display_data"
    }
   ],
   "source": [
    "a3 <= 0.0"
   ]
  },
  {
   "cell_type": "markdown",
   "id": "557f70e8",
   "metadata": {},
   "source": [
    "The probability that a3 is lower or equal to 11.0 is bounded in an interval which corresponds to a cut of the set of distributions that can be observed on the CDF plots:"
   ]
  },
  {
   "cell_type": "code",
   "execution_count": 12,
   "id": "9ec2921e",
   "metadata": {},
   "outputs": [
    {
     "data": {
      "text/plain": [
       "[0.14, 0.520001]"
      ]
     },
     "metadata": {},
     "output_type": "display_data"
    }
   ],
   "source": [
    "a3 <= 11.0"
   ]
  },
  {
   "cell_type": "markdown",
   "id": "5a4d156c",
   "metadata": {},
   "source": [
    "Calling test X <= x is equivalent to calling cdf(X,x), for instance here:"
   ]
  },
  {
   "cell_type": "code",
   "execution_count": 13,
   "id": "e0c9940e",
   "metadata": {},
   "outputs": [
    {
     "data": {
      "text/plain": [
       "[0.14, 0.520001]"
      ]
     },
     "metadata": {},
     "output_type": "display_data"
    }
   ],
   "source": [
    "cdf(a3,11.0)"
   ]
  },
  {
   "cell_type": "markdown",
   "id": "1541e28d",
   "metadata": {},
   "source": [
    "The possible values of probability P(a4 <= 11.0) are naturally included in the set of values of P(a3 <= 11.0), since a4 is a restriction of a3:"
   ]
  },
  {
   "cell_type": "code",
   "execution_count": 14,
   "id": "554e09ad",
   "metadata": {},
   "outputs": [
    {
     "data": {
      "text/plain": [
       "[0.3, 0.34]"
      ]
     },
     "metadata": {},
     "output_type": "display_data"
    }
   ],
   "source": [
    "a4 <= 11.0"
   ]
  },
  {
   "cell_type": "markdown",
   "id": "47cb20df",
   "metadata": {},
   "source": [
    "Finally, p-boxes can be compared, for instance:"
   ]
  },
  {
   "cell_type": "code",
   "execution_count": 15,
   "id": "b0b88a57",
   "metadata": {},
   "outputs": [
    {
     "data": {
      "text/plain": [
       "[0, 1]"
      ]
     },
     "metadata": {},
     "output_type": "display_data"
    }
   ],
   "source": [
    "a3 <= a4"
   ]
  },
  {
   "cell_type": "markdown",
   "id": "d96eb38a",
   "metadata": {},
   "source": [
    "How can this result be interpreted ?"
   ]
  },
  {
   "cell_type": "markdown",
   "id": "e51a70d7",
   "metadata": {},
   "source": [
    "### Accessing the representation of P-boxes"
   ]
  },
  {
   "cell_type": "markdown",
   "id": "bbd5c8e6",
   "metadata": {},
   "source": [
    "Let us now decrease the discretization steps in order to examine closer the pbox representation."
   ]
  },
  {
   "cell_type": "code",
   "execution_count": 16,
   "id": "36162b5b",
   "metadata": {},
   "outputs": [
    {
     "data": {
      "text/plain": [
       "4"
      ]
     },
     "metadata": {},
     "output_type": "display_data"
    }
   ],
   "source": [
    "ProbabilityBoundsAnalysis.setSteps(4)"
   ]
  },
  {
   "cell_type": "markdown",
   "id": "1845cc8a",
   "metadata": {},
   "source": [
    "We now define b similarly to a, but with this larger discretization step."
   ]
  },
  {
   "cell_type": "code",
   "execution_count": 17,
   "id": "e4095197",
   "metadata": {},
   "outputs": [
    {
     "data": {
      "image/png": "[encoded data removed]",
      "text/plain": [
       "Figure(PyObject <Figure size 1000x1000 with 1 Axes>)"
      ]
     },
     "metadata": {},
     "output_type": "display_data"
    },
    {
     "name": "stdout",
     "output_type": "stream",
     "text": [
      "Pbox: \t  ~ normal ( range=[-0.30902, 0.30902], mean=0.0, var=0.01)\n"
     ]
    }
   ],
   "source": [
    "b = normal(0,0.1)\n",
    "print(b,\"\\n\")\n",
    "PyPlot.plot(b)\n",
    "PyPlot.display_figs()"
   ]
  },
  {
   "cell_type": "markdown",
   "id": "02ab4c09",
   "metadata": {},
   "source": [
    "Function split can be used to print the DSI representation, under the form of \n",
    "    a vector of interval focal elements and a vector of associated weights.\n",
    "As far as I am aware, with this implementation it is not possible to modify the weights and they are always created equal. Which means that if you want for instance to create a focal element with double weight compared to the other elements, you need to repeat the element in the representation."
   ]
  },
  {
   "cell_type": "code",
   "execution_count": 18,
   "id": "a4db0e4a",
   "metadata": {},
   "outputs": [
    {
     "data": {
      "text/plain": [
       "(IntervalArithmetic.Interval{Float64}[[-0.309024, -0.0674489], [-0.067449, 0], [0, 0.067449], [0.0674489, 0.309024]], [0.25, 0.25, 0.25, 0.25])"
      ]
     },
     "metadata": {},
     "output_type": "display_data"
    }
   ],
   "source": [
    "split(b)"
   ]
  },
  {
   "cell_type": "markdown",
   "id": "30058dba",
   "metadata": {},
   "source": [
    "You can also directly access the arrays of lower and upper bounds of the focal elements \n",
    "directly from the p-box structure:"
   ]
  },
  {
   "cell_type": "code",
   "execution_count": 19,
   "id": "fe0753dc",
   "metadata": {},
   "outputs": [
    {
     "name": "stdout",
     "output_type": "stream",
     "text": [
      "[-0.30902323061678183, -0.06744897501960818, 0.0, 0.06744897501960818]\n",
      "[-0.06744897501960818, 0.0, 0.06744897501960818, 0.30902323061678183]\n"
     ]
    }
   ],
   "source": [
    "print(b.u,\"\\n\")\n",
    "print(b.d,\"\\n\")"
   ]
  },
  {
   "cell_type": "markdown",
   "id": "6116d548",
   "metadata": {},
   "source": [
    "## A p-box analysis of ReLU networks"
   ]
  },
  {
   "cell_type": "markdown",
   "id": "b7b908be",
   "metadata": {},
   "source": [
    "We now want to write a small analysis which, given a neural network and distributions/ranges on inputs, propagates this information through the network and thus provides some information not only on the ranges of outputs, but also on associated probability distributions. \n",
    "\n",
    "Let us make the assumption in what follows that inputs are always independent. \n",
    "\n",
    "In all what follows, I suggest that you first use a low number of discretization steps to debug your implementation if necessary, and then increase it for nicer results, for instance by executing \n",
    "ProbabilityBoundsAnalysis.setSteps(100)"
   ]
  },
  {
   "cell_type": "code",
   "execution_count": 20,
   "id": "7158c19b",
   "metadata": {},
   "outputs": [
    {
     "data": {
      "text/plain": [
       "100"
      ]
     },
     "metadata": {},
     "output_type": "display_data"
    }
   ],
   "source": [
    "ProbabilityBoundsAnalysis.setSteps(100)"
   ]
  },
  {
   "cell_type": "markdown",
   "id": "73840c7d",
   "metadata": {},
   "source": [
    "### Defining the Relu function on P-boxes\n",
    "Let us now define the action of the Relu function on a p-box, for instance by completing the below skeleton. "
   ]
  },
  {
   "cell_type": "code",
   "execution_count": 21,
   "id": "779a3735",
   "metadata": {},
   "outputs": [
    {
     "ename": "ErrorException",
     "evalue": "syntax: invalid identifier name \"...\"",
     "output_type": "error",
     "traceback": [
      "syntax: invalid identifier name \"...\"\n",
      "\n",
      "Stacktrace:\n",
      " [1] top-level scope\n",
      "   @ ~/Documents/verification-neural-networks/NeuralVerification-CARS-Workshop-master/jl_notebook_cell_df34fa98e69747e1a8f8a730347b8e2f_Y101sZmlsZQ==.jl:4"
     ]
    }
   ],
   "source": [
    "function Relu(x::pbox)\n",
    "    #print(x.u,\"\\n\")\n",
    "    #print(x.d,\"\\n\")\n",
    "    u = ... \n",
    "    d = ...\n",
    "    \n",
    "    y = pbox(u,d)\n",
    "    return y   \n",
    "end\n"
   ]
  },
  {
   "cell_type": "markdown",
   "id": "748a5520",
   "metadata": {},
   "source": [
    "Test your function with some input pbox of your choice:"
   ]
  },
  {
   "cell_type": "code",
   "execution_count": 22,
   "id": "d4186e99",
   "metadata": {},
   "outputs": [
    {
     "ename": "ErrorException",
     "evalue": "syntax: invalid identifier name \"...\"",
     "output_type": "error",
     "traceback": [
      "syntax: invalid identifier name \"...\"\n",
      "\n",
      "Stacktrace:\n",
      " [1] top-level scope\n",
      "   @ ~/Documents/verification-neural-networks/NeuralVerification-CARS-Workshop-master/jl_notebook_cell_df34fa98e69747e1a8f8a730347b8e2f_Y103sZmlsZQ==.jl:1"
     ]
    }
   ],
   "source": [
    "x1 = ...\n",
    "z1 = Relu(x1)  "
   ]
  },
  {
   "cell_type": "markdown",
   "id": "7b2616ca",
   "metadata": {},
   "source": [
    "Plotting the p-box may help you understand the results"
   ]
  },
  {
   "cell_type": "code",
   "execution_count": 23,
   "id": "0d561270",
   "metadata": {},
   "outputs": [
    {
     "ename": "UndefVarError",
     "evalue": "UndefVarError: z1 not defined",
     "output_type": "error",
     "traceback": [
      "UndefVarError: z1 not defined\n",
      "\n",
      "Stacktrace:\n",
      " [1] top-level scope\n",
      "   @ ~/Documents/verification-neural-networks/NeuralVerification-CARS-Workshop-master/jl_notebook_cell_df34fa98e69747e1a8f8a730347b8e2f_Y105sZmlsZQ==.jl:1"
     ]
    }
   ],
   "source": [
    "PyPlot.plot(z1)"
   ]
  },
  {
   "cell_type": "markdown",
   "id": "907e7bb1",
   "metadata": {},
   "source": [
    "### Putting everything together to define a neural network analysis"
   ]
  },
  {
   "cell_type": "markdown",
   "id": "6f67c3c1",
   "metadata": {},
   "source": [
    "Remember when defining the input layers that the arithmetic operations should be chosen, depending on the correlation or not between the operands (we suppose the inputs initially independent)."
   ]
  },
  {
   "cell_type": "code",
   "execution_count": 24,
   "id": "42505f28",
   "metadata": {},
   "outputs": [
    {
     "ename": "ErrorException",
     "evalue": "syntax: invalid identifier name \"...\"",
     "output_type": "error",
     "traceback": [
      "syntax: invalid identifier name \"...\"\n",
      "\n",
      "Stacktrace:\n",
      " [1] top-level scope\n",
      "   @ ~/Documents/verification-neural-networks/NeuralVerification-CARS-Workshop-master/jl_notebook_cell_df34fa98e69747e1a8f8a730347b8e2f_Y111sZmlsZQ==.jl:1"
     ]
    }
   ],
   "source": [
    "...\n",
    "\n",
    "function pbox_approximate_nnet(nnet::Network, input::Vector{pbox})\n",
    "    bounds = Vector{Vector{pbox}}(undef, length(nnet.layers) + 1)\n",
    "    bounds[1] = input\n",
    "    for i in 1:length(nnet.layers)\n",
    "        ...\n",
    "        bounds[i+1] = ...\n",
    "    end\n",
    "\n",
    "    return bounds\n",
    "end"
   ]
  },
  {
   "cell_type": "markdown",
   "id": "2415ca03",
   "metadata": {},
   "source": [
    "Let us now test your analysis on the toy network from the slides (slide 19)."
   ]
  },
  {
   "cell_type": "code",
   "execution_count": 25,
   "id": "a6e449ed",
   "metadata": {},
   "outputs": [
    {
     "data": {
      "text/plain": [
       "Network(Layer[Layer{ReLU, Float64}([1.0 -1.0; 1.0 1.0], [0.0, 0.0], ReLU()), Layer{Id, Float64}([1.0 -1.0; 1.0 1.0], [0.0, 0.0], Id())])"
      ]
     },
     "metadata": {},
     "output_type": "display_data"
    }
   ],
   "source": [
    "W = [1.0 -1.0; 1.0 1.0]\n",
    "b = [0.0, 0.0]\n",
    "L1 = Layer(W, b, ReLU())\n",
    "L2 = Layer(W, b, Id())\n",
    "net = Network([L1, L2])"
   ]
  },
  {
   "cell_type": "markdown",
   "id": "03d1a95a",
   "metadata": {},
   "source": [
    "You can first run the deterministic interval analysis. "
   ]
  },
  {
   "cell_type": "code",
   "execution_count": 26,
   "id": "5e65c9c8",
   "metadata": {},
   "outputs": [
    {
     "data": {
      "text/plain": [
       "3-element Vector{Hyperrectangle}:\n",
       " Hyperrectangle{Float64, Vector{Float64}, Vector{Float64}}([0.0, 0.0], [2.0, 1.0])\n",
       " Hyperrectangle{Float64, Vector{Float64}, Vector{Float64}}([1.5, 1.5], [1.5, 1.5])\n",
       " Hyperrectangle{Float64, Vector{Float64}, Vector{Float64}}([0.0, 3.0], [3.0, 3.0])"
      ]
     },
     "metadata": {},
     "output_type": "display_data"
    }
   ],
   "source": [
    "X = Hyperrectangle(low = [-2.0, -1.0], high = [2., 1.])\n",
    "result_bounds = get_bounds(net,X)\n",
    "#Plots.plot(result_bounds[3], label = \"get_bounds result\")"
   ]
  },
  {
   "cell_type": "markdown",
   "id": "257512f5",
   "metadata": {},
   "source": [
    "Now the pbox analysis with Uniform input distributions (and same support as the deterministic case)"
   ]
  },
  {
   "cell_type": "code",
   "execution_count": 27,
   "id": "d27cd3f0",
   "metadata": {},
   "outputs": [
    {
     "ename": "ErrorException",
     "evalue": "syntax: space before \"(\" not allowed in \"uniform (\" at /home/mochamad-ardiansyah.nugraha/Documents/verification-neural-networks/NeuralVerification-CARS-Workshop-master/jl_notebook_cell_df34fa98e69747e1a8f8a730347b8e2f_Y120sZmlsZQ==.jl:2",
     "output_type": "error",
     "traceback": [
      "syntax: space before \"(\" not allowed in \"uniform (\" at /home/mochamad-ardiansyah.nugraha/Documents/verification-neural-networks/NeuralVerification-CARS-Workshop-master/jl_notebook_cell_df34fa98e69747e1a8f8a730347b8e2f_Y120sZmlsZQ==.jl:2\n",
      "\n",
      "Stacktrace:\n",
      " [1] top-level scope\n",
      "   @ ~/Documents/verification-neural-networks/NeuralVerification-CARS-Workshop-master/jl_notebook_cell_df34fa98e69747e1a8f8a730347b8e2f_Y120sZmlsZQ==.jl:2"
     ]
    }
   ],
   "source": [
    "x1 = uniform(-2,2);\n",
    "x2 = uniform (-1,1)\n",
    "z = pbox_approximate_nnet(net,[x1,x2])"
   ]
  },
  {
   "cell_type": "markdown",
   "id": "e4d53e12",
   "metadata": {},
   "source": [
    "Let us now take normal laws:"
   ]
  },
  {
   "cell_type": "code",
   "execution_count": 28,
   "id": "646305bb",
   "metadata": {},
   "outputs": [
    {
     "ename": "UndefVarError",
     "evalue": "UndefVarError: pbox_approximate_nnet not defined",
     "output_type": "error",
     "traceback": [
      "UndefVarError: pbox_approximate_nnet not defined\n",
      "\n",
      "Stacktrace:\n",
      " [1] top-level scope\n",
      "   @ ~/Documents/verification-neural-networks/NeuralVerification-CARS-Workshop-master/jl_notebook_cell_df34fa98e69747e1a8f8a730347b8e2f_Y122sZmlsZQ==.jl:3"
     ]
    }
   ],
   "source": [
    "x1 = normal(0,interval(0.5,0.66))\n",
    "x2 = normal(interval(0.,1.),0.33)\n",
    "z = pbox_approximate_nnet(net,[x1,x2])"
   ]
  },
  {
   "cell_type": "markdown",
   "id": "f86c1694",
   "metadata": {},
   "source": [
    "## Going further\n",
    "\n",
    "Try to design one (or both) of the two ways described in the slides to improve the accuracy, where the imprecise probabilities are modelled using P-boxes but the linear dependencies due to propagation in networks are handled by affine forms. \n"
   ]
  }
 ],
 "metadata": {
  "kernelspec": {
   "display_name": "Julia 1.7.0",
   "language": "julia",
   "name": "julia-1.7"
  },
  "language_info": {
   "file_extension": ".jl",
   "mimetype": "application/julia",
   "name": "julia",
   "version": "1.7.0"
  }
 },
 "nbformat": 4,
 "nbformat_minor": 5
}
